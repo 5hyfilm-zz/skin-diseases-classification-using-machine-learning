{
  "nbformat": 4,
  "nbformat_minor": 0,
  "metadata": {
    "colab": {
      "name": "Test_PJ61403_FocalLoss.ipynb",
      "provenance": [],
      "collapsed_sections": [],
      "toc_visible": true,
      "include_colab_link": true
    },
    "kernelspec": {
      "name": "python3",
      "display_name": "Python 3"
    }
  },
  "cells": [
    {
      "cell_type": "markdown",
      "metadata": {
        "id": "view-in-github",
        "colab_type": "text"
      },
      "source": [
        "<a href=\"https://colab.research.google.com/github/fxlmer/Skin-Diseases-Classification-Using-Machine-Learning/blob/master/Test_PJ61403_FocalLoss.ipynb\" target=\"_parent\"><img src=\"https://colab.research.google.com/assets/colab-badge.svg\" alt=\"Open In Colab\"/></a>"
      ]
    },
    {
      "cell_type": "code",
      "metadata": {
        "id": "QBd1Jl73kFzZ",
        "colab": {
          "base_uri": "https://localhost:8080/"
        },
        "outputId": "524c66dc-583f-40b8-9b7b-5bea9d50224a"
      },
      "source": [
        "import tensorflow as tf\n",
        "from tensorflow import keras\n",
        "from tensorflow.keras import backend as K\n",
        "from tensorflow.keras import models\n",
        "from tensorflow.keras.models import Sequential, Model\n",
        "from tensorflow.keras.layers import Conv2D, MaxPooling2D, Dense, Dropout, Activation, Flatten, BatchNormalization, GlobalAveragePooling2D\n",
        "from tensorflow.keras.preprocessing import image\n",
        "from tensorflow.keras.preprocessing.image import ImageDataGenerator, load_img, img_to_array\n",
        "from tensorflow.keras.applications.imagenet_utils import preprocess_input\n",
        "from tensorflow.keras.optimizers import Adam\n",
        "from tensorflow.keras.callbacks import ModelCheckpoint, EarlyStopping, ReduceLROnPlateau\n",
        "from tensorflow.keras import regularizers\n",
        "from tensorflow.keras.utils import Sequence\n",
        "from imblearn.over_sampling import RandomOverSampler\n",
        "from imblearn.keras import balanced_batch_generator\n",
        "\n",
        "from sklearn.model_selection import train_test_split\n",
        "from sklearn.utils import class_weight, compute_sample_weight, compute_class_weight\n",
        "from sklearn.metrics import balanced_accuracy_score, classification_report, confusion_matrix\n",
        "\n",
        "import pandas as pd\n",
        "import numpy as np\n",
        "import os\n",
        "import math\n",
        "import itertools\n",
        "from PIL import Image\n",
        "from matplotlib import pyplot as plt\n",
        "\n",
        "from pj61403_utils_functions_Ver2 import *"
      ],
      "execution_count": 1,
      "outputs": [
        {
          "output_type": "stream",
          "text": [
            "/usr/local/lib/python3.7/dist-packages/sklearn/externals/six.py:31: FutureWarning: The module is deprecated in version 0.21 and will be removed in version 0.23 since we've dropped support for Python 2.7. Please rely on the official version of six (https://pypi.org/project/six/).\n",
            "  \"(https://pypi.org/project/six/).\", FutureWarning)\n",
            "/usr/local/lib/python3.7/dist-packages/sklearn/utils/deprecation.py:144: FutureWarning: The sklearn.neighbors.base module is  deprecated in version 0.22 and will be removed in version 0.24. The corresponding classes / functions should instead be imported from sklearn.neighbors. Anything that cannot be imported from sklearn.neighbors is now part of the private API.\n",
            "  warnings.warn(message, FutureWarning)\n",
            "/usr/local/lib/python3.7/dist-packages/sklearn/utils/deprecation.py:144: FutureWarning: The sklearn.utils.testing module is  deprecated in version 0.22 and will be removed in version 0.24. The corresponding classes / functions should instead be imported from sklearn.utils. Anything that cannot be imported from sklearn.utils is now part of the private API.\n",
            "  warnings.warn(message, FutureWarning)\n"
          ],
          "name": "stderr"
        }
      ]
    },
    {
      "cell_type": "code",
      "metadata": {
        "id": "mqt7eqnQmR7g"
      },
      "source": [
        "IMG_WIDTH = 224\n",
        "IMG_HEIGHT = 224\n",
        "EPOCHS = 100\n",
        "BATCH_SIZE = 32\n",
        "NUM_CLASSES = 4"
      ],
      "execution_count": 2,
      "outputs": []
    },
    {
      "cell_type": "code",
      "metadata": {
        "colab": {
          "base_uri": "https://localhost:8080/"
        },
        "id": "8MRY5CMomUEh",
        "outputId": "0dde155d-8119-47a6-87ac-2e600471c489"
      },
      "source": [
        "!git clone https://github.com/EvilPickle-PCSHSPT/PJ61403_DATA_split_50-25-25"
      ],
      "execution_count": 3,
      "outputs": [
        {
          "output_type": "stream",
          "text": [
            "fatal: destination path 'PJ61403_DATA_split_50-25-25' already exists and is not an empty directory.\n"
          ],
          "name": "stdout"
        }
      ]
    },
    {
      "cell_type": "code",
      "metadata": {
        "colab": {
          "base_uri": "https://localhost:8080/"
        },
        "id": "30OSQN2U0oET",
        "outputId": "58f966ca-a789-4747-a1cc-2ced83e31eb8"
      },
      "source": [
        "!git clone https://github.com/fxlmer/Skin-Diseases-Classification-Using-Machine-Learning"
      ],
      "execution_count": 4,
      "outputs": [
        {
          "output_type": "stream",
          "text": [
            "fatal: destination path 'Skin-Diseases-Classification-Using-Machine-Learning' already exists and is not an empty directory.\n"
          ],
          "name": "stdout"
        }
      ]
    },
    {
      "cell_type": "code",
      "metadata": {
        "id": "p0jKyG_smXCc"
      },
      "source": [
        "test_path = '/content/PJ61403_DATA_split_50-25-25/crop_split_classes_data/test'"
      ],
      "execution_count": 5,
      "outputs": []
    },
    {
      "cell_type": "code",
      "metadata": {
        "id": "yxasupOjmXSO"
      },
      "source": [
        "test_aug = ImageDataGenerator(rescale=1./255)"
      ],
      "execution_count": 6,
      "outputs": []
    },
    {
      "cell_type": "code",
      "metadata": {
        "colab": {
          "base_uri": "https://localhost:8080/"
        },
        "id": "PTBk_fuMmZHz",
        "outputId": "f0e3ce05-f50b-4096-80bc-ab7895db050d"
      },
      "source": [
        "test_generator = test_aug.flow_from_directory(test_path, \n",
        "                                               target_size=(IMG_WIDTH, IMG_HEIGHT), \n",
        "                                               batch_size=1, \n",
        "                                               shuffle=False,\n",
        "                                               class_mode=None)"
      ],
      "execution_count": 7,
      "outputs": [
        {
          "output_type": "stream",
          "text": [
            "Found 63 images belonging to 4 classes.\n"
          ],
          "name": "stdout"
        }
      ]
    },
    {
      "cell_type": "code",
      "metadata": {
        "id": "AnXk-dqWmak2"
      },
      "source": [
        "model = tf.keras.models.load_model('/content/Skin-Diseases-Classification-Using-Machine-Learning/PJ61403_work/model/FL/pj61403_model_FL1.h5')"
      ],
      "execution_count": 8,
      "outputs": []
    },
    {
      "cell_type": "code",
      "metadata": {
        "id": "OaYh9tyHmj7l"
      },
      "source": [
        "num_test_files = len(test_generator.filenames)"
      ],
      "execution_count": 9,
      "outputs": []
    },
    {
      "cell_type": "code",
      "metadata": {
        "id": "t5aqD-RCmluV"
      },
      "source": [
        "test_generator.reset()"
      ],
      "execution_count": 10,
      "outputs": []
    },
    {
      "cell_type": "code",
      "metadata": {
        "id": "bar0EAN_mm-p"
      },
      "source": [
        "test_labels = test_generator.classes\n",
        "predictions = model.predict(test_generator, steps=num_test_files//test_generator.batch_size)"
      ],
      "execution_count": 11,
      "outputs": []
    },
    {
      "cell_type": "code",
      "metadata": {
        "colab": {
          "base_uri": "https://localhost:8080/",
          "height": 382
        },
        "id": "ODkakCA5moKq",
        "outputId": "b5bd478c-906a-49c6-f95b-cfe3791390d4"
      },
      "source": [
        "cm = confusion_matrix(test_labels, predictions.argmax(axis=1))\n",
        "\n",
        "classes_names = ['ad', 'nm', 'ps', 'sk']\n",
        "\n",
        "plot_confusion_matrix(cm, classes_names, False)"
      ],
      "execution_count": 12,
      "outputs": [
        {
          "output_type": "stream",
          "text": [
            "Confusion matrix, without normalization\n",
            "[[12  4  1  0]\n",
            " [ 0 15  0  0]\n",
            " [ 0  2 14  0]\n",
            " [ 1  1  0 13]]\n"
          ],
          "name": "stdout"
        },
        {
          "output_type": "display_data",
          "data": {
            "image/png": "[encoded data removed]",
            "text/plain": [
              "<Figure size 432x288 with 2 Axes>"
            ]
          },
          "metadata": {
            "tags": [],
            "needs_background": "light"
          }
        }
      ]
    },
    {
      "cell_type": "code",
      "metadata": {
        "colab": {
          "base_uri": "https://localhost:8080/",
          "height": 382
        },
        "id": "POeUpeFYmrbV",
        "outputId": "1100ffec-aa79-42eb-b9a5-cda31558b3dd"
      },
      "source": [
        "plot_confusion_matrix(cm, classes_names, True)"
      ],
      "execution_count": 13,
      "outputs": [
        {
          "output_type": "stream",
          "text": [
            "Normalized confusion matrix\n",
            "[[0.70588235 0.23529412 0.05882353 0.        ]\n",
            " [0.         1.         0.         0.        ]\n",
            " [0.         0.125      0.875      0.        ]\n",
            " [0.06666667 0.06666667 0.         0.86666667]]\n"
          ],
          "name": "stdout"
        },
        {
          "output_type": "display_data",
          "data": {
            "image/png": "[encoded data removed]",
            "text/plain": [
              "<Figure size 432x288 with 2 Axes>"
            ]
          },
          "metadata": {
            "tags": [],
            "needs_background": "light"
          }
        }
      ]
    },
    {
      "cell_type": "code",
      "metadata": {
        "colab": {
          "base_uri": "https://localhost:8080/"
        },
        "id": "2KqlqWvxmsnZ",
        "outputId": "c6ef5950-e416-4482-b703-e31b5121e550"
      },
      "source": [
        "y_pred = np.argmax(predictions, axis=1)\n",
        "print('Confusion Matrix')\n",
        "print(confusion_matrix(test_labels, y_pred))\n",
        "print('Classification Report')\n",
        "print(classification_report(test_labels, y_pred, target_names=classes_names))"
      ],
      "execution_count": 14,
      "outputs": [
        {
          "output_type": "stream",
          "text": [
            "Confusion Matrix\n",
            "[[12  4  1  0]\n",
            " [ 0 15  0  0]\n",
            " [ 0  2 14  0]\n",
            " [ 1  1  0 13]]\n",
            "Classification Report\n",
            "              precision    recall  f1-score   support\n",
            "\n",
            "          ad       0.92      0.71      0.80        17\n",
            "          nm       0.68      1.00      0.81        15\n",
            "          ps       0.93      0.88      0.90        16\n",
            "          sk       1.00      0.87      0.93        15\n",
            "\n",
            "    accuracy                           0.86        63\n",
            "   macro avg       0.88      0.86      0.86        63\n",
            "weighted avg       0.89      0.86      0.86        63\n",
            "\n"
          ],
          "name": "stdout"
        }
      ]
    },
    {
      "cell_type": "code",
      "metadata": {
        "id": "bsx4-OCEmtxT"
      },
      "source": [
        "cm_2 = confusion_matrix(test_labels, y_pred)"
      ],
      "execution_count": 15,
      "outputs": []
    },
    {
      "cell_type": "markdown",
      "metadata": {
        "id": "b9udRl1Qrx29"
      },
      "source": [
        "### True Positive"
      ]
    },
    {
      "cell_type": "code",
      "metadata": {
        "id": "doPfU8dDq5Mc"
      },
      "source": [
        "TruePositive= np.diag(cm_2)"
      ],
      "execution_count": 16,
      "outputs": []
    },
    {
      "cell_type": "code",
      "metadata": {
        "colab": {
          "base_uri": "https://localhost:8080/"
        },
        "id": "q03sExsiq611",
        "outputId": "0e499645-bde7-4f5a-ccfc-8349e2e4a764"
      },
      "source": [
        "print(TruePositive)\n",
        "sumTruePositive = sum(TruePositive)\n",
        "print('Sum of True Positive: ', sumTruePositive)"
      ],
      "execution_count": 17,
      "outputs": [
        {
          "output_type": "stream",
          "text": [
            "[12 15 14 13]\n",
            "Sum of True Positive:  54\n"
          ],
          "name": "stdout"
        }
      ]
    },
    {
      "cell_type": "markdown",
      "metadata": {
        "id": "yyrPwhXbr_wJ"
      },
      "source": [
        "### False Positive"
      ]
    },
    {
      "cell_type": "code",
      "metadata": {
        "id": "kAd3kGP5q8tx"
      },
      "source": [
        "FalsePositive = []\n",
        "for i in range(NUM_CLASSES):\n",
        "    FalsePositive.append(sum(cm_2[:,i]) - cm_2[i,i])"
      ],
      "execution_count": 18,
      "outputs": []
    },
    {
      "cell_type": "code",
      "metadata": {
        "colab": {
          "base_uri": "https://localhost:8080/"
        },
        "id": "3XrClIMRq_D2",
        "outputId": "5c861fe4-35ca-49d9-e090-353834770327"
      },
      "source": [
        "print(FalsePositive)\n",
        "sumFalsePositive = sum(FalsePositive)\n",
        "print('Sum of False Positive: ', sumFalsePositive)"
      ],
      "execution_count": 19,
      "outputs": [
        {
          "output_type": "stream",
          "text": [
            "[1, 7, 1, 0]\n",
            "Sum of False Positive:  9\n"
          ],
          "name": "stdout"
        }
      ]
    },
    {
      "cell_type": "markdown",
      "metadata": {
        "id": "ZYkm-Oftrsrp"
      },
      "source": [
        "### False Negative"
      ]
    },
    {
      "cell_type": "code",
      "metadata": {
        "id": "6wJa_P2GrpRh"
      },
      "source": [
        "FalseNegative = []\n",
        "for i in range(NUM_CLASSES):\n",
        "    FalseNegative.append(sum(cm_2[i,:]) - cm_2[i,i])"
      ],
      "execution_count": 20,
      "outputs": []
    },
    {
      "cell_type": "code",
      "metadata": {
        "colab": {
          "base_uri": "https://localhost:8080/"
        },
        "id": "8mE2Z-D9rr-B",
        "outputId": "54519aa6-2b90-486f-a4e2-8f955f166160"
      },
      "source": [
        "print(FalseNegative)\n",
        "sumFalseNegative = sum(FalseNegative)\n",
        "print('Sum of False Negative: ', sumFalseNegative)"
      ],
      "execution_count": 21,
      "outputs": [
        {
          "output_type": "stream",
          "text": [
            "[5, 0, 2, 2]\n",
            "Sum of False Negative:  9\n"
          ],
          "name": "stdout"
        }
      ]
    },
    {
      "cell_type": "markdown",
      "metadata": {
        "id": "T70d2v6osFSh"
      },
      "source": [
        "### True Negative"
      ]
    },
    {
      "cell_type": "code",
      "metadata": {
        "id": "Cyj6la14sET5"
      },
      "source": [
        "TrueNegative = []\n",
        "for i in range(NUM_CLASSES):\n",
        "    temp = np.delete(cm_2, i, 0)   # delete ith row\n",
        "    temp = np.delete(temp, i, 1)  # delete ith column\n",
        "    TrueNegative.append(sum(sum(temp)))"
      ],
      "execution_count": 22,
      "outputs": []
    },
    {
      "cell_type": "code",
      "metadata": {
        "colab": {
          "base_uri": "https://localhost:8080/"
        },
        "id": "iClrVHvisIGo",
        "outputId": "a6724c10-b05e-4d77-9f9d-335f3c93e5a2"
      },
      "source": [
        "print(TrueNegative)\n",
        "sumTrueNegative = sum(TrueNegative)\n",
        "print('Sum of True Negative: ', sumTrueNegative)"
      ],
      "execution_count": 23,
      "outputs": [
        {
          "output_type": "stream",
          "text": [
            "[45, 41, 46, 48]\n",
            "Sum of True Negative:  180\n"
          ],
          "name": "stdout"
        }
      ]
    },
    {
      "cell_type": "markdown",
      "metadata": {
        "id": "cQ34JXSwsKXA"
      },
      "source": [
        "### Check TP + FP + FN + TN = Test set"
      ]
    },
    {
      "cell_type": "code",
      "metadata": {
        "colab": {
          "base_uri": "https://localhost:8080/"
        },
        "id": "k_GcIagosJ4a",
        "outputId": "5f5246df-3ce3-4d70-83f9-6aff92f977fa"
      },
      "source": [
        "l = len(test_labels)\n",
        "for i in range(NUM_CLASSES):\n",
        "    print(TruePositive[i] + FalsePositive[i] + FalseNegative[i] + TrueNegative[i] == l)"
      ],
      "execution_count": 24,
      "outputs": [
        {
          "output_type": "stream",
          "text": [
            "True\n",
            "True\n",
            "True\n",
            "True\n"
          ],
          "name": "stdout"
        }
      ]
    },
    {
      "cell_type": "code",
      "metadata": {
        "colab": {
          "base_uri": "https://localhost:8080/"
        },
        "id": "6S09mN4KsOK2",
        "outputId": "2b82c6f7-c192-4b1d-f0e4-d3cae2932d53"
      },
      "source": [
        "!pip3 install pycm==3.0"
      ],
      "execution_count": 25,
      "outputs": [
        {
          "output_type": "stream",
          "text": [
            "Requirement already satisfied: pycm==3.0 in /usr/local/lib/python3.7/dist-packages (3.0)\n",
            "Requirement already satisfied: art>=1.8 in /usr/local/lib/python3.7/dist-packages (from pycm==3.0) (5.1)\n",
            "Requirement already satisfied: numpy>=1.9.0 in /usr/local/lib/python3.7/dist-packages (from pycm==3.0) (1.19.5)\n"
          ],
          "name": "stdout"
        }
      ]
    },
    {
      "cell_type": "code",
      "metadata": {
        "id": "AlcvdAUnsQDJ"
      },
      "source": [
        "from pycm import *"
      ],
      "execution_count": 26,
      "outputs": []
    },
    {
      "cell_type": "code",
      "metadata": {
        "id": "efdOYlPxsS_Y"
      },
      "source": [
        "py_cm = ConfusionMatrix(actual_vector=test_labels, predict_vector=y_pred)"
      ],
      "execution_count": 27,
      "outputs": []
    },
    {
      "cell_type": "code",
      "metadata": {
        "colab": {
          "base_uri": "https://localhost:8080/"
        },
        "id": "TtONbYMLtT1W",
        "outputId": "6ce91fe8-b9e9-433b-c048-a173ff45a16c"
      },
      "source": [
        "print(py_cm)"
      ],
      "execution_count": 28,
      "outputs": [
        {
          "output_type": "stream",
          "text": [
            "Predict  0        1        2        3        \n",
            "Actual\n",
            "0        12       4        1        0        \n",
            "\n",
            "1        0        15       0        0        \n",
            "\n",
            "2        0        2        14       0        \n",
            "\n",
            "3        1        1        0        13       \n",
            "\n",
            "\n",
            "\n",
            "\n",
            "\n",
            "Overall Statistics : \n",
            "\n",
            "95% CI                                                            (0.77073,0.94355)\n",
            "ACC Macro                                                         0.92857\n",
            "ARI                                                               0.63496\n",
            "AUNP                                                              0.90558\n",
            "AUNU                                                              0.90734\n",
            "Bangdiwala B                                                      0.74442\n",
            "Bennett S                                                         0.80952\n",
            "CBA                                                               0.78234\n",
            "CSI                                                               0.74644\n",
            "Chi-Squared                                                       131.22646\n",
            "Chi-Squared DF                                                    9\n",
            "Conditional Entropy                                               0.59781\n",
            "Cramer V                                                          0.83326\n",
            "Cross Entropy                                                     2.0437\n",
            "F1 Macro                                                          0.86065\n",
            "F1 Micro                                                          0.85714\n",
            "FNR Macro                                                         0.13811\n",
            "FNR Micro                                                         0.14286\n",
            "FPR Macro                                                         0.04721\n",
            "FPR Micro                                                         0.04762\n",
            "Gwet AC1                                                          0.80976\n",
            "Hamming Loss                                                      0.14286\n",
            "Joint Entropy                                                     2.59583\n",
            "KL Divergence                                                     0.04568\n",
            "Kappa                                                             0.80992\n",
            "Kappa 95% CI                                                      (0.69495,0.92489)\n",
            "Kappa No Prevalence                                               0.71429\n",
            "Kappa Standard Error                                              0.05866\n",
            "Kappa Unbiased                                                    0.8088\n",
            "Krippendorff Alpha                                                0.81032\n",
            "Lambda A                                                          0.80435\n",
            "Lambda B                                                          0.78049\n",
            "Mutual Information                                                1.36483\n",
            "NIR                                                               0.26984\n",
            "Overall ACC                                                       0.85714\n",
            "Overall CEN                                                       0.2161\n",
            "Overall J                                                         (3.03868,0.75967)\n",
            "Overall MCC                                                       0.81957\n",
            "Overall MCEN                                                      0.30256\n",
            "Overall RACC                                                      0.24843\n",
            "Overall RACCU                                                     0.25283\n",
            "P-Value                                                           -0.0\n",
            "PPV Macro                                                         0.88456\n",
            "PPV Micro                                                         0.85714\n",
            "Pearson C                                                         0.82197\n",
            "Phi-Squared                                                       2.08296\n",
            "RCI                                                               0.68309\n",
            "RR                                                                15.75\n",
            "Reference Entropy                                                 1.99802\n",
            "Response Entropy                                                  1.96264\n",
            "SOA1(Landis & Koch)                                               Almost Perfect\n",
            "SOA2(Fleiss)                                                      Excellent\n",
            "SOA3(Altman)                                                      Very Good\n",
            "SOA4(Cicchetti)                                                   Excellent\n",
            "SOA5(Cramer)                                                      Very Strong\n",
            "SOA6(Matthews)                                                    Strong\n",
            "Scott PI                                                          0.8088\n",
            "Standard Error                                                    0.04409\n",
            "TNR Macro                                                         0.95279\n",
            "TNR Micro                                                         0.95238\n",
            "TPR Macro                                                         0.86189\n",
            "TPR Micro                                                         0.85714\n",
            "Zero-one Loss                                                     9\n",
            "\n",
            "Class Statistics :\n",
            "\n",
            "Classes                                                           0             1             2             3             \n",
            "ACC(Accuracy)                                                     0.90476       0.88889       0.95238       0.96825       \n",
            "AGF(Adjusted F-score)                                             0.82311       0.94044       0.92342       0.92827       \n",
            "AGM(Adjusted geometric mean)                                      0.89314       0.89392       0.94819       0.96081       \n",
            "AM(Difference between automatic and manual classification)        -4            7             -1            -2            \n",
            "AUC(Area under the ROC curve)                                     0.84207       0.92708       0.92686       0.93333       \n",
            "AUCI(AUC value interpretation)                                    Very Good     Excellent     Excellent     Excellent     \n",
            "AUPR(Area under the PR curve)                                     0.81448       0.84091       0.90417       0.93333       \n",
            "BCD(Bray-Curtis dissimilarity)                                    0.03175       0.05556       0.00794       0.01587       \n",
            "BM(Informedness or bookmaker informedness)                        0.68414       0.85417       0.85372       0.86667       \n",
            "CEN(Confusion entropy)                                            0.27649       0.27672       0.16051       0.13284       \n",
            "DOR(Diagnostic odds ratio)                                        108.0         None          322.0         None          \n",
            "DP(Discriminant power)                                            1.12109       None          1.38265       None          \n",
            "DPI(Discriminant power interpretation)                            Limited       None          Limited       None          \n",
            "ERR(Error rate)                                                   0.09524       0.11111       0.04762       0.03175       \n",
            "F0.5(F0.5 score)                                                  0.86957       0.72816       0.92105       0.97015       \n",
            "F1(F1 score - harmonic mean of precision and sensitivity)         0.8           0.81081       0.90323       0.92857       \n",
            "F2(F2 score)                                                      0.74074       0.91463       0.88608       0.89041       \n",
            "FDR(False discovery rate)                                         0.07692       0.31818       0.06667       0.0           \n",
            "FN(False negative/miss/type 2 error)                              5             0             2             2             \n",
            "FNR(Miss rate or false negative rate)                             0.29412       0.0           0.125         0.13333       \n",
            "FOR(False omission rate)                                          0.1           0.0           0.04167       0.04          \n",
            "FP(False positive/type 1 error/false alarm)                       1             7             1             0             \n",
            "FPR(Fall-out or false positive rate)                              0.02174       0.14583       0.02128       0.0           \n",
            "G(G-measure geometric mean of precision and sensitivity)          0.80721       0.82572       0.9037        0.93095       \n",
            "GI(Gini index)                                                    0.68414       0.85417       0.85372       0.86667       \n",
            "GM(G-mean geometric mean of specificity and sensitivity)          0.83099       0.92421       0.92541       0.93095       \n",
            "IBA(Index of balanced accuracy)                                   0.50245       0.97873       0.76756       0.75111       \n",
            "ICSI(Individual classification success index)                     0.62896       0.68182       0.80833       0.86667       \n",
            "IS(Information score)                                             1.77434       1.51785       1.87774       2.07039       \n",
            "J(Jaccard index)                                                  0.66667       0.68182       0.82353       0.86667       \n",
            "LS(Lift score)                                                    3.42081       2.86364       3.675         4.2           \n",
            "MCC(Matthews correlation coefficient)                             0.7504        0.76314       0.87249       0.91214       \n",
            "MCCI(Matthews correlation coefficient interpretation)             Strong        Strong        Strong        Very Strong   \n",
            "MCEN(Modified confusion entropy)                                  0.36578       0.37307       0.23353       0.20152       \n",
            "MK(Markedness)                                                    0.82308       0.68182       0.89167       0.96          \n",
            "N(Condition negative)                                             46            48            47            48            \n",
            "NLR(Negative likelihood ratio)                                    0.30065       0.0           0.12772       0.13333       \n",
            "NLRI(Negative likelihood ratio interpretation)                    Poor          Good          Fair          Fair          \n",
            "NPV(Negative predictive value)                                    0.9           1.0           0.95833       0.96          \n",
            "OC(Overlap coefficient)                                           0.92308       1.0           0.93333       1.0           \n",
            "OOC(Otsuka-Ochiai coefficient)                                    0.80721       0.82572       0.9037        0.93095       \n",
            "OP(Optimized precision)                                           0.74303       0.81024       0.89643       0.89683       \n",
            "P(Condition positive or support)                                  17            15            16            15            \n",
            "PLR(Positive likelihood ratio)                                    32.47059      6.85714       41.125        None          \n",
            "PLRI(Positive likelihood ratio interpretation)                    Good          Fair          Good          None          \n",
            "POP(Population)                                                   63            63            63            63            \n",
            "PPV(Precision or positive predictive value)                       0.92308       0.68182       0.93333       1.0           \n",
            "PRE(Prevalence)                                                   0.26984       0.2381        0.25397       0.2381        \n",
            "Q(Yule Q - coefficient of colligation)                            0.98165       None          0.99381       None          \n",
            "QI(Yule Q interpretation)                                         Strong        None          Strong        None          \n",
            "RACC(Random accuracy)                                             0.05568       0.08314       0.06047       0.04913       \n",
            "RACCU(Random accuracy unbiased)                                   0.05669       0.08623       0.06053       0.04938       \n",
            "TN(True negative/correct rejection)                               45            41            46            48            \n",
            "TNR(Specificity or true negative rate)                            0.97826       0.85417       0.97872       1.0           \n",
            "TON(Test outcome negative)                                        50            41            48            50            \n",
            "TOP(Test outcome positive)                                        13            22            15            13            \n",
            "TP(True positive/hit)                                             12            15            14            13            \n",
            "TPR(Sensitivity, recall, hit rate, or true positive rate)         0.70588       1.0           0.875         0.86667       \n",
            "Y(Youden index)                                                   0.68414       0.85417       0.85372       0.86667       \n",
            "dInd(Distance index)                                              0.29492       0.14583       0.1268        0.13333       \n",
            "sInd(Similarity index)                                            0.79146       0.89688       0.91034       0.90572       \n",
            "\n"
          ],
          "name": "stdout"
        }
      ]
    },
    {
      "cell_type": "code",
      "metadata": {
        "id": "QiSEVairsVGz"
      },
      "source": [
        "AV_AUC = (py_cm.AUC[0] + py_cm.AUC[1] + py_cm.AUC[2] + py_cm.AUC[3])/len(py_cm.AUC)"
      ],
      "execution_count": 29,
      "outputs": []
    },
    {
      "cell_type": "code",
      "metadata": {
        "id": "UBf8yB7GtRHQ",
        "colab": {
          "base_uri": "https://localhost:8080/"
        },
        "outputId": "372c8db1-74e4-47cf-f08f-2984a67c597e"
      },
      "source": [
        "print('Average AUC: ', AV_AUC)"
      ],
      "execution_count": 30,
      "outputs": [
        {
          "output_type": "stream",
          "text": [
            "Average AUC:  0.9073374950118809\n"
          ],
          "name": "stdout"
        }
      ]
    },
    {
      "cell_type": "code",
      "metadata": {
        "id": "50TRXgDXsW4n"
      },
      "source": [
        "AV_Sens = (py_cm.TPR[0] + py_cm.TPR[1] + py_cm.TPR[2] + py_cm.TPR[3])/len(py_cm.TPR)"
      ],
      "execution_count": 31,
      "outputs": []
    },
    {
      "cell_type": "code",
      "metadata": {
        "id": "GzJuZmCetX-y",
        "colab": {
          "base_uri": "https://localhost:8080/"
        },
        "outputId": "ef105d62-622f-4ac2-e926-d699a857a543"
      },
      "source": [
        "print('Average Sensitivity: ', AV_Sens)"
      ],
      "execution_count": 32,
      "outputs": [
        {
          "output_type": "stream",
          "text": [
            "Average Sensitivity:  0.8618872549019608\n"
          ],
          "name": "stdout"
        }
      ]
    },
    {
      "cell_type": "code",
      "metadata": {
        "id": "K576tD8NsYUt"
      },
      "source": [
        "AV_Spec = (py_cm.TNR[0] + py_cm.TNR[1] + py_cm.TNR[2] + py_cm.TNR[3])/len(py_cm.TNR)"
      ],
      "execution_count": 33,
      "outputs": []
    },
    {
      "cell_type": "code",
      "metadata": {
        "id": "zMzdTQlatZ6k",
        "colab": {
          "base_uri": "https://localhost:8080/"
        },
        "outputId": "c9179f12-cdef-4f83-b254-2d900a7d4041"
      },
      "source": [
        "print('Average Specificity: ', AV_Spec)"
      ],
      "execution_count": 34,
      "outputs": [
        {
          "output_type": "stream",
          "text": [
            "Average Specificity:  0.9527877351218008\n"
          ],
          "name": "stdout"
        }
      ]
    }
  ]
}