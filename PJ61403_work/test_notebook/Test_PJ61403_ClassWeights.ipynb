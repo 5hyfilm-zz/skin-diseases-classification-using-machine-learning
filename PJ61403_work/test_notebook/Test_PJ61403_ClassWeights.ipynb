{
  "nbformat": 4,
  "nbformat_minor": 0,
  "metadata": {
    "colab": {
      "name": "Test_PJ61403_ClassWeights.ipynb",
      "provenance": [],
      "collapsed_sections": [],
      "toc_visible": true,
      "include_colab_link": true
    },
    "kernelspec": {
      "name": "python3",
      "display_name": "Python 3"
    }
  },
  "cells": [
    {
      "cell_type": "markdown",
      "metadata": {
        "id": "view-in-github",
        "colab_type": "text"
      },
      "source": [
        "<a href=\"https://colab.research.google.com/github/fxlmer/Skin-Diseases-Classification-Using-Machine-Learning/blob/master/Test_PJ61403_ClassWeights.ipynb\" target=\"_parent\"><img src=\"https://colab.research.google.com/assets/colab-badge.svg\" alt=\"Open In Colab\"/></a>"
      ]
    },
    {
      "cell_type": "code",
      "metadata": {
        "id": "QBd1Jl73kFzZ",
        "colab": {
          "base_uri": "https://localhost:8080/"
        },
        "outputId": "ac481f9d-35be-4235-d31a-d9c179be1ca4"
      },
      "source": [
        "import tensorflow as tf\n",
        "from tensorflow import keras\n",
        "from tensorflow.keras import backend as K\n",
        "from tensorflow.keras import models\n",
        "from tensorflow.keras.models import Sequential, Model\n",
        "from tensorflow.keras.layers import Conv2D, MaxPooling2D, Dense, Dropout, Activation, Flatten, BatchNormalization, GlobalAveragePooling2D\n",
        "from tensorflow.keras.preprocessing import image\n",
        "from tensorflow.keras.preprocessing.image import ImageDataGenerator, load_img, img_to_array\n",
        "from tensorflow.keras.applications.imagenet_utils import preprocess_input\n",
        "from tensorflow.keras.optimizers import Adam\n",
        "from tensorflow.keras.callbacks import ModelCheckpoint, EarlyStopping, ReduceLROnPlateau\n",
        "from tensorflow.keras import regularizers\n",
        "from tensorflow.keras.utils import Sequence\n",
        "from imblearn.over_sampling import RandomOverSampler\n",
        "from imblearn.keras import balanced_batch_generator\n",
        "\n",
        "from sklearn.model_selection import train_test_split\n",
        "from sklearn.utils import class_weight, compute_sample_weight, compute_class_weight\n",
        "from sklearn.metrics import balanced_accuracy_score, classification_report, confusion_matrix\n",
        "\n",
        "import pandas as pd\n",
        "import numpy as np\n",
        "import os\n",
        "import math\n",
        "import itertools\n",
        "from PIL import Image\n",
        "from matplotlib import pyplot as plt\n",
        "\n",
        "from pj61403_utils_functions_Ver2 import *"
      ],
      "execution_count": 1,
      "outputs": [
        {
          "output_type": "stream",
          "text": [
            "/usr/local/lib/python3.7/dist-packages/sklearn/externals/six.py:31: FutureWarning: The module is deprecated in version 0.21 and will be removed in version 0.23 since we've dropped support for Python 2.7. Please rely on the official version of six (https://pypi.org/project/six/).\n",
            "  \"(https://pypi.org/project/six/).\", FutureWarning)\n",
            "/usr/local/lib/python3.7/dist-packages/sklearn/utils/deprecation.py:144: FutureWarning: The sklearn.neighbors.base module is  deprecated in version 0.22 and will be removed in version 0.24. The corresponding classes / functions should instead be imported from sklearn.neighbors. Anything that cannot be imported from sklearn.neighbors is now part of the private API.\n",
            "  warnings.warn(message, FutureWarning)\n",
            "/usr/local/lib/python3.7/dist-packages/sklearn/utils/deprecation.py:144: FutureWarning: The sklearn.utils.testing module is  deprecated in version 0.22 and will be removed in version 0.24. The corresponding classes / functions should instead be imported from sklearn.utils. Anything that cannot be imported from sklearn.utils is now part of the private API.\n",
            "  warnings.warn(message, FutureWarning)\n"
          ],
          "name": "stderr"
        }
      ]
    },
    {
      "cell_type": "code",
      "metadata": {
        "id": "mqt7eqnQmR7g"
      },
      "source": [
        "IMG_WIDTH = 224\n",
        "IMG_HEIGHT = 224\n",
        "EPOCHS = 100\n",
        "BATCH_SIZE = 32\n",
        "NUM_CLASSES = 4"
      ],
      "execution_count": 2,
      "outputs": []
    },
    {
      "cell_type": "code",
      "metadata": {
        "colab": {
          "base_uri": "https://localhost:8080/"
        },
        "id": "8MRY5CMomUEh",
        "outputId": "533f83d0-8f16-4249-a7be-7e1ff869fd53"
      },
      "source": [
        "!git clone https://github.com/EvilPickle-PCSHSPT/PJ61403_DATA_split_50-25-25"
      ],
      "execution_count": 3,
      "outputs": [
        {
          "output_type": "stream",
          "text": [
            "Cloning into 'PJ61403_DATA_split_50-25-25'...\n",
            "remote: Enumerating objects: 4366, done.\u001b[K\n",
            "remote: Total 4366 (delta 0), reused 0 (delta 0), pack-reused 4366\u001b[K\n",
            "Receiving objects: 100% (4366/4366), 167.13 MiB | 23.77 MiB/s, done.\n",
            "Resolving deltas: 100% (284/284), done.\n",
            "Checking out files: 100% (5061/5061), done.\n"
          ],
          "name": "stdout"
        }
      ]
    },
    {
      "cell_type": "code",
      "metadata": {
        "colab": {
          "base_uri": "https://localhost:8080/"
        },
        "id": "30OSQN2U0oET",
        "outputId": "4e5bc29b-4b8a-4420-bb9c-f1cafe6e4091"
      },
      "source": [
        "!git clone https://github.com/fxlmer/Skin-Diseases-Classification-Using-Machine-Learning"
      ],
      "execution_count": 4,
      "outputs": [
        {
          "output_type": "stream",
          "text": [
            "Cloning into 'Skin-Diseases-Classification-Using-Machine-Learning'...\n",
            "remote: Enumerating objects: 3, done.\u001b[K\n",
            "remote: Counting objects: 100% (3/3), done.\u001b[K\n",
            "remote: Compressing objects: 100% (3/3), done.\u001b[K\n",
            "remote: Total 1481 (delta 0), reused 0 (delta 0), pack-reused 1478\u001b[K\n",
            "Receiving objects: 100% (1481/1481), 1013.55 MiB | 32.80 MiB/s, done.\n",
            "Resolving deltas: 100% (866/866), done.\n",
            "Checking out files: 100% (196/196), done.\n"
          ],
          "name": "stdout"
        }
      ]
    },
    {
      "cell_type": "code",
      "metadata": {
        "id": "p0jKyG_smXCc"
      },
      "source": [
        "test_path = '/content/PJ61403_DATA_split_50-25-25/crop_split_classes_data/test'"
      ],
      "execution_count": 5,
      "outputs": []
    },
    {
      "cell_type": "code",
      "metadata": {
        "id": "yxasupOjmXSO"
      },
      "source": [
        "test_aug = ImageDataGenerator(rescale=1./255)"
      ],
      "execution_count": 6,
      "outputs": []
    },
    {
      "cell_type": "code",
      "metadata": {
        "colab": {
          "base_uri": "https://localhost:8080/"
        },
        "id": "PTBk_fuMmZHz",
        "outputId": "2c6a7627-6f24-42f8-dab5-e572d27ee863"
      },
      "source": [
        "test_generator = test_aug.flow_from_directory(test_path, \n",
        "                                               target_size=(IMG_WIDTH, IMG_HEIGHT), \n",
        "                                               batch_size=1, \n",
        "                                               shuffle=False,\n",
        "                                               class_mode=None)"
      ],
      "execution_count": 7,
      "outputs": [
        {
          "output_type": "stream",
          "text": [
            "Found 63 images belonging to 4 classes.\n"
          ],
          "name": "stdout"
        }
      ]
    },
    {
      "cell_type": "code",
      "metadata": {
        "id": "AnXk-dqWmak2"
      },
      "source": [
        "model = tf.keras.models.load_model('/content/Skin-Diseases-Classification-Using-Machine-Learning/PJ61403_work/model/CW/pj61403_model_CW1.h5')"
      ],
      "execution_count": 37,
      "outputs": []
    },
    {
      "cell_type": "code",
      "metadata": {
        "id": "OaYh9tyHmj7l"
      },
      "source": [
        "num_test_files = len(test_generator.filenames)"
      ],
      "execution_count": 38,
      "outputs": []
    },
    {
      "cell_type": "code",
      "metadata": {
        "id": "t5aqD-RCmluV"
      },
      "source": [
        "test_generator.reset()"
      ],
      "execution_count": 39,
      "outputs": []
    },
    {
      "cell_type": "code",
      "metadata": {
        "id": "bar0EAN_mm-p"
      },
      "source": [
        "test_labels = test_generator.classes\n",
        "predictions = model.predict(test_generator, steps=num_test_files//test_generator.batch_size)"
      ],
      "execution_count": 40,
      "outputs": []
    },
    {
      "cell_type": "code",
      "metadata": {
        "colab": {
          "base_uri": "https://localhost:8080/",
          "height": 382
        },
        "id": "ODkakCA5moKq",
        "outputId": "d61f9880-3db2-4113-f364-42362da628ce"
      },
      "source": [
        "cm = confusion_matrix(test_labels, predictions.argmax(axis=1))\n",
        "\n",
        "classes_names = ['ad', 'nm', 'ps', 'sk']\n",
        "\n",
        "plot_confusion_matrix(cm, classes_names, False)"
      ],
      "execution_count": 41,
      "outputs": [
        {
          "output_type": "stream",
          "text": [
            "Confusion matrix, without normalization\n",
            "[[17  0  0  0]\n",
            " [ 1 14  0  0]\n",
            " [ 0  0 16  0]\n",
            " [ 1  0  3 11]]\n"
          ],
          "name": "stdout"
        },
        {
          "output_type": "display_data",
          "data": {
            "image/png": "[encoded data removed]",
            "text/plain": [
              "<Figure size 432x288 with 2 Axes>"
            ]
          },
          "metadata": {
            "tags": [],
            "needs_background": "light"
          }
        }
      ]
    },
    {
      "cell_type": "code",
      "metadata": {
        "colab": {
          "base_uri": "https://localhost:8080/",
          "height": 382
        },
        "id": "POeUpeFYmrbV",
        "outputId": "33661f36-360f-4bdd-fd37-bd06f153538e"
      },
      "source": [
        "plot_confusion_matrix(cm, classes_names, True)"
      ],
      "execution_count": 42,
      "outputs": [
        {
          "output_type": "stream",
          "text": [
            "Normalized confusion matrix\n",
            "[[1.         0.         0.         0.        ]\n",
            " [0.06666667 0.93333333 0.         0.        ]\n",
            " [0.         0.         1.         0.        ]\n",
            " [0.06666667 0.         0.2        0.73333333]]\n"
          ],
          "name": "stdout"
        },
        {
          "output_type": "display_data",
          "data": {
            "image/png": "[encoded data removed]",
            "text/plain": [
              "<Figure size 432x288 with 2 Axes>"
            ]
          },
          "metadata": {
            "tags": [],
            "needs_background": "light"
          }
        }
      ]
    },
    {
      "cell_type": "code",
      "metadata": {
        "colab": {
          "base_uri": "https://localhost:8080/"
        },
        "id": "2KqlqWvxmsnZ",
        "outputId": "e055c0fd-94e4-4106-ce43-2082e84cecf2"
      },
      "source": [
        "y_pred = np.argmax(predictions, axis=1)\n",
        "print('Confusion Matrix')\n",
        "print(confusion_matrix(test_labels, y_pred))\n",
        "print('Classification Report')\n",
        "print(classification_report(test_labels, y_pred, target_names=classes_names))"
      ],
      "execution_count": 43,
      "outputs": [
        {
          "output_type": "stream",
          "text": [
            "Confusion Matrix\n",
            "[[17  0  0  0]\n",
            " [ 1 14  0  0]\n",
            " [ 0  0 16  0]\n",
            " [ 1  0  3 11]]\n",
            "Classification Report\n",
            "              precision    recall  f1-score   support\n",
            "\n",
            "          ad       0.89      1.00      0.94        17\n",
            "          nm       1.00      0.93      0.97        15\n",
            "          ps       0.84      1.00      0.91        16\n",
            "          sk       1.00      0.73      0.85        15\n",
            "\n",
            "    accuracy                           0.92        63\n",
            "   macro avg       0.93      0.92      0.92        63\n",
            "weighted avg       0.93      0.92      0.92        63\n",
            "\n"
          ],
          "name": "stdout"
        }
      ]
    },
    {
      "cell_type": "code",
      "metadata": {
        "id": "bsx4-OCEmtxT"
      },
      "source": [
        "cm_2 = confusion_matrix(test_labels, y_pred)"
      ],
      "execution_count": 44,
      "outputs": []
    },
    {
      "cell_type": "markdown",
      "metadata": {
        "id": "b9udRl1Qrx29"
      },
      "source": [
        "### True Positive"
      ]
    },
    {
      "cell_type": "code",
      "metadata": {
        "id": "doPfU8dDq5Mc"
      },
      "source": [
        "TruePositive= np.diag(cm_2)"
      ],
      "execution_count": 45,
      "outputs": []
    },
    {
      "cell_type": "code",
      "metadata": {
        "colab": {
          "base_uri": "https://localhost:8080/"
        },
        "id": "q03sExsiq611",
        "outputId": "b18d6604-26ed-4c62-93b3-afccd9d18e16"
      },
      "source": [
        "print(TruePositive)\n",
        "sumTruePositive = sum(TruePositive)\n",
        "print('Sum of True Positive: ', sumTruePositive)"
      ],
      "execution_count": 46,
      "outputs": [
        {
          "output_type": "stream",
          "text": [
            "[17 14 16 11]\n",
            "Sum of True Positive:  58\n"
          ],
          "name": "stdout"
        }
      ]
    },
    {
      "cell_type": "markdown",
      "metadata": {
        "id": "yyrPwhXbr_wJ"
      },
      "source": [
        "### False Positive"
      ]
    },
    {
      "cell_type": "code",
      "metadata": {
        "id": "kAd3kGP5q8tx"
      },
      "source": [
        "FalsePositive = []\n",
        "for i in range(NUM_CLASSES):\n",
        "    FalsePositive.append(sum(cm_2[:,i]) - cm_2[i,i])"
      ],
      "execution_count": 47,
      "outputs": []
    },
    {
      "cell_type": "code",
      "metadata": {
        "colab": {
          "base_uri": "https://localhost:8080/"
        },
        "id": "3XrClIMRq_D2",
        "outputId": "d61fb015-b664-442e-f0b7-79d4bc355543"
      },
      "source": [
        "print(FalsePositive)\n",
        "sumFalsePositive = sum(FalsePositive)\n",
        "print('Sum of False Positive: ', sumFalsePositive)"
      ],
      "execution_count": 48,
      "outputs": [
        {
          "output_type": "stream",
          "text": [
            "[2, 0, 3, 0]\n",
            "Sum of False Positive:  5\n"
          ],
          "name": "stdout"
        }
      ]
    },
    {
      "cell_type": "markdown",
      "metadata": {
        "id": "ZYkm-Oftrsrp"
      },
      "source": [
        "### False Negative"
      ]
    },
    {
      "cell_type": "code",
      "metadata": {
        "id": "6wJa_P2GrpRh"
      },
      "source": [
        "FalseNegative = []\n",
        "for i in range(NUM_CLASSES):\n",
        "    FalseNegative.append(sum(cm_2[i,:]) - cm_2[i,i])"
      ],
      "execution_count": 49,
      "outputs": []
    },
    {
      "cell_type": "code",
      "metadata": {
        "colab": {
          "base_uri": "https://localhost:8080/"
        },
        "id": "8mE2Z-D9rr-B",
        "outputId": "a33e16c3-97a6-43cb-bbf8-aedeef16dfdd"
      },
      "source": [
        "print(FalseNegative)\n",
        "sumFalseNegative = sum(FalseNegative)\n",
        "print('Sum of False Negative: ', sumFalseNegative)"
      ],
      "execution_count": 50,
      "outputs": [
        {
          "output_type": "stream",
          "text": [
            "[0, 1, 0, 4]\n",
            "Sum of False Negative:  5\n"
          ],
          "name": "stdout"
        }
      ]
    },
    {
      "cell_type": "markdown",
      "metadata": {
        "id": "T70d2v6osFSh"
      },
      "source": [
        "### True Negative"
      ]
    },
    {
      "cell_type": "code",
      "metadata": {
        "id": "Cyj6la14sET5"
      },
      "source": [
        "TrueNegative = []\n",
        "for i in range(NUM_CLASSES):\n",
        "    temp = np.delete(cm_2, i, 0)   # delete ith row\n",
        "    temp = np.delete(temp, i, 1)  # delete ith column\n",
        "    TrueNegative.append(sum(sum(temp)))"
      ],
      "execution_count": 51,
      "outputs": []
    },
    {
      "cell_type": "code",
      "metadata": {
        "colab": {
          "base_uri": "https://localhost:8080/"
        },
        "id": "iClrVHvisIGo",
        "outputId": "3bb56487-5522-4ce6-930e-40f1e0944230"
      },
      "source": [
        "print(TrueNegative)\n",
        "sumTrueNegative = sum(TrueNegative)\n",
        "print('Sum of True Negative: ', sumTrueNegative)"
      ],
      "execution_count": 52,
      "outputs": [
        {
          "output_type": "stream",
          "text": [
            "[44, 48, 44, 48]\n",
            "Sum of True Negative:  184\n"
          ],
          "name": "stdout"
        }
      ]
    },
    {
      "cell_type": "markdown",
      "metadata": {
        "id": "cQ34JXSwsKXA"
      },
      "source": [
        "### Check TP + FP + FN + TN = Test set"
      ]
    },
    {
      "cell_type": "code",
      "metadata": {
        "colab": {
          "base_uri": "https://localhost:8080/"
        },
        "id": "k_GcIagosJ4a",
        "outputId": "af05cd09-6994-418b-ea38-7a892e8b0185"
      },
      "source": [
        "l = len(test_labels)\n",
        "for i in range(NUM_CLASSES):\n",
        "    print(TruePositive[i] + FalsePositive[i] + FalseNegative[i] + TrueNegative[i] == l)"
      ],
      "execution_count": 53,
      "outputs": [
        {
          "output_type": "stream",
          "text": [
            "True\n",
            "True\n",
            "True\n",
            "True\n"
          ],
          "name": "stdout"
        }
      ]
    },
    {
      "cell_type": "code",
      "metadata": {
        "colab": {
          "base_uri": "https://localhost:8080/"
        },
        "id": "6S09mN4KsOK2",
        "outputId": "dc801ef5-7d86-4e1e-d7ef-7b55d5c16788"
      },
      "source": [
        "!pip3 install pycm==3.0"
      ],
      "execution_count": 54,
      "outputs": [
        {
          "output_type": "stream",
          "text": [
            "Requirement already satisfied: pycm==3.0 in /usr/local/lib/python3.7/dist-packages (3.0)\n",
            "Requirement already satisfied: art>=1.8 in /usr/local/lib/python3.7/dist-packages (from pycm==3.0) (5.1)\n",
            "Requirement already satisfied: numpy>=1.9.0 in /usr/local/lib/python3.7/dist-packages (from pycm==3.0) (1.19.5)\n"
          ],
          "name": "stdout"
        }
      ]
    },
    {
      "cell_type": "code",
      "metadata": {
        "id": "AlcvdAUnsQDJ"
      },
      "source": [
        "from pycm import *"
      ],
      "execution_count": 55,
      "outputs": []
    },
    {
      "cell_type": "code",
      "metadata": {
        "id": "efdOYlPxsS_Y"
      },
      "source": [
        "py_cm = ConfusionMatrix(actual_vector=test_labels, predict_vector=y_pred)"
      ],
      "execution_count": 56,
      "outputs": []
    },
    {
      "cell_type": "code",
      "metadata": {
        "colab": {
          "base_uri": "https://localhost:8080/"
        },
        "id": "TtONbYMLtT1W",
        "outputId": "458f8a0c-36e3-47b8-d8a3-f3ac8cfad776"
      },
      "source": [
        "print(py_cm)"
      ],
      "execution_count": 57,
      "outputs": [
        {
          "output_type": "stream",
          "text": [
            "Predict  0        1        2        3        \n",
            "Actual\n",
            "0        17       0        0        0        \n",
            "\n",
            "1        1        14       0        0        \n",
            "\n",
            "2        0        0        16       0        \n",
            "\n",
            "3        1        0        3        11       \n",
            "\n",
            "\n",
            "\n",
            "\n",
            "\n",
            "Overall Statistics : \n",
            "\n",
            "95% CI                                                            (0.85389,0.98738)\n",
            "ACC Macro                                                         0.96032\n",
            "ARI                                                               0.80031\n",
            "AUNP                                                              0.94635\n",
            "AUNU                                                              0.94492\n",
            "Bangdiwala B                                                      0.86028\n",
            "Bennett S                                                         0.89418\n",
            "CBA                                                               0.85088\n",
            "CSI                                                               0.85088\n",
            "Chi-Squared                                                       153.85263\n",
            "Chi-Squared DF                                                    9\n",
            "Conditional Entropy                                               0.33484\n",
            "Cramer V                                                          0.90224\n",
            "Cross Entropy                                                     2.02199\n",
            "F1 Macro                                                          0.9176\n",
            "F1 Micro                                                          0.92063\n",
            "FNR Macro                                                         0.08333\n",
            "FNR Micro                                                         0.07937\n",
            "FPR Macro                                                         0.02683\n",
            "FPR Micro                                                         0.02646\n",
            "Gwet AC1                                                          0.89438\n",
            "Hamming Loss                                                      0.07937\n",
            "Joint Entropy                                                     2.33286\n",
            "KL Divergence                                                     0.02397\n",
            "Kappa                                                             0.89383\n",
            "Kappa 95% CI                                                      (0.80454,0.98312)\n",
            "Kappa No Prevalence                                               0.84127\n",
            "Kappa Standard Error                                              0.04556\n",
            "Kappa Unbiased                                                    0.89356\n",
            "Krippendorff Alpha                                                0.89441\n",
            "Lambda A                                                          0.8913\n",
            "Lambda B                                                          0.88636\n",
            "Mutual Information                                                1.63009\n",
            "NIR                                                               0.26984\n",
            "Overall ACC                                                       0.92063\n",
            "Overall CEN                                                       0.12243\n",
            "Overall J                                                         (3.40351,0.85088)\n",
            "Overall MCC                                                       0.8984\n",
            "Overall MCEN                                                      0.17786\n",
            "Overall RACC                                                      0.25246\n",
            "Overall RACCU                                                     0.25435\n",
            "P-Value                                                           -0.0\n",
            "PPV Macro                                                         0.93421\n",
            "PPV Micro                                                         0.92063\n",
            "Pearson C                                                         0.84231\n",
            "Phi-Squared                                                       2.44211\n",
            "RCI                                                               0.81585\n",
            "RR                                                                15.75\n",
            "Reference Entropy                                                 1.99802\n",
            "Response Entropy                                                  1.96493\n",
            "SOA1(Landis & Koch)                                               Almost Perfect\n",
            "SOA2(Fleiss)                                                      Excellent\n",
            "SOA3(Altman)                                                      Very Good\n",
            "SOA4(Cicchetti)                                                   Excellent\n",
            "SOA5(Cramer)                                                      Very Strong\n",
            "SOA6(Matthews)                                                    Strong\n",
            "Scott PI                                                          0.89356\n",
            "Standard Error                                                    0.03406\n",
            "TNR Macro                                                         0.97317\n",
            "TNR Micro                                                         0.97354\n",
            "TPR Macro                                                         0.91667\n",
            "TPR Micro                                                         0.92063\n",
            "Zero-one Loss                                                     5\n",
            "\n",
            "Class Statistics :\n",
            "\n",
            "Classes                                                           0             1             2             3             \n",
            "ACC(Accuracy)                                                     0.96825       0.98413       0.95238       0.93651       \n",
            "AGF(Adjusted F-score)                                             0.98398       0.96459       0.97514       0.85219       \n",
            "AGM(Adjusted geometric mean)                                      0.96895       0.98075       0.95415       0.91847       \n",
            "AM(Difference between automatic and manual classification)        2             -1            3             -4            \n",
            "AUC(Area under the ROC curve)                                     0.97826       0.96667       0.96809       0.86667       \n",
            "AUCI(AUC value interpretation)                                    Excellent     Excellent     Excellent     Very Good     \n",
            "AUPR(Area under the PR curve)                                     0.94737       0.96667       0.92105       0.86667       \n",
            "BCD(Bray-Curtis dissimilarity)                                    0.01587       0.00794       0.02381       0.03175       \n",
            "BM(Informedness or bookmaker informedness)                        0.95652       0.93333       0.93617       0.73333       \n",
            "CEN(Confusion entropy)                                            0.11111       0.0648        0.11753       0.209         \n",
            "DOR(Diagnostic odds ratio)                                        None          None          None          None          \n",
            "DP(Discriminant power)                                            None          None          None          None          \n",
            "DPI(Discriminant power interpretation)                            None          None          None          None          \n",
            "ERR(Error rate)                                                   0.03175       0.01587       0.04762       0.06349       \n",
            "F0.5(F0.5 score)                                                  0.91398       0.98592       0.86957       0.9322        \n",
            "F1(F1 score - harmonic mean of precision and sensitivity)         0.94444       0.96552       0.91429       0.84615       \n",
            "F2(F2 score)                                                      0.97701       0.94595       0.96386       0.77465       \n",
            "FDR(False discovery rate)                                         0.10526       0.0           0.15789       0.0           \n",
            "FN(False negative/miss/type 2 error)                              0             1             0             4             \n",
            "FNR(Miss rate or false negative rate)                             0.0           0.06667       0.0           0.26667       \n",
            "FOR(False omission rate)                                          0.0           0.02041       0.0           0.07692       \n",
            "FP(False positive/type 1 error/false alarm)                       2             0             3             0             \n",
            "FPR(Fall-out or false positive rate)                              0.04348       0.0           0.06383       0.0           \n",
            "G(G-measure geometric mean of precision and sensitivity)          0.94591       0.96609       0.91766       0.85635       \n",
            "GI(Gini index)                                                    0.95652       0.93333       0.93617       0.73333       \n",
            "GM(G-mean geometric mean of specificity and sensitivity)          0.97802       0.96609       0.96756       0.85635       \n",
            "IBA(Index of balanced accuracy)                                   0.99811       0.87111       0.99593       0.53778       \n",
            "ICSI(Individual classification success index)                     0.89474       0.93333       0.84211       0.73333       \n",
            "IS(Information score)                                             1.72935       2.07039       1.72935       2.07039       \n",
            "J(Jaccard index)                                                  0.89474       0.93333       0.84211       0.73333       \n",
            "LS(Lift score)                                                    3.31579       4.2           3.31579       4.2           \n",
            "MCC(Matthews correlation coefficient)                             0.92511       0.95618       0.88789       0.82275       \n",
            "MCCI(Matthews correlation coefficient interpretation)             Very Strong   Very Strong   Strong        Strong        \n",
            "MCEN(Modified confusion entropy)                                  0.17298       0.10076       0.16266       0.28041       \n",
            "MK(Markedness)                                                    0.89474       0.97959       0.84211       0.92308       \n",
            "N(Condition negative)                                             46            48            47            48            \n",
            "NLR(Negative likelihood ratio)                                    0.0           0.06667       0.0           0.26667       \n",
            "NLRI(Negative likelihood ratio interpretation)                    Good          Good          Good          Poor          \n",
            "NPV(Negative predictive value)                                    1.0           0.97959       1.0           0.92308       \n",
            "OC(Overlap coefficient)                                           1.0           1.0           1.0           1.0           \n",
            "OOC(Otsuka-Ochiai coefficient)                                    0.94591       0.96609       0.91766       0.85635       \n",
            "OP(Optimized precision)                                           0.94603       0.94964       0.91941       0.78266       \n",
            "P(Condition positive or support)                                  17            15            16            15            \n",
            "PLR(Positive likelihood ratio)                                    23.0          None          15.66667      None          \n",
            "PLRI(Positive likelihood ratio interpretation)                    Good          None          Good          None          \n",
            "POP(Population)                                                   63            63            63            63            \n",
            "PPV(Precision or positive predictive value)                       0.89474       1.0           0.84211       1.0           \n",
            "PRE(Prevalence)                                                   0.26984       0.2381        0.25397       0.2381        \n",
            "Q(Yule Q - coefficient of colligation)                            None          None          None          None          \n",
            "QI(Yule Q interpretation)                                         None          None          None          None          \n",
            "RACC(Random accuracy)                                             0.08138       0.05291       0.07659       0.04157       \n",
            "RACCU(Random accuracy unbiased)                                   0.08163       0.05297       0.07716       0.04258       \n",
            "TN(True negative/correct rejection)                               44            48            44            48            \n",
            "TNR(Specificity or true negative rate)                            0.95652       1.0           0.93617       1.0           \n",
            "TON(Test outcome negative)                                        44            49            44            52            \n",
            "TOP(Test outcome positive)                                        19            14            19            11            \n",
            "TP(True positive/hit)                                             17            14            16            11            \n",
            "TPR(Sensitivity, recall, hit rate, or true positive rate)         1.0           0.93333       1.0           0.73333       \n",
            "Y(Youden index)                                                   0.95652       0.93333       0.93617       0.73333       \n",
            "dInd(Distance index)                                              0.04348       0.06667       0.06383       0.26667       \n",
            "sInd(Similarity index)                                            0.96926       0.95286       0.95487       0.81144       \n",
            "\n"
          ],
          "name": "stdout"
        }
      ]
    },
    {
      "cell_type": "code",
      "metadata": {
        "id": "QiSEVairsVGz"
      },
      "source": [
        "AV_AUC = (py_cm.AUC[0] + py_cm.AUC[1] + py_cm.AUC[2] + py_cm.AUC[3])/len(py_cm.AUC)"
      ],
      "execution_count": 58,
      "outputs": []
    },
    {
      "cell_type": "code",
      "metadata": {
        "id": "UBf8yB7GtRHQ",
        "colab": {
          "base_uri": "https://localhost:8080/"
        },
        "outputId": "403a68f8-b858-40cc-f383-0a369e480fb7"
      },
      "source": [
        "print('Average AUC: ', AV_AUC)"
      ],
      "execution_count": 59,
      "outputs": [
        {
          "output_type": "stream",
          "text": [
            "Average AUC:  0.9449198273203824\n"
          ],
          "name": "stdout"
        }
      ]
    },
    {
      "cell_type": "code",
      "metadata": {
        "id": "50TRXgDXsW4n"
      },
      "source": [
        "AV_Sens = (py_cm.TPR[0] + py_cm.TPR[1] + py_cm.TPR[2] + py_cm.TPR[3])/len(py_cm.TPR)"
      ],
      "execution_count": 60,
      "outputs": []
    },
    {
      "cell_type": "code",
      "metadata": {
        "id": "GzJuZmCetX-y",
        "colab": {
          "base_uri": "https://localhost:8080/"
        },
        "outputId": "96a6180e-1f73-4292-a4ad-fc3363fb5909"
      },
      "source": [
        "print('Average Sensitivity: ', AV_Sens)"
      ],
      "execution_count": 61,
      "outputs": [
        {
          "output_type": "stream",
          "text": [
            "Average Sensitivity:  0.9166666666666667\n"
          ],
          "name": "stdout"
        }
      ]
    },
    {
      "cell_type": "code",
      "metadata": {
        "id": "K576tD8NsYUt"
      },
      "source": [
        "AV_Spec = (py_cm.TNR[0] + py_cm.TNR[1] + py_cm.TNR[2] + py_cm.TNR[3])/len(py_cm.TNR)"
      ],
      "execution_count": 62,
      "outputs": []
    },
    {
      "cell_type": "code",
      "metadata": {
        "id": "zMzdTQlatZ6k",
        "colab": {
          "base_uri": "https://localhost:8080/"
        },
        "outputId": "6b7e0d6d-f342-48db-8a2e-3d9e3a6368b9"
      },
      "source": [
        "print('Average Specificity: ', AV_Spec)"
      ],
      "execution_count": 63,
      "outputs": [
        {
          "output_type": "stream",
          "text": [
            "Average Specificity:  0.973172987974098\n"
          ],
          "name": "stdout"
        }
      ]
    }
  ]
}