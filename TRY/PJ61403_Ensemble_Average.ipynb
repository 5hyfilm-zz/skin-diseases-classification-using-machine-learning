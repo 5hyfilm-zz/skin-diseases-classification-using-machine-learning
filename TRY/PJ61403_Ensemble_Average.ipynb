{
  "nbformat": 4,
  "nbformat_minor": 0,
  "metadata": {
    "colab": {
      "name": "PJ61403_Ensemble_Average.ipynb",
      "provenance": [],
      "collapsed_sections": [],
      "toc_visible": true,
      "authorship_tag": "ABX9TyOknjHc/ExJv6/ToYgbEjyO",
      "include_colab_link": true
    },
    "kernelspec": {
      "name": "python3",
      "display_name": "Python 3"
    }
  },
  "cells": [
    {
      "cell_type": "markdown",
      "metadata": {
        "id": "view-in-github",
        "colab_type": "text"
      },
      "source": [
        "<a href=\"https://colab.research.google.com/github/filmerxyz/JSTP-22_SkinDiseaseClassificationUsingMachineLearning/blob/master/PJ61403_Ensemble_Average.ipynb\" target=\"_parent\"><img src=\"https://colab.research.google.com/assets/colab-badge.svg\" alt=\"Open In Colab\"/></a>"
      ]
    },
    {
      "cell_type": "markdown",
      "metadata": {
        "id": "XQqcX6n8LcJP",
        "colab_type": "text"
      },
      "source": [
        "# Import Libraries"
      ]
    },
    {
      "cell_type": "code",
      "metadata": {
        "id": "NduY3Pb8JOcv",
        "colab_type": "code",
        "colab": {}
      },
      "source": [
        "import tensorflow as tf\n",
        "from tensorflow import keras\n",
        "import numpy as np\n",
        "from sklearn.metrics import balanced_accuracy_score, classification_report, confusion_matrix\n",
        "\n",
        "from pj61403_utils_functions import *"
      ],
      "execution_count": 0,
      "outputs": []
    },
    {
      "cell_type": "code",
      "metadata": {
        "id": "FRlRUkN4emWd",
        "colab_type": "code",
        "colab": {
          "base_uri": "https://localhost:8080/",
          "height": 34
        },
        "outputId": "763febed-2948-48fd-9771-b367539702f6"
      },
      "source": [
        "!git clone https://github.com/EvilPickle-PCSHSPT/PJ61403_DATA_split_50-25-25"
      ],
      "execution_count": 2,
      "outputs": [
        {
          "output_type": "stream",
          "text": [
            "fatal: destination path 'PJ61403_DATA_split_50-25-25' already exists and is not an empty directory.\n"
          ],
          "name": "stdout"
        }
      ]
    },
    {
      "cell_type": "markdown",
      "metadata": {
        "id": "PTjDOplIeD-u",
        "colab_type": "text"
      },
      "source": [
        "# Data"
      ]
    },
    {
      "cell_type": "code",
      "metadata": {
        "id": "BfrTIegWgvM8",
        "colab_type": "code",
        "colab": {}
      },
      "source": [
        "IMG_WIDTH = 224\n",
        "IMG_HEIGHT = 224"
      ],
      "execution_count": 0,
      "outputs": []
    },
    {
      "cell_type": "code",
      "metadata": {
        "id": "iDPk2-AVpJDh",
        "colab_type": "code",
        "colab": {
          "base_uri": "https://localhost:8080/",
          "height": 34
        },
        "outputId": "501cbed5-e4a3-4cd4-80c2-c897dcb8c7e5"
      },
      "source": [
        "test_path = '/content/PJ61403_DATA_split_50-25-25/crop_split_classes_data/test'\n",
        "\n",
        "test_data = tf.keras.preprocessing.image.ImageDataGenerator(rescale=1./255)\n",
        "\n",
        "test_generator = test_data.flow_from_directory(directory=test_path,\n",
        "                                               target_size=(IMG_WIDTH, IMG_HEIGHT),\n",
        "                                               batch_size=1,\n",
        "                                               shuffle=False,\n",
        "                                               class_mode=None)\n",
        "\n",
        "test_labels = test_generator.classes"
      ],
      "execution_count": 4,
      "outputs": [
        {
          "output_type": "stream",
          "text": [
            "Found 63 images belonging to 4 classes.\n"
          ],
          "name": "stdout"
        }
      ]
    },
    {
      "cell_type": "code",
      "metadata": {
        "id": "Jzv6_DQvBjy7",
        "colab_type": "code",
        "colab": {}
      },
      "source": [
        "def ensemble(test_data, model_1, model_2, model_3):\n",
        "  model_1 = tf.keras.models.load_model(model_1)\n",
        "  model_2 = tf.keras.models.load_model(model_2)\n",
        "  model_3 = tf.keras.models.load_model(model_3)\n",
        "  ans_1 = model_1.predict(test_data)\n",
        "  ans_2 = model_2.predict(test_data)\n",
        "  ans_3 = model_3.predict(test_data)\n",
        "  answer_list = []\n",
        "  for i in range(len(ans_1)):\n",
        "    av_list = []\n",
        "    for j in range(len(ans_1[i])):\n",
        "      av_ans = (ans_1[i][j] + ans_2[i][j] + ans_3[i][j])/3\n",
        "      av_list.append(av_ans)\n",
        "    answer_list.append(av_list)\n",
        "  return answer_list"
      ],
      "execution_count": 0,
      "outputs": []
    },
    {
      "cell_type": "code",
      "metadata": {
        "id": "tNr-YqZNJzYw",
        "colab_type": "code",
        "colab": {}
      },
      "source": [
        "final_answer = ensemble(test_generator, 'pj61043_densenet121_model_1.h5', 'pj61043_densenet121_model_2.h5', 'pj61043_resnet50_model_1.h5')"
      ],
      "execution_count": 0,
      "outputs": []
    },
    {
      "cell_type": "code",
      "metadata": {
        "id": "AERrW5jX-GZi",
        "colab_type": "code",
        "colab": {}
      },
      "source": [
        "final_answer_array = np.asarray(final_answer) "
      ],
      "execution_count": 0,
      "outputs": []
    },
    {
      "cell_type": "code",
      "metadata": {
        "id": "3AbASck-_S7t",
        "colab_type": "code",
        "colab": {}
      },
      "source": [
        "classes_names = ['ad', 'nm', 'ps', 'sk']"
      ],
      "execution_count": 0,
      "outputs": []
    },
    {
      "cell_type": "markdown",
      "metadata": {
        "id": "17WK2fGCIskA",
        "colab_type": "text"
      },
      "source": [
        "# Confusion Matrix"
      ]
    },
    {
      "cell_type": "code",
      "metadata": {
        "id": "zp4miqVDSX-C",
        "colab_type": "code",
        "colab": {}
      },
      "source": [
        "cm = confusion_matrix(test_labels, final_answer_array.argmax(axis=1))"
      ],
      "execution_count": 0,
      "outputs": []
    },
    {
      "cell_type": "markdown",
      "metadata": {
        "id": "X4Syz2YYIu62",
        "colab_type": "text"
      },
      "source": [
        "## Without Normalize"
      ]
    },
    {
      "cell_type": "code",
      "metadata": {
        "id": "WiqaF9nw-4rA",
        "colab_type": "code",
        "colab": {
          "base_uri": "https://localhost:8080/",
          "height": 382
        },
        "outputId": "f9028158-8a93-47cf-d554-d4ad6bbe8108"
      },
      "source": [
        "plot_confusion_matrix(cm, classes_names, False)"
      ],
      "execution_count": 10,
      "outputs": [
        {
          "output_type": "stream",
          "text": [
            "Confusion matrix, without normalization\n",
            "[[12  4  1  0]\n",
            " [ 0 15  0  0]\n",
            " [ 0  1 15  0]\n",
            " [ 1  0  0 14]]\n"
          ],
          "name": "stdout"
        },
        {
          "output_type": "display_data",
          "data": {
            "image/png": "[encoded data removed]",
            "text/plain": [
              "<Figure size 432x288 with 2 Axes>"
            ]
          },
          "metadata": {
            "tags": [],
            "needs_background": "light"
          }
        }
      ]
    },
    {
      "cell_type": "markdown",
      "metadata": {
        "id": "chPVOgldIy0e",
        "colab_type": "text"
      },
      "source": [
        "## With Normalize"
      ]
    },
    {
      "cell_type": "code",
      "metadata": {
        "id": "kReJJokZH9J_",
        "colab_type": "code",
        "colab": {
          "base_uri": "https://localhost:8080/",
          "height": 382
        },
        "outputId": "842aee2f-2a70-4a26-b20b-cf1615a7d44a"
      },
      "source": [
        "plot_confusion_matrix(cm, classes_names, True)"
      ],
      "execution_count": 11,
      "outputs": [
        {
          "output_type": "stream",
          "text": [
            "Normalized confusion matrix\n",
            "[[0.70588235 0.23529412 0.05882353 0.        ]\n",
            " [0.         1.         0.         0.        ]\n",
            " [0.         0.0625     0.9375     0.        ]\n",
            " [0.06666667 0.         0.         0.93333333]]\n"
          ],
          "name": "stdout"
        },
        {
          "output_type": "display_data",
          "data": {
            "image/png": "[encoded data removed]",
            "text/plain": [
              "<Figure size 432x288 with 2 Axes>"
            ]
          },
          "metadata": {
            "tags": [],
            "needs_background": "light"
          }
        }
      ]
    },
    {
      "cell_type": "markdown",
      "metadata": {
        "id": "oVf9UeS4I0V_",
        "colab_type": "text"
      },
      "source": [
        "# Classification Report"
      ]
    },
    {
      "cell_type": "code",
      "metadata": {
        "id": "5HQfU0Bk_SIX",
        "colab_type": "code",
        "colab": {
          "base_uri": "https://localhost:8080/",
          "height": 221
        },
        "outputId": "1d425234-10c3-4300-fed6-254549ba87ae"
      },
      "source": [
        "y_pred = np.argmax(final_answer_array, axis=1)\n",
        "print('Classification Report')\n",
        "print(classification_report(test_labels, y_pred, target_names=classes_names))"
      ],
      "execution_count": 12,
      "outputs": [
        {
          "output_type": "stream",
          "text": [
            "Classification Report\n",
            "              precision    recall  f1-score   support\n",
            "\n",
            "          ad       0.92      0.71      0.80        17\n",
            "          nm       0.75      1.00      0.86        15\n",
            "          ps       0.94      0.94      0.94        16\n",
            "          sk       1.00      0.93      0.97        15\n",
            "\n",
            "    accuracy                           0.89        63\n",
            "   macro avg       0.90      0.89      0.89        63\n",
            "weighted avg       0.90      0.89      0.89        63\n",
            "\n"
          ],
          "name": "stdout"
        }
      ]
    }
  ]
}