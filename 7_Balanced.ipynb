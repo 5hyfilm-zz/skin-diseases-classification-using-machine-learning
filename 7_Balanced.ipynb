{
  "nbformat": 4,
  "nbformat_minor": 0,
  "metadata": {
    "colab": {
      "name": "7_Balanced.ipynb",
      "provenance": [],
      "collapsed_sections": [],
      "machine_shape": "hm",
      "authorship_tag": "ABX9TyMjNEwy3RiuIyeynZKqT0Cr",
      "include_colab_link": true
    },
    "kernelspec": {
      "name": "python3",
      "display_name": "Python 3"
    },
    "accelerator": "GPU"
  },
  "cells": [
    {
      "cell_type": "markdown",
      "metadata": {
        "id": "view-in-github",
        "colab_type": "text"
      },
      "source": [
        "<a href=\"https://colab.research.google.com/github/filmerxyz/JSTP-22_SkinDiseaseClassificationUsingMachineLearning/blob/master/7_Balanced.ipynb\" target=\"_parent\"><img src=\"https://colab.research.google.com/assets/colab-badge.svg\" alt=\"Open In Colab\"/></a>"
      ]
    },
    {
      "cell_type": "code",
      "metadata": {
        "id": "BLNnh3ANhxlb",
        "colab_type": "code",
        "colab": {}
      },
      "source": [
        "import tensorflow as tf\n",
        "from tensorflow import keras\n",
        "from tensorflow.keras import backend as K\n",
        "from tensorflow.keras import models\n",
        "from tensorflow.keras.models import Sequential, Model\n",
        "from tensorflow.keras.layers import Conv2D, MaxPooling2D, Dense, Dropout, Activation, Flatten, BatchNormalization, GlobalAveragePooling2D\n",
        "from tensorflow.keras.preprocessing import image\n",
        "from tensorflow.keras.preprocessing.image import ImageDataGenerator, load_img, img_to_array\n",
        "from tensorflow.keras.applications.imagenet_utils import preprocess_input\n",
        "from tensorflow.keras.optimizers import Adam\n",
        "from tensorflow.keras.callbacks import ModelCheckpoint, EarlyStopping, ReduceLROnPlateau\n",
        "from tensorflow.keras import regularizers\n",
        "from tensorflow.keras.regularizers import l2\n",
        "import tensorflow_addons as tfa\n",
        "\n",
        "from sklearn.model_selection import train_test_split\n",
        "from sklearn.utils import compute_sample_weight, compute_class_weight\n",
        "from sklearn.metrics import classification_report, confusion_matrix, precision_recall_fscore_support, balanced_accuracy_score\n",
        "\n",
        "import pandas as pd\n",
        "import numpy as np\n",
        "import matplotlib.pyplot as plt\n",
        "from PIL import Image\n",
        "import math\n",
        "\n",
        "import shutil\n",
        "import os\n",
        "from os.path import join"
      ],
      "execution_count": 0,
      "outputs": []
    },
    {
      "cell_type": "code",
      "metadata": {
        "id": "uOQx1skvh8v_",
        "colab_type": "code",
        "colab": {}
      },
      "source": [
        "IMG_WIDTH = 224\n",
        "IMG_HEIGHT = 224\n",
        "\n",
        "BATCH_SIZE = 32\n",
        "STEPS = 16\n",
        "LR = 3e-5\n",
        "EPOCHS = 100"
      ],
      "execution_count": 0,
      "outputs": []
    },
    {
      "cell_type": "code",
      "metadata": {
        "id": "GeA4847pidYk",
        "colab_type": "code",
        "colab": {
          "base_uri": "https://localhost:8080/",
          "height": 155
        },
        "outputId": "fb631c84-3213-40cb-df75-7470945cf5b4"
      },
      "source": [
        "!git clone https://github.com/EvilPickle-PCSHSPT/ham10000-with-one-image-folder"
      ],
      "execution_count": 3,
      "outputs": [
        {
          "output_type": "stream",
          "text": [
            "Cloning into 'ham10000-with-one-image-folder'...\n",
            "remote: Enumerating objects: 9, done.\u001b[K\n",
            "remote: Counting objects:  11% (1/9)\u001b[K\rremote: Counting objects:  22% (2/9)\u001b[K\rremote: Counting objects:  33% (3/9)\u001b[K\rremote: Counting objects:  44% (4/9)\u001b[K\rremote: Counting objects:  55% (5/9)\u001b[K\rremote: Counting objects:  66% (6/9)\u001b[K\rremote: Counting objects:  77% (7/9)\u001b[K\rremote: Counting objects:  88% (8/9)\u001b[K\rremote: Counting objects: 100% (9/9)\u001b[K\rremote: Counting objects: 100% (9/9), done.\u001b[K\n",
            "remote: Compressing objects: 100% (7/7), done.\u001b[K\n",
            "remote: Total 10045 (delta 4), reused 7 (delta 2), pack-reused 10036\u001b[K\n",
            "Receiving objects: 100% (10045/10045), 2.57 GiB | 59.45 MiB/s, done.\n",
            "Resolving deltas: 100% (13/13), done.\n",
            "Checking out files: 100% (10022/10022), done.\n"
          ],
          "name": "stdout"
        }
      ]
    },
    {
      "cell_type": "code",
      "metadata": {
        "id": "xLOSuKYQifpD",
        "colab_type": "code",
        "colab": {}
      },
      "source": [
        "metadata_path = '/content/ham10000-with-one-image-folder/HAM10000_metadata.csv'\n",
        "img_path = '/content/ham10000-with-one-image-folder/HAM1000_images'"
      ],
      "execution_count": 0,
      "outputs": []
    },
    {
      "cell_type": "code",
      "metadata": {
        "id": "1fYd3LxWif0q",
        "colab_type": "code",
        "colab": {}
      },
      "source": [
        "label_names = ['akiec', 'bcc', 'bkl', 'df', 'mel', 'nv', 'vasc']"
      ],
      "execution_count": 0,
      "outputs": []
    },
    {
      "cell_type": "code",
      "metadata": {
        "id": "NYDiYfQYif3o",
        "colab_type": "code",
        "colab": {}
      },
      "source": [
        "data = pd.read_csv(metadata_path)"
      ],
      "execution_count": 0,
      "outputs": []
    },
    {
      "cell_type": "code",
      "metadata": {
        "id": "1FRcmeuPif7v",
        "colab_type": "code",
        "colab": {}
      },
      "source": [
        "num_examples = data.values.shape[0]"
      ],
      "execution_count": 0,
      "outputs": []
    },
    {
      "cell_type": "code",
      "metadata": {
        "id": "HVY9B6etjgMp",
        "colab_type": "code",
        "colab": {}
      },
      "source": [
        "inputs = np.empty(shape=(num_examples, IMG_WIDTH, IMG_HEIGHT, 3), dtype=np.float32)\n",
        "labels = np.empty(shape=(num_examples), dtype=np.uint8)"
      ],
      "execution_count": 0,
      "outputs": []
    },
    {
      "cell_type": "code",
      "metadata": {
        "id": "lhCzDuXjjgfx",
        "colab_type": "code",
        "colab": {}
      },
      "source": [
        "for i, row in enumerate(data.values):\n",
        "    img_id = row[1]\n",
        "    label = row[2]\n",
        "    all_img_path = os.path.join(img_path, img_id) + '.jpg' \n",
        "    if (os.path.isfile(all_img_path)):\n",
        "        im_path = all_img_path\n",
        "    else:\n",
        "        raise Exception ('File not found \\'%s\\'' %img_id)\n",
        "    img = Image.open(im_path).resize((IMG_WIDTH, IMG_HEIGHT), Image.LANCZOS)\n",
        "    inputs[i] = np.array(img)/255.0\n",
        "    labels[i] = label_names.index(label)"
      ],
      "execution_count": 0,
      "outputs": []
    },
    {
      "cell_type": "code",
      "metadata": {
        "id": "CApqywVbjmf2",
        "colab_type": "code",
        "colab": {}
      },
      "source": [
        "x_train, x_test, y_train, y_test = train_test_split(inputs, labels, test_size=0.1, random_state=555)\n",
        "\n",
        "del inputs\n",
        "del labels\n",
        "\n",
        "x_train, x_val, y_train, y_val = train_test_split(x_train, y_train, test_size=0.3, random_state=555)"
      ],
      "execution_count": 0,
      "outputs": []
    },
    {
      "cell_type": "code",
      "metadata": {
        "id": "kRVBNFWqjmnD",
        "colab_type": "code",
        "colab": {
          "base_uri": "https://localhost:8080/",
          "height": 69
        },
        "outputId": "ac2837a0-b1ce-4bbc-c5a2-65453d3558fc"
      },
      "source": [
        "print(x_train.shape, y_train.shape)\n",
        "print(x_val.shape, y_val.shape)\n",
        "print(x_test.shape, y_test.shape)"
      ],
      "execution_count": 11,
      "outputs": [
        {
          "output_type": "stream",
          "text": [
            "(6309, 224, 224, 3) (6309,)\n",
            "(2704, 224, 224, 3) (2704,)\n",
            "(1002, 224, 224, 3) (1002,)\n"
          ],
          "name": "stdout"
        }
      ]
    },
    {
      "cell_type": "code",
      "metadata": {
        "id": "UkZXn_dtjmqj",
        "colab_type": "code",
        "colab": {}
      },
      "source": [
        "datagen = ImageDataGenerator(\n",
        "        rotation_range=360,\n",
        "        zoom_range=0.3,\n",
        "        horizontal_flip=True,\n",
        "        vertical_flip=True,\n",
        "        fill_mode='reflect')"
      ],
      "execution_count": 0,
      "outputs": []
    },
    {
      "cell_type": "code",
      "metadata": {
        "id": "63EIrzhem6tc",
        "colab_type": "code",
        "colab": {
          "base_uri": "https://localhost:8080/",
          "height": 158
        },
        "outputId": "90d8f8a3-cc19-43c5-f8f4-b8bd67c26701"
      },
      "source": [
        "from tensorflow.keras.utils import Sequence\n",
        "from imblearn.over_sampling import RandomOverSampler\n",
        "from imblearn.keras import balanced_batch_generator\n",
        "\n",
        "class BalancedDataGenerator(Sequence):\n",
        "    \"\"\"ImageDataGenerator + RandomOversampling\"\"\"\n",
        "    def __init__(self, x, y, datagen, batch_size=32):\n",
        "        self.datagen = datagen\n",
        "        self.batch_size = batch_size\n",
        "        self._shape = x.shape        \n",
        "        datagen.fit(x)\n",
        "        self.gen, self.steps_per_epoch = balanced_batch_generator(x.reshape(x.shape[0], -1), y, sampler=RandomOverSampler(), batch_size=self.batch_size, keep_sparse=True)\n",
        "\n",
        "    def __len__(self):\n",
        "        return self._shape[0] // self.batch_size\n",
        "\n",
        "    def __getitem__(self, idx):\n",
        "        x_batch, y_batch = self.gen.__next__()\n",
        "        x_batch = x_batch.reshape(-1, *self._shape[1:])\n",
        "        return self.datagen.flow(x_batch, y_batch, batch_size=self.batch_size).next()"
      ],
      "execution_count": 13,
      "outputs": [
        {
          "output_type": "stream",
          "text": [
            "/usr/local/lib/python3.6/dist-packages/sklearn/externals/six.py:31: FutureWarning: The module is deprecated in version 0.21 and will be removed in version 0.23 since we've dropped support for Python 2.7. Please rely on the official version of six (https://pypi.org/project/six/).\n",
            "  \"(https://pypi.org/project/six/).\", FutureWarning)\n",
            "/usr/local/lib/python3.6/dist-packages/sklearn/utils/deprecation.py:144: FutureWarning: The sklearn.neighbors.base module is  deprecated in version 0.22 and will be removed in version 0.24. The corresponding classes / functions should instead be imported from sklearn.neighbors. Anything that cannot be imported from sklearn.neighbors is now part of the private API.\n",
            "  warnings.warn(message, FutureWarning)\n",
            "Using TensorFlow backend.\n",
            "/usr/local/lib/python3.6/dist-packages/sklearn/utils/deprecation.py:144: FutureWarning: The sklearn.utils.testing module is  deprecated in version 0.22 and will be removed in version 0.24. The corresponding classes / functions should instead be imported from sklearn.utils. Anything that cannot be imported from sklearn.utils is now part of the private API.\n",
            "  warnings.warn(message, FutureWarning)\n"
          ],
          "name": "stderr"
        }
      ]
    },
    {
      "cell_type": "code",
      "metadata": {
        "id": "yAnZxStiyPsh",
        "colab_type": "code",
        "colab": {}
      },
      "source": [
        "# datagen.fit(x_train)"
      ],
      "execution_count": 0,
      "outputs": []
    },
    {
      "cell_type": "code",
      "metadata": {
        "id": "pC-Qntby5CjB",
        "colab_type": "code",
        "colab": {
          "base_uri": "https://localhost:8080/",
          "height": 72
        },
        "outputId": "6d94954d-ae28-469d-e752-9aaba53b7a72"
      },
      "source": [
        "balanced_gen = BalancedDataGenerator(x_train, y_train, datagen, batch_size=BATCH_SIZE)"
      ],
      "execution_count": 15,
      "outputs": [
        {
          "output_type": "stream",
          "text": [
            "/usr/local/lib/python3.6/dist-packages/sklearn/utils/deprecation.py:87: FutureWarning: Function safe_indexing is deprecated; safe_indexing is deprecated in version 0.22 and will be removed in version 0.24.\n",
            "  warnings.warn(msg, category=FutureWarning)\n"
          ],
          "name": "stderr"
        }
      ]
    },
    {
      "cell_type": "code",
      "metadata": {
        "id": "qIBExlrL9ynx",
        "colab_type": "code",
        "colab": {}
      },
      "source": [
        "steps_per_epoch = balanced_gen.steps_per_epoch"
      ],
      "execution_count": 0,
      "outputs": []
    },
    {
      "cell_type": "code",
      "metadata": {
        "id": "MJulcI6m9vaO",
        "colab_type": "code",
        "colab": {
          "base_uri": "https://localhost:8080/",
          "height": 89
        },
        "outputId": "a192a093-6d9c-4b57-c2ce-335c3d542379"
      },
      "source": [
        "y_gen = [balanced_gen.__getitem__(0)[1] for i in range(steps_per_epoch)]\n",
        "print(np.unique(y_gen, return_counts=True))"
      ],
      "execution_count": 17,
      "outputs": [
        {
          "output_type": "stream",
          "text": [
            "/usr/local/lib/python3.6/dist-packages/sklearn/utils/deprecation.py:87: FutureWarning: Function safe_indexing is deprecated; safe_indexing is deprecated in version 0.22 and will be removed in version 0.24.\n",
            "  warnings.warn(msg, category=FutureWarning)\n"
          ],
          "name": "stderr"
        },
        {
          "output_type": "stream",
          "text": [
            "(array([0, 1, 2, 3, 4, 5, 6], dtype=uint8), array([4174, 4172, 4175, 4173, 4175, 4173, 4174]))\n"
          ],
          "name": "stdout"
        }
      ]
    },
    {
      "cell_type": "code",
      "metadata": {
        "id": "-AHfz9Oajmv8",
        "colab_type": "code",
        "colab": {}
      },
      "source": [
        "def build_model():\n",
        "  base_model = tf.keras.applications.DenseNet121(include_top=False, input_shape=(IMG_WIDTH, IMG_HEIGHT, 3), weights='imagenet')\n",
        "  \n",
        "  for layer in base_model.layers:\n",
        "    if isinstance(layer, BatchNormalization):\n",
        "        layer.trainable = True\n",
        "    else:\n",
        "        layer.trainable = False\n",
        "\n",
        "  average_pooling_layer = GlobalAveragePooling2D()(base_model.output)\n",
        "  \n",
        "  fc_layer = Dense(512, activation='relu', kernel_regularizer=l2(0.0001))(average_pooling_layer)\n",
        "  fc_layer = Dense(256, activation='relu', kernel_regularizer=l2(0.0001))(fc_layer)\n",
        "  fc_layer = Dense(128, activation='relu', kernel_regularizer=l2(0.0001))(fc_layer)\n",
        "  fc_layer = Dense(64, activation='relu', kernel_regularizer=l2(0.0001))(fc_layer)\n",
        "  fc_layer = Dense(32, activation='relu', kernel_regularizer=l2(0.0001))(fc_layer)\n",
        "  bn_layer = BatchNormalization()(fc_layer)\n",
        "  dropout_layer = Dropout(0.25)(bn_layer)\n",
        "  prediction_layer = Dense(units=7, activation='softmax', name='prediction')(dropout_layer)\n",
        "\n",
        "  model = Model(inputs=base_model.input, outputs=prediction_layer)\n",
        "\n",
        "  return model"
      ],
      "execution_count": 0,
      "outputs": []
    },
    {
      "cell_type": "code",
      "metadata": {
        "id": "o8-R7-bljmuM",
        "colab_type": "code",
        "colab": {
          "base_uri": "https://localhost:8080/",
          "height": 52
        },
        "outputId": "35e76eec-8139-4e32-d2e1-b3ee70e6aaf9"
      },
      "source": [
        "model = build_model()"
      ],
      "execution_count": 19,
      "outputs": [
        {
          "output_type": "stream",
          "text": [
            "Downloading data from https://storage.googleapis.com/tensorflow/keras-applications/densenet/densenet121_weights_tf_dim_ordering_tf_kernels_notop.h5\n",
            "29089792/29084464 [==============================] - 0s 0us/step\n"
          ],
          "name": "stdout"
        }
      ]
    },
    {
      "cell_type": "code",
      "metadata": {
        "id": "DG5bARg5oIZ0",
        "colab_type": "code",
        "colab": {}
      },
      "source": [
        "model.compile(optimizer=Adam(LR), \n",
        "              loss='sparse_categorical_crossentropy',\n",
        "              metrics=['accuracy'])"
      ],
      "execution_count": 0,
      "outputs": []
    },
    {
      "cell_type": "code",
      "metadata": {
        "id": "JaJR0tgvouPm",
        "colab_type": "code",
        "colab": {}
      },
      "source": [
        "early_stop = EarlyStopping(monitor='val_loss', patience=10, verbose=0, mode='min')\n",
        "\n",
        "model_checkpoint = ModelCheckpoint(filepath='acc_effnet_model.h5', save_best_only=True, monitor='val_loss', mode='min')\n",
        "\n",
        "reduce_lr_rate = ReduceLROnPlateau(monitor='val_loss', factor=0.3, min_lr=1e-5 , patience=10, verbose=1, min_delta=1e-4, mode='min')"
      ],
      "execution_count": 0,
      "outputs": []
    },
    {
      "cell_type": "code",
      "metadata": {
        "id": "ibF88xVdjvQE",
        "colab_type": "code",
        "colab": {
          "base_uri": "https://localhost:8080/",
          "height": 1000
        },
        "outputId": "39bd2024-f0b8-4fb7-db7c-176866fcdc14"
      },
      "source": [
        "history = model.fit_generator(balanced_gen,\n",
        "                              validation_data=(x_val, y_val, compute_sample_weight('balanced', y_val)),\n",
        "                              epochs=EPOCHS,\n",
        "                              callbacks=[early_stop, model_checkpoint, reduce_lr_rate],\n",
        "                              verbose=1)"
      ],
      "execution_count": 22,
      "outputs": [
        {
          "output_type": "stream",
          "text": [
            "WARNING:tensorflow:From <ipython-input-22-1e87b55834f8>:5: Model.fit_generator (from tensorflow.python.keras.engine.training) is deprecated and will be removed in a future version.\n",
            "Instructions for updating:\n",
            "Please use Model.fit, which supports generators.\n"
          ],
          "name": "stdout"
        },
        {
          "output_type": "stream",
          "text": [
            "/usr/local/lib/python3.6/dist-packages/sklearn/utils/deprecation.py:87: FutureWarning: Function safe_indexing is deprecated; safe_indexing is deprecated in version 0.22 and will be removed in version 0.24.\n",
            "  warnings.warn(msg, category=FutureWarning)\n"
          ],
          "name": "stderr"
        },
        {
          "output_type": "stream",
          "text": [
            "Epoch 1/100\n",
            "197/197 [==============================] - 74s 375ms/step - loss: 2.1739 - accuracy: 0.2576 - val_loss: 1.9225 - val_accuracy: 0.2482 - lr: 3.0000e-05\n",
            "Epoch 2/100\n",
            "197/197 [==============================] - 71s 359ms/step - loss: 1.7892 - accuracy: 0.3872 - val_loss: 1.6331 - val_accuracy: 0.3018 - lr: 3.0000e-05\n",
            "Epoch 3/100\n",
            "197/197 [==============================] - 70s 356ms/step - loss: 1.5814 - accuracy: 0.4513 - val_loss: 1.4759 - val_accuracy: 0.4112 - lr: 3.0000e-05\n",
            "Epoch 4/100\n",
            "197/197 [==============================] - 71s 361ms/step - loss: 1.4511 - accuracy: 0.5170 - val_loss: 1.3726 - val_accuracy: 0.4911 - lr: 3.0000e-05\n",
            "Epoch 5/100\n",
            "197/197 [==============================] - 70s 358ms/step - loss: 1.3753 - accuracy: 0.5472 - val_loss: 1.3027 - val_accuracy: 0.5529 - lr: 3.0000e-05\n",
            "Epoch 6/100\n",
            "197/197 [==============================] - 70s 358ms/step - loss: 1.3085 - accuracy: 0.5660 - val_loss: 1.2546 - val_accuracy: 0.5703 - lr: 3.0000e-05\n",
            "Epoch 7/100\n",
            "197/197 [==============================] - 72s 364ms/step - loss: 1.2538 - accuracy: 0.5930 - val_loss: 1.2089 - val_accuracy: 0.6106 - lr: 3.0000e-05\n",
            "Epoch 8/100\n",
            "197/197 [==============================] - 72s 363ms/step - loss: 1.1849 - accuracy: 0.6309 - val_loss: 1.1392 - val_accuracy: 0.6232 - lr: 3.0000e-05\n",
            "Epoch 9/100\n",
            "197/197 [==============================] - 71s 361ms/step - loss: 1.1405 - accuracy: 0.6394 - val_loss: 1.1184 - val_accuracy: 0.6468 - lr: 3.0000e-05\n",
            "Epoch 10/100\n",
            "197/197 [==============================] - 70s 355ms/step - loss: 1.0870 - accuracy: 0.6563 - val_loss: 1.1231 - val_accuracy: 0.6716 - lr: 3.0000e-05\n",
            "Epoch 11/100\n",
            "197/197 [==============================] - 71s 360ms/step - loss: 1.0498 - accuracy: 0.6758 - val_loss: 1.0960 - val_accuracy: 0.6868 - lr: 3.0000e-05\n",
            "Epoch 12/100\n",
            "197/197 [==============================] - 71s 360ms/step - loss: 1.0297 - accuracy: 0.6878 - val_loss: 1.0377 - val_accuracy: 0.6749 - lr: 3.0000e-05\n",
            "Epoch 13/100\n",
            "197/197 [==============================] - 71s 361ms/step - loss: 0.9932 - accuracy: 0.6965 - val_loss: 0.9891 - val_accuracy: 0.6575 - lr: 3.0000e-05\n",
            "Epoch 14/100\n",
            "197/197 [==============================] - 69s 348ms/step - loss: 0.9719 - accuracy: 0.7058 - val_loss: 0.9899 - val_accuracy: 0.6716 - lr: 3.0000e-05\n",
            "Epoch 15/100\n",
            "197/197 [==============================] - 70s 355ms/step - loss: 0.9348 - accuracy: 0.7140 - val_loss: 0.9737 - val_accuracy: 0.6916 - lr: 3.0000e-05\n",
            "Epoch 16/100\n",
            "197/197 [==============================] - 70s 356ms/step - loss: 0.9121 - accuracy: 0.7264 - val_loss: 0.9654 - val_accuracy: 0.7038 - lr: 3.0000e-05\n",
            "Epoch 17/100\n",
            "197/197 [==============================] - 69s 349ms/step - loss: 0.8881 - accuracy: 0.7395 - val_loss: 0.9868 - val_accuracy: 0.7230 - lr: 3.0000e-05\n",
            "Epoch 18/100\n",
            "197/197 [==============================] - 70s 353ms/step - loss: 0.8778 - accuracy: 0.7454 - val_loss: 0.9783 - val_accuracy: 0.6749 - lr: 3.0000e-05\n",
            "Epoch 19/100\n",
            "197/197 [==============================] - 69s 351ms/step - loss: 0.8672 - accuracy: 0.7399 - val_loss: 0.9359 - val_accuracy: 0.6686 - lr: 3.0000e-05\n",
            "Epoch 20/100\n",
            "197/197 [==============================] - 69s 353ms/step - loss: 0.8115 - accuracy: 0.7681 - val_loss: 0.9501 - val_accuracy: 0.7178 - lr: 3.0000e-05\n",
            "Epoch 21/100\n",
            "197/197 [==============================] - 70s 353ms/step - loss: 0.8199 - accuracy: 0.7613 - val_loss: 0.9681 - val_accuracy: 0.7186 - lr: 3.0000e-05\n",
            "Epoch 22/100\n",
            "197/197 [==============================] - 71s 358ms/step - loss: 0.7955 - accuracy: 0.7671 - val_loss: 0.9227 - val_accuracy: 0.7226 - lr: 3.0000e-05\n",
            "Epoch 23/100\n",
            "197/197 [==============================] - 70s 353ms/step - loss: 0.7909 - accuracy: 0.7709 - val_loss: 0.8905 - val_accuracy: 0.7086 - lr: 3.0000e-05\n",
            "Epoch 24/100\n",
            "197/197 [==============================] - 69s 349ms/step - loss: 0.7482 - accuracy: 0.7862 - val_loss: 0.9124 - val_accuracy: 0.7678 - lr: 3.0000e-05\n",
            "Epoch 25/100\n",
            "197/197 [==============================] - 68s 346ms/step - loss: 0.7277 - accuracy: 0.7966 - val_loss: 0.9132 - val_accuracy: 0.7459 - lr: 3.0000e-05\n",
            "Epoch 26/100\n",
            "197/197 [==============================] - 69s 352ms/step - loss: 0.7299 - accuracy: 0.7906 - val_loss: 0.8904 - val_accuracy: 0.7419 - lr: 3.0000e-05\n",
            "Epoch 27/100\n",
            "197/197 [==============================] - 69s 348ms/step - loss: 0.7102 - accuracy: 0.8038 - val_loss: 0.9117 - val_accuracy: 0.7433 - lr: 3.0000e-05\n",
            "Epoch 28/100\n",
            "197/197 [==============================] - 68s 346ms/step - loss: 0.6923 - accuracy: 0.8072 - val_loss: 0.8934 - val_accuracy: 0.7326 - lr: 3.0000e-05\n",
            "Epoch 29/100\n",
            "197/197 [==============================] - 69s 352ms/step - loss: 0.6788 - accuracy: 0.8188 - val_loss: 0.9296 - val_accuracy: 0.7223 - lr: 3.0000e-05\n",
            "Epoch 30/100\n",
            "197/197 [==============================] - 71s 361ms/step - loss: 0.6461 - accuracy: 0.8204 - val_loss: 0.9167 - val_accuracy: 0.7493 - lr: 3.0000e-05\n",
            "Epoch 31/100\n",
            "197/197 [==============================] - 70s 358ms/step - loss: 0.6618 - accuracy: 0.8211 - val_loss: 0.9009 - val_accuracy: 0.7744 - lr: 3.0000e-05\n",
            "Epoch 32/100\n",
            "197/197 [==============================] - 71s 359ms/step - loss: 0.6491 - accuracy: 0.8215 - val_loss: 0.8860 - val_accuracy: 0.7581 - lr: 3.0000e-05\n",
            "Epoch 33/100\n",
            "197/197 [==============================] - 69s 348ms/step - loss: 0.6273 - accuracy: 0.8274 - val_loss: 0.8912 - val_accuracy: 0.7437 - lr: 3.0000e-05\n",
            "Epoch 34/100\n",
            "197/197 [==============================] - 70s 354ms/step - loss: 0.6063 - accuracy: 0.8387 - val_loss: 0.8985 - val_accuracy: 0.7489 - lr: 3.0000e-05\n",
            "Epoch 35/100\n",
            "197/197 [==============================] - 69s 352ms/step - loss: 0.6122 - accuracy: 0.8303 - val_loss: 0.9472 - val_accuracy: 0.7681 - lr: 3.0000e-05\n",
            "Epoch 36/100\n",
            "197/197 [==============================] - 69s 350ms/step - loss: 0.5954 - accuracy: 0.8407 - val_loss: 0.8712 - val_accuracy: 0.7692 - lr: 3.0000e-05\n",
            "Epoch 37/100\n",
            "197/197 [==============================] - 68s 347ms/step - loss: 0.5819 - accuracy: 0.8450 - val_loss: 0.8659 - val_accuracy: 0.7389 - lr: 3.0000e-05\n",
            "Epoch 38/100\n",
            "197/197 [==============================] - 69s 349ms/step - loss: 0.5637 - accuracy: 0.8494 - val_loss: 0.8644 - val_accuracy: 0.7851 - lr: 3.0000e-05\n",
            "Epoch 39/100\n",
            "197/197 [==============================] - 70s 356ms/step - loss: 0.5491 - accuracy: 0.8542 - val_loss: 0.8641 - val_accuracy: 0.7903 - lr: 3.0000e-05\n",
            "Epoch 40/100\n",
            "197/197 [==============================] - 69s 350ms/step - loss: 0.5503 - accuracy: 0.8585 - val_loss: 0.8827 - val_accuracy: 0.7611 - lr: 3.0000e-05\n",
            "Epoch 41/100\n",
            "197/197 [==============================] - 68s 345ms/step - loss: 0.5450 - accuracy: 0.8596 - val_loss: 0.9225 - val_accuracy: 0.7493 - lr: 3.0000e-05\n",
            "Epoch 42/100\n",
            "197/197 [==============================] - 69s 351ms/step - loss: 0.5390 - accuracy: 0.8538 - val_loss: 0.8631 - val_accuracy: 0.7744 - lr: 3.0000e-05\n",
            "Epoch 43/100\n",
            "197/197 [==============================] - 68s 348ms/step - loss: 0.5168 - accuracy: 0.8661 - val_loss: 0.8963 - val_accuracy: 0.7515 - lr: 3.0000e-05\n",
            "Epoch 44/100\n",
            "197/197 [==============================] - 69s 348ms/step - loss: 0.5117 - accuracy: 0.8669 - val_loss: 0.8941 - val_accuracy: 0.7711 - lr: 3.0000e-05\n",
            "Epoch 45/100\n",
            "197/197 [==============================] - 69s 351ms/step - loss: 0.4979 - accuracy: 0.8723 - val_loss: 0.8738 - val_accuracy: 0.7888 - lr: 3.0000e-05\n",
            "Epoch 46/100\n",
            "197/197 [==============================] - 68s 347ms/step - loss: 0.5119 - accuracy: 0.8666 - val_loss: 0.8773 - val_accuracy: 0.7933 - lr: 3.0000e-05\n",
            "Epoch 47/100\n",
            "197/197 [==============================] - 68s 345ms/step - loss: 0.4866 - accuracy: 0.8784 - val_loss: 0.8632 - val_accuracy: 0.7918 - lr: 3.0000e-05\n",
            "Epoch 48/100\n",
            "197/197 [==============================] - 72s 366ms/step - loss: 0.4671 - accuracy: 0.8796 - val_loss: 0.8736 - val_accuracy: 0.7533 - lr: 3.0000e-05\n",
            "Epoch 49/100\n",
            "197/197 [==============================] - 71s 361ms/step - loss: 0.4757 - accuracy: 0.8799 - val_loss: 0.8976 - val_accuracy: 0.7703 - lr: 3.0000e-05\n",
            "Epoch 50/100\n",
            "197/197 [==============================] - 70s 355ms/step - loss: 0.4647 - accuracy: 0.8826 - val_loss: 0.8516 - val_accuracy: 0.7907 - lr: 3.0000e-05\n",
            "Epoch 51/100\n",
            "197/197 [==============================] - 71s 361ms/step - loss: 0.4521 - accuracy: 0.8869 - val_loss: 0.8275 - val_accuracy: 0.7648 - lr: 3.0000e-05\n",
            "Epoch 52/100\n",
            "197/197 [==============================] - 68s 346ms/step - loss: 0.4560 - accuracy: 0.8871 - val_loss: 0.9159 - val_accuracy: 0.7759 - lr: 3.0000e-05\n",
            "Epoch 53/100\n",
            "197/197 [==============================] - 68s 347ms/step - loss: 0.4399 - accuracy: 0.8872 - val_loss: 0.9293 - val_accuracy: 0.8088 - lr: 3.0000e-05\n",
            "Epoch 54/100\n",
            "197/197 [==============================] - 69s 348ms/step - loss: 0.4363 - accuracy: 0.8917 - val_loss: 0.8911 - val_accuracy: 0.7515 - lr: 3.0000e-05\n",
            "Epoch 55/100\n",
            "197/197 [==============================] - 68s 345ms/step - loss: 0.4343 - accuracy: 0.8920 - val_loss: 0.8891 - val_accuracy: 0.7714 - lr: 3.0000e-05\n",
            "Epoch 56/100\n",
            "197/197 [==============================] - 68s 343ms/step - loss: 0.4305 - accuracy: 0.8976 - val_loss: 0.8290 - val_accuracy: 0.7807 - lr: 3.0000e-05\n",
            "Epoch 57/100\n",
            "197/197 [==============================] - 68s 345ms/step - loss: 0.4009 - accuracy: 0.9064 - val_loss: 0.8731 - val_accuracy: 0.7896 - lr: 3.0000e-05\n",
            "Epoch 58/100\n",
            "197/197 [==============================] - 68s 347ms/step - loss: 0.4086 - accuracy: 0.9007 - val_loss: 0.9053 - val_accuracy: 0.8014 - lr: 3.0000e-05\n",
            "Epoch 59/100\n",
            "197/197 [==============================] - 67s 340ms/step - loss: 0.3994 - accuracy: 0.9002 - val_loss: 0.8951 - val_accuracy: 0.7914 - lr: 3.0000e-05\n",
            "Epoch 60/100\n",
            "197/197 [==============================] - 68s 347ms/step - loss: 0.4027 - accuracy: 0.9043 - val_loss: 0.9185 - val_accuracy: 0.8210 - lr: 3.0000e-05\n",
            "Epoch 61/100\n",
            "197/197 [==============================] - ETA: 0s - loss: 0.3879 - accuracy: 0.9110\n",
            "Epoch 00061: ReduceLROnPlateau reducing learning rate to 1e-05.\n",
            "197/197 [==============================] - 72s 363ms/step - loss: 0.3879 - accuracy: 0.9110 - val_loss: 0.8574 - val_accuracy: 0.8062 - lr: 3.0000e-05\n"
          ],
          "name": "stdout"
        }
      ]
    },
    {
      "cell_type": "code",
      "metadata": {
        "id": "N9RL6SLlNLyd",
        "colab_type": "code",
        "colab": {
          "base_uri": "https://localhost:8080/",
          "height": 295
        },
        "outputId": "e7c0d2bf-c1ec-4b91-cf97-3887db6ec727"
      },
      "source": [
        "plt.plot(history.history['accuracy'])\n",
        "plt.plot(history.history['val_accuracy'])\n",
        "plt.ylabel('accuracy')\n",
        "plt.xlabel('epoch')\n",
        "plt.legend(['train', 'val'], loc='upper left')\n",
        "plt.title('accuracy')\n",
        "plt.show()"
      ],
      "execution_count": 29,
      "outputs": [
        {
          "output_type": "display_data",
          "data": {
            "image/png": "[encoded data removed]",
            "text/plain": [
              "<Figure size 432x288 with 1 Axes>"
            ]
          },
          "metadata": {
            "tags": [],
            "needs_background": "light"
          }
        }
      ]
    },
    {
      "cell_type": "code",
      "metadata": {
        "id": "LC2uf3eMNMEM",
        "colab_type": "code",
        "colab": {
          "base_uri": "https://localhost:8080/",
          "height": 295
        },
        "outputId": "5e144c13-b576-4e32-897d-87d9cbde4b62"
      },
      "source": [
        "plt.plot(history.history['loss'])\n",
        "plt.plot(history.history['val_loss'])\n",
        "plt.ylabel('loss')\n",
        "plt.xlabel('epoch')\n",
        "plt.legend(['train', 'val'], loc='upper left')\n",
        "plt.title('loss')\n",
        "plt.show()"
      ],
      "execution_count": 31,
      "outputs": [
        {
          "output_type": "display_data",
          "data": {
            "image/png": "[encoded data removed]",
            "text/plain": [
              "<Figure size 432x288 with 1 Axes>"
            ]
          },
          "metadata": {
            "tags": [],
            "needs_background": "light"
          }
        }
      ]
    },
    {
      "cell_type": "code",
      "metadata": {
        "id": "pgifWKUSoxGt",
        "colab_type": "code",
        "colab": {
          "base_uri": "https://localhost:8080/",
          "height": 35
        },
        "outputId": "aa21585d-aa79-4237-9362-b507c0124d2c"
      },
      "source": [
        "y_pred = np.argmax(model.predict(x_test), axis=1)\n",
        "print('balanced acc on test set:', balanced_accuracy_score(y_true=y_test, y_pred=y_pred))"
      ],
      "execution_count": 27,
      "outputs": [
        {
          "output_type": "stream",
          "text": [
            "balanced acc on test set: 0.7167527483920627\n"
          ],
          "name": "stdout"
        }
      ]
    },
    {
      "cell_type": "code",
      "metadata": {
        "id": "J49K2Fh2MIpQ",
        "colab_type": "code",
        "colab": {
          "base_uri": "https://localhost:8080/",
          "height": 259
        },
        "outputId": "9baba51a-f738-4169-d699-b77e1e8e0b2f"
      },
      "source": [
        "report = classification_report(y_true=y_test, y_pred=y_pred, target_names=label_names)\n",
        "print(report)"
      ],
      "execution_count": 28,
      "outputs": [
        {
          "output_type": "stream",
          "text": [
            "              precision    recall  f1-score   support\n",
            "\n",
            "       akiec       0.53      0.55      0.54        33\n",
            "         bcc       0.68      0.78      0.73        41\n",
            "         bkl       0.54      0.60      0.57        99\n",
            "          df       0.52      0.85      0.65        13\n",
            "         mel       0.47      0.70      0.56       118\n",
            "          nv       0.95      0.84      0.89       681\n",
            "        vasc       0.92      0.71      0.80        17\n",
            "\n",
            "    accuracy                           0.79      1002\n",
            "   macro avg       0.66      0.72      0.68      1002\n",
            "weighted avg       0.82      0.79      0.80      1002\n",
            "\n"
          ],
          "name": "stdout"
        }
      ]
    },
    {
      "cell_type": "code",
      "metadata": {
        "id": "HvZrWiU-MsyC",
        "colab_type": "code",
        "colab": {}
      },
      "source": [
        "cm = (confusion_matrix(y_true=y_test, y_pred=y_pred))\n",
        "\n",
        "plot_confusion_matrix(cm, label_names)"
      ],
      "execution_count": 0,
      "outputs": []
    }
  ]
}