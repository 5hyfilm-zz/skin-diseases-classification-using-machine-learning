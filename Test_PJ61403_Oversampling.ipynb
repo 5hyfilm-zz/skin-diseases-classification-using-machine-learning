{
  "nbformat": 4,
  "nbformat_minor": 0,
  "metadata": {
    "colab": {
      "name": "Test_PJ61403_Oversampling.ipynb",
      "provenance": [],
      "collapsed_sections": [],
      "toc_visible": true,
      "include_colab_link": true
    },
    "kernelspec": {
      "name": "python3",
      "display_name": "Python 3"
    }
  },
  "cells": [
    {
      "cell_type": "markdown",
      "metadata": {
        "id": "view-in-github",
        "colab_type": "text"
      },
      "source": [
        "<a href=\"https://colab.research.google.com/github/fxlmer/Skin-Diseases-Classification-Using-Machine-Learning/blob/master/Test_PJ61403_Oversampling.ipynb\" target=\"_parent\"><img src=\"https://colab.research.google.com/assets/colab-badge.svg\" alt=\"Open In Colab\"/></a>"
      ]
    },
    {
      "cell_type": "code",
      "metadata": {
        "id": "QBd1Jl73kFzZ",
        "colab": {
          "base_uri": "https://localhost:8080/"
        },
        "outputId": "ac481f9d-35be-4235-d31a-d9c179be1ca4"
      },
      "source": [
        "import tensorflow as tf\n",
        "from tensorflow import keras\n",
        "from tensorflow.keras import backend as K\n",
        "from tensorflow.keras import models\n",
        "from tensorflow.keras.models import Sequential, Model\n",
        "from tensorflow.keras.layers import Conv2D, MaxPooling2D, Dense, Dropout, Activation, Flatten, BatchNormalization, GlobalAveragePooling2D\n",
        "from tensorflow.keras.preprocessing import image\n",
        "from tensorflow.keras.preprocessing.image import ImageDataGenerator, load_img, img_to_array\n",
        "from tensorflow.keras.applications.imagenet_utils import preprocess_input\n",
        "from tensorflow.keras.optimizers import Adam\n",
        "from tensorflow.keras.callbacks import ModelCheckpoint, EarlyStopping, ReduceLROnPlateau\n",
        "from tensorflow.keras import regularizers\n",
        "from tensorflow.keras.utils import Sequence\n",
        "from imblearn.over_sampling import RandomOverSampler\n",
        "from imblearn.keras import balanced_batch_generator\n",
        "\n",
        "from sklearn.model_selection import train_test_split\n",
        "from sklearn.utils import class_weight, compute_sample_weight, compute_class_weight\n",
        "from sklearn.metrics import balanced_accuracy_score, classification_report, confusion_matrix\n",
        "\n",
        "import pandas as pd\n",
        "import numpy as np\n",
        "import os\n",
        "import math\n",
        "import itertools\n",
        "from PIL import Image\n",
        "from matplotlib import pyplot as plt\n",
        "\n",
        "from pj61403_utils_functions_Ver2 import *"
      ],
      "execution_count": 1,
      "outputs": [
        {
          "output_type": "stream",
          "text": [
            "/usr/local/lib/python3.7/dist-packages/sklearn/externals/six.py:31: FutureWarning: The module is deprecated in version 0.21 and will be removed in version 0.23 since we've dropped support for Python 2.7. Please rely on the official version of six (https://pypi.org/project/six/).\n",
            "  \"(https://pypi.org/project/six/).\", FutureWarning)\n",
            "/usr/local/lib/python3.7/dist-packages/sklearn/utils/deprecation.py:144: FutureWarning: The sklearn.neighbors.base module is  deprecated in version 0.22 and will be removed in version 0.24. The corresponding classes / functions should instead be imported from sklearn.neighbors. Anything that cannot be imported from sklearn.neighbors is now part of the private API.\n",
            "  warnings.warn(message, FutureWarning)\n",
            "/usr/local/lib/python3.7/dist-packages/sklearn/utils/deprecation.py:144: FutureWarning: The sklearn.utils.testing module is  deprecated in version 0.22 and will be removed in version 0.24. The corresponding classes / functions should instead be imported from sklearn.utils. Anything that cannot be imported from sklearn.utils is now part of the private API.\n",
            "  warnings.warn(message, FutureWarning)\n"
          ],
          "name": "stderr"
        }
      ]
    },
    {
      "cell_type": "code",
      "metadata": {
        "id": "mqt7eqnQmR7g"
      },
      "source": [
        "IMG_WIDTH = 224\n",
        "IMG_HEIGHT = 224\n",
        "EPOCHS = 100\n",
        "BATCH_SIZE = 32\n",
        "NUM_CLASSES = 4"
      ],
      "execution_count": 2,
      "outputs": []
    },
    {
      "cell_type": "code",
      "metadata": {
        "colab": {
          "base_uri": "https://localhost:8080/"
        },
        "id": "8MRY5CMomUEh",
        "outputId": "533f83d0-8f16-4249-a7be-7e1ff869fd53"
      },
      "source": [
        "!git clone https://github.com/EvilPickle-PCSHSPT/PJ61403_DATA_split_50-25-25"
      ],
      "execution_count": 3,
      "outputs": [
        {
          "output_type": "stream",
          "text": [
            "Cloning into 'PJ61403_DATA_split_50-25-25'...\n",
            "remote: Enumerating objects: 4366, done.\u001b[K\n",
            "remote: Total 4366 (delta 0), reused 0 (delta 0), pack-reused 4366\u001b[K\n",
            "Receiving objects: 100% (4366/4366), 167.13 MiB | 23.77 MiB/s, done.\n",
            "Resolving deltas: 100% (284/284), done.\n",
            "Checking out files: 100% (5061/5061), done.\n"
          ],
          "name": "stdout"
        }
      ]
    },
    {
      "cell_type": "code",
      "metadata": {
        "colab": {
          "base_uri": "https://localhost:8080/"
        },
        "id": "30OSQN2U0oET",
        "outputId": "4e5bc29b-4b8a-4420-bb9c-f1cafe6e4091"
      },
      "source": [
        "!git clone https://github.com/fxlmer/Skin-Diseases-Classification-Using-Machine-Learning"
      ],
      "execution_count": 4,
      "outputs": [
        {
          "output_type": "stream",
          "text": [
            "Cloning into 'Skin-Diseases-Classification-Using-Machine-Learning'...\n",
            "remote: Enumerating objects: 3, done.\u001b[K\n",
            "remote: Counting objects: 100% (3/3), done.\u001b[K\n",
            "remote: Compressing objects: 100% (3/3), done.\u001b[K\n",
            "remote: Total 1481 (delta 0), reused 0 (delta 0), pack-reused 1478\u001b[K\n",
            "Receiving objects: 100% (1481/1481), 1013.55 MiB | 32.80 MiB/s, done.\n",
            "Resolving deltas: 100% (866/866), done.\n",
            "Checking out files: 100% (196/196), done.\n"
          ],
          "name": "stdout"
        }
      ]
    },
    {
      "cell_type": "code",
      "metadata": {
        "id": "p0jKyG_smXCc"
      },
      "source": [
        "test_path = '/content/PJ61403_DATA_split_50-25-25/crop_split_classes_data/test'"
      ],
      "execution_count": 5,
      "outputs": []
    },
    {
      "cell_type": "code",
      "metadata": {
        "id": "yxasupOjmXSO"
      },
      "source": [
        "test_aug = ImageDataGenerator(rescale=1./255)"
      ],
      "execution_count": 6,
      "outputs": []
    },
    {
      "cell_type": "code",
      "metadata": {
        "colab": {
          "base_uri": "https://localhost:8080/"
        },
        "id": "PTBk_fuMmZHz",
        "outputId": "2c6a7627-6f24-42f8-dab5-e572d27ee863"
      },
      "source": [
        "test_generator = test_aug.flow_from_directory(test_path, \n",
        "                                               target_size=(IMG_WIDTH, IMG_HEIGHT), \n",
        "                                               batch_size=1, \n",
        "                                               shuffle=False,\n",
        "                                               class_mode=None)"
      ],
      "execution_count": 7,
      "outputs": [
        {
          "output_type": "stream",
          "text": [
            "Found 63 images belonging to 4 classes.\n"
          ],
          "name": "stdout"
        }
      ]
    },
    {
      "cell_type": "code",
      "metadata": {
        "id": "AnXk-dqWmak2"
      },
      "source": [
        "model = tf.keras.models.load_model('/content/Skin-Diseases-Classification-Using-Machine-Learning/PJ61403_work/model/OS/pj61403_model_OS1.h5')"
      ],
      "execution_count": 8,
      "outputs": []
    },
    {
      "cell_type": "code",
      "metadata": {
        "id": "OaYh9tyHmj7l"
      },
      "source": [
        "num_test_files = len(test_generator.filenames)"
      ],
      "execution_count": 9,
      "outputs": []
    },
    {
      "cell_type": "code",
      "metadata": {
        "id": "t5aqD-RCmluV"
      },
      "source": [
        "test_generator.reset()"
      ],
      "execution_count": 10,
      "outputs": []
    },
    {
      "cell_type": "code",
      "metadata": {
        "id": "bar0EAN_mm-p"
      },
      "source": [
        "test_labels = test_generator.classes\n",
        "predictions = model.predict(test_generator, steps=num_test_files//test_generator.batch_size)"
      ],
      "execution_count": 11,
      "outputs": []
    },
    {
      "cell_type": "code",
      "metadata": {
        "colab": {
          "base_uri": "https://localhost:8080/",
          "height": 382
        },
        "id": "ODkakCA5moKq",
        "outputId": "f84d0c5a-90d9-483d-c495-6608ec41ebd6"
      },
      "source": [
        "cm = confusion_matrix(test_labels, predictions.argmax(axis=1))\n",
        "\n",
        "classes_names = ['ad', 'nm', 'ps', 'sk']\n",
        "\n",
        "plot_confusion_matrix(cm, classes_names, False)"
      ],
      "execution_count": 12,
      "outputs": [
        {
          "output_type": "stream",
          "text": [
            "Confusion matrix, without normalization\n",
            "[[15  2  0  0]\n",
            " [ 0 15  0  0]\n",
            " [ 0  2 14  0]\n",
            " [ 1  0  0 14]]\n"
          ],
          "name": "stdout"
        },
        {
          "output_type": "display_data",
          "data": {
            "image/png": "[encoded data removed]",
            "text/plain": [
              "<Figure size 432x288 with 2 Axes>"
            ]
          },
          "metadata": {
            "tags": [],
            "needs_background": "light"
          }
        }
      ]
    },
    {
      "cell_type": "code",
      "metadata": {
        "colab": {
          "base_uri": "https://localhost:8080/",
          "height": 382
        },
        "id": "POeUpeFYmrbV",
        "outputId": "7e03fd03-4519-4122-c31a-6b24d7357b39"
      },
      "source": [
        "plot_confusion_matrix(cm, classes_names, True)"
      ],
      "execution_count": 13,
      "outputs": [
        {
          "output_type": "stream",
          "text": [
            "Normalized confusion matrix\n",
            "[[0.88235294 0.11764706 0.         0.        ]\n",
            " [0.         1.         0.         0.        ]\n",
            " [0.         0.125      0.875      0.        ]\n",
            " [0.06666667 0.         0.         0.93333333]]\n"
          ],
          "name": "stdout"
        },
        {
          "output_type": "display_data",
          "data": {
            "image/png": "[encoded data removed]",
            "text/plain": [
              "<Figure size 432x288 with 2 Axes>"
            ]
          },
          "metadata": {
            "tags": [],
            "needs_background": "light"
          }
        }
      ]
    },
    {
      "cell_type": "code",
      "metadata": {
        "colab": {
          "base_uri": "https://localhost:8080/"
        },
        "id": "2KqlqWvxmsnZ",
        "outputId": "c7ceb807-7b68-41aa-93c6-5ecff6478ebf"
      },
      "source": [
        "y_pred = np.argmax(predictions, axis=1)\n",
        "print('Confusion Matrix')\n",
        "print(confusion_matrix(test_labels, y_pred))\n",
        "print('Classification Report')\n",
        "print(classification_report(test_labels, y_pred, target_names=classes_names))"
      ],
      "execution_count": 14,
      "outputs": [
        {
          "output_type": "stream",
          "text": [
            "Confusion Matrix\n",
            "[[15  2  0  0]\n",
            " [ 0 15  0  0]\n",
            " [ 0  2 14  0]\n",
            " [ 1  0  0 14]]\n",
            "Classification Report\n",
            "              precision    recall  f1-score   support\n",
            "\n",
            "          ad       0.94      0.88      0.91        17\n",
            "          nm       0.79      1.00      0.88        15\n",
            "          ps       1.00      0.88      0.93        16\n",
            "          sk       1.00      0.93      0.97        15\n",
            "\n",
            "    accuracy                           0.92        63\n",
            "   macro avg       0.93      0.92      0.92        63\n",
            "weighted avg       0.93      0.92      0.92        63\n",
            "\n"
          ],
          "name": "stdout"
        }
      ]
    },
    {
      "cell_type": "code",
      "metadata": {
        "id": "bsx4-OCEmtxT"
      },
      "source": [
        "cm_2 = confusion_matrix(test_labels, y_pred)"
      ],
      "execution_count": 15,
      "outputs": []
    },
    {
      "cell_type": "markdown",
      "metadata": {
        "id": "b9udRl1Qrx29"
      },
      "source": [
        "### True Positive"
      ]
    },
    {
      "cell_type": "code",
      "metadata": {
        "id": "doPfU8dDq5Mc"
      },
      "source": [
        "TruePositive= np.diag(cm_2)"
      ],
      "execution_count": 16,
      "outputs": []
    },
    {
      "cell_type": "code",
      "metadata": {
        "colab": {
          "base_uri": "https://localhost:8080/"
        },
        "id": "q03sExsiq611",
        "outputId": "dd6e93fd-22d8-4a51-f512-da3da4b178bf"
      },
      "source": [
        "print(TruePositive)\n",
        "sumTruePositive = sum(TruePositive)\n",
        "print('Sum of True Positive: ', sumTruePositive)"
      ],
      "execution_count": 17,
      "outputs": [
        {
          "output_type": "stream",
          "text": [
            "[15 15 14 14]\n",
            "Sum of True Positive:  58\n"
          ],
          "name": "stdout"
        }
      ]
    },
    {
      "cell_type": "markdown",
      "metadata": {
        "id": "yyrPwhXbr_wJ"
      },
      "source": [
        "### False Positive"
      ]
    },
    {
      "cell_type": "code",
      "metadata": {
        "id": "kAd3kGP5q8tx"
      },
      "source": [
        "FalsePositive = []\n",
        "for i in range(NUM_CLASSES):\n",
        "    FalsePositive.append(sum(cm_2[:,i]) - cm_2[i,i])"
      ],
      "execution_count": 18,
      "outputs": []
    },
    {
      "cell_type": "code",
      "metadata": {
        "colab": {
          "base_uri": "https://localhost:8080/"
        },
        "id": "3XrClIMRq_D2",
        "outputId": "417f9153-4f1a-4993-b4f4-3fa3353bde25"
      },
      "source": [
        "print(FalsePositive)\n",
        "sumFalsePositive = sum(FalsePositive)\n",
        "print('Sum of False Positive: ', sumFalsePositive)"
      ],
      "execution_count": 19,
      "outputs": [
        {
          "output_type": "stream",
          "text": [
            "[1, 4, 0, 0]\n",
            "Sum of False Positive:  5\n"
          ],
          "name": "stdout"
        }
      ]
    },
    {
      "cell_type": "markdown",
      "metadata": {
        "id": "ZYkm-Oftrsrp"
      },
      "source": [
        "### False Negative"
      ]
    },
    {
      "cell_type": "code",
      "metadata": {
        "id": "6wJa_P2GrpRh"
      },
      "source": [
        "FalseNegative = []\n",
        "for i in range(NUM_CLASSES):\n",
        "    FalseNegative.append(sum(cm_2[i,:]) - cm_2[i,i])"
      ],
      "execution_count": 20,
      "outputs": []
    },
    {
      "cell_type": "code",
      "metadata": {
        "colab": {
          "base_uri": "https://localhost:8080/"
        },
        "id": "8mE2Z-D9rr-B",
        "outputId": "f397c8ec-bea4-4183-9c8b-a98934629ef0"
      },
      "source": [
        "print(FalseNegative)\n",
        "sumFalseNegative = sum(FalseNegative)\n",
        "print('Sum of False Negative: ', sumFalseNegative)"
      ],
      "execution_count": 21,
      "outputs": [
        {
          "output_type": "stream",
          "text": [
            "[2, 0, 2, 1]\n",
            "Sum of False Negative:  5\n"
          ],
          "name": "stdout"
        }
      ]
    },
    {
      "cell_type": "markdown",
      "metadata": {
        "id": "T70d2v6osFSh"
      },
      "source": [
        "### True Negative"
      ]
    },
    {
      "cell_type": "code",
      "metadata": {
        "id": "Cyj6la14sET5"
      },
      "source": [
        "TrueNegative = []\n",
        "for i in range(NUM_CLASSES):\n",
        "    temp = np.delete(cm_2, i, 0)   # delete ith row\n",
        "    temp = np.delete(temp, i, 1)  # delete ith column\n",
        "    TrueNegative.append(sum(sum(temp)))"
      ],
      "execution_count": 22,
      "outputs": []
    },
    {
      "cell_type": "code",
      "metadata": {
        "colab": {
          "base_uri": "https://localhost:8080/"
        },
        "id": "iClrVHvisIGo",
        "outputId": "4815466e-b77c-431c-84de-98ca51b2fee4"
      },
      "source": [
        "print(TrueNegative)\n",
        "sumTrueNegative = sum(TrueNegative)\n",
        "print('Sum of True Negative: ', sumTrueNegative)"
      ],
      "execution_count": 23,
      "outputs": [
        {
          "output_type": "stream",
          "text": [
            "[45, 44, 47, 48]\n",
            "Sum of True Negative:  184\n"
          ],
          "name": "stdout"
        }
      ]
    },
    {
      "cell_type": "markdown",
      "metadata": {
        "id": "cQ34JXSwsKXA"
      },
      "source": [
        "### Check TP + FP + FN + TN = Test set"
      ]
    },
    {
      "cell_type": "code",
      "metadata": {
        "colab": {
          "base_uri": "https://localhost:8080/"
        },
        "id": "k_GcIagosJ4a",
        "outputId": "4b539427-93e5-44a5-9c39-17a053e3e005"
      },
      "source": [
        "l = len(test_labels)\n",
        "for i in range(NUM_CLASSES):\n",
        "    print(TruePositive[i] + FalsePositive[i] + FalseNegative[i] + TrueNegative[i] == l)"
      ],
      "execution_count": 24,
      "outputs": [
        {
          "output_type": "stream",
          "text": [
            "True\n",
            "True\n",
            "True\n",
            "True\n"
          ],
          "name": "stdout"
        }
      ]
    },
    {
      "cell_type": "code",
      "metadata": {
        "colab": {
          "base_uri": "https://localhost:8080/"
        },
        "id": "6S09mN4KsOK2",
        "outputId": "5a22f774-dd64-46d4-f92d-593867d09ff2"
      },
      "source": [
        "!pip3 install pycm==3.0"
      ],
      "execution_count": 25,
      "outputs": [
        {
          "output_type": "stream",
          "text": [
            "Collecting pycm==3.0\n",
            "\u001b[?25l  Downloading https://files.pythonhosted.org/packages/07/e0/de92301a06bf5e2d24e04edc178ee457b49dbad2606c3252949222110f4d/pycm-3.0-py2.py3-none-any.whl (61kB)\n",
            "\r\u001b[K     |█████▎                          | 10kB 12.4MB/s eta 0:00:01\r\u001b[K     |██████████▋                     | 20kB 10.8MB/s eta 0:00:01\r\u001b[K     |███████████████▉                | 30kB 7.4MB/s eta 0:00:01\r\u001b[K     |█████████████████████▏          | 40kB 6.5MB/s eta 0:00:01\r\u001b[K     |██████████████████████████▌     | 51kB 3.6MB/s eta 0:00:01\r\u001b[K     |███████████████████████████████▊| 61kB 4.2MB/s eta 0:00:01\r\u001b[K     |████████████████████████████████| 71kB 3.1MB/s \n",
            "\u001b[?25hRequirement already satisfied: numpy>=1.9.0 in /usr/local/lib/python3.7/dist-packages (from pycm==3.0) (1.19.5)\n",
            "Collecting art>=1.8\n",
            "\u001b[?25l  Downloading https://files.pythonhosted.org/packages/83/37/c28d69ba1005889e8ff9633b8e7eccaaddc03549058a51ef5f51853cf183/art-5.1-py2.py3-none-any.whl (567kB)\n",
            "\u001b[K     |████████████████████████████████| 573kB 5.8MB/s \n",
            "\u001b[?25hInstalling collected packages: art, pycm\n",
            "Successfully installed art-5.1 pycm-3.0\n"
          ],
          "name": "stdout"
        }
      ]
    },
    {
      "cell_type": "code",
      "metadata": {
        "id": "AlcvdAUnsQDJ"
      },
      "source": [
        "from pycm import *"
      ],
      "execution_count": 26,
      "outputs": []
    },
    {
      "cell_type": "code",
      "metadata": {
        "id": "efdOYlPxsS_Y"
      },
      "source": [
        "py_cm = ConfusionMatrix(actual_vector=test_labels, predict_vector=y_pred)"
      ],
      "execution_count": 27,
      "outputs": []
    },
    {
      "cell_type": "code",
      "metadata": {
        "colab": {
          "base_uri": "https://localhost:8080/"
        },
        "id": "TtONbYMLtT1W",
        "outputId": "3e5e0e3d-eb40-4c7e-ac09-abdbbf853ccb"
      },
      "source": [
        "print(py_cm)"
      ],
      "execution_count": 28,
      "outputs": [
        {
          "output_type": "stream",
          "text": [
            "Predict  0        1        2        3        \n",
            "Actual\n",
            "0        15       2        0        0        \n",
            "\n",
            "1        0        15       0        0        \n",
            "\n",
            "2        0        2        14       0        \n",
            "\n",
            "3        1        0        0        14       \n",
            "\n",
            "\n",
            "\n",
            "\n",
            "\n",
            "Overall Statistics : \n",
            "\n",
            "95% CI                                                            (0.85389,0.98738)\n",
            "ACC Macro                                                         0.96032\n",
            "ARI                                                               0.7883\n",
            "AUNP                                                              0.94746\n",
            "AUNU                                                              0.9482\n",
            "Bangdiwala B                                                      0.84965\n",
            "Bennett S                                                         0.89418\n",
            "CBA                                                               0.87004\n",
            "CSI                                                               0.85441\n",
            "Chi-Squared                                                       154.64745\n",
            "Chi-Squared DF                                                    9\n",
            "Conditional Entropy                                               0.36319\n",
            "Cramer V                                                          0.90457\n",
            "Cross Entropy                                                     2.01304\n",
            "F1 Macro                                                          0.92257\n",
            "F1 Micro                                                          0.92063\n",
            "FNR Macro                                                         0.07733\n",
            "FNR Micro                                                         0.07937\n",
            "FPR Macro                                                         0.02627\n",
            "FPR Micro                                                         0.02646\n",
            "Gwet AC1                                                          0.89423\n",
            "Hamming Loss                                                      0.07937\n",
            "Joint Entropy                                                     2.36121\n",
            "KL Divergence                                                     0.01503\n",
            "Kappa                                                             0.89422\n",
            "Kappa 95% CI                                                      (0.80526,0.98319)\n",
            "Kappa No Prevalence                                               0.84127\n",
            "Kappa Standard Error                                              0.04539\n",
            "Kappa Unbiased                                                    0.89403\n",
            "Krippendorff Alpha                                                0.89487\n",
            "Lambda A                                                          0.8913\n",
            "Lambda B                                                          0.88636\n",
            "Mutual Information                                                1.62494\n",
            "NIR                                                               0.26984\n",
            "Overall ACC                                                       0.92063\n",
            "Overall CEN                                                       0.12943\n",
            "Overall J                                                         (3.43114,0.85779)\n",
            "Overall MCC                                                       0.89754\n",
            "Overall MCEN                                                      0.19006\n",
            "Overall RACC                                                      0.24969\n",
            "Overall RACCU                                                     0.25107\n",
            "P-Value                                                           -0.0\n",
            "PPV Macro                                                         0.93174\n",
            "PPV Micro                                                         0.92063\n",
            "Pearson C                                                         0.84294\n",
            "Phi-Squared                                                       2.45472\n",
            "RCI                                                               0.81328\n",
            "RR                                                                15.75\n",
            "Reference Entropy                                                 1.99802\n",
            "Response Entropy                                                  1.98813\n",
            "SOA1(Landis & Koch)                                               Almost Perfect\n",
            "SOA2(Fleiss)                                                      Excellent\n",
            "SOA3(Altman)                                                      Very Good\n",
            "SOA4(Cicchetti)                                                   Excellent\n",
            "SOA5(Cramer)                                                      Very Strong\n",
            "SOA6(Matthews)                                                    Strong\n",
            "Scott PI                                                          0.89403\n",
            "Standard Error                                                    0.03406\n",
            "TNR Macro                                                         0.97373\n",
            "TNR Micro                                                         0.97354\n",
            "TPR Macro                                                         0.92267\n",
            "TPR Micro                                                         0.92063\n",
            "Zero-one Loss                                                     5\n",
            "\n",
            "Class Statistics :\n",
            "\n",
            "Classes                                                           0             1             2             3             \n",
            "ACC(Accuracy)                                                     0.95238       0.93651       0.96825       0.98413       \n",
            "AGF(Adjusted F-score)                                             0.92656       0.96562       0.93161       0.96459       \n",
            "AGM(Adjusted geometric mean)                                      0.94983       0.9398        0.96301       0.98075       \n",
            "AM(Difference between automatic and manual classification)        -1            4             -2            -1            \n",
            "AUC(Area under the ROC curve)                                     0.93031       0.95833       0.9375        0.96667       \n",
            "AUCI(AUC value interpretation)                                    Excellent     Excellent     Excellent     Excellent     \n",
            "AUPR(Area under the PR curve)                                     0.90993       0.89474       0.9375        0.96667       \n",
            "BCD(Bray-Curtis dissimilarity)                                    0.00794       0.03175       0.01587       0.00794       \n",
            "BM(Informedness or bookmaker informedness)                        0.86061       0.91667       0.875         0.93333       \n",
            "CEN(Confusion entropy)                                            0.15396       0.18603       0.10076       0.0648        \n",
            "DOR(Diagnostic odds ratio)                                        337.5         None          None          None          \n",
            "DP(Discriminant power)                                            1.39391       None          None          None          \n",
            "DPI(Discriminant power interpretation)                            Limited       None          None          None          \n",
            "ERR(Error rate)                                                   0.04762       0.06349       0.03175       0.01587       \n",
            "F0.5(F0.5 score)                                                  0.92593       0.82418       0.97222       0.98592       \n",
            "F1(F1 score - harmonic mean of precision and sensitivity)         0.90909       0.88235       0.93333       0.96552       \n",
            "F2(F2 score)                                                      0.89286       0.94937       0.89744       0.94595       \n",
            "FDR(False discovery rate)                                         0.0625        0.21053       0.0           0.0           \n",
            "FN(False negative/miss/type 2 error)                              2             0             2             1             \n",
            "FNR(Miss rate or false negative rate)                             0.11765       0.0           0.125         0.06667       \n",
            "FOR(False omission rate)                                          0.04255       0.0           0.04082       0.02041       \n",
            "FP(False positive/type 1 error/false alarm)                       1             4             0             0             \n",
            "FPR(Fall-out or false positive rate)                              0.02174       0.08333       0.0           0.0           \n",
            "G(G-measure geometric mean of precision and sensitivity)          0.90951       0.88852       0.93541       0.96609       \n",
            "GI(Gini index)                                                    0.86061       0.91667       0.875         0.93333       \n",
            "GM(G-mean geometric mean of specificity and sensitivity)          0.92907       0.95743       0.93541       0.96609       \n",
            "IBA(Index of balanced accuracy)                                   0.78039       0.99306       0.76562       0.87111       \n",
            "ICSI(Individual classification success index)                     0.81985       0.78947       0.875         0.93333       \n",
            "IS(Information score)                                             1.79671       1.72935       1.97728       2.07039       \n",
            "J(Jaccard index)                                                  0.83333       0.78947       0.875         0.93333       \n",
            "LS(Lift score)                                                    3.47426       3.31579       3.9375        4.2           \n",
            "MCC(Matthews correlation coefficient)                             0.87761       0.8507        0.91613       0.95618       \n",
            "MCCI(Matthews correlation coefficient interpretation)             Strong        Strong        Very Strong   Very Strong   \n",
            "MCEN(Modified confusion entropy)                                  0.22587       0.26452       0.14507       0.10076       \n",
            "MK(Markedness)                                                    0.89495       0.78947       0.95918       0.97959       \n",
            "N(Condition negative)                                             46            48            47            48            \n",
            "NLR(Negative likelihood ratio)                                    0.12026       0.0           0.125         0.06667       \n",
            "NLRI(Negative likelihood ratio interpretation)                    Fair          Good          Fair          Good          \n",
            "NPV(Negative predictive value)                                    0.95745       1.0           0.95918       0.97959       \n",
            "OC(Overlap coefficient)                                           0.9375        1.0           1.0           1.0           \n",
            "OOC(Otsuka-Ochiai coefficient)                                    0.90951       0.88852       0.93541       0.96609       \n",
            "OP(Optimized precision)                                           0.90083       0.89303       0.90159       0.94964       \n",
            "P(Condition positive or support)                                  17            15            16            15            \n",
            "PLR(Positive likelihood ratio)                                    40.58824      12.0          None          None          \n",
            "PLRI(Positive likelihood ratio interpretation)                    Good          Good          None          None          \n",
            "POP(Population)                                                   63            63            63            63            \n",
            "PPV(Precision or positive predictive value)                       0.9375        0.78947       1.0           1.0           \n",
            "PRE(Prevalence)                                                   0.26984       0.2381        0.25397       0.2381        \n",
            "Q(Yule Q - coefficient of colligation)                            0.99409       None          None          None          \n",
            "QI(Yule Q interpretation)                                         Strong        None          None          None          \n",
            "RACC(Random accuracy)                                             0.06853       0.07181       0.05644       0.05291       \n",
            "RACCU(Random accuracy unbiased)                                   0.06859       0.07281       0.05669       0.05297       \n",
            "TN(True negative/correct rejection)                               45            44            47            48            \n",
            "TNR(Specificity or true negative rate)                            0.97826       0.91667       1.0           1.0           \n",
            "TON(Test outcome negative)                                        47            44            49            49            \n",
            "TOP(Test outcome positive)                                        16            19            14            14            \n",
            "TP(True positive/hit)                                             15            15            14            14            \n",
            "TPR(Sensitivity, recall, hit rate, or true positive rate)         0.88235       1.0           0.875         0.93333       \n",
            "Y(Youden index)                                                   0.86061       0.91667       0.875         0.93333       \n",
            "dInd(Distance index)                                              0.11964       0.08333       0.125         0.06667       \n",
            "sInd(Similarity index)                                            0.9154        0.94107       0.91161       0.95286       \n",
            "\n"
          ],
          "name": "stdout"
        }
      ]
    },
    {
      "cell_type": "code",
      "metadata": {
        "id": "QiSEVairsVGz"
      },
      "source": [
        "AV_AUC = (py_cm.AUC[0] + py_cm.AUC[1] + py_cm.AUC[2] + py_cm.AUC[3])/len(py_cm.AUC)"
      ],
      "execution_count": 30,
      "outputs": []
    },
    {
      "cell_type": "code",
      "metadata": {
        "id": "UBf8yB7GtRHQ",
        "colab": {
          "base_uri": "https://localhost:8080/"
        },
        "outputId": "4e036756-4478-4e9a-969f-3c9c6fcc8091"
      },
      "source": [
        "print('Average AUC: ', AV_AUC)"
      ],
      "execution_count": 31,
      "outputs": [
        {
          "output_type": "stream",
          "text": [
            "Average AUC:  0.9482017263427109\n"
          ],
          "name": "stdout"
        }
      ]
    },
    {
      "cell_type": "code",
      "metadata": {
        "id": "50TRXgDXsW4n"
      },
      "source": [
        "AV_Sens = (py_cm.TPR[0] + py_cm.TPR[1] + py_cm.TPR[2] + py_cm.TPR[3])/len(py_cm.TPR)"
      ],
      "execution_count": 33,
      "outputs": []
    },
    {
      "cell_type": "code",
      "metadata": {
        "id": "GzJuZmCetX-y",
        "colab": {
          "base_uri": "https://localhost:8080/"
        },
        "outputId": "aa34950d-b2e8-46ef-d040-bd735201f003"
      },
      "source": [
        "print('Average Sensitivity: ', AV_Sens)"
      ],
      "execution_count": 34,
      "outputs": [
        {
          "output_type": "stream",
          "text": [
            "Average Sensitivity:  0.9226715686274509\n"
          ],
          "name": "stdout"
        }
      ]
    },
    {
      "cell_type": "code",
      "metadata": {
        "id": "K576tD8NsYUt"
      },
      "source": [
        "AV_Spec = (py_cm.TNR[0] + py_cm.TNR[1] + py_cm.TNR[2] + py_cm.TNR[3])/len(py_cm.TNR)"
      ],
      "execution_count": 35,
      "outputs": []
    },
    {
      "cell_type": "code",
      "metadata": {
        "id": "zMzdTQlatZ6k",
        "colab": {
          "base_uri": "https://localhost:8080/"
        },
        "outputId": "d5f2a44e-a896-482b-8b36-5f920ba72ca1"
      },
      "source": [
        "print('Average Specificity: ', AV_Spec)"
      ],
      "execution_count": 36,
      "outputs": [
        {
          "output_type": "stream",
          "text": [
            "Average Specificity:  0.973731884057971\n"
          ],
          "name": "stdout"
        }
      ]
    }
  ]
}