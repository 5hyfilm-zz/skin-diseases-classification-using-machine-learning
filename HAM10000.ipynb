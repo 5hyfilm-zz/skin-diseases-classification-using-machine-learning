{
  "nbformat": 4,
  "nbformat_minor": 0,
  "metadata": {
    "colab": {
      "name": "HAM10000.ipynb",
      "provenance": [],
      "collapsed_sections": [],
      "toc_visible": true,
      "machine_shape": "hm",
      "authorship_tag": "ABX9TyNI5Y3AJPJI5BqaqWv3kHt5",
      "include_colab_link": true
    },
    "kernelspec": {
      "name": "python3",
      "display_name": "Python 3"
    },
    "accelerator": "GPU"
  },
  "cells": [
    {
      "cell_type": "markdown",
      "metadata": {
        "id": "view-in-github",
        "colab_type": "text"
      },
      "source": [
        "<a href=\"https://colab.research.google.com/github/filmerxyz/JSTP-22_SkinDiseaseClassificationUsingMachineLearning/blob/master/HAM10000.ipynb\" target=\"_parent\"><img src=\"https://colab.research.google.com/assets/colab-badge.svg\" alt=\"Open In Colab\"/></a>"
      ]
    },
    {
      "cell_type": "markdown",
      "metadata": {
        "id": "fe2vt1OlJbH4",
        "colab_type": "text"
      },
      "source": [
        "# Import Libraries"
      ]
    },
    {
      "cell_type": "code",
      "metadata": {
        "id": "aBwPlaezJHfO",
        "colab_type": "code",
        "colab": {
          "base_uri": "https://localhost:8080/",
          "height": 156
        },
        "outputId": "1218beeb-d35c-4e13-a337-f76672c1ae78"
      },
      "source": [
        "import tensorflow as tf\n",
        "from tensorflow import keras\n",
        "from tensorflow.keras import backend as K\n",
        "from tensorflow.keras import models\n",
        "from tensorflow.keras.models import Sequential, Model\n",
        "from tensorflow.keras.layers import Conv2D, MaxPooling2D, Dense, Dropout, Activation, Flatten, BatchNormalization, GlobalAveragePooling2D\n",
        "from tensorflow.keras.preprocessing import image\n",
        "from tensorflow.keras.preprocessing.image import ImageDataGenerator, load_img, img_to_array\n",
        "from tensorflow.keras.applications.imagenet_utils import preprocess_input\n",
        "from tensorflow.keras.optimizers import Adam\n",
        "from tensorflow.keras.callbacks import ModelCheckpoint, EarlyStopping, ReduceLROnPlateau\n",
        "from tensorflow.keras import regularizers\n",
        "from tensorflow.keras.utils import Sequence\n",
        "from imblearn.over_sampling import RandomOverSampler\n",
        "from imblearn.keras import balanced_batch_generator\n",
        "\n",
        "from sklearn.model_selection import train_test_split\n",
        "from sklearn.utils import class_weight, compute_sample_weight, compute_class_weight\n",
        "from sklearn.metrics import balanced_accuracy_score, classification_report, confusion_matrix\n",
        "\n",
        "import pandas as pd\n",
        "import numpy as np\n",
        "import os\n",
        "import math\n",
        "import itertools\n",
        "from PIL import Image\n",
        "from matplotlib import pyplot as plt"
      ],
      "execution_count": 1,
      "outputs": [
        {
          "output_type": "stream",
          "text": [
            "/usr/local/lib/python3.6/dist-packages/sklearn/externals/six.py:31: FutureWarning: The module is deprecated in version 0.21 and will be removed in version 0.23 since we've dropped support for Python 2.7. Please rely on the official version of six (https://pypi.org/project/six/).\n",
            "  \"(https://pypi.org/project/six/).\", FutureWarning)\n",
            "/usr/local/lib/python3.6/dist-packages/sklearn/utils/deprecation.py:144: FutureWarning: The sklearn.neighbors.base module is  deprecated in version 0.22 and will be removed in version 0.24. The corresponding classes / functions should instead be imported from sklearn.neighbors. Anything that cannot be imported from sklearn.neighbors is now part of the private API.\n",
            "  warnings.warn(message, FutureWarning)\n",
            "Using TensorFlow backend.\n",
            "/usr/local/lib/python3.6/dist-packages/sklearn/utils/deprecation.py:144: FutureWarning: The sklearn.utils.testing module is  deprecated in version 0.22 and will be removed in version 0.24. The corresponding classes / functions should instead be imported from sklearn.utils. Anything that cannot be imported from sklearn.utils is now part of the private API.\n",
            "  warnings.warn(message, FutureWarning)\n"
          ],
          "name": "stderr"
        }
      ]
    },
    {
      "cell_type": "code",
      "metadata": {
        "id": "qyTWFTT3KIBk",
        "colab_type": "code",
        "colab": {}
      },
      "source": [
        "IMG_WIDTH = 224\n",
        "IMG_HEIGHT = 224\n",
        "EPOCHS = 30\n",
        "BATCH_SIZE = 32\n",
        "NUM_CLASSES = 7\n",
        "\n",
        "LR = 3e-5 # Learning rate"
      ],
      "execution_count": 2,
      "outputs": []
    },
    {
      "cell_type": "markdown",
      "metadata": {
        "id": "4ZQPyocpJZ3B",
        "colab_type": "text"
      },
      "source": [
        "# Data"
      ]
    },
    {
      "cell_type": "code",
      "metadata": {
        "id": "N-Aar_ESJZSz",
        "colab_type": "code",
        "colab": {
          "base_uri": "https://localhost:8080/",
          "height": 153
        },
        "outputId": "0f1dff27-f1e5-48ad-8643-7427ad7cff09"
      },
      "source": [
        "!git clone https://github.com/filmerxyz/HAM10000_split"
      ],
      "execution_count": 3,
      "outputs": [
        {
          "output_type": "stream",
          "text": [
            "Cloning into 'HAM10000_split'...\n",
            "remote: Enumerating objects: 3, done.\u001b[K\n",
            "remote: Counting objects: 100% (3/3), done.\u001b[K\n",
            "remote: Compressing objects: 100% (3/3), done.\u001b[K\n",
            "remote: Total 10065 (delta 0), reused 1 (delta 0), pack-reused 10062\u001b[K\n",
            "Receiving objects: 100% (10065/10065), 2.57 GiB | 15.71 MiB/s, done.\n",
            "Resolving deltas: 100% (8/8), done.\n",
            "Checking out files: 100% (10021/10021), done.\n"
          ],
          "name": "stdout"
        }
      ]
    },
    {
      "cell_type": "code",
      "metadata": {
        "id": "RkIMV4oQJjXd",
        "colab_type": "code",
        "colab": {}
      },
      "source": [
        "train_path = '/content/HAM10000_split/train' \n",
        "val_path = '/content/HAM10000_split/val'\n",
        "test_path = '/content/HAM10000_split/test'"
      ],
      "execution_count": 4,
      "outputs": []
    },
    {
      "cell_type": "code",
      "metadata": {
        "id": "bXeqXRPdJj5M",
        "colab_type": "code",
        "colab": {}
      },
      "source": [
        "train_aug = ImageDataGenerator(rescale=1./255,\n",
        "                               rotation_range=360,\n",
        "                               zoom_range=0.1,\n",
        "                               width_shift_range=0.1,\n",
        "                               height_shift_range=0.1,\n",
        "                               horizontal_flip=True,\n",
        "                               vertical_flip=True,\n",
        "                               fill_mode='reflect')\n",
        "\n",
        "val_aug = ImageDataGenerator(rescale=1./255)\n",
        "\n",
        "test_aug = ImageDataGenerator(rescale=1./255)"
      ],
      "execution_count": 5,
      "outputs": []
    },
    {
      "cell_type": "code",
      "metadata": {
        "id": "VzgV5KLnJlvp",
        "colab_type": "code",
        "colab": {
          "base_uri": "https://localhost:8080/",
          "height": 68
        },
        "outputId": "e90e0b99-89d4-4717-ac37-474941293b8f"
      },
      "source": [
        "train_generator = train_aug.flow_from_directory(train_path, \n",
        "                                                target_size=(IMG_WIDTH, IMG_HEIGHT), \n",
        "                                                batch_size=BATCH_SIZE, \n",
        "                                                shuffle=True,\n",
        "                                                class_mode='categorical') \n",
        "\n",
        "val_generator = val_aug.flow_from_directory(val_path, \n",
        "                                              target_size=(IMG_WIDTH, IMG_HEIGHT), \n",
        "                                              batch_size=BATCH_SIZE, \n",
        "                                              shuffle=True,\n",
        "                                              class_mode='categorical') \n",
        "\n",
        "test_generator = test_aug.flow_from_directory(test_path, \n",
        "                                               target_size=(IMG_WIDTH, IMG_HEIGHT), \n",
        "                                               batch_size=1, \n",
        "                                               shuffle=False,\n",
        "                                               class_mode=None)"
      ],
      "execution_count": 6,
      "outputs": [
        {
          "output_type": "stream",
          "text": [
            "Found 6303 images belonging to 7 classes.\n",
            "Found 2707 images belonging to 7 classes.\n",
            "Found 1005 images belonging to 7 classes.\n"
          ],
          "name": "stdout"
        }
      ]
    },
    {
      "cell_type": "markdown",
      "metadata": {
        "id": "TVxh15kh4j3z",
        "colab_type": "text"
      },
      "source": [
        "# Model"
      ]
    },
    {
      "cell_type": "code",
      "metadata": {
        "id": "-3H06ViGJnZ_",
        "colab_type": "code",
        "colab": {}
      },
      "source": [
        "model = Sequential()\n",
        "model.add(Conv2D(32, kernel_size=(3, 3),activation='relu',padding = 'Same',input_shape=(224, 224, 3)))\n",
        "model.add(Conv2D(32,kernel_size=(3, 3), activation='relu',padding = 'Same',))\n",
        "model.add(MaxPooling2D(pool_size = (2, 2)))\n",
        "model.add(Dropout(0.25))\n",
        "\n",
        "model.add(Conv2D(64, (3, 3), activation='relu',padding = 'Same'))\n",
        "model.add(Conv2D(64, (3, 3), activation='relu',padding = 'Same'))\n",
        "model.add(MaxPooling2D(pool_size=(2, 2)))\n",
        "model.add(Dropout(0.40))\n",
        "\n",
        "model.add(Flatten())\n",
        "model.add(Dense(128, activation='relu'))\n",
        "model.add(Dropout(0.5))\n",
        "model.add(Dense(NUM_CLASSES, activation='softmax'))"
      ],
      "execution_count": 7,
      "outputs": []
    },
    {
      "cell_type": "code",
      "metadata": {
        "id": "wkRfDC1aKN9n",
        "colab_type": "code",
        "colab": {
          "base_uri": "https://localhost:8080/",
          "height": 561
        },
        "outputId": "8dddcc97-5fe7-481f-d19a-eaa9a0570644"
      },
      "source": [
        "model.summary()"
      ],
      "execution_count": 8,
      "outputs": [
        {
          "output_type": "stream",
          "text": [
            "Model: \"sequential\"\n",
            "_________________________________________________________________\n",
            "Layer (type)                 Output Shape              Param #   \n",
            "=================================================================\n",
            "conv2d (Conv2D)              (None, 224, 224, 32)      896       \n",
            "_________________________________________________________________\n",
            "conv2d_1 (Conv2D)            (None, 224, 224, 32)      9248      \n",
            "_________________________________________________________________\n",
            "max_pooling2d (MaxPooling2D) (None, 112, 112, 32)      0         \n",
            "_________________________________________________________________\n",
            "dropout (Dropout)            (None, 112, 112, 32)      0         \n",
            "_________________________________________________________________\n",
            "conv2d_2 (Conv2D)            (None, 112, 112, 64)      18496     \n",
            "_________________________________________________________________\n",
            "conv2d_3 (Conv2D)            (None, 112, 112, 64)      36928     \n",
            "_________________________________________________________________\n",
            "max_pooling2d_1 (MaxPooling2 (None, 56, 56, 64)        0         \n",
            "_________________________________________________________________\n",
            "dropout_1 (Dropout)          (None, 56, 56, 64)        0         \n",
            "_________________________________________________________________\n",
            "flatten (Flatten)            (None, 200704)            0         \n",
            "_________________________________________________________________\n",
            "dense (Dense)                (None, 128)               25690240  \n",
            "_________________________________________________________________\n",
            "dropout_2 (Dropout)          (None, 128)               0         \n",
            "_________________________________________________________________\n",
            "dense_1 (Dense)              (None, 7)                 903       \n",
            "=================================================================\n",
            "Total params: 25,756,711\n",
            "Trainable params: 25,756,711\n",
            "Non-trainable params: 0\n",
            "_________________________________________________________________\n"
          ],
          "name": "stdout"
        }
      ]
    },
    {
      "cell_type": "code",
      "metadata": {
        "id": "njEkhQn7KR95",
        "colab_type": "code",
        "colab": {}
      },
      "source": [
        "model.compile(optimizer='adam' , loss=\"categorical_crossentropy\", metrics=[\"accuracy\"])"
      ],
      "execution_count": 9,
      "outputs": []
    },
    {
      "cell_type": "code",
      "metadata": {
        "id": "4zoZKog1M6QP",
        "colab_type": "code",
        "colab": {
          "base_uri": "https://localhost:8080/",
          "height": 1000
        },
        "outputId": "7182ba14-7dbc-4dfe-bd27-52bbd3e90f82"
      },
      "source": [
        "history = model.fit(train_generator,\n",
        "                    validation_data=val_generator,\n",
        "                    epochs=EPOCHS)"
      ],
      "execution_count": 10,
      "outputs": [
        {
          "output_type": "stream",
          "text": [
            "Epoch 1/30\n",
            "197/197 [==============================] - 134s 678ms/step - loss: 1.3831 - accuracy: 0.6616 - val_loss: 1.1521 - val_accuracy: 0.6690\n",
            "Epoch 2/30\n",
            "197/197 [==============================] - 132s 669ms/step - loss: 1.0288 - accuracy: 0.6700 - val_loss: 0.9739 - val_accuracy: 0.6690\n",
            "Epoch 3/30\n",
            "197/197 [==============================] - 130s 659ms/step - loss: 1.0076 - accuracy: 0.6703 - val_loss: 0.9563 - val_accuracy: 0.6690\n",
            "Epoch 4/30\n",
            "197/197 [==============================] - 132s 669ms/step - loss: 0.9688 - accuracy: 0.6705 - val_loss: 1.0612 - val_accuracy: 0.6690\n",
            "Epoch 5/30\n",
            "197/197 [==============================] - 133s 674ms/step - loss: 0.9462 - accuracy: 0.6698 - val_loss: 0.8979 - val_accuracy: 0.6697\n",
            "Epoch 6/30\n",
            "197/197 [==============================] - 133s 675ms/step - loss: 0.9280 - accuracy: 0.6708 - val_loss: 0.8841 - val_accuracy: 0.6686\n",
            "Epoch 7/30\n",
            "197/197 [==============================] - 130s 662ms/step - loss: 0.9060 - accuracy: 0.6698 - val_loss: 0.8611 - val_accuracy: 0.6697\n",
            "Epoch 8/30\n",
            "197/197 [==============================] - 130s 662ms/step - loss: 0.8866 - accuracy: 0.6735 - val_loss: 0.8996 - val_accuracy: 0.6705\n",
            "Epoch 9/30\n",
            "197/197 [==============================] - 135s 684ms/step - loss: 0.8697 - accuracy: 0.6811 - val_loss: 0.8280 - val_accuracy: 0.6797\n",
            "Epoch 10/30\n",
            "197/197 [==============================] - 133s 673ms/step - loss: 0.8720 - accuracy: 0.6794 - val_loss: 0.8547 - val_accuracy: 0.6790\n",
            "Epoch 11/30\n",
            "197/197 [==============================] - 130s 658ms/step - loss: 0.8592 - accuracy: 0.6903 - val_loss: 0.8171 - val_accuracy: 0.6875\n",
            "Epoch 12/30\n",
            "197/197 [==============================] - 129s 656ms/step - loss: 0.8402 - accuracy: 0.6873 - val_loss: 0.8093 - val_accuracy: 0.6838\n",
            "Epoch 13/30\n",
            "197/197 [==============================] - 129s 655ms/step - loss: 0.8222 - accuracy: 0.6924 - val_loss: 0.7910 - val_accuracy: 0.7011\n",
            "Epoch 14/30\n",
            "197/197 [==============================] - 129s 655ms/step - loss: 0.8472 - accuracy: 0.6814 - val_loss: 0.8078 - val_accuracy: 0.6834\n",
            "Epoch 15/30\n",
            "197/197 [==============================] - 129s 655ms/step - loss: 0.8449 - accuracy: 0.6870 - val_loss: 0.8116 - val_accuracy: 0.6856\n",
            "Epoch 16/30\n",
            "197/197 [==============================] - 129s 657ms/step - loss: 0.8203 - accuracy: 0.6941 - val_loss: 0.7973 - val_accuracy: 0.6952\n",
            "Epoch 17/30\n",
            "197/197 [==============================] - 130s 662ms/step - loss: 0.8111 - accuracy: 0.6957 - val_loss: 0.7819 - val_accuracy: 0.6971\n",
            "Epoch 18/30\n",
            "197/197 [==============================] - 131s 665ms/step - loss: 0.8054 - accuracy: 0.7024 - val_loss: 0.8059 - val_accuracy: 0.7004\n",
            "Epoch 19/30\n",
            "197/197 [==============================] - 131s 666ms/step - loss: 0.8048 - accuracy: 0.7001 - val_loss: 0.8288 - val_accuracy: 0.6989\n",
            "Epoch 20/30\n",
            "197/197 [==============================] - 132s 669ms/step - loss: 0.7958 - accuracy: 0.7009 - val_loss: 0.8105 - val_accuracy: 0.7000\n",
            "Epoch 21/30\n",
            "197/197 [==============================] - 132s 671ms/step - loss: 0.7951 - accuracy: 0.7047 - val_loss: 0.7668 - val_accuracy: 0.7071\n",
            "Epoch 22/30\n",
            "197/197 [==============================] - 133s 675ms/step - loss: 0.7943 - accuracy: 0.7017 - val_loss: 0.7893 - val_accuracy: 0.6915\n",
            "Epoch 23/30\n",
            "197/197 [==============================] - 136s 689ms/step - loss: 0.7923 - accuracy: 0.7043 - val_loss: 0.7665 - val_accuracy: 0.7011\n",
            "Epoch 24/30\n",
            "197/197 [==============================] - 134s 681ms/step - loss: 0.7809 - accuracy: 0.7079 - val_loss: 0.7700 - val_accuracy: 0.7000\n",
            "Epoch 25/30\n",
            "197/197 [==============================] - 133s 673ms/step - loss: 0.7640 - accuracy: 0.7165 - val_loss: 0.7563 - val_accuracy: 0.7059\n",
            "Epoch 26/30\n",
            "197/197 [==============================] - 132s 670ms/step - loss: 0.7821 - accuracy: 0.7090 - val_loss: 0.7468 - val_accuracy: 0.7048\n",
            "Epoch 27/30\n",
            "197/197 [==============================] - 133s 674ms/step - loss: 0.7598 - accuracy: 0.7120 - val_loss: 0.7351 - val_accuracy: 0.7189\n",
            "Epoch 28/30\n",
            "197/197 [==============================] - 132s 671ms/step - loss: 0.7707 - accuracy: 0.7119 - val_loss: 0.7727 - val_accuracy: 0.7052\n",
            "Epoch 29/30\n",
            "197/197 [==============================] - 133s 678ms/step - loss: 0.7597 - accuracy: 0.7132 - val_loss: 0.7591 - val_accuracy: 0.7115\n",
            "Epoch 30/30\n",
            "197/197 [==============================] - 133s 675ms/step - loss: 0.7572 - accuracy: 0.7201 - val_loss: 0.7301 - val_accuracy: 0.7148\n"
          ],
          "name": "stdout"
        }
      ]
    },
    {
      "cell_type": "markdown",
      "metadata": {
        "id": "Zrx4gvba4na3",
        "colab_type": "text"
      },
      "source": [
        "# Graph"
      ]
    },
    {
      "cell_type": "markdown",
      "metadata": {
        "id": "-F4xGaJlOiNf",
        "colab_type": "text"
      },
      "source": [
        "## Accuracy"
      ]
    },
    {
      "cell_type": "code",
      "metadata": {
        "id": "5yRSgZDDNeOu",
        "colab_type": "code",
        "colab": {
          "base_uri": "https://localhost:8080/",
          "height": 295
        },
        "outputId": "8ad99fb8-a27d-4ade-cf13-849582b1e4cc"
      },
      "source": [
        "plt.plot(history.history['accuracy'])\n",
        "plt.plot(history.history['val_accuracy'])\n",
        "plt.ylabel('accuracy')\n",
        "plt.xlabel('epoch')\n",
        "plt.legend(['train', 'val'], loc='upper left')\n",
        "plt.title('accuracy')\n",
        "plt.show()"
      ],
      "execution_count": 11,
      "outputs": [
        {
          "output_type": "display_data",
          "data": {
            "image/png": "[encoded data removed]",
            "text/plain": [
              "<Figure size 432x288 with 1 Axes>"
            ]
          },
          "metadata": {
            "tags": [],
            "needs_background": "light"
          }
        }
      ]
    },
    {
      "cell_type": "markdown",
      "metadata": {
        "id": "jvwKNE1kOkM_",
        "colab_type": "text"
      },
      "source": [
        "## Loss"
      ]
    },
    {
      "cell_type": "code",
      "metadata": {
        "id": "5p8ddBw3NrRn",
        "colab_type": "code",
        "colab": {
          "base_uri": "https://localhost:8080/",
          "height": 295
        },
        "outputId": "e6aab487-da7a-42aa-9495-081e494197d3"
      },
      "source": [
        "plt.plot(history.history['loss'])\n",
        "plt.plot(history.history['val_loss'])\n",
        "plt.ylabel('loss')\n",
        "plt.xlabel('epoch')\n",
        "plt.legend(['train', 'val'], loc='upper left')\n",
        "plt.title('loss')\n",
        "plt.show()"
      ],
      "execution_count": 12,
      "outputs": [
        {
          "output_type": "display_data",
          "data": {
            "image/png": "[encoded data removed]",
            "text/plain": [
              "<Figure size 432x288 with 1 Axes>"
            ]
          },
          "metadata": {
            "tags": [],
            "needs_background": "light"
          }
        }
      ]
    },
    {
      "cell_type": "markdown",
      "metadata": {
        "id": "4f0hBfuHOlaQ",
        "colab_type": "text"
      },
      "source": [
        "# Evaluate"
      ]
    },
    {
      "cell_type": "code",
      "metadata": {
        "id": "TTO1CqaHOKLK",
        "colab_type": "code",
        "colab": {}
      },
      "source": [
        "test_generator.reset()"
      ],
      "execution_count": 14,
      "outputs": []
    },
    {
      "cell_type": "code",
      "metadata": {
        "id": "bt4dyphFOR8H",
        "colab_type": "code",
        "colab": {}
      },
      "source": [
        "num_test_files = len(test_generator.filenames)"
      ],
      "execution_count": 17,
      "outputs": []
    },
    {
      "cell_type": "code",
      "metadata": {
        "id": "PxKRLTCGOK0I",
        "colab_type": "code",
        "colab": {}
      },
      "source": [
        "test_labels = test_generator.classes\n",
        "predictions = model.predict(test_generator, steps=num_test_files//test_generator.batch_size)"
      ],
      "execution_count": 18,
      "outputs": []
    },
    {
      "cell_type": "markdown",
      "metadata": {
        "id": "qg0BkM4hPFug",
        "colab_type": "text"
      },
      "source": [
        "## Confusion Matrix"
      ]
    },
    {
      "cell_type": "code",
      "metadata": {
        "id": "azKAJmfTNs-9",
        "colab_type": "code",
        "colab": {}
      },
      "source": [
        "def plot_confusion_matrix(cm, classes, normalize=False, title='Confusion matrix', cmap=plt.cm.Blues):\n",
        "    \"\"\"\n",
        "    This function prints and plots the confusion matrix.\n",
        "    Normalization can be applied by setting `normalize=True`.\n",
        "    \"\"\"\n",
        "    if normalize:\n",
        "        cm = cm.astype('float') / cm.sum(axis=1)[:, np.newaxis]\n",
        "        print(\"Normalized confusion matrix\")\n",
        "    else:\n",
        "        print('Confusion matrix, without normalization')\n",
        "\n",
        "    print(cm)\n",
        "    plt.imshow(cm, interpolation='nearest', cmap=cmap)\n",
        "    plt.title(title)\n",
        "    plt.colorbar()\n",
        "    tick_marks = np.arange(len(classes))\n",
        "    plt.xticks(tick_marks, classes, rotation=45)\n",
        "    plt.yticks(tick_marks, classes)\n",
        "    fmt = '.2f' if normalize else 'd'\n",
        "    thresh = cm.max() / 2.\n",
        "    for i, j in itertools.product(range(cm.shape[0]), range(cm.shape[1])):\n",
        "        plt.text(j, i, format(cm[i, j], fmt),\n",
        "                 horizontalalignment=\"center\",\n",
        "                 color=\"white\" if cm[i, j] > thresh else \"black\")\n",
        "    plt.ylabel('True label')\n",
        "    plt.xlabel('Predicted label')\n",
        "    plt.tight_layout()"
      ],
      "execution_count": 13,
      "outputs": []
    },
    {
      "cell_type": "markdown",
      "metadata": {
        "id": "2ni-ROLrPISY",
        "colab_type": "text"
      },
      "source": [
        "### Without Normalization"
      ]
    },
    {
      "cell_type": "code",
      "metadata": {
        "id": "SlMxaYS0OUhu",
        "colab_type": "code",
        "colab": {
          "base_uri": "https://localhost:8080/",
          "height": 433
        },
        "outputId": "d230f936-d5f9-4d0b-e21b-558a04a78155"
      },
      "source": [
        "cm = confusion_matrix(test_labels, predictions.argmax(axis=1))\n",
        "\n",
        "classes_names = ['akiec', 'bcc', 'bkl', 'df', 'mel', 'nv', 'vasc']\n",
        "\n",
        "plot_confusion_matrix(cm, classes_names, False)"
      ],
      "execution_count": 19,
      "outputs": [
        {
          "output_type": "stream",
          "text": [
            "Confusion matrix, without normalization\n",
            "[[  1   5  10   0   0  17   0]\n",
            " [  0  18   3   0   1  30   0]\n",
            " [  0   6  26   0   4  74   0]\n",
            " [  0   5   1   0   0   6   0]\n",
            " [  0   0  10   0  20  82   0]\n",
            " [  0   4  14   0   4 649   0]\n",
            " [  0   1   0   0   1   6   7]]\n"
          ],
          "name": "stdout"
        },
        {
          "output_type": "display_data",
          "data": {
            "image/png": "[encoded data removed]",
            "text/plain": [
              "<Figure size 432x288 with 2 Axes>"
            ]
          },
          "metadata": {
            "tags": [],
            "needs_background": "light"
          }
        }
      ]
    },
    {
      "cell_type": "markdown",
      "metadata": {
        "id": "LYVed_vzPLzg",
        "colab_type": "text"
      },
      "source": [
        "### With Normalization"
      ]
    },
    {
      "cell_type": "code",
      "metadata": {
        "id": "izjXW0fq3NN_",
        "colab_type": "code",
        "colab": {
          "base_uri": "https://localhost:8080/",
          "height": 552
        },
        "outputId": "af89ed0e-ea66-4276-ba8b-55f05feb1b69"
      },
      "source": [
        "plot_confusion_matrix(cm, classes_names, True)"
      ],
      "execution_count": 20,
      "outputs": [
        {
          "output_type": "stream",
          "text": [
            "Normalized confusion matrix\n",
            "[[0.03030303 0.15151515 0.3030303  0.         0.         0.51515152\n",
            "  0.        ]\n",
            " [0.         0.34615385 0.05769231 0.         0.01923077 0.57692308\n",
            "  0.        ]\n",
            " [0.         0.05454545 0.23636364 0.         0.03636364 0.67272727\n",
            "  0.        ]\n",
            " [0.         0.41666667 0.08333333 0.         0.         0.5\n",
            "  0.        ]\n",
            " [0.         0.         0.08928571 0.         0.17857143 0.73214286\n",
            "  0.        ]\n",
            " [0.         0.00596125 0.02086438 0.         0.00596125 0.96721311\n",
            "  0.        ]\n",
            " [0.         0.06666667 0.         0.         0.06666667 0.4\n",
            "  0.46666667]]\n"
          ],
          "name": "stdout"
        },
        {
          "output_type": "display_data",
          "data": {
            "image/png": "[encoded data removed]",
            "text/plain": [
              "<Figure size 432x288 with 2 Axes>"
            ]
          },
          "metadata": {
            "tags": [],
            "needs_background": "light"
          }
        }
      ]
    },
    {
      "cell_type": "markdown",
      "metadata": {
        "id": "L06hiGk7PmHa",
        "colab_type": "text"
      },
      "source": [
        "## Classification Report"
      ]
    },
    {
      "cell_type": "code",
      "metadata": {
        "id": "dFDSv5qlOafu",
        "colab_type": "code",
        "colab": {
          "base_uri": "https://localhost:8080/",
          "height": 462
        },
        "outputId": "658ae10b-23ac-4e62-a524-410cd811da23"
      },
      "source": [
        "y_pred = np.argmax(predictions, axis=1)\n",
        "print('Confusion Matrix')\n",
        "print(confusion_matrix(test_labels, y_pred))\n",
        "print('Classification Report')\n",
        "print(classification_report(test_labels, y_pred, target_names=classes_names))"
      ],
      "execution_count": 21,
      "outputs": [
        {
          "output_type": "stream",
          "text": [
            "Confusion Matrix\n",
            "[[  1   5  10   0   0  17   0]\n",
            " [  0  18   3   0   1  30   0]\n",
            " [  0   6  26   0   4  74   0]\n",
            " [  0   5   1   0   0   6   0]\n",
            " [  0   0  10   0  20  82   0]\n",
            " [  0   4  14   0   4 649   0]\n",
            " [  0   1   0   0   1   6   7]]\n",
            "Classification Report\n",
            "              precision    recall  f1-score   support\n",
            "\n",
            "       akiec       1.00      0.03      0.06        33\n",
            "         bcc       0.46      0.35      0.40        52\n",
            "         bkl       0.41      0.24      0.30       110\n",
            "          df       0.00      0.00      0.00        12\n",
            "         mel       0.67      0.18      0.28       112\n",
            "          nv       0.75      0.97      0.85       671\n",
            "        vasc       1.00      0.47      0.64        15\n",
            "\n",
            "    accuracy                           0.72      1005\n",
            "   macro avg       0.61      0.32      0.36      1005\n",
            "weighted avg       0.69      0.72      0.66      1005\n",
            "\n"
          ],
          "name": "stdout"
        },
        {
          "output_type": "stream",
          "text": [
            "/usr/local/lib/python3.6/dist-packages/sklearn/metrics/_classification.py:1272: UndefinedMetricWarning: Precision and F-score are ill-defined and being set to 0.0 in labels with no predicted samples. Use `zero_division` parameter to control this behavior.\n",
            "  _warn_prf(average, modifier, msg_start, len(result))\n"
          ],
          "name": "stderr"
        }
      ]
    }
  ]
}