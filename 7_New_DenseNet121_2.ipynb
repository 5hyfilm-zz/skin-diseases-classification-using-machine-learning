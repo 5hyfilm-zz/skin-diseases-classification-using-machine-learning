{
  "nbformat": 4,
  "nbformat_minor": 0,
  "metadata": {
    "colab": {
      "name": "7_New_DenseNet121_2.ipynb",
      "provenance": [],
      "collapsed_sections": [],
      "toc_visible": true,
      "machine_shape": "hm",
      "authorship_tag": "ABX9TyPZ/L2rEI9VGOmJIGPHeC0A",
      "include_colab_link": true
    },
    "kernelspec": {
      "name": "python3",
      "display_name": "Python 3"
    },
    "accelerator": "GPU"
  },
  "cells": [
    {
      "cell_type": "markdown",
      "metadata": {
        "id": "view-in-github",
        "colab_type": "text"
      },
      "source": [
        "<a href=\"https://colab.research.google.com/github/filmerxyz/JSTP-22_SkinDiseaseClassificationUsingMachineLearning/blob/master/7_New_DenseNet121_2.ipynb\" target=\"_parent\"><img src=\"https://colab.research.google.com/assets/colab-badge.svg\" alt=\"Open In Colab\"/></a>"
      ]
    },
    {
      "cell_type": "markdown",
      "metadata": {
        "id": "7yplsrw2uD3n",
        "colab_type": "text"
      },
      "source": [
        "# Import Libraries"
      ]
    },
    {
      "cell_type": "code",
      "metadata": {
        "id": "LiFEGE49rL0J",
        "colab_type": "code",
        "colab": {}
      },
      "source": [
        "import tensorflow as tf\n",
        "from tensorflow import keras\n",
        "from tensorflow.keras import backend as K\n",
        "from tensorflow.keras import models\n",
        "from tensorflow.keras.models import Sequential, Model\n",
        "from tensorflow.keras.layers import Conv2D, MaxPooling2D, Dense, Dropout, Activation, Flatten, BatchNormalization, GlobalAveragePooling2D\n",
        "from tensorflow.keras.preprocessing import image\n",
        "from tensorflow.keras.preprocessing.image import ImageDataGenerator, load_img, img_to_array\n",
        "from tensorflow.keras.applications.imagenet_utils import preprocess_input\n",
        "from tensorflow.keras.optimizers import Adam\n",
        "from tensorflow.keras.callbacks import ModelCheckpoint, EarlyStopping, ReduceLROnPlateau\n",
        "from tensorflow.keras import regularizers\n",
        "import tensorflow_addons as tfa\n",
        "\n",
        "from sklearn.utils import class_weight\n",
        "from sklearn.metrics import classification_report, confusion_matrix, precision_recall_fscore_support\n",
        "\n",
        "import pandas as pd\n",
        "import numpy as np\n",
        "import matplotlib.pyplot as plt\n",
        "\n",
        "import shutil\n",
        "import os\n",
        "from os.path import join"
      ],
      "execution_count": 0,
      "outputs": []
    },
    {
      "cell_type": "markdown",
      "metadata": {
        "id": "9peEluM-9Hzg",
        "colab_type": "text"
      },
      "source": [
        "# Hyperparameter"
      ]
    },
    {
      "cell_type": "code",
      "metadata": {
        "id": "iemxwx9hrRRk",
        "colab_type": "code",
        "colab": {}
      },
      "source": [
        "IMG_WIDTH = 224\n",
        "IMG_HEIGHT = 224\n",
        "EPOCHS = 100\n",
        "BATCH_SIZE = 32\n",
        "NUM_CLASSES = 7\n",
        "STEPS = 16\n",
        "\n",
        "LR = 3e-5 # Learning rate"
      ],
      "execution_count": 0,
      "outputs": []
    },
    {
      "cell_type": "markdown",
      "metadata": {
        "id": "9cJUhwJeuHFV",
        "colab_type": "text"
      },
      "source": [
        "# Data"
      ]
    },
    {
      "cell_type": "code",
      "metadata": {
        "id": "E_M-GwwvrNiu",
        "colab_type": "code",
        "outputId": "f52a9315-2ee2-4ed6-cedc-307eeeb3b9b8",
        "colab": {
          "base_uri": "https://localhost:8080/",
          "height": 34
        }
      },
      "source": [
        "!git clone https://github.com/filmerxyz/HAM10000_split"
      ],
      "execution_count": 3,
      "outputs": [
        {
          "output_type": "stream",
          "text": [
            "fatal: destination path 'HAM10000_split' already exists and is not an empty directory.\n"
          ],
          "name": "stdout"
        }
      ]
    },
    {
      "cell_type": "code",
      "metadata": {
        "id": "w3uqJdOWrZAS",
        "colab_type": "code",
        "colab": {}
      },
      "source": [
        "train_path = '/content/HAM10000_split/train'\n",
        "val_path = '/content/HAM10000_split/val'\n",
        "test_path = '/content/HAM10000_split/test'"
      ],
      "execution_count": 0,
      "outputs": []
    },
    {
      "cell_type": "code",
      "metadata": {
        "id": "bhSXDAzArUzR",
        "colab_type": "code",
        "colab": {}
      },
      "source": [
        "train_generator = ImageDataGenerator(rescale = 1./255,\n",
        "                                     rotation_range=360,  \n",
        "                                     zoom_range = 0.3,\n",
        "                                     horizontal_flip=True,\n",
        "                                     vertical_flip=True,\n",
        "                                     fill_mode='reflect')\n",
        "                                    \n",
        "val_generator = ImageDataGenerator(rescale = 1./255)\n",
        "\n",
        "test_generator = ImageDataGenerator(rescale = 1./255)"
      ],
      "execution_count": 0,
      "outputs": []
    },
    {
      "cell_type": "code",
      "metadata": {
        "id": "2oGvU01xt-0-",
        "colab_type": "code",
        "outputId": "45b74716-0c8e-4bd6-e2ad-d9ddf49382b8",
        "colab": {
          "base_uri": "https://localhost:8080/",
          "height": 68
        }
      },
      "source": [
        "train_datagen = train_generator.flow_from_directory(batch_size=BATCH_SIZE,\n",
        "                                          directory=train_path,\n",
        "                                          shuffle=True,\n",
        "                                          target_size=(IMG_WIDTH, IMG_HEIGHT), #(224,224)\n",
        "                                          class_mode='categorical')\n",
        "\n",
        "val_datagen = val_generator.flow_from_directory(batch_size=BATCH_SIZE,\n",
        "                                          directory=val_path,\n",
        "                                          shuffle=True,\n",
        "                                          target_size=(IMG_WIDTH, IMG_HEIGHT), #(224,224)\n",
        "                                          class_mode='categorical')\n",
        "\n",
        "test_datagen = test_generator.flow_from_directory(batch_size=1,\n",
        "                                          directory=test_path,\n",
        "                                          shuffle=False,\n",
        "                                          target_size=(IMG_WIDTH, IMG_HEIGHT), #(224,224)\n",
        "                                          class_mode=None)"
      ],
      "execution_count": 6,
      "outputs": [
        {
          "output_type": "stream",
          "text": [
            "Found 6303 images belonging to 7 classes.\n",
            "Found 2707 images belonging to 7 classes.\n",
            "Found 1005 images belonging to 7 classes.\n"
          ],
          "name": "stdout"
        }
      ]
    },
    {
      "cell_type": "markdown",
      "metadata": {
        "id": "QV5uFQYv0S0I",
        "colab_type": "text"
      },
      "source": [
        "# Model"
      ]
    },
    {
      "cell_type": "code",
      "metadata": {
        "id": "Rjy-P0FarXQ8",
        "colab_type": "code",
        "colab": {}
      },
      "source": [
        "def buld_model():\n",
        "  base_model = tf.keras.applications.DenseNet121(include_top=False, input_shape=(IMG_WIDTH, IMG_HEIGHT, 3), weights='imagenet')\n",
        "  \n",
        "  # for layer in base_model.layers:\n",
        "  #   if isinstance(layer, BatchNormalization):\n",
        "  #       layer.trainable = True\n",
        "  #   else:\n",
        "  #       layer.trainable = False\n",
        "\n",
        "  average_pooling_layer = GlobalAveragePooling2D()(base_model.output)\n",
        "  \n",
        "  fc_layer = Dense(512, activation='relu', kernel_regularizer=regularizers.l2(0.0001))(average_pooling_layer)\n",
        "  fc_layer = Dense(256, activation='relu', kernel_regularizer=regularizers.l2(0.0001))(fc_layer)\n",
        "  fc_layer = Dense(128, activation='relu', kernel_regularizer=regularizers.l2(0.0001))(fc_layer)\n",
        "  fc_layer = Dense(64, activation='relu', kernel_regularizer=regularizers.l2(0.0001))(fc_layer)\n",
        "  fc_layer = Dense(32, activation='relu', kernel_regularizer= regularizers.l2(0.0001))(fc_layer)\n",
        "  bn_layer = BatchNormalization()(fc_layer)\n",
        "  dropout_layer = Dropout(0.25)(bn_layer)\n",
        "  prediction_layer = Dense(units=7, activation='softmax', name='prediction')(dropout_layer)\n",
        "\n",
        "  model = Model(inputs=base_model.input, outputs=prediction_layer)\n",
        "\n",
        "  for layer in model.layers[:-30]:\n",
        "    layer.trainable=False\n",
        "\n",
        "  return model"
      ],
      "execution_count": 0,
      "outputs": []
    },
    {
      "cell_type": "code",
      "metadata": {
        "id": "tAdzG4ggts-0",
        "colab_type": "code",
        "colab": {}
      },
      "source": [
        "model = buld_model()"
      ],
      "execution_count": 0,
      "outputs": []
    },
    {
      "cell_type": "code",
      "metadata": {
        "id": "u4S6ofKUtxRA",
        "colab_type": "code",
        "colab": {}
      },
      "source": [
        "# model.summary()"
      ],
      "execution_count": 0,
      "outputs": []
    },
    {
      "cell_type": "code",
      "metadata": {
        "id": "7O1aiKaBfWH7",
        "colab_type": "code",
        "colab": {}
      },
      "source": [
        "# from collections import Counter"
      ],
      "execution_count": 0,
      "outputs": []
    },
    {
      "cell_type": "code",
      "metadata": {
        "id": "32MRjPcxfJ9j",
        "colab_type": "code",
        "colab": {}
      },
      "source": [
        "# counter = Counter(train_datagen.classes)                          \n",
        "# max_val = float(max(counter.values()))     "
      ],
      "execution_count": 0,
      "outputs": []
    },
    {
      "cell_type": "code",
      "metadata": {
        "id": "rlFduHzjfB1x",
        "colab_type": "code",
        "colab": {}
      },
      "source": [
        "# class_weights = {class_id : max_val/num_images for class_id, num_images in counter.items()}"
      ],
      "execution_count": 0,
      "outputs": []
    },
    {
      "cell_type": "code",
      "metadata": {
        "id": "W17sAHeafmC5",
        "colab_type": "code",
        "colab": {}
      },
      "source": [
        "# class_weights"
      ],
      "execution_count": 0,
      "outputs": []
    },
    {
      "cell_type": "code",
      "metadata": {
        "id": "CDH6X0yQtzzN",
        "colab_type": "code",
        "colab": {}
      },
      "source": [
        "class_weights={\n",
        "    0: 0.1,  # akiec\n",
        "    1: 0.1,  # bcc\n",
        "    2: 0.1,  # bkl\n",
        "    3: 0.1,  # df\n",
        "    4: 0.5,  # mel\n",
        "    5: 0.1,  # nv\n",
        "    6: 0.1,  # vasc\n",
        "}"
      ],
      "execution_count": 0,
      "outputs": []
    },
    {
      "cell_type": "markdown",
      "metadata": {
        "id": "H9ZqmX2AUTCX",
        "colab_type": "text"
      },
      "source": [
        "## Focal Loss"
      ]
    },
    {
      "cell_type": "code",
      "metadata": {
        "id": "KbrUvF2oUSop",
        "colab_type": "code",
        "colab": {}
      },
      "source": [
        "def categorical_focal_loss(gamma=2., alpha=.25):\n",
        "    \"\"\"\n",
        "    Softmax version of focal loss.\n",
        "           m\n",
        "      FL = ∑  -alpha * (1 - p_o,c)^gamma * y_o,c * log(p_o,c)\n",
        "          c=1\n",
        "      where m = number of classes, c = class and o = observation\n",
        "    Parameters:\n",
        "      alpha -- the same as weighing factor in balanced cross entropy\n",
        "      gamma -- focusing parameter for modulating factor (1-p)\n",
        "    Default value:\n",
        "      gamma -- 2.0 as mentioned in the paper\n",
        "      alpha -- 0.25 as mentioned in the paper\n",
        "    References:\n",
        "        Official paper: https://arxiv.org/pdf/1708.02002.pdf\n",
        "        https://www.tensorflow.org/api_docs/python/tf/keras/backend/categorical_crossentropy\n",
        "    Usage:\n",
        "     model.compile(loss=[categorical_focal_loss(alpha=.25, gamma=2)], metrics=[\"accuracy\"], optimizer=adam)\n",
        "    \"\"\"\n",
        "    def categorical_focal_loss_fixed(y_true, y_pred):\n",
        "        \"\"\"\n",
        "        :param y_true: A tensor of the same shape as `y_pred`\n",
        "        :param y_pred: A tensor resulting from a softmax\n",
        "        :return: Output tensor.\n",
        "        \"\"\"\n",
        "\n",
        "        # Scale predictions so that the class probas of each sample sum to 1\n",
        "        y_pred /= K.sum(y_pred, axis=-1, keepdims=True)\n",
        "\n",
        "        # Clip the prediction value to prevent NaN's and Inf's\n",
        "        epsilon = K.epsilon()\n",
        "        y_pred = K.clip(y_pred, epsilon, 1. - epsilon)\n",
        "\n",
        "        # Calculate Cross Entropy\n",
        "        cross_entropy = -y_true * K.log(y_pred)\n",
        "\n",
        "        # Calculate Focal Loss\n",
        "        loss = alpha * K.pow(1 - y_pred, gamma) * cross_entropy\n",
        "\n",
        "        # Compute mean loss in mini_batch\n",
        "        return K.mean(loss, axis=1)\n",
        "\n",
        "    return categorical_focal_loss_fixed"
      ],
      "execution_count": 0,
      "outputs": []
    },
    {
      "cell_type": "code",
      "metadata": {
        "id": "aw9jYNwrzbPG",
        "colab_type": "code",
        "colab": {}
      },
      "source": [
        "model.compile(optimizer=Adam(LR), loss='categorical_crossentropy', metrics=['accuracy'])"
      ],
      "execution_count": 0,
      "outputs": []
    },
    {
      "cell_type": "code",
      "metadata": {
        "id": "mk6Nmx2uzcT1",
        "colab_type": "code",
        "colab": {}
      },
      "source": [
        "early_stop = EarlyStopping(monitor='val_loss', patience=10, verbose=0, mode='min')\n",
        "\n",
        "model_checkpoint = ModelCheckpoint(filepath='densenet121_model.h5', save_best_only=True, monitor='val_loss', mode='min')\n",
        "\n",
        "reduce_lr_rate = ReduceLROnPlateau(monitor='val_loss', factor=0.3, min_lr=1e-7 , patience=10, verbose=1, min_delta=1e-4, mode='min')"
      ],
      "execution_count": 0,
      "outputs": []
    },
    {
      "cell_type": "code",
      "metadata": {
        "id": "qWocQ8TSt6HL",
        "colab_type": "code",
        "outputId": "4aea995c-228d-4994-c87e-b90c5099d365",
        "colab": {
          "base_uri": "https://localhost:8080/",
          "height": 1000
        }
      },
      "source": [
        "history = model.fit(train_datagen,\n",
        "                    validation_data=val_datagen,\n",
        "                    epochs=EPOCHS,\n",
        "                    class_weight=class_weights,\n",
        "                    callbacks=[early_stop, model_checkpoint, reduce_lr_rate],\n",
        "                    verbose=1)"
      ],
      "execution_count": 18,
      "outputs": [
        {
          "output_type": "stream",
          "text": [
            "Epoch 1/100\n",
            "197/197 [==============================] - 157s 798ms/step - loss: 0.4273 - accuracy: 0.1982 - val_loss: 1.8065 - val_accuracy: 0.4226 - lr: 3.0000e-05\n",
            "Epoch 2/100\n",
            "197/197 [==============================] - 155s 786ms/step - loss: 0.3786 - accuracy: 0.2827 - val_loss: 1.8064 - val_accuracy: 0.4167 - lr: 3.0000e-05\n",
            "Epoch 3/100\n",
            "197/197 [==============================] - 155s 787ms/step - loss: 0.3540 - accuracy: 0.3481 - val_loss: 1.6406 - val_accuracy: 0.5087 - lr: 3.0000e-05\n",
            "Epoch 4/100\n",
            "197/197 [==============================] - 154s 784ms/step - loss: 0.3357 - accuracy: 0.4089 - val_loss: 1.5364 - val_accuracy: 0.5456 - lr: 3.0000e-05\n",
            "Epoch 5/100\n",
            "197/197 [==============================] - 154s 781ms/step - loss: 0.3233 - accuracy: 0.4433 - val_loss: 1.4876 - val_accuracy: 0.5582 - lr: 3.0000e-05\n",
            "Epoch 6/100\n",
            "197/197 [==============================] - 153s 776ms/step - loss: 0.3113 - accuracy: 0.4828 - val_loss: 1.5290 - val_accuracy: 0.5489 - lr: 3.0000e-05\n",
            "Epoch 7/100\n",
            "197/197 [==============================] - 154s 782ms/step - loss: 0.3006 - accuracy: 0.5085 - val_loss: 1.3983 - val_accuracy: 0.5996 - lr: 3.0000e-05\n",
            "Epoch 8/100\n",
            "197/197 [==============================] - 154s 784ms/step - loss: 0.2917 - accuracy: 0.5324 - val_loss: 1.3635 - val_accuracy: 0.6136 - lr: 3.0000e-05\n",
            "Epoch 9/100\n",
            "197/197 [==============================] - 154s 784ms/step - loss: 0.2825 - accuracy: 0.5691 - val_loss: 1.3328 - val_accuracy: 0.6044 - lr: 3.0000e-05\n",
            "Epoch 10/100\n",
            "197/197 [==============================] - 155s 785ms/step - loss: 0.2724 - accuracy: 0.5892 - val_loss: 1.3120 - val_accuracy: 0.6191 - lr: 3.0000e-05\n",
            "Epoch 11/100\n",
            "197/197 [==============================] - 154s 782ms/step - loss: 0.2657 - accuracy: 0.6054 - val_loss: 1.3178 - val_accuracy: 0.6217 - lr: 3.0000e-05\n",
            "Epoch 12/100\n",
            "197/197 [==============================] - 155s 786ms/step - loss: 0.2605 - accuracy: 0.6197 - val_loss: 1.2420 - val_accuracy: 0.6339 - lr: 3.0000e-05\n",
            "Epoch 13/100\n",
            "197/197 [==============================] - 155s 785ms/step - loss: 0.2538 - accuracy: 0.6362 - val_loss: 1.2402 - val_accuracy: 0.6298 - lr: 3.0000e-05\n",
            "Epoch 14/100\n",
            "197/197 [==============================] - 154s 780ms/step - loss: 0.2483 - accuracy: 0.6406 - val_loss: 1.2799 - val_accuracy: 0.6125 - lr: 3.0000e-05\n",
            "Epoch 15/100\n",
            "197/197 [==============================] - 155s 786ms/step - loss: 0.2418 - accuracy: 0.6495 - val_loss: 1.0908 - val_accuracy: 0.6982 - lr: 3.0000e-05\n",
            "Epoch 16/100\n",
            "197/197 [==============================] - 154s 779ms/step - loss: 0.2378 - accuracy: 0.6611 - val_loss: 1.1817 - val_accuracy: 0.6491 - lr: 3.0000e-05\n",
            "Epoch 17/100\n",
            "197/197 [==============================] - 153s 778ms/step - loss: 0.2330 - accuracy: 0.6708 - val_loss: 1.1152 - val_accuracy: 0.6620 - lr: 3.0000e-05\n",
            "Epoch 18/100\n",
            "197/197 [==============================] - 153s 777ms/step - loss: 0.2273 - accuracy: 0.6743 - val_loss: 1.1848 - val_accuracy: 0.6620 - lr: 3.0000e-05\n",
            "Epoch 19/100\n",
            "197/197 [==============================] - 154s 779ms/step - loss: 0.2247 - accuracy: 0.6784 - val_loss: 1.2111 - val_accuracy: 0.6295 - lr: 3.0000e-05\n",
            "Epoch 20/100\n",
            "197/197 [==============================] - 154s 781ms/step - loss: 0.2177 - accuracy: 0.6925 - val_loss: 1.1370 - val_accuracy: 0.6535 - lr: 3.0000e-05\n",
            "Epoch 21/100\n",
            "197/197 [==============================] - 155s 787ms/step - loss: 0.2136 - accuracy: 0.6938 - val_loss: 0.9939 - val_accuracy: 0.7107 - lr: 3.0000e-05\n",
            "Epoch 22/100\n",
            "197/197 [==============================] - 154s 780ms/step - loss: 0.2096 - accuracy: 0.7000 - val_loss: 1.0130 - val_accuracy: 0.7059 - lr: 3.0000e-05\n",
            "Epoch 23/100\n",
            "197/197 [==============================] - 154s 782ms/step - loss: 0.2075 - accuracy: 0.7060 - val_loss: 1.0006 - val_accuracy: 0.6997 - lr: 3.0000e-05\n",
            "Epoch 24/100\n",
            "197/197 [==============================] - 154s 783ms/step - loss: 0.2051 - accuracy: 0.7098 - val_loss: 1.1371 - val_accuracy: 0.6587 - lr: 3.0000e-05\n",
            "Epoch 25/100\n",
            "197/197 [==============================] - 155s 787ms/step - loss: 0.1995 - accuracy: 0.7163 - val_loss: 0.9517 - val_accuracy: 0.7056 - lr: 3.0000e-05\n",
            "Epoch 26/100\n",
            "197/197 [==============================] - 154s 781ms/step - loss: 0.1974 - accuracy: 0.7144 - val_loss: 1.0060 - val_accuracy: 0.6919 - lr: 3.0000e-05\n",
            "Epoch 27/100\n",
            "197/197 [==============================] - 155s 786ms/step - loss: 0.1941 - accuracy: 0.7178 - val_loss: 0.9360 - val_accuracy: 0.7167 - lr: 3.0000e-05\n",
            "Epoch 28/100\n",
            "197/197 [==============================] - 155s 785ms/step - loss: 0.1907 - accuracy: 0.7265 - val_loss: 0.8908 - val_accuracy: 0.7285 - lr: 3.0000e-05\n",
            "Epoch 29/100\n",
            "197/197 [==============================] - 154s 780ms/step - loss: 0.1858 - accuracy: 0.7298 - val_loss: 0.9127 - val_accuracy: 0.7240 - lr: 3.0000e-05\n",
            "Epoch 30/100\n",
            "197/197 [==============================] - 153s 777ms/step - loss: 0.1847 - accuracy: 0.7320 - val_loss: 0.9383 - val_accuracy: 0.7204 - lr: 3.0000e-05\n",
            "Epoch 31/100\n",
            "197/197 [==============================] - 153s 778ms/step - loss: 0.1836 - accuracy: 0.7387 - val_loss: 0.9150 - val_accuracy: 0.7111 - lr: 3.0000e-05\n",
            "Epoch 32/100\n",
            "197/197 [==============================] - 155s 785ms/step - loss: 0.1794 - accuracy: 0.7416 - val_loss: 0.8708 - val_accuracy: 0.7340 - lr: 3.0000e-05\n",
            "Epoch 33/100\n",
            "197/197 [==============================] - 154s 782ms/step - loss: 0.1740 - accuracy: 0.7474 - val_loss: 0.9329 - val_accuracy: 0.7144 - lr: 3.0000e-05\n",
            "Epoch 34/100\n",
            "197/197 [==============================] - 154s 779ms/step - loss: 0.1730 - accuracy: 0.7503 - val_loss: 0.9024 - val_accuracy: 0.7274 - lr: 3.0000e-05\n",
            "Epoch 35/100\n",
            "197/197 [==============================] - 155s 785ms/step - loss: 0.1710 - accuracy: 0.7531 - val_loss: 0.8409 - val_accuracy: 0.7362 - lr: 3.0000e-05\n",
            "Epoch 36/100\n",
            "197/197 [==============================] - 153s 778ms/step - loss: 0.1694 - accuracy: 0.7508 - val_loss: 0.8607 - val_accuracy: 0.7285 - lr: 3.0000e-05\n",
            "Epoch 37/100\n",
            "197/197 [==============================] - 154s 781ms/step - loss: 0.1678 - accuracy: 0.7546 - val_loss: 0.8511 - val_accuracy: 0.7403 - lr: 3.0000e-05\n",
            "Epoch 38/100\n",
            "197/197 [==============================] - 155s 786ms/step - loss: 0.1651 - accuracy: 0.7585 - val_loss: 0.8264 - val_accuracy: 0.7407 - lr: 3.0000e-05\n",
            "Epoch 39/100\n",
            "197/197 [==============================] - 155s 787ms/step - loss: 0.1626 - accuracy: 0.7631 - val_loss: 0.7537 - val_accuracy: 0.7632 - lr: 3.0000e-05\n",
            "Epoch 40/100\n",
            "197/197 [==============================] - 154s 780ms/step - loss: 0.1608 - accuracy: 0.7652 - val_loss: 0.8943 - val_accuracy: 0.7137 - lr: 3.0000e-05\n",
            "Epoch 41/100\n",
            "197/197 [==============================] - 153s 778ms/step - loss: 0.1590 - accuracy: 0.7728 - val_loss: 0.7814 - val_accuracy: 0.7569 - lr: 3.0000e-05\n",
            "Epoch 42/100\n",
            "197/197 [==============================] - 153s 777ms/step - loss: 0.1566 - accuracy: 0.7720 - val_loss: 0.7811 - val_accuracy: 0.7499 - lr: 3.0000e-05\n",
            "Epoch 43/100\n",
            "197/197 [==============================] - 153s 776ms/step - loss: 0.1568 - accuracy: 0.7793 - val_loss: 0.8186 - val_accuracy: 0.7351 - lr: 3.0000e-05\n",
            "Epoch 44/100\n",
            "197/197 [==============================] - 153s 779ms/step - loss: 0.1545 - accuracy: 0.7768 - val_loss: 0.8493 - val_accuracy: 0.7274 - lr: 3.0000e-05\n",
            "Epoch 45/100\n",
            "197/197 [==============================] - 155s 785ms/step - loss: 0.1545 - accuracy: 0.7801 - val_loss: 0.7526 - val_accuracy: 0.7547 - lr: 3.0000e-05\n",
            "Epoch 46/100\n",
            "197/197 [==============================] - 154s 780ms/step - loss: 0.1521 - accuracy: 0.7752 - val_loss: 0.8014 - val_accuracy: 0.7436 - lr: 3.0000e-05\n",
            "Epoch 47/100\n",
            "197/197 [==============================] - 154s 781ms/step - loss: 0.1488 - accuracy: 0.7872 - val_loss: 0.9007 - val_accuracy: 0.7011 - lr: 3.0000e-05\n",
            "Epoch 48/100\n",
            "197/197 [==============================] - 154s 779ms/step - loss: 0.1468 - accuracy: 0.7888 - val_loss: 0.7800 - val_accuracy: 0.7495 - lr: 3.0000e-05\n",
            "Epoch 49/100\n",
            "197/197 [==============================] - 154s 782ms/step - loss: 0.1465 - accuracy: 0.7909 - val_loss: 0.8667 - val_accuracy: 0.7211 - lr: 3.0000e-05\n",
            "Epoch 50/100\n",
            "197/197 [==============================] - 155s 785ms/step - loss: 0.1460 - accuracy: 0.7912 - val_loss: 0.7328 - val_accuracy: 0.7610 - lr: 3.0000e-05\n",
            "Epoch 51/100\n",
            "197/197 [==============================] - 153s 779ms/step - loss: 0.1438 - accuracy: 0.7968 - val_loss: 0.8871 - val_accuracy: 0.7178 - lr: 3.0000e-05\n",
            "Epoch 52/100\n",
            "197/197 [==============================] - 153s 775ms/step - loss: 0.1441 - accuracy: 0.7971 - val_loss: 0.7780 - val_accuracy: 0.7566 - lr: 3.0000e-05\n",
            "Epoch 53/100\n",
            "197/197 [==============================] - 153s 777ms/step - loss: 0.1424 - accuracy: 0.7957 - val_loss: 0.8207 - val_accuracy: 0.7381 - lr: 3.0000e-05\n",
            "Epoch 54/100\n",
            "197/197 [==============================] - 153s 774ms/step - loss: 0.1388 - accuracy: 0.8023 - val_loss: 0.8167 - val_accuracy: 0.7370 - lr: 3.0000e-05\n",
            "Epoch 55/100\n",
            "197/197 [==============================] - 153s 777ms/step - loss: 0.1393 - accuracy: 0.8030 - val_loss: 0.7503 - val_accuracy: 0.7724 - lr: 3.0000e-05\n",
            "Epoch 56/100\n",
            "197/197 [==============================] - 152s 773ms/step - loss: 0.1400 - accuracy: 0.8023 - val_loss: 1.0034 - val_accuracy: 0.6904 - lr: 3.0000e-05\n",
            "Epoch 57/100\n",
            "197/197 [==============================] - 152s 772ms/step - loss: 0.1371 - accuracy: 0.8037 - val_loss: 0.7537 - val_accuracy: 0.7606 - lr: 3.0000e-05\n",
            "Epoch 58/100\n",
            "197/197 [==============================] - 152s 773ms/step - loss: 0.1390 - accuracy: 0.8049 - val_loss: 0.7366 - val_accuracy: 0.7654 - lr: 3.0000e-05\n",
            "Epoch 59/100\n",
            "197/197 [==============================] - 153s 777ms/step - loss: 0.1348 - accuracy: 0.8098 - val_loss: 0.8032 - val_accuracy: 0.7399 - lr: 3.0000e-05\n",
            "Epoch 60/100\n",
            "197/197 [==============================] - 155s 786ms/step - loss: 0.1333 - accuracy: 0.8134 - val_loss: 0.7193 - val_accuracy: 0.7687 - lr: 3.0000e-05\n",
            "Epoch 61/100\n",
            "197/197 [==============================] - 154s 782ms/step - loss: 0.1339 - accuracy: 0.8114 - val_loss: 0.8247 - val_accuracy: 0.7410 - lr: 3.0000e-05\n",
            "Epoch 62/100\n",
            "197/197 [==============================] - 154s 782ms/step - loss: 0.1308 - accuracy: 0.8163 - val_loss: 0.7886 - val_accuracy: 0.7595 - lr: 3.0000e-05\n",
            "Epoch 63/100\n",
            "197/197 [==============================] - 154s 782ms/step - loss: 0.1320 - accuracy: 0.8153 - val_loss: 0.7237 - val_accuracy: 0.7710 - lr: 3.0000e-05\n",
            "Epoch 64/100\n",
            "197/197 [==============================] - 154s 781ms/step - loss: 0.1289 - accuracy: 0.8247 - val_loss: 0.7695 - val_accuracy: 0.7676 - lr: 3.0000e-05\n",
            "Epoch 65/100\n",
            "197/197 [==============================] - 155s 785ms/step - loss: 0.1286 - accuracy: 0.8207 - val_loss: 0.7342 - val_accuracy: 0.7717 - lr: 3.0000e-05\n",
            "Epoch 66/100\n",
            "197/197 [==============================] - 154s 781ms/step - loss: 0.1286 - accuracy: 0.8263 - val_loss: 0.7391 - val_accuracy: 0.7684 - lr: 3.0000e-05\n",
            "Epoch 67/100\n",
            "197/197 [==============================] - 155s 787ms/step - loss: 0.1268 - accuracy: 0.8285 - val_loss: 0.6780 - val_accuracy: 0.7939 - lr: 3.0000e-05\n",
            "Epoch 68/100\n",
            "197/197 [==============================] - 155s 786ms/step - loss: 0.1257 - accuracy: 0.8247 - val_loss: 0.6748 - val_accuracy: 0.7898 - lr: 3.0000e-05\n",
            "Epoch 69/100\n",
            "197/197 [==============================] - 154s 781ms/step - loss: 0.1269 - accuracy: 0.8302 - val_loss: 0.7599 - val_accuracy: 0.7673 - lr: 3.0000e-05\n",
            "Epoch 70/100\n",
            "197/197 [==============================] - 154s 783ms/step - loss: 0.1250 - accuracy: 0.8328 - val_loss: 0.7790 - val_accuracy: 0.7606 - lr: 3.0000e-05\n",
            "Epoch 71/100\n",
            "197/197 [==============================] - 154s 782ms/step - loss: 0.1233 - accuracy: 0.8391 - val_loss: 0.7249 - val_accuracy: 0.7754 - lr: 3.0000e-05\n",
            "Epoch 72/100\n",
            "197/197 [==============================] - 153s 778ms/step - loss: 0.1230 - accuracy: 0.8391 - val_loss: 0.6834 - val_accuracy: 0.7813 - lr: 3.0000e-05\n",
            "Epoch 73/100\n",
            "197/197 [==============================] - 154s 780ms/step - loss: 0.1250 - accuracy: 0.8294 - val_loss: 0.6925 - val_accuracy: 0.7876 - lr: 3.0000e-05\n",
            "Epoch 74/100\n",
            "197/197 [==============================] - 153s 777ms/step - loss: 0.1213 - accuracy: 0.8404 - val_loss: 0.7539 - val_accuracy: 0.7687 - lr: 3.0000e-05\n",
            "Epoch 75/100\n",
            "197/197 [==============================] - 154s 780ms/step - loss: 0.1181 - accuracy: 0.8475 - val_loss: 0.6861 - val_accuracy: 0.7894 - lr: 3.0000e-05\n",
            "Epoch 76/100\n",
            "197/197 [==============================] - 153s 778ms/step - loss: 0.1197 - accuracy: 0.8464 - val_loss: 0.7585 - val_accuracy: 0.7684 - lr: 3.0000e-05\n",
            "Epoch 77/100\n",
            "197/197 [==============================] - 153s 778ms/step - loss: 0.1177 - accuracy: 0.8483 - val_loss: 0.7184 - val_accuracy: 0.7787 - lr: 3.0000e-05\n",
            "Epoch 78/100\n",
            "197/197 [==============================] - ETA: 0s - loss: 0.1188 - accuracy: 0.8418\n",
            "Epoch 00078: ReduceLROnPlateau reducing learning rate to 8.999999772640877e-06.\n",
            "197/197 [==============================] - 154s 782ms/step - loss: 0.1188 - accuracy: 0.8418 - val_loss: 0.7294 - val_accuracy: 0.7761 - lr: 3.0000e-05\n"
          ],
          "name": "stdout"
        }
      ]
    },
    {
      "cell_type": "markdown",
      "metadata": {
        "id": "qpb2v9c60Npp",
        "colab_type": "text"
      },
      "source": [
        "# Graph"
      ]
    },
    {
      "cell_type": "markdown",
      "metadata": {
        "id": "UFoc5YKy0PSJ",
        "colab_type": "text"
      },
      "source": [
        "## Accuracy"
      ]
    },
    {
      "cell_type": "code",
      "metadata": {
        "id": "Jj6Vj1e_yXY0",
        "colab_type": "code",
        "outputId": "82cf1bd8-a795-48e0-b49f-690913c15c42",
        "colab": {
          "base_uri": "https://localhost:8080/",
          "height": 295
        }
      },
      "source": [
        "plt.plot(history.history['accuracy'])\n",
        "plt.plot(history.history['val_accuracy'])\n",
        "plt.ylabel('accuracy')\n",
        "plt.xlabel('epoch')\n",
        "plt.legend(['train', 'val'], loc='upper left')\n",
        "plt.title('accuracy')\n",
        "plt.show()"
      ],
      "execution_count": 19,
      "outputs": [
        {
          "output_type": "display_data",
          "data": {
            "image/png": "[encoded data removed]",
            "text/plain": [
              "<Figure size 432x288 with 1 Axes>"
            ]
          },
          "metadata": {
            "tags": [],
            "needs_background": "light"
          }
        }
      ]
    },
    {
      "cell_type": "markdown",
      "metadata": {
        "id": "t3_Cs0eo0Qlb",
        "colab_type": "text"
      },
      "source": [
        "## Loss"
      ]
    },
    {
      "cell_type": "code",
      "metadata": {
        "id": "XogMKjYMvKpM",
        "colab_type": "code",
        "outputId": "715aa073-084c-4689-c771-09a3ce88fb65",
        "colab": {
          "base_uri": "https://localhost:8080/",
          "height": 295
        }
      },
      "source": [
        "plt.plot(history.history['loss'])\n",
        "plt.plot(history.history['val_loss'])\n",
        "plt.ylabel('accuracy')\n",
        "plt.xlabel('epoch')\n",
        "plt.legend(['train', 'val'], loc='upper left')\n",
        "plt.title('accuracy')\n",
        "plt.show()"
      ],
      "execution_count": 20,
      "outputs": [
        {
          "output_type": "display_data",
          "data": {
            "image/png": "[encoded data removed]",
            "text/plain": [
              "<Figure size 432x288 with 1 Axes>"
            ]
          },
          "metadata": {
            "tags": [],
            "needs_background": "light"
          }
        }
      ]
    },
    {
      "cell_type": "markdown",
      "metadata": {
        "id": "Bxp3YaL11mye",
        "colab_type": "text"
      },
      "source": [
        "# Evaluate"
      ]
    },
    {
      "cell_type": "code",
      "metadata": {
        "id": "SYd9Ckc96nT5",
        "colab_type": "code",
        "colab": {}
      },
      "source": [
        "num_test_files = len(train_datagen.filenames)"
      ],
      "execution_count": 0,
      "outputs": []
    },
    {
      "cell_type": "code",
      "metadata": {
        "id": "qRzfIaQz2SbT",
        "colab_type": "code",
        "colab": {}
      },
      "source": [
        "test_labels = test_datagen.classes\n",
        "predictions = model.predict(test_datagen, num_test_files//test_datagen.batch_size+1)"
      ],
      "execution_count": 0,
      "outputs": []
    },
    {
      "cell_type": "markdown",
      "metadata": {
        "id": "Pxrwy4UB8dHT",
        "colab_type": "text"
      },
      "source": [
        "## Confusion Matrix"
      ]
    },
    {
      "cell_type": "code",
      "metadata": {
        "id": "6IfT0f9e2YDY",
        "colab_type": "code",
        "colab": {}
      },
      "source": [
        "import itertools"
      ],
      "execution_count": 0,
      "outputs": []
    },
    {
      "cell_type": "code",
      "metadata": {
        "id": "QjmvKSLj2ZhW",
        "colab_type": "code",
        "colab": {}
      },
      "source": [
        "def plot_confusion_matrix(cm, classes, normalize=False, title='Confusion matrix', cmap=plt.cm.Blues):\n",
        "    \"\"\"\n",
        "    This function prints and plots the confusion matrix.\n",
        "    Normalization can be applied by setting `normalize=True`.\n",
        "    \"\"\"\n",
        "    if normalize:\n",
        "        cm = cm.astype('float') / cm.sum(axis=1)[:, np.newaxis]\n",
        "        print(\"Normalized confusion matrix\")\n",
        "    else:\n",
        "        print('Confusion matrix, without normalization')\n",
        "\n",
        "    print(cm)\n",
        "\n",
        "    plt.imshow(cm, interpolation='nearest', cmap=cmap)\n",
        "    plt.title(title)\n",
        "    plt.colorbar()\n",
        "    tick_marks = np.arange(len(classes))\n",
        "    plt.xticks(tick_marks, classes, rotation=45)\n",
        "    plt.yticks(tick_marks, classes)\n",
        "\n",
        "    fmt = '.2f' if normalize else 'd'\n",
        "    thresh = cm.max() / 2.\n",
        "    for i, j in itertools.product(range(cm.shape[0]), range(cm.shape[1])):\n",
        "        plt.text(j, i, format(cm[i, j], fmt),\n",
        "                 horizontalalignment=\"center\",\n",
        "                 color=\"white\" if cm[i, j] > thresh else \"black\")\n",
        "\n",
        "    plt.ylabel('True label')\n",
        "    plt.xlabel('Predicted label')\n",
        "    plt.tight_layout()"
      ],
      "execution_count": 0,
      "outputs": []
    },
    {
      "cell_type": "code",
      "metadata": {
        "id": "4xWHp17q2fAS",
        "colab_type": "code",
        "outputId": "2009b53c-96d3-4f83-dc75-c4b81a5789b9",
        "colab": {
          "base_uri": "https://localhost:8080/",
          "height": 552
        }
      },
      "source": [
        "cm = confusion_matrix(test_labels, predictions.argmax(axis=1))\n",
        "\n",
        "classes_names = ['0', '1', '2', '3', '4', '5', '6']\n",
        "\n",
        "plot_confusion_matrix(cm, classes_names, True)"
      ],
      "execution_count": 25,
      "outputs": [
        {
          "output_type": "stream",
          "text": [
            "Normalized confusion matrix\n",
            "[[0.42424242 0.06060606 0.06060606 0.         0.42424242 0.03030303\n",
            "  0.        ]\n",
            " [0.03846154 0.46153846 0.11538462 0.         0.19230769 0.19230769\n",
            "  0.        ]\n",
            " [0.02727273 0.00909091 0.46363636 0.         0.31818182 0.18181818\n",
            "  0.        ]\n",
            " [0.16666667 0.         0.         0.08333333 0.25       0.5\n",
            "  0.        ]\n",
            " [0.00892857 0.00892857 0.01785714 0.         0.76785714 0.19642857\n",
            "  0.        ]\n",
            " [0.         0.00298063 0.02086438 0.         0.08792846 0.88673621\n",
            "  0.00149031]\n",
            " [0.         0.         0.06666667 0.         0.06666667 0.2\n",
            "  0.66666667]]\n"
          ],
          "name": "stdout"
        },
        {
          "output_type": "display_data",
          "data": {
            "image/png": "[encoded data removed]",
            "text/plain": [
              "<Figure size 432x288 with 2 Axes>"
            ]
          },
          "metadata": {
            "tags": [],
            "needs_background": "light"
          }
        }
      ]
    },
    {
      "cell_type": "markdown",
      "metadata": {
        "id": "qxXKvmSCKIe4",
        "colab_type": "text"
      },
      "source": [
        "## Classificaiton Report"
      ]
    },
    {
      "cell_type": "code",
      "metadata": {
        "id": "BUO15d-18Z5y",
        "colab_type": "code",
        "outputId": "79f07908-48e0-4842-86a4-da5e99e2dd22",
        "colab": {
          "base_uri": "https://localhost:8080/",
          "height": 408
        }
      },
      "source": [
        "y_pred = np.argmax(predictions, axis=1)\n",
        "print('Confusion Matrix')\n",
        "print(confusion_matrix(test_labels, y_pred))\n",
        "print('Classification Report')\n",
        "print(classification_report(test_labels, y_pred, target_names=classes_names))"
      ],
      "execution_count": 26,
      "outputs": [
        {
          "output_type": "stream",
          "text": [
            "Confusion Matrix\n",
            "[[ 14   2   2   0  14   1   0]\n",
            " [  2  24   6   0  10  10   0]\n",
            " [  3   1  51   0  35  20   0]\n",
            " [  2   0   0   1   3   6   0]\n",
            " [  1   1   2   0  86  22   0]\n",
            " [  0   2  14   0  59 595   1]\n",
            " [  0   0   1   0   1   3  10]]\n",
            "Classification Report\n",
            "              precision    recall  f1-score   support\n",
            "\n",
            "           0       0.64      0.42      0.51        33\n",
            "           1       0.80      0.46      0.59        52\n",
            "           2       0.67      0.46      0.55       110\n",
            "           3       1.00      0.08      0.15        12\n",
            "           4       0.41      0.77      0.54       112\n",
            "           5       0.91      0.89      0.90       671\n",
            "           6       0.91      0.67      0.77        15\n",
            "\n",
            "    accuracy                           0.78      1005\n",
            "   macro avg       0.76      0.54      0.57      1005\n",
            "weighted avg       0.81      0.78      0.78      1005\n",
            "\n"
          ],
          "name": "stdout"
        }
      ]
    },
    {
      "cell_type": "markdown",
      "metadata": {
        "id": "BURzGeKn2OfU",
        "colab_type": "text"
      },
      "source": [
        "# Grad CAM"
      ]
    },
    {
      "cell_type": "code",
      "metadata": {
        "id": "jMgiS5_vJ5rS",
        "colab_type": "code",
        "colab": {}
      },
      "source": [
        ""
      ],
      "execution_count": 0,
      "outputs": []
    }
  ]
}