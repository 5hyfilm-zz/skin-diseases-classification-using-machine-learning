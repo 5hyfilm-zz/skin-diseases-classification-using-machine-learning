{
  "nbformat": 4,
  "nbformat_minor": 0,
  "metadata": {
    "colab": {
      "name": "notebook_1.ipynb",
      "provenance": [],
      "collapsed_sections": [],
      "authorship_tag": "ABX9TyPQiQv1XIhPKM3LEF0vv5Xt",
      "include_colab_link": true
    },
    "kernelspec": {
      "name": "python3",
      "display_name": "Python 3"
    },
    "accelerator": "GPU"
  },
  "cells": [
    {
      "cell_type": "markdown",
      "metadata": {
        "id": "view-in-github",
        "colab_type": "text"
      },
      "source": [
        "<a href=\"https://colab.research.google.com/github/filmerxyz/Skin_Detection/blob/master/notebook_1.ipynb\" target=\"_parent\"><img src=\"https://colab.research.google.com/assets/colab-badge.svg\" alt=\"Open In Colab\"/></a>"
      ]
    },
    {
      "cell_type": "markdown",
      "metadata": {
        "id": "mbhERIE8D3l7",
        "colab_type": "text"
      },
      "source": [
        "# Install Libraries"
      ]
    },
    {
      "cell_type": "code",
      "metadata": {
        "id": "XrwmhyjIq6aQ",
        "colab_type": "code",
        "outputId": "f11813c3-8b16-4031-a7f1-76959ca62627",
        "colab": {
          "base_uri": "https://localhost:8080/",
          "height": 221
        }
      },
      "source": [
        "!pip install split-folders\n",
        "!pip install Augmentor"
      ],
      "execution_count": 1,
      "outputs": [
        {
          "output_type": "stream",
          "text": [
            "Collecting split-folders\n",
            "  Downloading https://files.pythonhosted.org/packages/20/67/29dda743e6d23ac1ea3d16704d8bbb48d65faf3f1b1eaf53153b3da56c56/split_folders-0.3.1-py3-none-any.whl\n",
            "Installing collected packages: split-folders\n",
            "Successfully installed split-folders-0.3.1\n",
            "Collecting Augmentor\n",
            "  Downloading https://files.pythonhosted.org/packages/cb/79/861f38d5830cff631e30e33b127076bfef8ac98171e51daa06df0118c75f/Augmentor-0.2.8-py2.py3-none-any.whl\n",
            "Requirement already satisfied: numpy>=1.11.0 in /usr/local/lib/python3.6/dist-packages (from Augmentor) (1.18.2)\n",
            "Requirement already satisfied: Pillow>=5.2.0 in /usr/local/lib/python3.6/dist-packages (from Augmentor) (7.0.0)\n",
            "Requirement already satisfied: tqdm>=4.9.0 in /usr/local/lib/python3.6/dist-packages (from Augmentor) (4.38.0)\n",
            "Requirement already satisfied: future>=0.16.0 in /usr/local/lib/python3.6/dist-packages (from Augmentor) (0.16.0)\n",
            "Installing collected packages: Augmentor\n",
            "Successfully installed Augmentor-0.2.8\n"
          ],
          "name": "stdout"
        }
      ]
    },
    {
      "cell_type": "markdown",
      "metadata": {
        "id": "rEMNgDrWDwT1",
        "colab_type": "text"
      },
      "source": [
        "# Import Libraries"
      ]
    },
    {
      "cell_type": "code",
      "metadata": {
        "id": "bmOEBccWzPCA",
        "colab_type": "code",
        "colab": {}
      },
      "source": [
        "import tensorflow as tf\n",
        "from tensorflow.keras import models\n",
        "from tensorflow.keras.models import Sequential, Model\n",
        "from tensorflow.keras.layers import Dense, Dropout, Activation, Flatten\n",
        "from keras.layers.convolutional import Conv2D, MaxPooling2D\n",
        "from tensorflow.keras.preprocessing.image import ImageDataGenerator, load_img, img_to_array\n",
        "from tensorflow.keras.applications.imagenet_utils import preprocess_input\n",
        "from tensorflow.keras.preprocessing import image\n",
        "from tensorflow.keras.optimizers import Adam\n",
        "from tensorflow.keras.callbacks import EarlyStopping, ModelCheckpoint\n",
        "from tensorflow.keras import backend as K\n",
        "\n",
        "from sklearn.metrics import classification_report, confusion_matrix, precision_recall_fscore_support\n",
        "import itertools\n",
        "\n",
        "import split_folders\n",
        "import Augmentor\n",
        "\n",
        "import numpy as np\n",
        "import matplotlib.pyplot as plt\n",
        "\n",
        "import os\n",
        "import glob\n",
        "import shutil\n",
        "import random"
      ],
      "execution_count": 0,
      "outputs": []
    },
    {
      "cell_type": "markdown",
      "metadata": {
        "id": "N0DUJG1Ko1sk",
        "colab_type": "text"
      },
      "source": [
        "# Clone Data"
      ]
    },
    {
      "cell_type": "code",
      "metadata": {
        "id": "8-5QhiTxo1LF",
        "colab_type": "code",
        "outputId": "9835e83d-ec98-475c-e997-1f69120027d2",
        "colab": {
          "base_uri": "https://localhost:8080/",
          "height": 153
        }
      },
      "source": [
        "!git clone https://github.com/filmerxyz/SKIN_DATA"
      ],
      "execution_count": 3,
      "outputs": [
        {
          "output_type": "stream",
          "text": [
            "Cloning into 'SKIN_DATA'...\n",
            "remote: Enumerating objects: 480, done.\u001b[K\n",
            "remote: Counting objects: 100% (480/480), done.\u001b[K\n",
            "remote: Compressing objects: 100% (338/338), done.\u001b[K\n",
            "remote: Total 922 (delta 217), reused 393 (delta 132), pack-reused 442\u001b[K\n",
            "Receiving objects: 100% (922/922), 113.50 MiB | 48.25 MiB/s, done.\n",
            "Resolving deltas: 100% (255/255), done.\n",
            "Checking out files: 100% (1817/1817), done.\n"
          ],
          "name": "stdout"
        }
      ]
    },
    {
      "cell_type": "markdown",
      "metadata": {
        "id": "0J5c6RFFAETN",
        "colab_type": "text"
      },
      "source": [
        "# Define Functions"
      ]
    },
    {
      "cell_type": "code",
      "metadata": {
        "id": "IZP_J-JVC3FJ",
        "colab_type": "code",
        "colab": {}
      },
      "source": [
        "def mkdir_folder(dir):\n",
        "    if not os.path.exists(dir):\n",
        "        os.mkdir(dir)\n",
        "        print(\"Directory \" , dir,  \" Created \")\n",
        "    else:    \n",
        "        print(\"Directory \" , dir,  \" already exists\")"
      ],
      "execution_count": 0,
      "outputs": []
    },
    {
      "cell_type": "code",
      "metadata": {
        "id": "YoxpFQAJAJkc",
        "colab_type": "code",
        "colab": {}
      },
      "source": [
        "def plotImages(images_arr):\n",
        "    fig, axes = plt.subplots(1, 5, figsize=(10,10))\n",
        "    axes = axes.flatten()\n",
        "    for img, ax in zip(images_arr, axes):\n",
        "        ax.imshow(img)\n",
        "    plt.tight_layout()\n",
        "    plt.show()"
      ],
      "execution_count": 0,
      "outputs": []
    },
    {
      "cell_type": "code",
      "metadata": {
        "id": "kIfJlpNm056N",
        "colab_type": "code",
        "colab": {}
      },
      "source": [
        "def plot_confusion_matrix(cm, classes, normalize=False, title='Confusion matrix', cmap=plt.cm.Blues):\n",
        "    \"\"\"\n",
        "    This function prints and plots the confusion matrix.\n",
        "    Normalization can be applied by setting `normalize=True`.\n",
        "    \"\"\"\n",
        "    if normalize:\n",
        "        cm = cm.astype('float') / cm.sum(axis=1)[:, np.newaxis]\n",
        "        print(\"Normalized confusion matrix\")\n",
        "    else:\n",
        "        print('Confusion matrix, without normalization')\n",
        "\n",
        "    print(cm)\n",
        "\n",
        "    plt.imshow(cm, interpolation='nearest', cmap=cmap)\n",
        "    plt.title(title)\n",
        "    plt.colorbar()\n",
        "    tick_marks = np.arange(len(classes))\n",
        "    plt.xticks(tick_marks, classes, rotation=45)\n",
        "    plt.yticks(tick_marks, classes)\n",
        "\n",
        "    fmt = '.2f' if normalize else 'd'\n",
        "    thresh = cm.max() / 2.\n",
        "    for i, j in itertools.product(range(cm.shape[0]), range(cm.shape[1])):\n",
        "        plt.text(j, i, format(cm[i, j], fmt),\n",
        "                 horizontalalignment=\"center\",\n",
        "                 color=\"white\" if cm[i, j] > thresh else \"black\")\n",
        "\n",
        "    plt.ylabel('True label')\n",
        "    plt.xlabel('Predicted label')\n",
        "    plt.tight_layout()"
      ],
      "execution_count": 0,
      "outputs": []
    },
    {
      "cell_type": "markdown",
      "metadata": {
        "id": "2tc4KM65C3pY",
        "colab_type": "text"
      },
      "source": [
        "# Make a Folder"
      ]
    },
    {
      "cell_type": "code",
      "metadata": {
        "id": "XuZDh2F1DmKN",
        "colab_type": "code",
        "outputId": "6ca2a25a-e451-4b14-fe90-2c69f981fdb2",
        "colab": {
          "base_uri": "https://localhost:8080/",
          "height": 34
        }
      },
      "source": [
        "mkdir_folder('/content/data_folder')"
      ],
      "execution_count": 6,
      "outputs": [
        {
          "output_type": "stream",
          "text": [
            "Directory  /content/data_folder  Created \n"
          ],
          "name": "stdout"
        }
      ]
    },
    {
      "cell_type": "markdown",
      "metadata": {
        "id": "tQ8l-rPTFG5h",
        "colab_type": "text"
      },
      "source": [
        "# Split Data"
      ]
    },
    {
      "cell_type": "code",
      "metadata": {
        "id": "cMyZHXMqC7zR",
        "colab_type": "code",
        "outputId": "8de22804-d13d-4363-9cc0-7fb99a310891",
        "colab": {
          "base_uri": "https://localhost:8080/",
          "height": 34
        }
      },
      "source": [
        "split_folders.ratio('/content/SKIN_DATA/crop_classes_data', \n",
        "                    output='/content/data_folder', \n",
        "                    seed=1337, \n",
        "                    ratio=(0.8, 0.1, 0.1)) #train=0.8, val=0.1, test=0.1"
      ],
      "execution_count": 7,
      "outputs": [
        {
          "output_type": "stream",
          "text": [
            "Copying files: 224 files [00:00, 2693.32 files/s]\n"
          ],
          "name": "stderr"
        }
      ]
    },
    {
      "cell_type": "markdown",
      "metadata": {
        "id": "Qd1jRkE-EPdF",
        "colab_type": "text"
      },
      "source": [
        "# Directories"
      ]
    },
    {
      "cell_type": "code",
      "metadata": {
        "id": "QltR1ijYEOgy",
        "colab_type": "code",
        "colab": {}
      },
      "source": [
        "train_dir = '/content/data_folder/train'\n",
        "val_dir = '/content/data_folder/val'\n",
        "test_dir = '/content/data_folder/test'"
      ],
      "execution_count": 0,
      "outputs": []
    },
    {
      "cell_type": "markdown",
      "metadata": {
        "colab_type": "text",
        "id": "sQ1St-uXB3wl"
      },
      "source": [
        "# Data Visualization"
      ]
    },
    {
      "cell_type": "code",
      "metadata": {
        "id": "vk6sLKsjcSWI",
        "colab_type": "code",
        "colab": {}
      },
      "source": [
        "ad_dir = '/content/data_folder/train/AtopicDermatitis'\n",
        "pv_dir = '/content/data_folder/train/PsoriasisVulgaris'\n",
        "sk_dir = '/content/data_folder/train/SeborrhoeicKeratosis'\n",
        "vt_dir = '/content/data_folder/train/Vitiligo'"
      ],
      "execution_count": 0,
      "outputs": []
    },
    {
      "cell_type": "code",
      "metadata": {
        "id": "cG438nzSDSzs",
        "colab_type": "code",
        "colab": {}
      },
      "source": [
        "# plotImages(val_dir[:5])"
      ],
      "execution_count": 0,
      "outputs": []
    },
    {
      "cell_type": "markdown",
      "metadata": {
        "id": "Fi-QKAawEkO9",
        "colab_type": "text"
      },
      "source": [
        "# Parameters"
      ]
    },
    {
      "cell_type": "code",
      "metadata": {
        "id": "Sc_uEE8-EmMt",
        "colab_type": "code",
        "colab": {}
      },
      "source": [
        "img_size = 224\n",
        "epochs = 100\n",
        "batch_size = 32"
      ],
      "execution_count": 0,
      "outputs": []
    },
    {
      "cell_type": "markdown",
      "metadata": {
        "id": "V__gPFhyc8HS",
        "colab_type": "text"
      },
      "source": [
        "# Data Augmentation"
      ]
    },
    {
      "cell_type": "code",
      "metadata": {
        "id": "l8lC26wqAjaq",
        "colab_type": "code",
        "colab": {}
      },
      "source": [
        "root_directory = '/content/data_folder/train/*'"
      ],
      "execution_count": 0,
      "outputs": []
    },
    {
      "cell_type": "code",
      "metadata": {
        "id": "Wvwyu41UCFWW",
        "colab_type": "code",
        "outputId": "221cb07c-9453-4f86-8e5c-b1a63e8e2c8d",
        "colab": {
          "base_uri": "https://localhost:8080/",
          "height": 34
        }
      },
      "source": [
        "folders = []\n",
        "for f in glob.glob(root_directory):\n",
        "    if os.path.isdir(f):\n",
        "        folders.append(os.path.abspath(f))\n",
        "\n",
        "print(\"Folders (classes) found: %s \" % [os.path.split(x)[1] for x in folders])"
      ],
      "execution_count": 13,
      "outputs": [
        {
          "output_type": "stream",
          "text": [
            "Folders (classes) found: ['Vitiligo', 'SeborrhoeicKeratosis', 'AtopicDermatitis', 'PsoriasisVulgaris'] \n"
          ],
          "name": "stdout"
        }
      ]
    },
    {
      "cell_type": "code",
      "metadata": {
        "id": "0MngX28QCQPM",
        "colab_type": "code",
        "outputId": "40bd3dd9-49f7-4140-d20b-b51c6fe4f887",
        "colab": {
          "base_uri": "https://localhost:8080/",
          "height": 357
        }
      },
      "source": [
        "pipelines = {}\n",
        "for folder in folders:\n",
        "    print(\"Folder %s:\" % (folder))\n",
        "    pipelines[os.path.split(folder)[1]] = (Augmentor.Pipeline(folder))\n",
        "    print(\"\\n----------------------------\\n\")"
      ],
      "execution_count": 14,
      "outputs": [
        {
          "output_type": "stream",
          "text": [
            "Folder /content/data_folder/train/Vitiligo:\n",
            "Initialised with 19 image(s) found.\n",
            "Output directory set to /content/data_folder/train/Vitiligo/output.\n",
            "----------------------------\n",
            "\n",
            "Folder /content/data_folder/train/SeborrhoeicKeratosis:\n",
            "Initialised with 45 image(s) found.\n",
            "Output directory set to /content/data_folder/train/SeborrhoeicKeratosis/output.\n",
            "----------------------------\n",
            "\n",
            "Folder /content/data_folder/train/AtopicDermatitis:\n",
            "Initialised with 52 image(s) found.\n",
            "Output directory set to /content/data_folder/train/AtopicDermatitis/output.\n",
            "----------------------------\n",
            "\n",
            "Folder /content/data_folder/train/PsoriasisVulgaris:\n",
            "Initialised with 62 image(s) found.\n",
            "Output directory set to /content/data_folder/train/PsoriasisVulgaris/output.\n",
            "----------------------------\n",
            "\n"
          ],
          "name": "stdout"
        }
      ]
    },
    {
      "cell_type": "code",
      "metadata": {
        "id": "7zfCArxGCbCm",
        "colab_type": "code",
        "outputId": "ecb9aa44-010e-4338-e888-a6dc41ef8c2a",
        "colab": {
          "base_uri": "https://localhost:8080/",
          "height": 85
        }
      },
      "source": [
        "for p in pipelines.values():\n",
        "    print(\"Class %s has %s samples.\" % (p.augmentor_images[0].class_label, len(p.augmentor_images)))"
      ],
      "execution_count": 15,
      "outputs": [
        {
          "output_type": "stream",
          "text": [
            "Class Vitiligo has 19 samples.\n",
            "Class SeborrhoeicKeratosis has 45 samples.\n",
            "Class AtopicDermatitis has 52 samples.\n",
            "Class PsoriasisVulgaris has 62 samples.\n"
          ],
          "name": "stdout"
        }
      ]
    },
    {
      "cell_type": "code",
      "metadata": {
        "id": "w6-MtibYCh63",
        "colab_type": "code",
        "outputId": "87dea116-893c-47c3-b278-7afc0d64e947",
        "colab": {
          "base_uri": "https://localhost:8080/",
          "height": 85
        }
      },
      "source": [
        "for train_aug in pipelines.values():\n",
        "    train_aug.rotate(probability=1, max_left_rotation=25, max_right_rotation=25)\n",
        "    train_aug.flip_left_right(probability=0.5)\n",
        "    train_aug.flip_top_bottom(probability=0.5)\n",
        "    train_aug.zoom_random(probability=0.5, percentage_area=0.8)\n",
        "    #train_aug.status()\n",
        "    train_aug.sample(300)"
      ],
      "execution_count": 16,
      "outputs": [
        {
          "output_type": "stream",
          "text": [
            "Processing <PIL.Image.Image image mode=RGB size=278x389 at 0x7F6EE8210390>: 100%|██████████| 300/300 [00:12<00:00, 24.13 Samples/s]\n",
            "Processing <PIL.Image.Image image mode=RGB size=1640x1122 at 0x7F6EE3190898>: 100%|██████████| 300/300 [01:01<00:00,  4.88 Samples/s]\n",
            "Processing <PIL.Image.Image image mode=RGB size=390x258 at 0x7F6EE31AAB00>: 100%|██████████| 300/300 [00:11<00:00, 26.20 Samples/s]\n",
            "Processing <PIL.Image.Image image mode=RGB size=550x518 at 0x7F6EE82189B0>: 100%|██████████| 300/300 [00:10<00:00, 27.45 Samples/s]\n"
          ],
          "name": "stderr"
        }
      ]
    },
    {
      "cell_type": "markdown",
      "metadata": {
        "id": "ibIKvLH26VpP",
        "colab_type": "text"
      },
      "source": [
        "# Rename Folders"
      ]
    },
    {
      "cell_type": "code",
      "metadata": {
        "id": "Abm-RU6f_RYc",
        "colab_type": "code",
        "colab": {}
      },
      "source": [
        "ad_aug_dir = os.rename('/content/data_folder/train/AtopicDermatitis/output', '/content/data_folder/train/AtopicDermatitis/ad_aug_dir')\n",
        "pv_aug_dir = os.rename('/content/data_folder/train/PsoriasisVulgaris/output', '/content/data_folder/train/PsoriasisVulgaris/pv_aug_dir')\n",
        "sk_aug_dir = os.rename('/content/data_folder/train/SeborrhoeicKeratosis/output', '/content/data_folder/train/SeborrhoeicKeratosis/sk_aug_dir')\n",
        "vt_aug_dir = os.rename('/content/data_folder/train/Vitiligo/output', '/content/data_folder/train/Vitiligo/vt_aug_dir')"
      ],
      "execution_count": 0,
      "outputs": []
    },
    {
      "cell_type": "code",
      "metadata": {
        "id": "KiA8NeXmDhbk",
        "colab_type": "code",
        "colab": {}
      },
      "source": [
        "ad_aug_dir = '/content/data_folder/train/AtopicDermatitis/ad_aug_dir'\n",
        "pv_aug_dir = '/content/data_folder/train/PsoriasisVulgaris/pv_aug_dir'\n",
        "sk_aug_dir = '/content/data_folder/train/SeborrhoeicKeratosis/sk_aug_dir'\n",
        "vt_aug_dir = '/content/data_folder/train/Vitiligo/vt_aug_dir'"
      ],
      "execution_count": 0,
      "outputs": []
    },
    {
      "cell_type": "code",
      "metadata": {
        "id": "jONgw3TYC1AA",
        "colab_type": "code",
        "outputId": "eba90c14-39de-4ed6-dd6b-64efb3808bfc",
        "colab": {
          "base_uri": "https://localhost:8080/",
          "height": 85
        }
      },
      "source": [
        "print(len(os.listdir(ad_aug_dir)))\n",
        "print(len(os.listdir(pv_aug_dir)))\n",
        "print(len(os.listdir(sk_aug_dir)))\n",
        "print(len(os.listdir(vt_aug_dir)))"
      ],
      "execution_count": 19,
      "outputs": [
        {
          "output_type": "stream",
          "text": [
            "300\n",
            "300\n",
            "300\n",
            "300\n"
          ],
          "name": "stdout"
        }
      ]
    },
    {
      "cell_type": "code",
      "metadata": {
        "id": "W7G0TCdMChva",
        "colab_type": "code",
        "outputId": "d8cf722b-2aab-4938-8cb5-a711643705f7",
        "colab": {
          "base_uri": "https://localhost:8080/",
          "height": 34
        }
      },
      "source": [
        "mkdir_folder('/content/data_folder/train_aug')"
      ],
      "execution_count": 20,
      "outputs": [
        {
          "output_type": "stream",
          "text": [
            "Directory  /content/data_folder/train_aug  Created \n"
          ],
          "name": "stdout"
        }
      ]
    },
    {
      "cell_type": "code",
      "metadata": {
        "id": "7pArOUThkXsD",
        "colab_type": "code",
        "colab": {}
      },
      "source": [
        "train_aug_dir = '/content/data_folder/train_aug/'"
      ],
      "execution_count": 0,
      "outputs": []
    },
    {
      "cell_type": "code",
      "metadata": {
        "id": "ctTmgstYkP92",
        "colab_type": "code",
        "outputId": "cf296df1-fee9-4f6b-d61b-4b3428a69470",
        "colab": {
          "base_uri": "https://localhost:8080/",
          "height": 34
        }
      },
      "source": [
        "shutil.move(ad_aug_dir, train_aug_dir)\n",
        "shutil.move(pv_aug_dir, train_aug_dir)\n",
        "shutil.move(sk_aug_dir, train_aug_dir)\n",
        "shutil.move(vt_aug_dir, train_aug_dir)"
      ],
      "execution_count": 22,
      "outputs": [
        {
          "output_type": "execute_result",
          "data": {
            "text/plain": [
              "'/content/data_folder/train_aug/vt_aug_dir'"
            ]
          },
          "metadata": {
            "tags": []
          },
          "execution_count": 22
        }
      ]
    },
    {
      "cell_type": "code",
      "metadata": {
        "id": "-z7H9ZRgHi3b",
        "colab_type": "code",
        "colab": {}
      },
      "source": [
        "train_gen = ImageDataGenerator(rescale=1. / 255)\n",
        "\n",
        "val_gen = ImageDataGenerator(rescale=1. / 255)\n",
        "\n",
        "test_gen = ImageDataGenerator(rescale=1. / 255)"
      ],
      "execution_count": 0,
      "outputs": []
    },
    {
      "cell_type": "code",
      "metadata": {
        "id": "BlgplBtnH1BP",
        "colab_type": "code",
        "outputId": "ee5120f7-d9aa-41a6-da73-895be43d5672",
        "colab": {
          "base_uri": "https://localhost:8080/",
          "height": 68
        }
      },
      "source": [
        "train_datagen = train_gen.flow_from_directory(batch_size=batch_size,\n",
        "                                          directory=train_aug_dir,\n",
        "                                          shuffle=True,\n",
        "                                          target_size=(img_size, img_size), #(224,224)\n",
        "                                          class_mode='categorical')\n",
        "val_datagen = val_gen.flow_from_directory(batch_size=batch_size,\n",
        "                                          directory=val_dir,\n",
        "                                          shuffle=True,\n",
        "                                          target_size=(img_size, img_size), #(224,224)\n",
        "                                          class_mode='categorical')\n",
        "test_datagen = test_gen.flow_from_directory(batch_size=batch_size,\n",
        "                                          directory=test_dir,\n",
        "                                          shuffle=False,\n",
        "                                          target_size=(img_size, img_size), #(224,224)\n",
        "                                          class_mode='categorical')"
      ],
      "execution_count": 24,
      "outputs": [
        {
          "output_type": "stream",
          "text": [
            "Found 1200 images belonging to 4 classes.\n",
            "Found 20 images belonging to 4 classes.\n",
            "Found 26 images belonging to 4 classes.\n"
          ],
          "name": "stdout"
        }
      ]
    },
    {
      "cell_type": "code",
      "metadata": {
        "id": "vwPgnFlsLUAr",
        "colab_type": "code",
        "colab": {}
      },
      "source": [
        "sample_training_images, _ = next(train_datagen)"
      ],
      "execution_count": 0,
      "outputs": []
    },
    {
      "cell_type": "code",
      "metadata": {
        "id": "JLEbM8KpLPKB",
        "colab_type": "code",
        "outputId": "883c5a75-bbb3-46a2-a967-e429dd612ed2",
        "colab": {
          "base_uri": "https://localhost:8080/",
          "height": 157
        }
      },
      "source": [
        "plotImages(sample_training_images[:5])"
      ],
      "execution_count": 26,
      "outputs": [
        {
          "output_type": "display_data",
          "data": {
            "image/png": "[encoded data removed]",
            "text/plain": [
              "<Figure size 720x720 with 5 Axes>"
            ]
          },
          "metadata": {
            "tags": []
          }
        }
      ]
    },
    {
      "cell_type": "code",
      "metadata": {
        "id": "RsQGt6YRH467",
        "colab_type": "code",
        "outputId": "958b848c-1bf5-43ae-ce3e-4810d96b1553",
        "colab": {
          "base_uri": "https://localhost:8080/",
          "height": 68
        }
      },
      "source": [
        "num_train_files = len(train_datagen.filenames)\n",
        "num_train_classes = len(train_datagen.class_indices)\n",
        "print('num_train_files', num_train_files, '&', 'num_train_classes', num_train_classes )\n",
        "\n",
        "num_val_files = len(val_datagen.filenames)\n",
        "num_val_classes = len(val_datagen.class_indices)\n",
        "print('num_val_files', num_val_files, '&', 'num_val_classes', num_val_classes )\n",
        "\n",
        "num_test_files = len(test_datagen.filenames)\n",
        "num_test_classes = len(test_datagen.class_indices)\n",
        "print('num_test_files', num_test_files, '&', 'num_test_classes', num_test_classes )"
      ],
      "execution_count": 27,
      "outputs": [
        {
          "output_type": "stream",
          "text": [
            "num_train_files 1200 & num_train_classes 4\n",
            "num_val_files 20 & num_val_classes 4\n",
            "num_test_files 26 & num_test_classes 4\n"
          ],
          "name": "stdout"
        }
      ]
    },
    {
      "cell_type": "code",
      "metadata": {
        "id": "ONZwRamYY3zc",
        "colab_type": "code",
        "colab": {}
      },
      "source": [
        "train_steps = np.ceil(num_train_files/batch_size)\n",
        "val_steps = np.ceil(num_val_files/batch_size)"
      ],
      "execution_count": 0,
      "outputs": []
    },
    {
      "cell_type": "markdown",
      "metadata": {
        "id": "VcOfcdC_pmmq",
        "colab_type": "text"
      },
      "source": [
        "# Base model\n"
      ]
    },
    {
      "cell_type": "code",
      "metadata": {
        "id": "EY7Gfww44UjK",
        "colab_type": "code",
        "colab": {}
      },
      "source": [
        "base_model = tf.keras.applications.nasnet.NASNetLarge(input_shape=(224, 224, 3), include_top=False, weights=None)"
      ],
      "execution_count": 0,
      "outputs": []
    },
    {
      "cell_type": "code",
      "metadata": {
        "id": "7npovEkc4itp",
        "colab_type": "code",
        "colab": {}
      },
      "source": [
        "base_model.trainable = False"
      ],
      "execution_count": 0,
      "outputs": []
    },
    {
      "cell_type": "code",
      "metadata": {
        "id": "Y0z3JkyY_4qg",
        "colab_type": "code",
        "colab": {}
      },
      "source": [
        "#base_model.summary()"
      ],
      "execution_count": 0,
      "outputs": []
    },
    {
      "cell_type": "code",
      "metadata": {
        "id": "HAdXjJ-9AZeH",
        "colab_type": "code",
        "outputId": "c868ce1a-ce40-4fcf-b32e-5ddf87f14aad",
        "colab": {
          "base_uri": "https://localhost:8080/",
          "height": 34
        }
      },
      "source": [
        "len(base_model.layers)"
      ],
      "execution_count": 32,
      "outputs": [
        {
          "output_type": "execute_result",
          "data": {
            "text/plain": [
              "1039"
            ]
          },
          "metadata": {
            "tags": []
          },
          "execution_count": 32
        }
      ]
    },
    {
      "cell_type": "markdown",
      "metadata": {
        "id": "mfZHWV71-ucQ",
        "colab_type": "text"
      },
      "source": [
        "# Head"
      ]
    },
    {
      "cell_type": "markdown",
      "metadata": {
        "id": "58ceWewlGgn_",
        "colab_type": "text"
      },
      "source": [
        "To generate predictions from the block of features, average over the spatial 5x5 spatial locations, using a tf.keras.layers.GlobalAveragePooling2D layer to convert the features to a single 1280-element vector per image."
      ]
    },
    {
      "cell_type": "code",
      "metadata": {
        "id": "1UztI6UewAr5",
        "colab_type": "code",
        "colab": {}
      },
      "source": [
        "average_pooling_layer = tf.keras.layers.GlobalAveragePooling2D()(base_model.output)\n",
        "prediction_layer = tf.keras.layers.Dense(units=4, activation='softmax')(average_pooling_layer)"
      ],
      "execution_count": 0,
      "outputs": []
    },
    {
      "cell_type": "code",
      "metadata": {
        "id": "KPYsbV5Lw75W",
        "colab_type": "code",
        "colab": {}
      },
      "source": [
        "model = tf.keras.models.Model(inputs=base_model.input, outputs=prediction_layer)"
      ],
      "execution_count": 0,
      "outputs": []
    },
    {
      "cell_type": "code",
      "metadata": {
        "id": "0jhNDcOr_j7M",
        "colab_type": "code",
        "colab": {}
      },
      "source": [
        "#model.summary()"
      ],
      "execution_count": 0,
      "outputs": []
    },
    {
      "cell_type": "code",
      "metadata": {
        "id": "E83qTmS8AUGS",
        "colab_type": "code",
        "outputId": "b58b11a8-12fe-41b7-8501-9022e40a3168",
        "colab": {
          "base_uri": "https://localhost:8080/",
          "height": 34
        }
      },
      "source": [
        "len(model.layers)"
      ],
      "execution_count": 36,
      "outputs": [
        {
          "output_type": "execute_result",
          "data": {
            "text/plain": [
              "1041"
            ]
          },
          "metadata": {
            "tags": []
          },
          "execution_count": 36
        }
      ]
    },
    {
      "cell_type": "markdown",
      "metadata": {
        "id": "nVk3gzFBMif-",
        "colab_type": "text"
      },
      "source": [
        "# Compile"
      ]
    },
    {
      "cell_type": "code",
      "metadata": {
        "id": "fCgL4L9eMj5U",
        "colab_type": "code",
        "colab": {}
      },
      "source": [
        "model.compile(optimizer='Adam', loss='categorical_crossentropy', metrics=['accuracy'])"
      ],
      "execution_count": 0,
      "outputs": []
    },
    {
      "cell_type": "code",
      "metadata": {
        "id": "wPw7FXTyeNSc",
        "colab_type": "code",
        "colab": {}
      },
      "source": [
        "# checkpoint = ModelCheckpoint(model_path, monitor='val_loss', verbose=1,\n",
        "#                              save_best_only=True, mode='max')"
      ],
      "execution_count": 0,
      "outputs": []
    },
    {
      "cell_type": "code",
      "metadata": {
        "id": "V982ZGNWeO5F",
        "colab_type": "code",
        "colab": {}
      },
      "source": [
        "early_stop = EarlyStopping(monitor='val_loss', mode='min', verbose=1, patience=10)"
      ],
      "execution_count": 0,
      "outputs": []
    },
    {
      "cell_type": "code",
      "metadata": {
        "id": "ZLs00UyNekYd",
        "colab_type": "code",
        "colab": {}
      },
      "source": [
        "# log_dir = '/content/drive/My Drive/โครงงานผื่น/PJ61403/implementation/CNN/NASNetMobile/tf-log/'\n",
        "# tb_cb = keras.callbacks.TensorBoard(log_dir=log_dir, histogram_freq=0, batch_size=32, write_graph=True, write_grads=False, write_images=False, embeddings_freq=0, embeddings_layer_names=None, embeddings_metadata=None, embeddings_data=None, update_freq='epoch')"
      ],
      "execution_count": 0,
      "outputs": []
    },
    {
      "cell_type": "code",
      "metadata": {
        "id": "xshroAIgeVgI",
        "colab_type": "code",
        "colab": {}
      },
      "source": [
        "cb_list = [early_stop]"
      ],
      "execution_count": 0,
      "outputs": []
    },
    {
      "cell_type": "markdown",
      "metadata": {
        "id": "PdB9odjM_-7t",
        "colab_type": "text"
      },
      "source": [
        "# Train"
      ]
    },
    {
      "cell_type": "code",
      "metadata": {
        "id": "-4h6TW-G_mIX",
        "colab_type": "code",
        "outputId": "06f5b5f6-0765-40f8-f331-0480dddde646",
        "colab": {
          "base_uri": "https://localhost:8080/",
          "height": 408
        }
      },
      "source": [
        "history = model.fit(train_datagen,\n",
        "                    steps_per_epoch=train_steps,\n",
        "                    validation_data=val_datagen,\n",
        "                    validation_steps=val_steps,\n",
        "                    epochs=epochs,\n",
        "                    verbose=1,\n",
        "                    callbacks=cb_list)"
      ],
      "execution_count": 42,
      "outputs": [
        {
          "output_type": "stream",
          "text": [
            "Epoch 1/100\n",
            "38/38 [==============================] - 25s 661ms/step - loss: 1.3798 - accuracy: 0.3600 - val_loss: 2.6522 - val_accuracy: 0.2500\n",
            "Epoch 2/100\n",
            "38/38 [==============================] - 19s 505ms/step - loss: 1.0290 - accuracy: 0.5900 - val_loss: 6.4513 - val_accuracy: 0.3000\n",
            "Epoch 3/100\n",
            "38/38 [==============================] - 19s 506ms/step - loss: 0.8438 - accuracy: 0.6950 - val_loss: 5.9064 - val_accuracy: 0.3000\n",
            "Epoch 4/100\n",
            "38/38 [==============================] - 19s 506ms/step - loss: 0.8144 - accuracy: 0.6733 - val_loss: 8.0317 - val_accuracy: 0.3000\n",
            "Epoch 5/100\n",
            "38/38 [==============================] - 19s 508ms/step - loss: 0.7357 - accuracy: 0.7300 - val_loss: 7.3509 - val_accuracy: 0.3000\n",
            "Epoch 6/100\n",
            "38/38 [==============================] - 19s 507ms/step - loss: 0.6871 - accuracy: 0.7525 - val_loss: 8.2263 - val_accuracy: 0.3000\n",
            "Epoch 7/100\n",
            "38/38 [==============================] - 19s 509ms/step - loss: 0.6564 - accuracy: 0.7567 - val_loss: 8.9396 - val_accuracy: 0.3000\n",
            "Epoch 8/100\n",
            "38/38 [==============================] - 19s 510ms/step - loss: 0.6138 - accuracy: 0.7825 - val_loss: 11.5429 - val_accuracy: 0.3000\n",
            "Epoch 9/100\n",
            "38/38 [==============================] - 20s 514ms/step - loss: 0.5487 - accuracy: 0.8142 - val_loss: 11.6597 - val_accuracy: 0.3000\n",
            "Epoch 10/100\n",
            "38/38 [==============================] - 20s 514ms/step - loss: 0.5435 - accuracy: 0.8108 - val_loss: 8.4325 - val_accuracy: 0.3000\n",
            "Epoch 11/100\n",
            "38/38 [==============================] - 19s 513ms/step - loss: 0.5306 - accuracy: 0.8125 - val_loss: 14.5687 - val_accuracy: 0.3000\n",
            "Epoch 00011: early stopping\n"
          ],
          "name": "stdout"
        }
      ]
    },
    {
      "cell_type": "markdown",
      "metadata": {
        "id": "bt0Y5Uo_E9z_",
        "colab_type": "text"
      },
      "source": [
        "# Google Drive"
      ]
    },
    {
      "cell_type": "code",
      "metadata": {
        "id": "YyCkSv9qCsc0",
        "colab_type": "code",
        "colab": {}
      },
      "source": [
        "# from google.colab import drive\n",
        "# drive.mount('/content/drive')"
      ],
      "execution_count": 0,
      "outputs": []
    },
    {
      "cell_type": "code",
      "metadata": {
        "id": "0aLGw1Hq0STH",
        "colab_type": "code",
        "colab": {
          "base_uri": "https://localhost:8080/",
          "height": 295
        },
        "outputId": "833a1c86-40ed-4de6-f90b-809d21fa1751"
      },
      "source": [
        "plt.plot(history.history['accuracy'])\n",
        "plt.plot(history.history['val_accuracy'])\n",
        "plt.ylabel('accuracy')\n",
        "plt.xlabel('epoch')\n",
        "plt.legend(['train', 'val'], loc='upper left')\n",
        "plt.title('accuracy')\n",
        "plt.show()"
      ],
      "execution_count": 45,
      "outputs": [
        {
          "output_type": "display_data",
          "data": {
            "image/png": "[encoded data removed]",
            "text/plain": [
              "<Figure size 432x288 with 1 Axes>"
            ]
          },
          "metadata": {
            "tags": []
          }
        }
      ]
    },
    {
      "cell_type": "code",
      "metadata": {
        "id": "BeOccqtd0t1c",
        "colab_type": "code",
        "colab": {
          "base_uri": "https://localhost:8080/",
          "height": 295
        },
        "outputId": "8eef1478-c7ad-4ac5-a403-8d6e04fd9bf6"
      },
      "source": [
        "plt.plot(history.history['loss'])\n",
        "plt.plot(history.history['val_loss'])\n",
        "plt.ylabel('loss')\n",
        "plt.xlabel('epoch')\n",
        "plt.legend(['train', 'val'], loc='upper left')\n",
        "plt.title('loss')\n",
        "plt.show()"
      ],
      "execution_count": 46,
      "outputs": [
        {
          "output_type": "display_data",
          "data": {
            "image/png": "[encoded data removed]",
            "text/plain": [
              "<Figure size 432x288 with 1 Axes>"
            ]
          },
          "metadata": {
            "tags": []
          }
        }
      ]
    },
    {
      "cell_type": "code",
      "metadata": {
        "id": "7Lv-jTIW1McM",
        "colab_type": "code",
        "colab": {
          "base_uri": "https://localhost:8080/",
          "height": 34
        },
        "outputId": "424a3841-d271-49d1-b0ec-c9c3acb16475"
      },
      "source": [
        "test_labels = test_datagen.classes\n",
        "predictions = model.predict_generator(test_datagen, steps=val_steps, verbose=1)"
      ],
      "execution_count": 54,
      "outputs": [
        {
          "output_type": "stream",
          "text": [
            "1/1 [==============================] - 0s 1ms/step\n"
          ],
          "name": "stdout"
        }
      ]
    },
    {
      "cell_type": "code",
      "metadata": {
        "id": "hpmFIkZ40yNs",
        "colab_type": "code",
        "colab": {
          "base_uri": "https://localhost:8080/",
          "height": 382
        },
        "outputId": "607f51f1-980f-4066-a5f2-c1ea52d0995e"
      },
      "source": [
        "cm = confusion_matrix(test_labels, predictions.argmax(axis=1))\n",
        "\n",
        "cm_plot_labels = ['AD', 'PV', 'SK', 'VT']\n",
        "\n",
        "plot_confusion_matrix(cm, cm_plot_labels)"
      ],
      "execution_count": 57,
      "outputs": [
        {
          "output_type": "stream",
          "text": [
            "Confusion matrix, without normalization\n",
            "[[7 0 0 0]\n",
            " [9 0 0 0]\n",
            " [7 0 0 0]\n",
            " [3 0 0 0]]\n"
          ],
          "name": "stdout"
        },
        {
          "output_type": "display_data",
          "data": {
            "image/png": "[encoded data removed]",
            "text/plain": [
              "<Figure size 432x288 with 2 Axes>"
            ]
          },
          "metadata": {
            "tags": []
          }
        }
      ]
    },
    {
      "cell_type": "code",
      "metadata": {
        "id": "NziG3M8f1lnt",
        "colab_type": "code",
        "colab": {
          "base_uri": "https://localhost:8080/",
          "height": 360
        },
        "outputId": "daac0c1e-2cbd-43ab-8652-da2ac60d3c88"
      },
      "source": [
        "Y_pred = model.predict_generator(test_datagen, num_test_files//batch_size+1)\n",
        "y_pred = np.argmax(Y_pred, axis=1)\n",
        "print('Confusion Matrix')\n",
        "print(confusion_matrix(test_datagen.classes, y_pred))\n",
        "print('Classification Report')\n",
        "classes_names = ['AD', 'PV', 'SK', 'VT']\n",
        "print(classification_report(test_datagen.classes, y_pred, target_names=classes_names))"
      ],
      "execution_count": 59,
      "outputs": [
        {
          "output_type": "stream",
          "text": [
            "Confusion Matrix\n",
            "[[7 0 0 0]\n",
            " [9 0 0 0]\n",
            " [7 0 0 0]\n",
            " [3 0 0 0]]\n",
            "Classification Report\n",
            "              precision    recall  f1-score   support\n",
            "\n",
            "          AD       0.27      1.00      0.42         7\n",
            "          PV       0.00      0.00      0.00         9\n",
            "          SK       0.00      0.00      0.00         7\n",
            "          VT       0.00      0.00      0.00         3\n",
            "\n",
            "    accuracy                           0.27        26\n",
            "   macro avg       0.07      0.25      0.11        26\n",
            "weighted avg       0.07      0.27      0.11        26\n",
            "\n"
          ],
          "name": "stdout"
        },
        {
          "output_type": "stream",
          "text": [
            "/usr/local/lib/python3.6/dist-packages/sklearn/metrics/_classification.py:1272: UndefinedMetricWarning: Precision and F-score are ill-defined and being set to 0.0 in labels with no predicted samples. Use `zero_division` parameter to control this behavior.\n",
            "  _warn_prf(average, modifier, msg_start, len(result))\n"
          ],
          "name": "stderr"
        }
      ]
    },
    {
      "cell_type": "code",
      "metadata": {
        "id": "tR-6zgLi1taY",
        "colab_type": "code",
        "colab": {}
      },
      "source": [
        ""
      ],
      "execution_count": 0,
      "outputs": []
    }
  ]
}