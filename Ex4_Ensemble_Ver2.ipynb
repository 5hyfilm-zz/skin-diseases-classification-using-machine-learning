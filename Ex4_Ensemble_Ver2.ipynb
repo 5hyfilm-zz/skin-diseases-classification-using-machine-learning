{
  "nbformat": 4,
  "nbformat_minor": 0,
  "metadata": {
    "colab": {
      "name": "Ex4_Ensemble_Ver2.ipynb",
      "provenance": [],
      "collapsed_sections": [],
      "toc_visible": true,
      "authorship_tag": "ABX9TyM1AqZWpii5tGharO5unaKK",
      "include_colab_link": true
    },
    "kernelspec": {
      "name": "python3",
      "display_name": "Python 3"
    }
  },
  "cells": [
    {
      "cell_type": "markdown",
      "metadata": {
        "id": "view-in-github",
        "colab_type": "text"
      },
      "source": [
        "<a href=\"https://colab.research.google.com/github/fxlmer/Skin-Diseases-Classification-Using-Machine-Learning/blob/master/Ex4_Ensemble_Ver2.ipynb\" target=\"_parent\"><img src=\"https://colab.research.google.com/assets/colab-badge.svg\" alt=\"Open In Colab\"/></a>"
      ]
    },
    {
      "cell_type": "markdown",
      "metadata": {
        "id": "Z3Um7BuCQcK_"
      },
      "source": [
        "# Import Libraries"
      ]
    },
    {
      "cell_type": "code",
      "metadata": {
        "id": "C1V7OPXIPI-H"
      },
      "source": [
        "import tensorflow as tf\n",
        "from tensorflow import keras\n",
        "import numpy as np\n",
        "from sklearn.metrics import classification_report, confusion_matrix\n",
        "from tensorflow.keras.preprocessing.image import ImageDataGenerator, load_img, img_to_array\n",
        "from pj61403_utils_functions_Ver2 import *"
      ],
      "execution_count": 1,
      "outputs": []
    },
    {
      "cell_type": "markdown",
      "metadata": {
        "id": "1LXVFk2KSDn-"
      },
      "source": [
        "# Git Clone"
      ]
    },
    {
      "cell_type": "code",
      "metadata": {
        "colab": {
          "base_uri": "https://localhost:8080/"
        },
        "id": "vRqzcjcTQb3p",
        "outputId": "114c901d-16e6-4220-abd4-70981608a5e5"
      },
      "source": [
        "!git clone https://github.com/EvilPickle-PCSHSPT/PJ61403_DATA_split_50-25-25\n",
        "\n",
        "!git clone https://github.com/fxlmer/Skin-Diseases-Classification-Using-Machine-Learning"
      ],
      "execution_count": 2,
      "outputs": [
        {
          "output_type": "stream",
          "text": [
            "fatal: destination path 'PJ61403_DATA_split_50-25-25' already exists and is not an empty directory.\n",
            "fatal: destination path 'Skin-Diseases-Classification-Using-Machine-Learning' already exists and is not an empty directory.\n"
          ],
          "name": "stdout"
        }
      ]
    },
    {
      "cell_type": "markdown",
      "metadata": {
        "id": "z37pUT5NSJgH"
      },
      "source": [
        "# WIDTH AND HEIGHT"
      ]
    },
    {
      "cell_type": "code",
      "metadata": {
        "id": "GvC-U-IuROxl"
      },
      "source": [
        "IMG_WIDTH = 224\n",
        "IMG_HEIGHT = 224\n",
        "\n",
        "NUM_CLASSES = 4"
      ],
      "execution_count": 3,
      "outputs": []
    },
    {
      "cell_type": "code",
      "metadata": {
        "colab": {
          "base_uri": "https://localhost:8080/"
        },
        "id": "pAk_e-P_RRhP",
        "outputId": "424fa0f5-7c52-4a3f-c6b6-d5da536d9a06"
      },
      "source": [
        "test_path = '/content/PJ61403_DATA_split_50-25-25/Ver2/crop_split_classes_data_Ver2/cc_test'\n",
        "\n",
        "test_data = tf.keras.preprocessing.image.ImageDataGenerator(rescale=1./255)\n",
        "\n",
        "test_generator = test_data.flow_from_directory(directory=test_path,\n",
        "                                               target_size=(IMG_WIDTH, IMG_HEIGHT),\n",
        "                                               batch_size=1,\n",
        "                                               shuffle=False,\n",
        "                                               class_mode=None)\n",
        "\n",
        "test_labels = test_generator.classes"
      ],
      "execution_count": 4,
      "outputs": [
        {
          "output_type": "stream",
          "text": [
            "Found 63 images belonging to 4 classes.\n"
          ],
          "name": "stdout"
        }
      ]
    },
    {
      "cell_type": "markdown",
      "metadata": {
        "id": "GZdrTZfFRUtl"
      },
      "source": [
        "# Arithmetic Mean Ensemble"
      ]
    },
    {
      "cell_type": "code",
      "metadata": {
        "id": "iiB2aaNARUTF"
      },
      "source": [
        "def ArithmeticMean_ensemble(test_data, model_1, model_2, model_3):\n",
        "  model_1 = tf.keras.models.load_model(model_1)\n",
        "  model_2 = tf.keras.models.load_model(model_2)\n",
        "  model_3 = tf.keras.models.load_model(model_3)\n",
        "  ans_1 = model_1.predict(test_data)\n",
        "  ans_2 = model_2.predict(test_data)\n",
        "  ans_3 = model_3.predict(test_data)\n",
        "  all_answer_list = []\n",
        "  for i in range(len(ans_1)):\n",
        "    answer_list = []\n",
        "    for j in range(len(ans_1[i])):\n",
        "      mean_ans = (ans_1[i][j] + ans_2[i][j] + ans_3[i][j])/3\n",
        "      answer_list.append(mean_ans)\n",
        "    all_answer_list.append(answer_list)\n",
        "  return all_answer_list"
      ],
      "execution_count": 5,
      "outputs": []
    },
    {
      "cell_type": "code",
      "metadata": {
        "id": "Tbn23h8WR5kn"
      },
      "source": [
        "ensemble_ans = ArithmeticMean_ensemble(test_generator, '/content/Skin-Diseases-Classification-Using-Machine-Learning/PJ61403_work_Ver2/Ex3/model_weights/Ex3_PJ61403_DenseNet121_Oversampling_model_Ver2.h5', '/content/Skin-Diseases-Classification-Using-Machine-Learning/PJ61403_work_Ver2/Ex3/model_weights/Ex3_PJ61403_DenseNet121_ClassWeights_model_Ver2.h5', '/content/Skin-Diseases-Classification-Using-Machine-Learning/PJ61403_work_Ver2/Ex3/model_weights/Ex3_PJ61403_DenseNet121_FocalLoss_model_Ver2.h5')"
      ],
      "execution_count": 6,
      "outputs": []
    },
    {
      "cell_type": "code",
      "metadata": {
        "id": "lCoIU5NJSR0m"
      },
      "source": [
        "ensemble_ans_array = np.asarray(ensemble_ans)"
      ],
      "execution_count": 7,
      "outputs": []
    },
    {
      "cell_type": "markdown",
      "metadata": {
        "id": "Tc_dC5_1SNuF"
      },
      "source": [
        "# Evaluation"
      ]
    },
    {
      "cell_type": "code",
      "metadata": {
        "id": "7VpSBjTTSOzv"
      },
      "source": [
        "classes_names = ['ad', 'nm', 'ps', 'sk']"
      ],
      "execution_count": 8,
      "outputs": []
    },
    {
      "cell_type": "markdown",
      "metadata": {
        "id": "i_Yqxi0gTEHf"
      },
      "source": [
        "## Confusion Matrix"
      ]
    },
    {
      "cell_type": "code",
      "metadata": {
        "id": "12iIDoOdSU8P"
      },
      "source": [
        "cm = confusion_matrix(test_labels, ensemble_ans_array.argmax(axis=1))"
      ],
      "execution_count": 9,
      "outputs": []
    },
    {
      "cell_type": "markdown",
      "metadata": {
        "id": "85nNlhPKTBJ5"
      },
      "source": [
        "### Without Normalize"
      ]
    },
    {
      "cell_type": "code",
      "metadata": {
        "colab": {
          "base_uri": "https://localhost:8080/",
          "height": 382
        },
        "id": "TtedIxxqSWl2",
        "outputId": "a4c4d349-1ac4-4ce0-8b40-ea4909d655cf"
      },
      "source": [
        "plot_confusion_matrix(cm, classes_names, False)"
      ],
      "execution_count": 10,
      "outputs": [
        {
          "output_type": "stream",
          "text": [
            "Confusion matrix, without normalization\n",
            "[[17  0  0  0]\n",
            " [ 0 15  0  0]\n",
            " [ 0  0 16  0]\n",
            " [ 0  0  0 15]]\n"
          ],
          "name": "stdout"
        },
        {
          "output_type": "display_data",
          "data": {
            "image/png": "[encoded data removed]",
            "text/plain": [
              "<Figure size 432x288 with 2 Axes>"
            ]
          },
          "metadata": {
            "tags": [],
            "needs_background": "light"
          }
        }
      ]
    },
    {
      "cell_type": "markdown",
      "metadata": {
        "id": "jS42OR5MTAgk"
      },
      "source": [
        "### With Normalize"
      ]
    },
    {
      "cell_type": "code",
      "metadata": {
        "colab": {
          "base_uri": "https://localhost:8080/",
          "height": 382
        },
        "id": "uxoCbs8BSY0G",
        "outputId": "f72cebd9-9cbe-404e-c8dc-0b2dbd9dd31b"
      },
      "source": [
        "plot_confusion_matrix(cm, classes_names, True)"
      ],
      "execution_count": 11,
      "outputs": [
        {
          "output_type": "stream",
          "text": [
            "Normalized confusion matrix\n",
            "[[1. 0. 0. 0.]\n",
            " [0. 1. 0. 0.]\n",
            " [0. 0. 1. 0.]\n",
            " [0. 0. 0. 1.]]\n"
          ],
          "name": "stdout"
        },
        {
          "output_type": "display_data",
          "data": {
            "image/png": "[encoded data removed]",
            "text/plain": [
              "<Figure size 432x288 with 2 Axes>"
            ]
          },
          "metadata": {
            "tags": [],
            "needs_background": "light"
          }
        }
      ]
    },
    {
      "cell_type": "markdown",
      "metadata": {
        "id": "swJm8mpOS5oP"
      },
      "source": [
        "## Classification Report"
      ]
    },
    {
      "cell_type": "code",
      "metadata": {
        "colab": {
          "base_uri": "https://localhost:8080/"
        },
        "id": "Se08xz8vSbwd",
        "outputId": "511d8584-8354-459d-fb64-618f58c87df0"
      },
      "source": [
        "y_pred = np.argmax(ensemble_ans_array, axis=1)\n",
        "print('Classification Report')\n",
        "print(classification_report(test_labels, y_pred, target_names=classes_names))"
      ],
      "execution_count": 12,
      "outputs": [
        {
          "output_type": "stream",
          "text": [
            "Classification Report\n",
            "              precision    recall  f1-score   support\n",
            "\n",
            "          ad       1.00      1.00      1.00        17\n",
            "          nm       1.00      1.00      1.00        15\n",
            "          ps       1.00      1.00      1.00        16\n",
            "          sk       1.00      1.00      1.00        15\n",
            "\n",
            "    accuracy                           1.00        63\n",
            "   macro avg       1.00      1.00      1.00        63\n",
            "weighted avg       1.00      1.00      1.00        63\n",
            "\n"
          ],
          "name": "stdout"
        }
      ]
    },
    {
      "cell_type": "markdown",
      "metadata": {
        "id": "s4rLoYN6EwTq"
      },
      "source": [
        "## TP FP FN TN"
      ]
    },
    {
      "cell_type": "code",
      "metadata": {
        "id": "iRlq6RO7VDaK"
      },
      "source": [
        "cm_2 = confusion_matrix(test_labels, y_pred)"
      ],
      "execution_count": 13,
      "outputs": []
    },
    {
      "cell_type": "markdown",
      "metadata": {
        "id": "fhkBPWt5Etef"
      },
      "source": [
        "### TP"
      ]
    },
    {
      "cell_type": "code",
      "metadata": {
        "id": "jBsziCDiEpjt"
      },
      "source": [
        "TruePositive= np.diag(cm_2)"
      ],
      "execution_count": 14,
      "outputs": []
    },
    {
      "cell_type": "code",
      "metadata": {
        "colab": {
          "base_uri": "https://localhost:8080/"
        },
        "id": "Rv-1XwHyEq4q",
        "outputId": "cd9d87c2-2252-4e97-d6d1-49ff9eee01b7"
      },
      "source": [
        "print(TruePositive)\n",
        "sumTruePositive = sum(TruePositive)\n",
        "print('Sum of True Positive: ', sumTruePositive)"
      ],
      "execution_count": 15,
      "outputs": [
        {
          "output_type": "stream",
          "text": [
            "[17 15 16 15]\n",
            "Sum of True Positive:  63\n"
          ],
          "name": "stdout"
        }
      ]
    },
    {
      "cell_type": "markdown",
      "metadata": {
        "id": "1hpRaQNHFIvi"
      },
      "source": [
        "### FP"
      ]
    },
    {
      "cell_type": "code",
      "metadata": {
        "id": "57tEav8XEsWY"
      },
      "source": [
        "FalsePositive = []\n",
        "for i in range(NUM_CLASSES):\n",
        "    FalsePositive.append(sum(cm_2[:,i]) - cm_2[i,i])"
      ],
      "execution_count": 16,
      "outputs": []
    },
    {
      "cell_type": "code",
      "metadata": {
        "colab": {
          "base_uri": "https://localhost:8080/"
        },
        "id": "rwNpHYsyFMft",
        "outputId": "249fc961-7bba-442f-dbc9-3e04d3ee0200"
      },
      "source": [
        "print(FalsePositive)\n",
        "sumFalsePositive = sum(FalsePositive)\n",
        "print('Sum of False Positive: ', sumFalsePositive)"
      ],
      "execution_count": 17,
      "outputs": [
        {
          "output_type": "stream",
          "text": [
            "[0, 0, 0, 0]\n",
            "Sum of False Positive:  0\n"
          ],
          "name": "stdout"
        }
      ]
    },
    {
      "cell_type": "markdown",
      "metadata": {
        "id": "5SpsxRkzFXGu"
      },
      "source": [
        "### FN"
      ]
    },
    {
      "cell_type": "code",
      "metadata": {
        "id": "BHtD_A3RFM-k"
      },
      "source": [
        "FalseNegative = []\n",
        "for i in range(NUM_CLASSES):\n",
        "    FalseNegative.append(sum(cm_2[i,:]) - cm_2[i,i])"
      ],
      "execution_count": 18,
      "outputs": []
    },
    {
      "cell_type": "code",
      "metadata": {
        "colab": {
          "base_uri": "https://localhost:8080/"
        },
        "id": "A-OVCKTQFaJW",
        "outputId": "993b32df-a88c-4a47-9baf-7429b610b726"
      },
      "source": [
        "print(FalseNegative)\n",
        "sumFalseNegative = sum(FalseNegative)\n",
        "print('Sum of False Negative: ', sumFalseNegative)"
      ],
      "execution_count": 19,
      "outputs": [
        {
          "output_type": "stream",
          "text": [
            "[0, 0, 0, 0]\n",
            "Sum of False Negative:  0\n"
          ],
          "name": "stdout"
        }
      ]
    },
    {
      "cell_type": "markdown",
      "metadata": {
        "id": "kj1DhMSyFcpt"
      },
      "source": [
        "### TN"
      ]
    },
    {
      "cell_type": "code",
      "metadata": {
        "id": "C83BDeGBFaYx"
      },
      "source": [
        "TrueNegative = []\n",
        "for i in range(NUM_CLASSES):\n",
        "    temp = np.delete(cm_2, i, 0)   # delete ith row\n",
        "    temp = np.delete(temp, i, 1)  # delete ith column\n",
        "    TrueNegative.append(sum(sum(temp)))"
      ],
      "execution_count": 20,
      "outputs": []
    },
    {
      "cell_type": "code",
      "metadata": {
        "colab": {
          "base_uri": "https://localhost:8080/"
        },
        "id": "ohGV7sH_FgRE",
        "outputId": "27a31366-85ef-4826-cfdd-0fb8ac99e420"
      },
      "source": [
        "print(TrueNegative)\n",
        "sumTrueNegative = sum(TrueNegative)\n",
        "print('Sum of True Negative: ', sumTrueNegative)"
      ],
      "execution_count": 21,
      "outputs": [
        {
          "output_type": "stream",
          "text": [
            "[46, 48, 47, 48]\n",
            "Sum of True Negative:  189\n"
          ],
          "name": "stdout"
        }
      ]
    },
    {
      "cell_type": "markdown",
      "metadata": {
        "id": "1KtKR7gEFk_H"
      },
      "source": [
        "### Check TP + FP +FN + TN = Test set"
      ]
    },
    {
      "cell_type": "code",
      "metadata": {
        "colab": {
          "base_uri": "https://localhost:8080/"
        },
        "id": "LiInHus9FhGr",
        "outputId": "62f89d6b-8924-4239-a2eb-7ed0d67a6745"
      },
      "source": [
        "l = len(test_labels)\n",
        "for i in range(NUM_CLASSES):\n",
        "    print(TruePositive[i] + FalsePositive[i] + FalseNegative[i] + TrueNegative[i] == l)"
      ],
      "execution_count": 22,
      "outputs": [
        {
          "output_type": "stream",
          "text": [
            "True\n",
            "True\n",
            "True\n",
            "True\n"
          ],
          "name": "stdout"
        }
      ]
    },
    {
      "cell_type": "markdown",
      "metadata": {
        "id": "Y3cAcLXHFn2_"
      },
      "source": [
        "## PYCM"
      ]
    },
    {
      "cell_type": "code",
      "metadata": {
        "colab": {
          "base_uri": "https://localhost:8080/"
        },
        "id": "BdArakIdFjxR",
        "outputId": "5a23d148-7bf2-4d94-db68-228d9652bdd0"
      },
      "source": [
        "!pip3 install pycm==3.0"
      ],
      "execution_count": 23,
      "outputs": [
        {
          "output_type": "stream",
          "text": [
            "Requirement already satisfied: pycm==3.0 in /usr/local/lib/python3.7/dist-packages (3.0)\n",
            "Requirement already satisfied: numpy>=1.9.0 in /usr/local/lib/python3.7/dist-packages (from pycm==3.0) (1.19.5)\n",
            "Requirement already satisfied: art>=1.8 in /usr/local/lib/python3.7/dist-packages (from pycm==3.0) (5.1)\n"
          ],
          "name": "stdout"
        }
      ]
    },
    {
      "cell_type": "code",
      "metadata": {
        "id": "Cjrq9GwvFqZe"
      },
      "source": [
        "from pycm import *"
      ],
      "execution_count": 24,
      "outputs": []
    },
    {
      "cell_type": "code",
      "metadata": {
        "id": "4YpXd7uBFsBk"
      },
      "source": [
        "py_cm = ConfusionMatrix(actual_vector=test_labels, predict_vector=y_pred)"
      ],
      "execution_count": 25,
      "outputs": []
    },
    {
      "cell_type": "code",
      "metadata": {
        "colab": {
          "base_uri": "https://localhost:8080/"
        },
        "id": "xnNXUzGpFuMb",
        "outputId": "747ff85f-babc-42e9-aa32-678a39b3f362"
      },
      "source": [
        "py_cm.classes"
      ],
      "execution_count": 26,
      "outputs": [
        {
          "output_type": "execute_result",
          "data": {
            "text/plain": [
              "[0, 1, 2, 3]"
            ]
          },
          "metadata": {
            "tags": []
          },
          "execution_count": 26
        }
      ]
    },
    {
      "cell_type": "code",
      "metadata": {
        "colab": {
          "base_uri": "https://localhost:8080/"
        },
        "id": "vE_G8mqiFuk-",
        "outputId": "bec99e24-9919-488c-bf82-e67f99386514"
      },
      "source": [
        "py_cm.table"
      ],
      "execution_count": 27,
      "outputs": [
        {
          "output_type": "execute_result",
          "data": {
            "text/plain": [
              "{0: {0: 17, 1: 0, 2: 0, 3: 0},\n",
              " 1: {0: 0, 1: 15, 2: 0, 3: 0},\n",
              " 2: {0: 0, 1: 0, 2: 16, 3: 0},\n",
              " 3: {0: 0, 1: 0, 2: 0, 3: 15}}"
            ]
          },
          "metadata": {
            "tags": []
          },
          "execution_count": 27
        }
      ]
    },
    {
      "cell_type": "code",
      "metadata": {
        "colab": {
          "base_uri": "https://localhost:8080/"
        },
        "id": "fyjabBziFwBH",
        "outputId": "414b4876-9287-400d-ae25-d0ce6dce770f"
      },
      "source": [
        "print(py_cm)"
      ],
      "execution_count": 28,
      "outputs": [
        {
          "output_type": "stream",
          "text": [
            "Predict  0        1        2        3        \n",
            "Actual\n",
            "0        17       0        0        0        \n",
            "\n",
            "1        0        15       0        0        \n",
            "\n",
            "2        0        0        16       0        \n",
            "\n",
            "3        0        0        0        15       \n",
            "\n",
            "\n",
            "\n",
            "\n",
            "\n",
            "Overall Statistics : \n",
            "\n",
            "95% CI                                                            (1.0,1.0)\n",
            "ACC Macro                                                         1.0\n",
            "ARI                                                               1.0\n",
            "AUNP                                                              1.0\n",
            "AUNU                                                              1.0\n",
            "Bangdiwala B                                                      1.0\n",
            "Bennett S                                                         1.0\n",
            "CBA                                                               1.0\n",
            "CSI                                                               1.0\n",
            "Chi-Squared                                                       189.0\n",
            "Chi-Squared DF                                                    9\n",
            "Conditional Entropy                                               -0.0\n",
            "Cramer V                                                          1.0\n",
            "Cross Entropy                                                     1.99802\n",
            "F1 Macro                                                          1.0\n",
            "F1 Micro                                                          1.0\n",
            "FNR Macro                                                         0.0\n",
            "FNR Micro                                                         0.0\n",
            "FPR Macro                                                         0.0\n",
            "FPR Micro                                                         0.0\n",
            "Gwet AC1                                                          1.0\n",
            "Hamming Loss                                                      0.0\n",
            "Joint Entropy                                                     1.99802\n",
            "KL Divergence                                                     0.0\n",
            "Kappa                                                             1.0\n",
            "Kappa 95% CI                                                      (1.0,1.0)\n",
            "Kappa No Prevalence                                               1.0\n",
            "Kappa Standard Error                                              0.0\n",
            "Kappa Unbiased                                                    1.0\n",
            "Krippendorff Alpha                                                1.0\n",
            "Lambda A                                                          1.0\n",
            "Lambda B                                                          1.0\n",
            "Mutual Information                                                1.99802\n",
            "NIR                                                               0.26984\n",
            "Overall ACC                                                       1.0\n",
            "Overall CEN                                                       0.0\n",
            "Overall J                                                         (4.0,1.0)\n",
            "Overall MCC                                                       1.0\n",
            "Overall MCEN                                                      0.0\n",
            "Overall RACC                                                      0.25069\n",
            "Overall RACCU                                                     0.25069\n",
            "P-Value                                                           -0.0\n",
            "PPV Macro                                                         1.0\n",
            "PPV Micro                                                         1.0\n",
            "Pearson C                                                         0.86603\n",
            "Phi-Squared                                                       3.0\n",
            "RCI                                                               1.0\n",
            "RR                                                                15.75\n",
            "Reference Entropy                                                 1.99802\n",
            "Response Entropy                                                  1.99802\n",
            "SOA1(Landis & Koch)                                               Almost Perfect\n",
            "SOA2(Fleiss)                                                      Excellent\n",
            "SOA3(Altman)                                                      Very Good\n",
            "SOA4(Cicchetti)                                                   Excellent\n",
            "SOA5(Cramer)                                                      Very Strong\n",
            "SOA6(Matthews)                                                    Very Strong\n",
            "Scott PI                                                          1.0\n",
            "Standard Error                                                    0.0\n",
            "TNR Macro                                                         1.0\n",
            "TNR Micro                                                         1.0\n",
            "TPR Macro                                                         1.0\n",
            "TPR Micro                                                         1.0\n",
            "Zero-one Loss                                                     0\n",
            "\n",
            "Class Statistics :\n",
            "\n",
            "Classes                                                           0             1             2             3             \n",
            "ACC(Accuracy)                                                     1.0           1.0           1.0           1.0           \n",
            "AGF(Adjusted F-score)                                             1.0           1.0           1.0           1.0           \n",
            "AGM(Adjusted geometric mean)                                      1.0           1.0           1.0           1.0           \n",
            "AM(Difference between automatic and manual classification)        0             0             0             0             \n",
            "AUC(Area under the ROC curve)                                     1.0           1.0           1.0           1.0           \n",
            "AUCI(AUC value interpretation)                                    Excellent     Excellent     Excellent     Excellent     \n",
            "AUPR(Area under the PR curve)                                     1.0           1.0           1.0           1.0           \n",
            "BCD(Bray-Curtis dissimilarity)                                    0.0           0.0           0.0           0.0           \n",
            "BM(Informedness or bookmaker informedness)                        1.0           1.0           1.0           1.0           \n",
            "CEN(Confusion entropy)                                            0             0             0             0             \n",
            "DOR(Diagnostic odds ratio)                                        None          None          None          None          \n",
            "DP(Discriminant power)                                            None          None          None          None          \n",
            "DPI(Discriminant power interpretation)                            None          None          None          None          \n",
            "ERR(Error rate)                                                   0.0           0.0           0.0           0.0           \n",
            "F0.5(F0.5 score)                                                  1.0           1.0           1.0           1.0           \n",
            "F1(F1 score - harmonic mean of precision and sensitivity)         1.0           1.0           1.0           1.0           \n",
            "F2(F2 score)                                                      1.0           1.0           1.0           1.0           \n",
            "FDR(False discovery rate)                                         0.0           0.0           0.0           0.0           \n",
            "FN(False negative/miss/type 2 error)                              0             0             0             0             \n",
            "FNR(Miss rate or false negative rate)                             0.0           0.0           0.0           0.0           \n",
            "FOR(False omission rate)                                          0.0           0.0           0.0           0.0           \n",
            "FP(False positive/type 1 error/false alarm)                       0             0             0             0             \n",
            "FPR(Fall-out or false positive rate)                              0.0           0.0           0.0           0.0           \n",
            "G(G-measure geometric mean of precision and sensitivity)          1.0           1.0           1.0           1.0           \n",
            "GI(Gini index)                                                    1.0           1.0           1.0           1.0           \n",
            "GM(G-mean geometric mean of specificity and sensitivity)          1.0           1.0           1.0           1.0           \n",
            "IBA(Index of balanced accuracy)                                   1.0           1.0           1.0           1.0           \n",
            "ICSI(Individual classification success index)                     1.0           1.0           1.0           1.0           \n",
            "IS(Information score)                                             1.88982       2.07039       1.97728       2.07039       \n",
            "J(Jaccard index)                                                  1.0           1.0           1.0           1.0           \n",
            "LS(Lift score)                                                    3.70588       4.2           3.9375        4.2           \n",
            "MCC(Matthews correlation coefficient)                             1.0           1.0           1.0           1.0           \n",
            "MCCI(Matthews correlation coefficient interpretation)             Very Strong   Very Strong   Very Strong   Very Strong   \n",
            "MCEN(Modified confusion entropy)                                  0             0             0             0             \n",
            "MK(Markedness)                                                    1.0           1.0           1.0           1.0           \n",
            "N(Condition negative)                                             46            48            47            48            \n",
            "NLR(Negative likelihood ratio)                                    0.0           0.0           0.0           0.0           \n",
            "NLRI(Negative likelihood ratio interpretation)                    Good          Good          Good          Good          \n",
            "NPV(Negative predictive value)                                    1.0           1.0           1.0           1.0           \n",
            "OC(Overlap coefficient)                                           1.0           1.0           1.0           1.0           \n",
            "OOC(Otsuka-Ochiai coefficient)                                    1.0           1.0           1.0           1.0           \n",
            "OP(Optimized precision)                                           1.0           1.0           1.0           1.0           \n",
            "P(Condition positive or support)                                  17            15            16            15            \n",
            "PLR(Positive likelihood ratio)                                    None          None          None          None          \n",
            "PLRI(Positive likelihood ratio interpretation)                    None          None          None          None          \n",
            "POP(Population)                                                   63            63            63            63            \n",
            "PPV(Precision or positive predictive value)                       1.0           1.0           1.0           1.0           \n",
            "PRE(Prevalence)                                                   0.26984       0.2381        0.25397       0.2381        \n",
            "Q(Yule Q - coefficient of colligation)                            None          None          None          None          \n",
            "QI(Yule Q interpretation)                                         None          None          None          None          \n",
            "RACC(Random accuracy)                                             0.07281       0.05669       0.0645        0.05669       \n",
            "RACCU(Random accuracy unbiased)                                   0.07281       0.05669       0.0645        0.05669       \n",
            "TN(True negative/correct rejection)                               46            48            47            48            \n",
            "TNR(Specificity or true negative rate)                            1.0           1.0           1.0           1.0           \n",
            "TON(Test outcome negative)                                        46            48            47            48            \n",
            "TOP(Test outcome positive)                                        17            15            16            15            \n",
            "TP(True positive/hit)                                             17            15            16            15            \n",
            "TPR(Sensitivity, recall, hit rate, or true positive rate)         1.0           1.0           1.0           1.0           \n",
            "Y(Youden index)                                                   1.0           1.0           1.0           1.0           \n",
            "dInd(Distance index)                                              0.0           0.0           0.0           0.0           \n",
            "sInd(Similarity index)                                            1.0           1.0           1.0           1.0           \n",
            "\n"
          ],
          "name": "stdout"
        }
      ]
    },
    {
      "cell_type": "markdown",
      "metadata": {
        "id": "9LQe4FLgF0Du"
      },
      "source": [
        "### Average AUC"
      ]
    },
    {
      "cell_type": "code",
      "metadata": {
        "id": "AR1wDKd2FxES"
      },
      "source": [
        "AV_AUC = (py_cm.AUC[0] + py_cm.AUC[1] + py_cm.AUC[2] + py_cm.AUC[3])/len(py_cm.AUC)"
      ],
      "execution_count": 29,
      "outputs": []
    },
    {
      "cell_type": "code",
      "metadata": {
        "colab": {
          "base_uri": "https://localhost:8080/"
        },
        "id": "GHpXK4OUF4HB",
        "outputId": "9bc576e9-4f52-4102-e2d4-a7980af61599"
      },
      "source": [
        "print('Average AUC: ', AV_AUC)"
      ],
      "execution_count": 30,
      "outputs": [
        {
          "output_type": "stream",
          "text": [
            "Average AUC:  1.0\n"
          ],
          "name": "stdout"
        }
      ]
    },
    {
      "cell_type": "markdown",
      "metadata": {
        "id": "HEPpr4dcGC73"
      },
      "source": [
        "### Average Senstivity"
      ]
    },
    {
      "cell_type": "code",
      "metadata": {
        "id": "FS5n51G7F5er"
      },
      "source": [
        "AV_Sens = (py_cm.TPR[0] + py_cm.TPR[1] + py_cm.TPR[2] + py_cm.TPR[3])/len(py_cm.TPR)"
      ],
      "execution_count": 31,
      "outputs": []
    },
    {
      "cell_type": "code",
      "metadata": {
        "colab": {
          "base_uri": "https://localhost:8080/"
        },
        "id": "EaFC3QjFF8Fx",
        "outputId": "a61eb45e-9268-42ec-ac29-1b2963b09bda"
      },
      "source": [
        "print('Average Sensitivity: ', AV_Sens)"
      ],
      "execution_count": 32,
      "outputs": [
        {
          "output_type": "stream",
          "text": [
            "Average Sensitivity:  1.0\n"
          ],
          "name": "stdout"
        }
      ]
    },
    {
      "cell_type": "markdown",
      "metadata": {
        "id": "bPv-h-elGA5V"
      },
      "source": [
        "### Average Specificity"
      ]
    },
    {
      "cell_type": "code",
      "metadata": {
        "id": "asX7SGbWF9MY"
      },
      "source": [
        "AV_Spec = (py_cm.TNR[0] + py_cm.TNR[1] + py_cm.TNR[2] + py_cm.TNR[3])/len(py_cm.TNR)"
      ],
      "execution_count": 33,
      "outputs": []
    },
    {
      "cell_type": "code",
      "metadata": {
        "colab": {
          "base_uri": "https://localhost:8080/"
        },
        "id": "AUmjMW05GAWy",
        "outputId": "fdea5682-221e-4b25-cdc4-96d43656d229"
      },
      "source": [
        "print('Average Specificity: ', AV_Spec)"
      ],
      "execution_count": 34,
      "outputs": [
        {
          "output_type": "stream",
          "text": [
            "Average Specificity:  1.0\n"
          ],
          "name": "stdout"
        }
      ]
    }
  ]
}