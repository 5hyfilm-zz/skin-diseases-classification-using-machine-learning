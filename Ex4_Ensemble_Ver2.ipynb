{
  "nbformat": 4,
  "nbformat_minor": 0,
  "metadata": {
    "colab": {
      "name": "Ex4_Ensemble_Ver2.ipynb",
      "provenance": [],
      "collapsed_sections": [],
      "toc_visible": true,
      "authorship_tag": "ABX9TyOIGslyQ4SvBDknQehgkw43",
      "include_colab_link": true
    },
    "kernelspec": {
      "name": "python3",
      "display_name": "Python 3"
    }
  },
  "cells": [
    {
      "cell_type": "markdown",
      "metadata": {
        "id": "view-in-github",
        "colab_type": "text"
      },
      "source": [
        "<a href=\"https://colab.research.google.com/github/fxlmer/Skin-Diseases-Classification-Using-Machine-Learning/blob/master/Ex4_Ensemble_Ver2.ipynb\" target=\"_parent\"><img src=\"https://colab.research.google.com/assets/colab-badge.svg\" alt=\"Open In Colab\"/></a>"
      ]
    },
    {
      "cell_type": "markdown",
      "metadata": {
        "id": "Z3Um7BuCQcK_"
      },
      "source": [
        "# Import Libraries"
      ]
    },
    {
      "cell_type": "code",
      "metadata": {
        "id": "C1V7OPXIPI-H"
      },
      "source": [
        "import tensorflow as tf\n",
        "from tensorflow import keras\n",
        "import numpy as np\n",
        "from sklearn.metrics import classification_report, confusion_matrix\n",
        "from tensorflow.keras.preprocessing.image import ImageDataGenerator, load_img, img_to_array\n",
        "from pj61403_utils_functions_Ver2 import *"
      ],
      "execution_count": 1,
      "outputs": []
    },
    {
      "cell_type": "markdown",
      "metadata": {
        "id": "1LXVFk2KSDn-"
      },
      "source": [
        "# Git Clone"
      ]
    },
    {
      "cell_type": "code",
      "metadata": {
        "colab": {
          "base_uri": "https://localhost:8080/"
        },
        "id": "vRqzcjcTQb3p",
        "outputId": "1cdd2230-408d-44bf-e92a-f6689000036e"
      },
      "source": [
        "!git clone https://github.com/EvilPickle-PCSHSPT/PJ61403_DATA_split_50-25-25\n",
        "\n",
        "!git clone https://github.com/fxlmer/Skin-Diseases-Classification-Using-Machine-Learning"
      ],
      "execution_count": 2,
      "outputs": [
        {
          "output_type": "stream",
          "text": [
            "Cloning into 'PJ61403_DATA_split_50-25-25'...\n",
            "remote: Enumerating objects: 4366, done.\u001b[K\n",
            "remote: Total 4366 (delta 0), reused 0 (delta 0), pack-reused 4366\u001b[K\n",
            "Receiving objects: 100% (4366/4366), 167.13 MiB | 26.24 MiB/s, done.\n",
            "Resolving deltas: 100% (284/284), done.\n",
            "Checking out files: 100% (5061/5061), done.\n",
            "Cloning into 'Skin-Diseases-Classification-Using-Machine-Learning'...\n",
            "remote: Enumerating objects: 1415, done.\u001b[K\n",
            "remote: Total 1415 (delta 0), reused 0 (delta 0), pack-reused 1415\u001b[K\n",
            "Receiving objects: 100% (1415/1415), 913.30 MiB | 33.10 MiB/s, done.\n",
            "Resolving deltas: 100% (828/828), done.\n",
            "Checking out files: 100% (192/192), done.\n"
          ],
          "name": "stdout"
        }
      ]
    },
    {
      "cell_type": "markdown",
      "metadata": {
        "id": "z37pUT5NSJgH"
      },
      "source": [
        "# WIDTH AND HEIGHT"
      ]
    },
    {
      "cell_type": "code",
      "metadata": {
        "id": "GvC-U-IuROxl"
      },
      "source": [
        "IMG_WIDTH = 224\n",
        "IMG_HEIGHT = 224"
      ],
      "execution_count": 3,
      "outputs": []
    },
    {
      "cell_type": "code",
      "metadata": {
        "colab": {
          "base_uri": "https://localhost:8080/"
        },
        "id": "pAk_e-P_RRhP",
        "outputId": "235c79f4-3ca2-46fb-e902-f99e1d471800"
      },
      "source": [
        "test_path = '/content/PJ61403_DATA_split_50-25-25/Ver2/crop_split_classes_data_Ver2/cc_test'\n",
        "\n",
        "test_data = tf.keras.preprocessing.image.ImageDataGenerator(rescale=1./255)\n",
        "\n",
        "test_generator = test_data.flow_from_directory(directory=test_path,\n",
        "                                               target_size=(IMG_WIDTH, IMG_HEIGHT),\n",
        "                                               batch_size=1,\n",
        "                                               shuffle=False,\n",
        "                                               class_mode=None)\n",
        "\n",
        "test_labels = test_generator.classes"
      ],
      "execution_count": 4,
      "outputs": [
        {
          "output_type": "stream",
          "text": [
            "Found 63 images belonging to 4 classes.\n"
          ],
          "name": "stdout"
        }
      ]
    },
    {
      "cell_type": "markdown",
      "metadata": {
        "id": "GZdrTZfFRUtl"
      },
      "source": [
        "# Arithmetic Mean Ensemble"
      ]
    },
    {
      "cell_type": "code",
      "metadata": {
        "id": "iiB2aaNARUTF"
      },
      "source": [
        "def ArithmeticMean_ensemble(test_data, model_1, model_2, model_3):\n",
        "  model_1 = tf.keras.models.load_model(model_1)\n",
        "  model_2 = tf.keras.models.load_model(model_2)\n",
        "  model_3 = tf.keras.models.load_model(model_3)\n",
        "  ans_1 = model_1.predict(test_data)\n",
        "  ans_2 = model_2.predict(test_data)\n",
        "  ans_3 = model_3.predict(test_data)\n",
        "  all_answer_list = []\n",
        "  for i in range(len(ans_1)):\n",
        "    answer_list = []\n",
        "    for j in range(len(ans_1[i])):\n",
        "      mean_ans = (ans_1[i][j] + ans_2[i][j] + ans_3[i][j])/3\n",
        "      answer_list.append(mean_ans)\n",
        "    all_answer_list.append(answer_list)\n",
        "  return all_answer_list"
      ],
      "execution_count": 6,
      "outputs": []
    },
    {
      "cell_type": "code",
      "metadata": {
        "id": "Tbn23h8WR5kn"
      },
      "source": [
        "ensemble_ans = ArithmeticMean_ensemble(test_generator, '/content/Skin-Diseases-Classification-Using-Machine-Learning/PJ61403_work_Ver2/Ex3/model_weights/Ex3_PJ61403_Oversampling_model_Ver2.h5', '/content/Skin-Diseases-Classification-Using-Machine-Learning/PJ61403_work_Ver2/Ex3/model_weights/Ex3_PJ61403_ClassWeights_model_Ver2.h5', '/content/Skin-Diseases-Classification-Using-Machine-Learning/PJ61403_work_Ver2/Ex3/model_weights/Ex3_PJ61403_FocalLoss_model_Ver2.h5')"
      ],
      "execution_count": 7,
      "outputs": []
    },
    {
      "cell_type": "code",
      "metadata": {
        "id": "lCoIU5NJSR0m"
      },
      "source": [
        "ensemble_ans_array = np.asarray(ensemble_ans)"
      ],
      "execution_count": 8,
      "outputs": []
    },
    {
      "cell_type": "markdown",
      "metadata": {
        "id": "Tc_dC5_1SNuF"
      },
      "source": [
        "# Evaluation"
      ]
    },
    {
      "cell_type": "code",
      "metadata": {
        "id": "7VpSBjTTSOzv"
      },
      "source": [
        "classes_names = ['ad', 'nm', 'ps', 'sk']"
      ],
      "execution_count": 9,
      "outputs": []
    },
    {
      "cell_type": "markdown",
      "metadata": {
        "id": "i_Yqxi0gTEHf"
      },
      "source": [
        "# Confusion Matrix"
      ]
    },
    {
      "cell_type": "code",
      "metadata": {
        "id": "12iIDoOdSU8P"
      },
      "source": [
        "cm = confusion_matrix(test_labels, ensemble_ans_array.argmax(axis=1))"
      ],
      "execution_count": 10,
      "outputs": []
    },
    {
      "cell_type": "markdown",
      "metadata": {
        "id": "85nNlhPKTBJ5"
      },
      "source": [
        "Without Normalize"
      ]
    },
    {
      "cell_type": "code",
      "metadata": {
        "colab": {
          "base_uri": "https://localhost:8080/",
          "height": 382
        },
        "id": "TtedIxxqSWl2",
        "outputId": "e7fa87a1-9109-47c5-8d8b-9c685b608ee3"
      },
      "source": [
        "plot_confusion_matrix(cm, classes_names, False)"
      ],
      "execution_count": 11,
      "outputs": [
        {
          "output_type": "stream",
          "text": [
            "Confusion matrix, without normalization\n",
            "[[12  0  5  0]\n",
            " [ 0 15  0  0]\n",
            " [ 0  0 16  0]\n",
            " [ 0  0  0 15]]\n"
          ],
          "name": "stdout"
        },
        {
          "output_type": "display_data",
          "data": {
            "image/png": "[encoded data removed]",
            "text/plain": [
              "<Figure size 432x288 with 2 Axes>"
            ]
          },
          "metadata": {
            "tags": [],
            "needs_background": "light"
          }
        }
      ]
    },
    {
      "cell_type": "markdown",
      "metadata": {
        "id": "jS42OR5MTAgk"
      },
      "source": [
        "With Normalize"
      ]
    },
    {
      "cell_type": "code",
      "metadata": {
        "colab": {
          "base_uri": "https://localhost:8080/",
          "height": 382
        },
        "id": "uxoCbs8BSY0G",
        "outputId": "e676fa27-420a-437a-ae7b-c6667df1a9cd"
      },
      "source": [
        "plot_confusion_matrix(cm, classes_names, True)"
      ],
      "execution_count": 12,
      "outputs": [
        {
          "output_type": "stream",
          "text": [
            "Normalized confusion matrix\n",
            "[[0.70588235 0.         0.29411765 0.        ]\n",
            " [0.         1.         0.         0.        ]\n",
            " [0.         0.         1.         0.        ]\n",
            " [0.         0.         0.         1.        ]]\n"
          ],
          "name": "stdout"
        },
        {
          "output_type": "display_data",
          "data": {
            "image/png": "[encoded data removed]",
            "text/plain": [
              "<Figure size 432x288 with 2 Axes>"
            ]
          },
          "metadata": {
            "tags": [],
            "needs_background": "light"
          }
        }
      ]
    },
    {
      "cell_type": "markdown",
      "metadata": {
        "id": "swJm8mpOS5oP"
      },
      "source": [
        "# Classification Report"
      ]
    },
    {
      "cell_type": "code",
      "metadata": {
        "colab": {
          "base_uri": "https://localhost:8080/"
        },
        "id": "Se08xz8vSbwd",
        "outputId": "727b28f2-9261-4865-9c66-7f8ed90eafa1"
      },
      "source": [
        "y_pred = np.argmax(ensemble_ans_array, axis=1)\n",
        "print('Classification Report')\n",
        "print(classification_report(test_labels, y_pred, target_names=classes_names))"
      ],
      "execution_count": 13,
      "outputs": [
        {
          "output_type": "stream",
          "text": [
            "Classification Report\n",
            "              precision    recall  f1-score   support\n",
            "\n",
            "          ad       1.00      0.71      0.83        17\n",
            "          nm       1.00      1.00      1.00        15\n",
            "          ps       0.76      1.00      0.86        16\n",
            "          sk       1.00      1.00      1.00        15\n",
            "\n",
            "    accuracy                           0.92        63\n",
            "   macro avg       0.94      0.93      0.92        63\n",
            "weighted avg       0.94      0.92      0.92        63\n",
            "\n"
          ],
          "name": "stdout"
        }
      ]
    },
    {
      "cell_type": "code",
      "metadata": {
        "id": "iRlq6RO7VDaK"
      },
      "source": [
        ""
      ],
      "execution_count": null,
      "outputs": []
    }
  ]
}