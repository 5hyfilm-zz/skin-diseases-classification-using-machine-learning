{
  "nbformat": 4,
  "nbformat_minor": 0,
  "metadata": {
    "colab": {
      "name": "Copy of Almost_Accumulator_DenseNet201.ipynb",
      "provenance": [],
      "collapsed_sections": [],
      "toc_visible": true,
      "machine_shape": "hm",
      "authorship_tag": "ABX9TyMWo109lG6+A9HVAi5vvpAT",
      "include_colab_link": true
    },
    "kernelspec": {
      "name": "python3",
      "display_name": "Python 3"
    },
    "accelerator": "GPU"
  },
  "cells": [
    {
      "cell_type": "markdown",
      "metadata": {
        "id": "view-in-github",
        "colab_type": "text"
      },
      "source": [
        "<a href=\"https://colab.research.google.com/github/filmerxyz/JSTP-22_SkinDiseaseClassificationUsingMachineLearning/blob/master/Copy_of_Almost_Accumulator_DenseNet201.ipynb\" target=\"_parent\"><img src=\"https://colab.research.google.com/assets/colab-badge.svg\" alt=\"Open In Colab\"/></a>"
      ]
    },
    {
      "cell_type": "markdown",
      "metadata": {
        "id": "OH0LeKwU5g5f",
        "colab_type": "text"
      },
      "source": [
        "# Check GPU"
      ]
    },
    {
      "cell_type": "code",
      "metadata": {
        "id": "CzX9lK6_5kwT",
        "colab_type": "code",
        "outputId": "40630443-a537-4720-98d5-35b27c87ab2d",
        "colab": {
          "base_uri": "https://localhost:8080/",
          "height": 306
        }
      },
      "source": [
        "!nvidia-smi"
      ],
      "execution_count": 1,
      "outputs": [
        {
          "output_type": "stream",
          "text": [
            "Sun May 24 15:47:29 2020       \n",
            "+-----------------------------------------------------------------------------+\n",
            "| NVIDIA-SMI 440.82       Driver Version: 418.67       CUDA Version: 10.1     |\n",
            "|-------------------------------+----------------------+----------------------+\n",
            "| GPU  Name        Persistence-M| Bus-Id        Disp.A | Volatile Uncorr. ECC |\n",
            "| Fan  Temp  Perf  Pwr:Usage/Cap|         Memory-Usage | GPU-Util  Compute M. |\n",
            "|===============================+======================+======================|\n",
            "|   0  Tesla P100-PCIE...  Off  | 00000000:00:04.0 Off |                    0 |\n",
            "| N/A   42C    P0    27W / 250W |      0MiB / 16280MiB |      0%      Default |\n",
            "+-------------------------------+----------------------+----------------------+\n",
            "                                                                               \n",
            "+-----------------------------------------------------------------------------+\n",
            "| Processes:                                                       GPU Memory |\n",
            "|  GPU       PID   Type   Process name                             Usage      |\n",
            "|=============================================================================|\n",
            "|  No running processes found                                                 |\n",
            "+-----------------------------------------------------------------------------+\n"
          ],
          "name": "stdout"
        }
      ]
    },
    {
      "cell_type": "markdown",
      "metadata": {
        "id": "6TrfhoBG3b6B",
        "colab_type": "text"
      },
      "source": [
        "# Import Libraries"
      ]
    },
    {
      "cell_type": "code",
      "metadata": {
        "id": "29UPTNBPp_by",
        "colab_type": "code",
        "outputId": "e834ec9f-4b96-477e-a840-27e603cebb66",
        "colab": {
          "base_uri": "https://localhost:8080/",
          "height": 34
        }
      },
      "source": [
        "import pandas as pd\n",
        "import numpy as np\n",
        "import os\n",
        "import math\n",
        "import itertools\n",
        "from PIL import Image\n",
        "from matplotlib import pyplot as plt\n",
        "\n",
        "import keras\n",
        "from keras import backend as K\n",
        "from keras.optimizers import Adam, Optimizer\n",
        "from keras.layers import GlobalAveragePooling2D, Dense, Dropout\n",
        "from keras.models import Model\n",
        "from keras.preprocessing.image import ImageDataGenerator\n",
        "from keras.legacy import interfaces\n",
        "\n",
        "from sklearn.model_selection import train_test_split\n",
        "from sklearn.utils import compute_sample_weight, compute_class_weight\n",
        "from sklearn.metrics import balanced_accuracy_score, classification_report, confusion_matrix"
      ],
      "execution_count": 2,
      "outputs": [
        {
          "output_type": "stream",
          "text": [
            "Using TensorFlow backend.\n"
          ],
          "name": "stderr"
        }
      ]
    },
    {
      "cell_type": "code",
      "metadata": {
        "id": "SdsefFJGqNSq",
        "colab_type": "code",
        "outputId": "305b03a1-c9d1-4b9a-de06-790711effc4a",
        "colab": {
          "base_uri": "https://localhost:8080/",
          "height": 153
        }
      },
      "source": [
        "!git clone https://github.com/EvilPickle-PCSHSPT/ham10000-with-one-image-folder"
      ],
      "execution_count": 3,
      "outputs": [
        {
          "output_type": "stream",
          "text": [
            "Cloning into 'ham10000-with-one-image-folder'...\n",
            "remote: Enumerating objects: 9, done.\u001b[K\n",
            "remote: Counting objects:  11% (1/9)\u001b[K\rremote: Counting objects:  22% (2/9)\u001b[K\rremote: Counting objects:  33% (3/9)\u001b[K\rremote: Counting objects:  44% (4/9)\u001b[K\rremote: Counting objects:  55% (5/9)\u001b[K\rremote: Counting objects:  66% (6/9)\u001b[K\rremote: Counting objects:  77% (7/9)\u001b[K\rremote: Counting objects:  88% (8/9)\u001b[K\rremote: Counting objects: 100% (9/9)\u001b[K\rremote: Counting objects: 100% (9/9), done.\u001b[K\n",
            "remote: Compressing objects: 100% (7/7), done.\u001b[K\n",
            "remote: Total 10045 (delta 4), reused 7 (delta 2), pack-reused 10036\u001b[K\n",
            "Receiving objects: 100% (10045/10045), 2.57 GiB | 43.79 MiB/s, done.\n",
            "Resolving deltas: 100% (13/13), done.\n",
            "Checking out files: 100% (10022/10022), done.\n"
          ],
          "name": "stdout"
        }
      ]
    },
    {
      "cell_type": "code",
      "metadata": {
        "id": "mOoduwvxqVb_",
        "colab_type": "code",
        "colab": {}
      },
      "source": [
        "metadata_path = '/content/ham10000-with-one-image-folder/HAM10000_metadata.csv'\n",
        "img_path = '/content/ham10000-with-one-image-folder/HAM1000_images'"
      ],
      "execution_count": 0,
      "outputs": []
    },
    {
      "cell_type": "code",
      "metadata": {
        "id": "Up2yOPyXHeut",
        "colab_type": "code",
        "colab": {}
      },
      "source": [
        "label_names = ['akiec', 'bcc', 'bkl', 'df', 'mel', 'nv', 'vasc']"
      ],
      "execution_count": 0,
      "outputs": []
    },
    {
      "cell_type": "code",
      "metadata": {
        "id": "fPN8uBQprb0n",
        "colab_type": "code",
        "colab": {}
      },
      "source": [
        "data = pd.read_csv(metadata_path)"
      ],
      "execution_count": 0,
      "outputs": []
    },
    {
      "cell_type": "code",
      "metadata": {
        "id": "1E0MEyW5rjjG",
        "colab_type": "code",
        "colab": {}
      },
      "source": [
        "num_examples = data.values.shape[0]"
      ],
      "execution_count": 0,
      "outputs": []
    },
    {
      "cell_type": "code",
      "metadata": {
        "id": "yZkAu0OormX9",
        "colab_type": "code",
        "colab": {}
      },
      "source": [
        "inputs = np.empty(shape=(num_examples, 224, 224, 3), dtype=np.float32)\n",
        "labels = np.empty(shape=(num_examples), dtype=np.uint8)"
      ],
      "execution_count": 0,
      "outputs": []
    },
    {
      "cell_type": "markdown",
      "metadata": {
        "id": "oSM58P_fCgfN",
        "colab_type": "text"
      },
      "source": [
        "### Resize to 224*224"
      ]
    },
    {
      "cell_type": "code",
      "metadata": {
        "id": "8nxI8HtWrn69",
        "colab_type": "code",
        "colab": {}
      },
      "source": [
        "for i, row in enumerate(data.values):\n",
        "    img_id = row[1]\n",
        "    label = row[2]\n",
        "    all_img_path = os.path.join(img_path, img_id) + '.jpg' \n",
        "    if (os.path.isfile(all_img_path)):\n",
        "        im_path = all_img_path\n",
        "    else:\n",
        "        raise Exception ('File not found \\'%s\\'' %img_id)\n",
        "    img = Image.open(im_path).resize((224, 224), Image.LANCZOS)\n",
        "    inputs[i] = np.array(img)/255.0\n",
        "    labels[i] = label_names.index(label)"
      ],
      "execution_count": 0,
      "outputs": []
    },
    {
      "cell_type": "markdown",
      "metadata": {
        "id": "DubB76H13glY",
        "colab_type": "text"
      },
      "source": [
        "### Split Data"
      ]
    },
    {
      "cell_type": "code",
      "metadata": {
        "id": "v_l9Zdwsr0-_",
        "colab_type": "code",
        "colab": {}
      },
      "source": [
        "x_train, x_test, y_train, y_test = train_test_split(inputs, labels, test_size=0.1, random_state=2019)\n",
        "\n",
        "del inputs\n",
        "del labels\n",
        "\n",
        "x_train, x_val, y_train, y_val = train_test_split(x_train, y_train, test_size=0.3, random_state=2019)"
      ],
      "execution_count": 0,
      "outputs": []
    },
    {
      "cell_type": "code",
      "metadata": {
        "id": "JpnpydNYsO1X",
        "colab_type": "code",
        "outputId": "de1b8c24-adca-4c25-8aec-7f9dd857b79d",
        "colab": {
          "base_uri": "https://localhost:8080/",
          "height": 68
        }
      },
      "source": [
        "print(x_train.shape, y_train.shape)\n",
        "print(x_val.shape, y_val.shape)\n",
        "print(x_test.shape, y_test.shape)"
      ],
      "execution_count": 11,
      "outputs": [
        {
          "output_type": "stream",
          "text": [
            "(6309, 224, 224, 3) (6309,)\n",
            "(2704, 224, 224, 3) (2704,)\n",
            "(1002, 224, 224, 3) (1002,)\n"
          ],
          "name": "stdout"
        }
      ]
    },
    {
      "cell_type": "markdown",
      "metadata": {
        "id": "FczK-Ddf6UFp",
        "colab_type": "text"
      },
      "source": [
        "# Hyperparameters"
      ]
    },
    {
      "cell_type": "code",
      "metadata": {
        "id": "ky6KGD_S6Tba",
        "colab_type": "code",
        "colab": {}
      },
      "source": [
        "BATCH_SIZE = 16\n",
        "LR = 1e-3\n",
        "EPOCHS = 100"
      ],
      "execution_count": 0,
      "outputs": []
    },
    {
      "cell_type": "markdown",
      "metadata": {
        "id": "DjrDGTnAAtlf",
        "colab_type": "text"
      },
      "source": [
        "# Data Augmentation"
      ]
    },
    {
      "cell_type": "code",
      "metadata": {
        "id": "2xEOPmNV84rb",
        "colab_type": "code",
        "colab": {}
      },
      "source": [
        "datagen = ImageDataGenerator(\n",
        "        rotation_range=360,\n",
        "        zoom_range=0.3,\n",
        "        horizontal_flip=True,\n",
        "        vertical_flip=True,\n",
        "        fill_mode='reflect')"
      ],
      "execution_count": 0,
      "outputs": []
    },
    {
      "cell_type": "code",
      "metadata": {
        "id": "_v8wF5e68_E6",
        "colab_type": "code",
        "colab": {}
      },
      "source": [
        "datagen.fit(x_train)"
      ],
      "execution_count": 0,
      "outputs": []
    },
    {
      "cell_type": "markdown",
      "metadata": {
        "id": "mGkirc_B3j_H",
        "colab_type": "text"
      },
      "source": [
        "# Adam Accumulate"
      ]
    },
    {
      "cell_type": "code",
      "metadata": {
        "id": "kxPhpQRrJDpA",
        "colab_type": "code",
        "outputId": "4351ce8c-f5be-4ef2-8480-e5231ff7eb98",
        "colab": {
          "base_uri": "https://localhost:8080/",
          "height": 34
        }
      },
      "source": [
        "%tensorflow_version 1.x"
      ],
      "execution_count": 15,
      "outputs": [
        {
          "output_type": "stream",
          "text": [
            "TensorFlow is already loaded. Please restart the runtime to change versions.\n"
          ],
          "name": "stdout"
        }
      ]
    },
    {
      "cell_type": "code",
      "metadata": {
        "id": "B2qsUh-9Ika0",
        "colab_type": "code",
        "colab": {}
      },
      "source": [
        "import tensorflow as tf"
      ],
      "execution_count": 0,
      "outputs": []
    },
    {
      "cell_type": "markdown",
      "metadata": {
        "id": "0H2veDc141XJ",
        "colab_type": "text"
      },
      "source": [
        "# Build Model"
      ]
    },
    {
      "cell_type": "code",
      "metadata": {
        "id": "ethZoGYSsX80",
        "colab_type": "code",
        "colab": {
          "base_uri": "https://localhost:8080/",
          "height": 51
        },
        "outputId": "b9368b54-e3cd-41a2-d734-8ffaba43fc27"
      },
      "source": [
        "base_model = keras.applications.DenseNet201(include_top=False, weights='imagenet', input_shape=(224,224,3))\n",
        "\n",
        "base_model.trainable = False\n",
        "\n",
        "x = base_model.output\n",
        "x = GlobalAveragePooling2D()(x)\n",
        "preds = Dense(7,activation='softmax')(x)\n",
        "\n",
        "model = Model(inputs=base_model.input,outputs=preds)\n",
        "\n",
        "model.compile(optimizer=Adam(LR), \n",
        "              loss='sparse_categorical_crossentropy',\n",
        "              metrics=['accuracy'])"
      ],
      "execution_count": 17,
      "outputs": [
        {
          "output_type": "stream",
          "text": [
            "Downloading data from https://github.com/keras-team/keras-applications/releases/download/densenet/densenet201_weights_tf_dim_ordering_tf_kernels_notop.h5\n",
            "74842112/74836368 [==============================] - 1s 0us/step\n"
          ],
          "name": "stdout"
        }
      ]
    },
    {
      "cell_type": "code",
      "metadata": {
        "id": "XUEl7szMIQCR",
        "colab_type": "code",
        "colab": {}
      },
      "source": [
        "# model.summary()"
      ],
      "execution_count": 0,
      "outputs": []
    },
    {
      "cell_type": "markdown",
      "metadata": {
        "id": "at3Im3mg8Pey",
        "colab_type": "text"
      },
      "source": [
        "### Callbacks"
      ]
    },
    {
      "cell_type": "code",
      "metadata": {
        "id": "HsI4-26j8AHO",
        "colab_type": "code",
        "colab": {}
      },
      "source": [
        "early_stop = keras.callbacks.EarlyStopping(monitor='val_loss', patience=20, verbose=0, mode='min')\n",
        "\n",
        "model_checkpoint = keras.callbacks.ModelCheckpoint(filepath='acc_densenet201_model.{epoch:02d}-{val_loss:.2f}.h5', save_best_only=True, monitor='val_loss', mode='min')\n",
        "\n",
        "reduce_lr_rate = keras.callbacks.ReduceLROnPlateau(monitor='val_loss', factor=0.3, min_lr=0.00001 , patience=10, verbose=1, min_delta=1e-4, mode='min')"
      ],
      "execution_count": 0,
      "outputs": []
    },
    {
      "cell_type": "markdown",
      "metadata": {
        "id": "e0FGUjV08ZJP",
        "colab_type": "text"
      },
      "source": [
        "### Training"
      ]
    },
    {
      "cell_type": "code",
      "metadata": {
        "id": "TuQvhrdMuZ00",
        "colab_type": "code",
        "outputId": "542dc44a-b3dc-46f6-ad90-13eed9bdcdd1",
        "colab": {
          "base_uri": "https://localhost:8080/",
          "height": 1000
        }
      },
      "source": [
        "history = model.fit_generator(datagen.flow(x_train, y_train, batch_size=BATCH_SIZE),\n",
        "                              validation_data=(x_val, y_val, compute_sample_weight('balanced', y_val)),\n",
        "                              class_weight=compute_class_weight('balanced', np.unique(y_train), y_train),\n",
        "                              steps_per_epoch=math.ceil(x_train.shape[0]/BATCH_SIZE),\n",
        "                              epochs=EPOCHS,\n",
        "                              callbacks=[early_stop, model_checkpoint, reduce_lr_rate])"
      ],
      "execution_count": 20,
      "outputs": [
        {
          "output_type": "stream",
          "text": [
            "Epoch 1/100\n",
            "395/395 [==============================] - 318s 806ms/step - loss: 0.9383 - accuracy: 0.6822 - val_loss: 8.7290 - val_accuracy: 0.1934\n",
            "Epoch 2/100\n",
            "395/395 [==============================] - 218s 551ms/step - loss: 0.8710 - accuracy: 0.6874 - val_loss: 5.5136 - val_accuracy: 0.4982\n",
            "Epoch 3/100\n",
            "395/395 [==============================] - 216s 547ms/step - loss: 0.8331 - accuracy: 0.6987 - val_loss: 2.0462 - val_accuracy: 0.7004\n",
            "Epoch 4/100\n",
            "395/395 [==============================] - 218s 552ms/step - loss: 0.7695 - accuracy: 0.7207 - val_loss: 1.9287 - val_accuracy: 0.7145\n",
            "Epoch 5/100\n",
            "395/395 [==============================] - 217s 550ms/step - loss: 0.7413 - accuracy: 0.7280 - val_loss: 2.0028 - val_accuracy: 0.7152\n",
            "Epoch 6/100\n",
            "395/395 [==============================] - 218s 551ms/step - loss: 0.7217 - accuracy: 0.7334 - val_loss: 38.9930 - val_accuracy: 0.6842\n",
            "Epoch 7/100\n",
            "395/395 [==============================] - 217s 548ms/step - loss: 0.7177 - accuracy: 0.7336 - val_loss: 2.1692 - val_accuracy: 0.6520\n",
            "Epoch 8/100\n",
            "395/395 [==============================] - 217s 549ms/step - loss: 0.7140 - accuracy: 0.7399 - val_loss: 2079.6071 - val_accuracy: 0.6720\n",
            "Epoch 9/100\n",
            "395/395 [==============================] - 218s 551ms/step - loss: 0.7466 - accuracy: 0.7332 - val_loss: 1.4457 - val_accuracy: 0.7600\n",
            "Epoch 10/100\n",
            "395/395 [==============================] - 218s 552ms/step - loss: 0.6921 - accuracy: 0.7491 - val_loss: 2.1872 - val_accuracy: 0.7241\n",
            "Epoch 11/100\n",
            "395/395 [==============================] - 217s 548ms/step - loss: 0.6882 - accuracy: 0.7453 - val_loss: 3.0179 - val_accuracy: 0.6579\n",
            "Epoch 12/100\n",
            "395/395 [==============================] - 216s 547ms/step - loss: 0.6535 - accuracy: 0.7592 - val_loss: 1.4082 - val_accuracy: 0.7563\n",
            "Epoch 13/100\n",
            "395/395 [==============================] - 216s 548ms/step - loss: 0.6536 - accuracy: 0.7607 - val_loss: 1.3228 - val_accuracy: 0.7578\n",
            "Epoch 14/100\n",
            "395/395 [==============================] - 217s 550ms/step - loss: 0.6317 - accuracy: 0.7648 - val_loss: 3.2484 - val_accuracy: 0.4057\n",
            "Epoch 15/100\n",
            "395/395 [==============================] - 217s 550ms/step - loss: 0.6437 - accuracy: 0.7699 - val_loss: 1.8467 - val_accuracy: 0.7304\n",
            "Epoch 16/100\n",
            "395/395 [==============================] - 218s 551ms/step - loss: 0.6354 - accuracy: 0.7643 - val_loss: 1.8673 - val_accuracy: 0.7526\n",
            "Epoch 17/100\n",
            "395/395 [==============================] - 217s 550ms/step - loss: 0.6067 - accuracy: 0.7675 - val_loss: 2.0174 - val_accuracy: 0.7019\n",
            "Epoch 18/100\n",
            "395/395 [==============================] - 218s 552ms/step - loss: 0.5924 - accuracy: 0.7797 - val_loss: 1.5159 - val_accuracy: 0.7478\n",
            "Epoch 19/100\n",
            "395/395 [==============================] - 216s 547ms/step - loss: 0.5781 - accuracy: 0.7833 - val_loss: 1.7825 - val_accuracy: 0.7552\n",
            "Epoch 20/100\n",
            "395/395 [==============================] - 214s 542ms/step - loss: 0.5768 - accuracy: 0.7868 - val_loss: 1.7304 - val_accuracy: 0.7463\n",
            "Epoch 21/100\n",
            "395/395 [==============================] - 216s 548ms/step - loss: 0.5639 - accuracy: 0.7881 - val_loss: 1.7660 - val_accuracy: 0.7548\n",
            "Epoch 22/100\n",
            "395/395 [==============================] - 216s 548ms/step - loss: 0.5543 - accuracy: 0.7920 - val_loss: 1.6469 - val_accuracy: 0.7518\n",
            "Epoch 23/100\n",
            "395/395 [==============================] - 216s 548ms/step - loss: 0.5589 - accuracy: 0.7911 - val_loss: 1.2393 - val_accuracy: 0.7792\n",
            "Epoch 24/100\n",
            "395/395 [==============================] - 217s 548ms/step - loss: 0.5510 - accuracy: 0.7938 - val_loss: 1.7871 - val_accuracy: 0.7433\n",
            "Epoch 25/100\n",
            "395/395 [==============================] - 215s 544ms/step - loss: 0.5333 - accuracy: 0.7993 - val_loss: 1.9361 - val_accuracy: 0.7507\n",
            "Epoch 26/100\n",
            "395/395 [==============================] - 216s 548ms/step - loss: 0.5142 - accuracy: 0.8049 - val_loss: 1.6236 - val_accuracy: 0.7493\n",
            "Epoch 27/100\n",
            "395/395 [==============================] - 219s 554ms/step - loss: 0.5329 - accuracy: 0.8008 - val_loss: 1.4224 - val_accuracy: 0.7644\n",
            "Epoch 28/100\n",
            "395/395 [==============================] - 218s 552ms/step - loss: 0.5227 - accuracy: 0.8046 - val_loss: 2.2485 - val_accuracy: 0.7467\n",
            "Epoch 29/100\n",
            "395/395 [==============================] - 217s 550ms/step - loss: 0.5285 - accuracy: 0.8077 - val_loss: 1.8439 - val_accuracy: 0.7626\n",
            "Epoch 30/100\n",
            "395/395 [==============================] - 216s 547ms/step - loss: 0.5325 - accuracy: 0.8030 - val_loss: 1.3297 - val_accuracy: 0.7970\n",
            "Epoch 31/100\n",
            "395/395 [==============================] - 214s 542ms/step - loss: 0.5243 - accuracy: 0.8047 - val_loss: 1.2266 - val_accuracy: 0.8073\n",
            "Epoch 32/100\n",
            "395/395 [==============================] - 215s 544ms/step - loss: 0.4784 - accuracy: 0.8165 - val_loss: 1.5277 - val_accuracy: 0.7744\n",
            "Epoch 33/100\n",
            "395/395 [==============================] - 216s 546ms/step - loss: 0.4802 - accuracy: 0.8174 - val_loss: 3.1151 - val_accuracy: 0.7300\n",
            "Epoch 34/100\n",
            "395/395 [==============================] - 215s 544ms/step - loss: 0.4770 - accuracy: 0.8187 - val_loss: 1.1711 - val_accuracy: 0.7777\n",
            "Epoch 35/100\n",
            "395/395 [==============================] - 215s 544ms/step - loss: 0.4682 - accuracy: 0.8250 - val_loss: 3.0137 - val_accuracy: 0.7385\n",
            "Epoch 36/100\n",
            "395/395 [==============================] - 214s 541ms/step - loss: 0.4527 - accuracy: 0.8285 - val_loss: 1.2899 - val_accuracy: 0.7703\n",
            "Epoch 37/100\n",
            "395/395 [==============================] - 214s 541ms/step - loss: 0.4509 - accuracy: 0.8323 - val_loss: 2.1408 - val_accuracy: 0.7600\n",
            "Epoch 38/100\n",
            "395/395 [==============================] - 215s 544ms/step - loss: 0.4518 - accuracy: 0.8352 - val_loss: 1.7017 - val_accuracy: 0.7914\n",
            "Epoch 39/100\n",
            "395/395 [==============================] - 214s 542ms/step - loss: 0.4359 - accuracy: 0.8331 - val_loss: 1.4605 - val_accuracy: 0.7959\n",
            "Epoch 40/100\n",
            "395/395 [==============================] - 214s 542ms/step - loss: 0.4351 - accuracy: 0.8333 - val_loss: 1.2631 - val_accuracy: 0.7962\n",
            "Epoch 41/100\n",
            "395/395 [==============================] - 215s 545ms/step - loss: 0.4326 - accuracy: 0.8371 - val_loss: 1.0318 - val_accuracy: 0.8199\n",
            "Epoch 42/100\n",
            "395/395 [==============================] - 216s 547ms/step - loss: 0.4111 - accuracy: 0.8463 - val_loss: 1.4890 - val_accuracy: 0.7703\n",
            "Epoch 43/100\n",
            "395/395 [==============================] - 216s 547ms/step - loss: 0.4263 - accuracy: 0.8399 - val_loss: 2.3553 - val_accuracy: 0.7544\n",
            "Epoch 44/100\n",
            "395/395 [==============================] - 216s 548ms/step - loss: 0.4331 - accuracy: 0.8401 - val_loss: 1.6816 - val_accuracy: 0.7851\n",
            "Epoch 45/100\n",
            "395/395 [==============================] - 215s 544ms/step - loss: 0.4096 - accuracy: 0.8458 - val_loss: 1.3793 - val_accuracy: 0.8047\n",
            "Epoch 46/100\n",
            "395/395 [==============================] - 215s 544ms/step - loss: 0.4044 - accuracy: 0.8510 - val_loss: 1.2448 - val_accuracy: 0.8140\n",
            "Epoch 47/100\n",
            "395/395 [==============================] - 215s 545ms/step - loss: 0.4010 - accuracy: 0.8491 - val_loss: 1.2476 - val_accuracy: 0.8058\n",
            "Epoch 48/100\n",
            "395/395 [==============================] - 215s 545ms/step - loss: 0.3851 - accuracy: 0.8545 - val_loss: 2.1517 - val_accuracy: 0.7622\n",
            "Epoch 49/100\n",
            "395/395 [==============================] - 216s 548ms/step - loss: 0.3979 - accuracy: 0.8488 - val_loss: 3.8075 - val_accuracy: 0.7367\n",
            "Epoch 50/100\n",
            "395/395 [==============================] - 216s 547ms/step - loss: 0.3795 - accuracy: 0.8512 - val_loss: 1.9009 - val_accuracy: 0.7933\n",
            "Epoch 51/100\n",
            "395/395 [==============================] - 215s 545ms/step - loss: 0.3748 - accuracy: 0.8586 - val_loss: 2.7202 - val_accuracy: 0.7652\n",
            "\n",
            "Epoch 00051: ReduceLROnPlateau reducing learning rate to 0.0003000000142492354.\n",
            "Epoch 52/100\n",
            "395/395 [==============================] - 217s 549ms/step - loss: 0.3108 - accuracy: 0.8810 - val_loss: 1.4220 - val_accuracy: 0.8236\n",
            "Epoch 53/100\n",
            "395/395 [==============================] - 216s 547ms/step - loss: 0.2974 - accuracy: 0.8852 - val_loss: 1.0885 - val_accuracy: 0.8332\n",
            "Epoch 54/100\n",
            "395/395 [==============================] - 214s 543ms/step - loss: 0.2843 - accuracy: 0.8948 - val_loss: 1.1671 - val_accuracy: 0.8328\n",
            "Epoch 55/100\n",
            "395/395 [==============================] - 215s 544ms/step - loss: 0.2748 - accuracy: 0.8979 - val_loss: 2.2934 - val_accuracy: 0.8029\n",
            "Epoch 56/100\n",
            "395/395 [==============================] - 214s 542ms/step - loss: 0.2644 - accuracy: 0.8994 - val_loss: 1.2828 - val_accuracy: 0.8402\n",
            "Epoch 57/100\n",
            "395/395 [==============================] - 213s 539ms/step - loss: 0.2647 - accuracy: 0.9016 - val_loss: 1.3837 - val_accuracy: 0.8277\n",
            "Epoch 58/100\n",
            "395/395 [==============================] - 212s 537ms/step - loss: 0.2499 - accuracy: 0.9058 - val_loss: 1.6520 - val_accuracy: 0.8325\n",
            "Epoch 59/100\n",
            "395/395 [==============================] - 213s 539ms/step - loss: 0.2564 - accuracy: 0.9058 - val_loss: 1.3806 - val_accuracy: 0.8369\n",
            "Epoch 60/100\n",
            "395/395 [==============================] - 216s 546ms/step - loss: 0.2516 - accuracy: 0.9070 - val_loss: 1.1943 - val_accuracy: 0.8362\n",
            "Epoch 61/100\n",
            "395/395 [==============================] - 215s 544ms/step - loss: 0.2362 - accuracy: 0.9109 - val_loss: 1.1783 - val_accuracy: 0.8332\n",
            "\n",
            "Epoch 00061: ReduceLROnPlateau reducing learning rate to 9.000000427477062e-05.\n"
          ],
          "name": "stdout"
        }
      ]
    },
    {
      "cell_type": "code",
      "metadata": {
        "id": "7wDz9PpRJH4y",
        "colab_type": "code",
        "colab": {}
      },
      "source": [
        ""
      ],
      "execution_count": 0,
      "outputs": []
    }
  ]
}