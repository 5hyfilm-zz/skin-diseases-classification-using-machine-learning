{
  "nbformat": 4,
  "nbformat_minor": 0,
  "metadata": {
    "colab": {
      "name": "PJ61403_Ensemble.ipynb",
      "provenance": [],
      "collapsed_sections": [],
      "authorship_tag": "ABX9TyP9ktEy6X9GZPlwjU6URFrQ",
      "include_colab_link": true
    },
    "kernelspec": {
      "name": "python3",
      "display_name": "Python 3"
    }
  },
  "cells": [
    {
      "cell_type": "markdown",
      "metadata": {
        "id": "view-in-github",
        "colab_type": "text"
      },
      "source": [
        "<a href=\"https://colab.research.google.com/github/filmerxyz/JSTP-22_SkinDiseaseClassificationUsingMachineLearning/blob/master/PJ61403_Ensemble.ipynb\" target=\"_parent\"><img src=\"https://colab.research.google.com/assets/colab-badge.svg\" alt=\"Open In Colab\"/></a>"
      ]
    },
    {
      "cell_type": "markdown",
      "metadata": {
        "id": "XQqcX6n8LcJP",
        "colab_type": "text"
      },
      "source": [
        "# Import Libraries"
      ]
    },
    {
      "cell_type": "code",
      "metadata": {
        "id": "NduY3Pb8JOcv",
        "colab_type": "code",
        "colab": {}
      },
      "source": [
        "import tensorflow as tf"
      ],
      "execution_count": 0,
      "outputs": []
    },
    {
      "cell_type": "code",
      "metadata": {
        "id": "XqDBd_p69vrp",
        "colab_type": "code",
        "colab": {}
      },
      "source": [
        "def harmonic_mean(ans1, ans2, ans3):\n",
        "  answer_list = []\n",
        "  for i in range(len(ans1)):\n",
        "    harmonic_answer = []\n",
        "    for j in range(len(ans1[i])):\n",
        "      harmonic = (ans1[i][j] + ans2[i][j] + ans3[i][j])/3\n",
        "      harmonic_answer.append(harmonic_mean)\n",
        "    answer_list.append(np.argmax(harmonic_answer))\n",
        "  return answer_list"
      ],
      "execution_count": 0,
      "outputs": []
    },
    {
      "cell_type": "code",
      "metadata": {
        "id": "pOE4H8r0-vq3",
        "colab_type": "code",
        "colab": {}
      },
      "source": [
        "def evaluate_acc(y_test, y_pred):\n",
        "  correct_count = 0\n",
        "  for i, j in enumerate(y_test):\n",
        "    if i == y_pred[j]:\n",
        "      correct_count = correct_count+1\n",
        "  return correct_count/len(y_test)"
      ],
      "execution_count": 0,
      "outputs": []
    },
    {
      "cell_type": "code",
      "metadata": {
        "id": "Jzv6_DQvBjy7",
        "colab_type": "code",
        "colab": {}
      },
      "source": [
        "def voting(test_data, model_1, model_2, model_3):\n",
        "  model_1 = tf.keras.models.load_model(model_1)\n",
        "  model_2 = tf.keras.models.load_model(model_2)\n",
        "  model_3 = tf.keras.models.load_model(model_3)\n",
        "  ans_1 = model_1.predict(test_set)\n",
        "  ans_2 = model_2.predict(test_set)\n",
        "  ans_3 = model_3.predict(test_set)\n",
        "  final_answer = harmonic_mean(ans_1, ans_2, ans_3)\n",
        "  return final_answer"
      ],
      "execution_count": 0,
      "outputs": []
    },
    {
      "cell_type": "code",
      "metadata": {
        "id": "tNr-YqZNJzYw",
        "colab_type": "code",
        "colab": {}
      },
      "source": [
        "final_answer = voting(test_generator, 'pj61043_densenet121_model_1.h5', 'pj61043_densenet121_model_2.h5', 'pj61043_resnet50_model_1.h5')"
      ],
      "execution_count": 0,
      "outputs": []
    }
  ]
}