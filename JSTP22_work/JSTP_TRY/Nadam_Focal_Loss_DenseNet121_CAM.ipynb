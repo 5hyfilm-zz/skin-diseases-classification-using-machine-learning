{
  "nbformat": 4,
  "nbformat_minor": 0,
  "metadata": {
    "colab": {
      "name": "Nadam_Focal-Loss_DenseNet121_CAM.ipynb",
      "provenance": [],
      "collapsed_sections": [],
      "toc_visible": true,
      "machine_shape": "hm",
      "authorship_tag": "ABX9TyM4A23LP+hPU+QmXMdn7xAy",
      "include_colab_link": true
    },
    "kernelspec": {
      "name": "python3",
      "display_name": "Python 3"
    },
    "accelerator": "GPU"
  },
  "cells": [
    {
      "cell_type": "markdown",
      "metadata": {
        "id": "view-in-github",
        "colab_type": "text"
      },
      "source": [
        "<a href=\"https://colab.research.google.com/github/filmerxyz/JSTP-22_SkinDiseaseClassificationUsingMachineLearning/blob/master/Nadam_Focal_Loss_DenseNet121_CAM.ipynb\" target=\"_parent\"><img src=\"https://colab.research.google.com/assets/colab-badge.svg\" alt=\"Open In Colab\"/></a>"
      ]
    },
    {
      "cell_type": "markdown",
      "metadata": {
        "id": "UGAbDjt3rz_5",
        "colab_type": "text"
      },
      "source": [
        "# **Check GPU**"
      ]
    },
    {
      "cell_type": "code",
      "metadata": {
        "id": "2KeAnM3PXlUe",
        "colab_type": "code",
        "outputId": "c58799e8-f75b-41c3-a828-d18ee9fd6924",
        "colab": {
          "base_uri": "https://localhost:8080/",
          "height": 306
        }
      },
      "source": [
        "!nvidia-smi"
      ],
      "execution_count": 1,
      "outputs": [
        {
          "output_type": "stream",
          "text": [
            "Thu May 28 08:07:14 2020       \n",
            "+-----------------------------------------------------------------------------+\n",
            "| NVIDIA-SMI 440.82       Driver Version: 418.67       CUDA Version: 10.1     |\n",
            "|-------------------------------+----------------------+----------------------+\n",
            "| GPU  Name        Persistence-M| Bus-Id        Disp.A | Volatile Uncorr. ECC |\n",
            "| Fan  Temp  Perf  Pwr:Usage/Cap|         Memory-Usage | GPU-Util  Compute M. |\n",
            "|===============================+======================+======================|\n",
            "|   0  Tesla P100-PCIE...  Off  | 00000000:00:04.0 Off |                    0 |\n",
            "| N/A   34C    P0    26W / 250W |      0MiB / 16280MiB |      0%      Default |\n",
            "+-------------------------------+----------------------+----------------------+\n",
            "                                                                               \n",
            "+-----------------------------------------------------------------------------+\n",
            "| Processes:                                                       GPU Memory |\n",
            "|  GPU       PID   Type   Process name                             Usage      |\n",
            "|=============================================================================|\n",
            "|  No running processes found                                                 |\n",
            "+-----------------------------------------------------------------------------+\n"
          ],
          "name": "stdout"
        }
      ]
    },
    {
      "cell_type": "code",
      "metadata": {
        "id": "oTSt9Wpjb1bl",
        "colab_type": "code",
        "outputId": "1f3e92d0-12c1-4650-c77d-c7c78147c377",
        "colab": {
          "base_uri": "https://localhost:8080/",
          "height": 34
        }
      },
      "source": [
        "%tensorflow_version 1.x"
      ],
      "execution_count": 2,
      "outputs": [
        {
          "output_type": "stream",
          "text": [
            "TensorFlow 1.x selected.\n"
          ],
          "name": "stdout"
        }
      ]
    },
    {
      "cell_type": "code",
      "metadata": {
        "id": "YhDHLrLxbkCe",
        "colab_type": "code",
        "colab": {}
      },
      "source": [
        "# !pip install keras-lookahead\n",
        "\n",
        "# !pip install keras-rectified-adam"
      ],
      "execution_count": 0,
      "outputs": []
    },
    {
      "cell_type": "markdown",
      "metadata": {
        "id": "lbD3Qq816yZZ",
        "colab_type": "text"
      },
      "source": [
        "# **Import Libraries**"
      ]
    },
    {
      "cell_type": "code",
      "metadata": {
        "id": "tch5If72HQeC",
        "colab_type": "code",
        "colab": {}
      },
      "source": [
        "import tensorflow as tf\n",
        "from tensorflow import keras\n",
        "from tensorflow.keras import backend as K\n",
        "from tensorflow.keras import models\n",
        "from tensorflow.keras.models import Sequential, Model\n",
        "from tensorflow.keras.layers import Dense, Dropout, Activation, Flatten\n",
        "from keras.layers.convolutional import Conv2D, MaxPooling2D\n",
        "from tensorflow.keras.preprocessing import image\n",
        "from tensorflow.keras.preprocessing.image import ImageDataGenerator, load_img, img_to_array\n",
        "from tensorflow.keras.applications.imagenet_utils import preprocess_input\n",
        "from tensorflow.keras.optimizers import Adam, Nadam\n",
        "from tensorflow.keras.callbacks import ModelCheckpoint, EarlyStopping, ReduceLROnPlateau\n",
        "from tensorflow.keras import regularizers\n",
        "\n",
        "from sklearn.metrics import classification_report, confusion_matrix, precision_recall_fscore_support\n",
        "\n",
        "import pandas as pd\n",
        "import numpy as np\n",
        "import matplotlib.pyplot as plt\n",
        "\n",
        "import shutil\n",
        "import os\n",
        "from os.path import join\n",
        "\n",
        "from ham10000_utils_functions import plot_confusion_matrix, normalize, deprocess_image, my_decode_predictions, guided_backprop, grad_cam, compute_saliency"
      ],
      "execution_count": 0,
      "outputs": []
    },
    {
      "cell_type": "markdown",
      "metadata": {
        "id": "EPwDTos761Oq",
        "colab_type": "text"
      },
      "source": [
        "# **Clone Data**"
      ]
    },
    {
      "cell_type": "code",
      "metadata": {
        "id": "aHjfNRvqza-U",
        "colab_type": "code",
        "outputId": "da41ed17-3ded-4e95-c293-b32f450eef54",
        "colab": {
          "base_uri": "https://localhost:8080/",
          "height": 153
        }
      },
      "source": [
        "!git clone https://github.com/EvilPickle-PCSHSPT/ham10000-with-one-image-folder"
      ],
      "execution_count": 7,
      "outputs": [
        {
          "output_type": "stream",
          "text": [
            "Cloning into 'ham10000-with-one-image-folder'...\n",
            "remote: Enumerating objects: 9, done.\u001b[K\n",
            "remote: Counting objects: 100% (9/9), done.\u001b[K\n",
            "remote: Compressing objects: 100% (7/7), done.\u001b[K\n",
            "remote: Total 10045 (delta 4), reused 7 (delta 2), pack-reused 10036\n",
            "Receiving objects: 100% (10045/10045), 2.57 GiB | 15.75 MiB/s, done.\n",
            "Resolving deltas: 100% (13/13), done.\n",
            "Checking out files: 100% (10022/10022), done.\n"
          ],
          "name": "stdout"
        }
      ]
    },
    {
      "cell_type": "markdown",
      "metadata": {
        "id": "__IXKxBZVymL",
        "colab_type": "text"
      },
      "source": [
        "# **Constant Variables**"
      ]
    },
    {
      "cell_type": "code",
      "metadata": {
        "id": "XQ2LKSeHQRnE",
        "colab_type": "code",
        "colab": {}
      },
      "source": [
        "IMG_WIDTH = 224\n",
        "IMG_HEIGHT = 224\n",
        "EPOCHS = 100\n",
        "BATCH_SIZE = 32\n",
        "NUM_CLASSES = 7\n",
        "\n",
        "LR = 3e-5 # Learning rate"
      ],
      "execution_count": 0,
      "outputs": []
    },
    {
      "cell_type": "markdown",
      "metadata": {
        "id": "VrpBmL7mVlJC",
        "colab_type": "text"
      },
      "source": [
        "# **Prepare Data**"
      ]
    },
    {
      "cell_type": "code",
      "metadata": {
        "id": "vnsBJBcPL3SG",
        "colab_type": "code",
        "colab": {}
      },
      "source": [
        "data=pd.read_csv('/content/ham10000-with-one-image-folder/HAM10000_metadata.csv')\n",
        "data['image_full_name']=data['image_id']+'.jpg'\n",
        "X=data[['image_full_name','dx','lesion_id']]"
      ],
      "execution_count": 0,
      "outputs": []
    },
    {
      "cell_type": "code",
      "metadata": {
        "id": "6rt4v6YTM0Fr",
        "colab_type": "code",
        "outputId": "f7fb4338-885e-4d81-9007-9d7cdd06d126",
        "colab": {
          "base_uri": "https://localhost:8080/",
          "height": 204
        }
      },
      "source": [
        "data.head(5)"
      ],
      "execution_count": 10,
      "outputs": [
        {
          "output_type": "execute_result",
          "data": {
            "text/html": [
              "<div>\n",
              "<style scoped>\n",
              "    .dataframe tbody tr th:only-of-type {\n",
              "        vertical-align: middle;\n",
              "    }\n",
              "\n",
              "    .dataframe tbody tr th {\n",
              "        vertical-align: top;\n",
              "    }\n",
              "\n",
              "    .dataframe thead th {\n",
              "        text-align: right;\n",
              "    }\n",
              "</style>\n",
              "<table border=\"1\" class=\"dataframe\">\n",
              "  <thead>\n",
              "    <tr style=\"text-align: right;\">\n",
              "      <th></th>\n",
              "      <th>lesion_id</th>\n",
              "      <th>image_id</th>\n",
              "      <th>dx</th>\n",
              "      <th>dx_type</th>\n",
              "      <th>age</th>\n",
              "      <th>sex</th>\n",
              "      <th>localization</th>\n",
              "      <th>image_full_name</th>\n",
              "    </tr>\n",
              "  </thead>\n",
              "  <tbody>\n",
              "    <tr>\n",
              "      <th>0</th>\n",
              "      <td>HAM_0000118</td>\n",
              "      <td>ISIC_0027419</td>\n",
              "      <td>bkl</td>\n",
              "      <td>histo</td>\n",
              "      <td>80.0</td>\n",
              "      <td>male</td>\n",
              "      <td>scalp</td>\n",
              "      <td>ISIC_0027419.jpg</td>\n",
              "    </tr>\n",
              "    <tr>\n",
              "      <th>1</th>\n",
              "      <td>HAM_0000118</td>\n",
              "      <td>ISIC_0025030</td>\n",
              "      <td>bkl</td>\n",
              "      <td>histo</td>\n",
              "      <td>80.0</td>\n",
              "      <td>male</td>\n",
              "      <td>scalp</td>\n",
              "      <td>ISIC_0025030.jpg</td>\n",
              "    </tr>\n",
              "    <tr>\n",
              "      <th>2</th>\n",
              "      <td>HAM_0002730</td>\n",
              "      <td>ISIC_0026769</td>\n",
              "      <td>bkl</td>\n",
              "      <td>histo</td>\n",
              "      <td>80.0</td>\n",
              "      <td>male</td>\n",
              "      <td>scalp</td>\n",
              "      <td>ISIC_0026769.jpg</td>\n",
              "    </tr>\n",
              "    <tr>\n",
              "      <th>3</th>\n",
              "      <td>HAM_0002730</td>\n",
              "      <td>ISIC_0025661</td>\n",
              "      <td>bkl</td>\n",
              "      <td>histo</td>\n",
              "      <td>80.0</td>\n",
              "      <td>male</td>\n",
              "      <td>scalp</td>\n",
              "      <td>ISIC_0025661.jpg</td>\n",
              "    </tr>\n",
              "    <tr>\n",
              "      <th>4</th>\n",
              "      <td>HAM_0001466</td>\n",
              "      <td>ISIC_0031633</td>\n",
              "      <td>bkl</td>\n",
              "      <td>histo</td>\n",
              "      <td>75.0</td>\n",
              "      <td>male</td>\n",
              "      <td>ear</td>\n",
              "      <td>ISIC_0031633.jpg</td>\n",
              "    </tr>\n",
              "  </tbody>\n",
              "</table>\n",
              "</div>"
            ],
            "text/plain": [
              "     lesion_id      image_id   dx  ...   sex  localization   image_full_name\n",
              "0  HAM_0000118  ISIC_0027419  bkl  ...  male         scalp  ISIC_0027419.jpg\n",
              "1  HAM_0000118  ISIC_0025030  bkl  ...  male         scalp  ISIC_0025030.jpg\n",
              "2  HAM_0002730  ISIC_0026769  bkl  ...  male         scalp  ISIC_0026769.jpg\n",
              "3  HAM_0002730  ISIC_0025661  bkl  ...  male         scalp  ISIC_0025661.jpg\n",
              "4  HAM_0001466  ISIC_0031633  bkl  ...  male           ear  ISIC_0031633.jpg\n",
              "\n",
              "[5 rows x 8 columns]"
            ]
          },
          "metadata": {
            "tags": []
          },
          "execution_count": 10
        }
      ]
    },
    {
      "cell_type": "markdown",
      "metadata": {
        "id": "a_1JsUvHGMGi",
        "colab_type": "text"
      },
      "source": [
        "### **Split Data**"
      ]
    },
    {
      "cell_type": "code",
      "metadata": {
        "id": "D1q1WsAhM-HB",
        "colab_type": "code",
        "colab": {}
      },
      "source": [
        "from sklearn.model_selection import train_test_split\n",
        "Y=X.pop('dx').to_frame()\n",
        "X_train, X_test, y_train, y_test = train_test_split(X,Y, test_size=0.1, random_state=42)\n",
        "X_train,X_val,y_train,y_val = train_test_split(X_train, y_train, test_size=0.3, random_state=42)"
      ],
      "execution_count": 0,
      "outputs": []
    },
    {
      "cell_type": "code",
      "metadata": {
        "id": "-ghodz0zOJ0i",
        "colab_type": "code",
        "colab": {}
      },
      "source": [
        "train = pd.concat([X_train,y_train],axis=1)\n",
        "val = pd.concat([X_val,y_val],axis=1)\n",
        "test = pd.concat([X_test,y_test],axis=1)"
      ],
      "execution_count": 0,
      "outputs": []
    },
    {
      "cell_type": "code",
      "metadata": {
        "id": "LG6iaiiyMHmC",
        "colab_type": "code",
        "colab": {}
      },
      "source": [
        "from sklearn.preprocessing import LabelEncoder\n",
        "encoder = LabelEncoder()\n",
        "encoder.fit(train['dx'])\n",
        "name_as_indexes_train = encoder.transform(train['dx']) \n",
        "train['label'] = name_as_indexes_train"
      ],
      "execution_count": 0,
      "outputs": []
    },
    {
      "cell_type": "code",
      "metadata": {
        "id": "RLryd9huOStO",
        "colab_type": "code",
        "colab": {}
      },
      "source": [
        "encoder = LabelEncoder()\n",
        "encoder.fit(val['dx'])\n",
        "name_as_indexes_val = encoder.transform(val['dx']) \n",
        "val['label'] = name_as_indexes_val"
      ],
      "execution_count": 0,
      "outputs": []
    },
    {
      "cell_type": "code",
      "metadata": {
        "id": "8VYdnvBOOUek",
        "colab_type": "code",
        "colab": {}
      },
      "source": [
        "encoder=LabelEncoder()\n",
        "encoder.fit(test['dx'])\n",
        "name_as_indexes_test = encoder.transform(test['dx']) \n",
        "test['label'] = name_as_indexes_test"
      ],
      "execution_count": 0,
      "outputs": []
    },
    {
      "cell_type": "markdown",
      "metadata": {
        "id": "IDOtGZx7YiJa",
        "colab_type": "text"
      },
      "source": [
        "### **Data Augmentation**"
      ]
    },
    {
      "cell_type": "code",
      "metadata": {
        "id": "E6snNZRZOWaf",
        "colab_type": "code",
        "colab": {}
      },
      "source": [
        "train_generator = ImageDataGenerator(rescale = 1./255,\n",
        "                                     rotation_range=360,  \n",
        "                                     zoom_range = 0.3,\n",
        "                                     horizontal_flip=True,\n",
        "                                     vertical_flip=True,\n",
        "                                     fill_mode='reflect')\n",
        "                                    \n",
        "test_generator=ImageDataGenerator(rescale = 1./255)\n",
        "test_generator=ImageDataGenerator(rescale = 1./255)"
      ],
      "execution_count": 0,
      "outputs": []
    },
    {
      "cell_type": "code",
      "metadata": {
        "id": "OdF3KvYwOfC5",
        "colab_type": "code",
        "outputId": "02bfe0d1-0e55-4bb6-bba9-f07d660f153a",
        "colab": {
          "base_uri": "https://localhost:8080/",
          "height": 68
        }
      },
      "source": [
        "train_data= train_generator.flow_from_dataframe(dataframe=train,x_col=\"image_full_name\",y_col=\"dx\",\n",
        "                                                directory='/content/ham10000-with-one-image-folder/HAM1000_images',\n",
        "                                                shuffle=True,batch_size=32,class_mode=\"categorical\",target_size=(IMG_WIDTH,IMG_HEIGHT))\n",
        "\n",
        "val_data= test_generator.flow_from_dataframe(dataframe=val,x_col=\"image_full_name\",y_col=\"dx\",\n",
        "                                              directory='/content/ham10000-with-one-image-folder/HAM1000_images',\n",
        "                                              shuffle=True,batch_size=32,class_mode='categorical',target_size=(IMG_WIDTH,IMG_HEIGHT))\n",
        "\n",
        "test_data= test_generator.flow_from_dataframe(dataframe=test,x_col=\"image_full_name\",y_col=\"dx\",\n",
        "                                              directory='/content/ham10000-with-one-image-folder/HAM1000_images',\n",
        "                                              shuffle=False,batch_size=1,class_mode=None,target_size=(IMG_WIDTH,IMG_HEIGHT))"
      ],
      "execution_count": 17,
      "outputs": [
        {
          "output_type": "stream",
          "text": [
            "Found 6309 validated image filenames belonging to 7 classes.\n",
            "Found 2704 validated image filenames belonging to 7 classes.\n",
            "Found 1002 validated image filenames.\n"
          ],
          "name": "stdout"
        }
      ]
    },
    {
      "cell_type": "markdown",
      "metadata": {
        "id": "3WOs0EjX8Ot2",
        "colab_type": "text"
      },
      "source": [
        "# **Focal Loss**"
      ]
    },
    {
      "cell_type": "markdown",
      "metadata": {
        "id": "E9H8QLiwJ_rc",
        "colab_type": "text"
      },
      "source": [
        "https://github.com/mkocabas/focal-loss-keras\n",
        "\n",
        "\n",
        "\n",
        "\n"
      ]
    },
    {
      "cell_type": "markdown",
      "metadata": {
        "id": "he4CnLjdH8c5",
        "colab_type": "text"
      },
      "source": [
        "$$\\text{FL}(p_t) = -\\alpha_t (1 - p_t)^{\\gamma} \\, \\text{log}(p_t)$$"
      ]
    },
    {
      "cell_type": "code",
      "metadata": {
        "id": "bHu6edXfTaAt",
        "colab_type": "code",
        "colab": {}
      },
      "source": [
        "def focal_loss(gamma=2., alpha=.25):\n",
        "\tdef focal_loss_fixed(y_true, y_pred):\n",
        "\t\tpt_1 = tf.where(tf.equal(y_true, 1), y_pred, tf.ones_like(y_pred))\n",
        "\t\tpt_0 = tf.where(tf.equal(y_true, 0), y_pred, tf.zeros_like(y_pred))\n",
        "\t\treturn -K.mean(alpha * K.pow(1. - pt_1, gamma) * K.log(pt_1)) - K.mean((1 - alpha) * K.pow(pt_0, gamma) * K.log(1. - pt_0))\n",
        "\treturn focal_loss_fixed"
      ],
      "execution_count": 0,
      "outputs": []
    },
    {
      "cell_type": "markdown",
      "metadata": {
        "id": "ivQqzr9X8T8Z",
        "colab_type": "text"
      },
      "source": [
        "# **Build Model**"
      ]
    },
    {
      "cell_type": "markdown",
      "metadata": {
        "id": "x6NKOM5-VHcm",
        "colab_type": "text"
      },
      "source": [
        "### **Use ResNet50 + fine tuning**"
      ]
    },
    {
      "cell_type": "code",
      "metadata": {
        "id": "982Ib3LtLZ19",
        "colab_type": "code",
        "colab": {}
      },
      "source": [
        "def build_model():\n",
        "  base_model = tf.keras.applications.ResNet50(include_top=False, input_shape=(IMG_WIDTH, IMG_HEIGHT, 3), weights='imagenet')\n",
        "  \n",
        "  for layer in base_model.layers:\n",
        "    if isinstance(layer, tf.keras.layers.BatchNormalization):\n",
        "        layer.trainable = True\n",
        "    else:\n",
        "        layer.trainable = False\n",
        "\n",
        "  average_pooling_layer = tf.keras.layers.GlobalAveragePooling2D()(base_model.output)\n",
        "  fc_layer = tf.keras.layers.Dense(256, activation='relu', kernel_regularizer=regularizers.l2(0.0001))(average_pooling_layer)\n",
        "  fc_layer = tf.keras.layers.Dense(128, activation='relu', kernel_regularizer=regularizers.l2(0.0001))(fc_layer)\n",
        "  fc_layer = tf.keras.layers.Dense(64, activation='relu', kernel_regularizer=regularizers.l2(0.0001))(fc_layer)\n",
        "  fc_layer = tf.keras.layers.Dense(32, activation='relu', kernel_regularizer=regularizers.l2(0.0001))(fc_layer)\n",
        "  bn_layer = tf.keras.layers.BatchNormalization()(fc_layer)\n",
        "  dropout_layer = tf.keras.layers.Dropout(0.25)(bn_layer)\n",
        "  prediction_layer = tf.keras.layers.Dense(units=NUM_CLASSES, activation='softmax', name='prediction')(dropout_layer)\n",
        "  model = tf.keras.models.Model(inputs=base_model.input, outputs=prediction_layer)\n",
        "  \n",
        "  model.compile(optimizer=Nadam(LR), loss=[focal_loss(alpha=.25, gamma=2)], metrics=['accuracy'])\n",
        "  return model"
      ],
      "execution_count": 0,
      "outputs": []
    },
    {
      "cell_type": "code",
      "metadata": {
        "id": "quSBa9F3Qdqk",
        "colab_type": "code",
        "colab": {}
      },
      "source": [
        "model = build_model()"
      ],
      "execution_count": 0,
      "outputs": []
    },
    {
      "cell_type": "markdown",
      "metadata": {
        "id": "9TFNv-FGLdgd",
        "colab_type": "text"
      },
      "source": [
        "### **Architecture**"
      ]
    },
    {
      "cell_type": "code",
      "metadata": {
        "id": "r1bAKncT_-0g",
        "colab_type": "code",
        "colab": {
          "base_uri": "https://localhost:8080/",
          "height": 1000
        },
        "outputId": "2c2fd76f-9f05-4316-9165-148d494a0a2e"
      },
      "source": [
        "model.summary()"
      ],
      "execution_count": 24,
      "outputs": [
        {
          "output_type": "stream",
          "text": [
            "Model: \"model_1\"\n",
            "__________________________________________________________________________________________________\n",
            "Layer (type)                    Output Shape         Param #     Connected to                     \n",
            "==================================================================================================\n",
            "input_2 (InputLayer)            [(None, 224, 224, 3) 0                                            \n",
            "__________________________________________________________________________________________________\n",
            "conv1_pad (ZeroPadding2D)       (None, 230, 230, 3)  0           input_2[0][0]                    \n",
            "__________________________________________________________________________________________________\n",
            "conv1_conv (Conv2D)             (None, 112, 112, 64) 9472        conv1_pad[0][0]                  \n",
            "__________________________________________________________________________________________________\n",
            "conv1_bn (BatchNormalization)   (None, 112, 112, 64) 256         conv1_conv[0][0]                 \n",
            "__________________________________________________________________________________________________\n",
            "conv1_relu (Activation)         (None, 112, 112, 64) 0           conv1_bn[0][0]                   \n",
            "__________________________________________________________________________________________________\n",
            "pool1_pad (ZeroPadding2D)       (None, 114, 114, 64) 0           conv1_relu[0][0]                 \n",
            "__________________________________________________________________________________________________\n",
            "pool1_pool (MaxPooling2D)       (None, 56, 56, 64)   0           pool1_pad[0][0]                  \n",
            "__________________________________________________________________________________________________\n",
            "conv2_block1_1_conv (Conv2D)    (None, 56, 56, 64)   4160        pool1_pool[0][0]                 \n",
            "__________________________________________________________________________________________________\n",
            "conv2_block1_1_bn (BatchNormali (None, 56, 56, 64)   256         conv2_block1_1_conv[0][0]        \n",
            "__________________________________________________________________________________________________\n",
            "conv2_block1_1_relu (Activation (None, 56, 56, 64)   0           conv2_block1_1_bn[0][0]          \n",
            "__________________________________________________________________________________________________\n",
            "conv2_block1_2_conv (Conv2D)    (None, 56, 56, 64)   36928       conv2_block1_1_relu[0][0]        \n",
            "__________________________________________________________________________________________________\n",
            "conv2_block1_2_bn (BatchNormali (None, 56, 56, 64)   256         conv2_block1_2_conv[0][0]        \n",
            "__________________________________________________________________________________________________\n",
            "conv2_block1_2_relu (Activation (None, 56, 56, 64)   0           conv2_block1_2_bn[0][0]          \n",
            "__________________________________________________________________________________________________\n",
            "conv2_block1_0_conv (Conv2D)    (None, 56, 56, 256)  16640       pool1_pool[0][0]                 \n",
            "__________________________________________________________________________________________________\n",
            "conv2_block1_3_conv (Conv2D)    (None, 56, 56, 256)  16640       conv2_block1_2_relu[0][0]        \n",
            "__________________________________________________________________________________________________\n",
            "conv2_block1_0_bn (BatchNormali (None, 56, 56, 256)  1024        conv2_block1_0_conv[0][0]        \n",
            "__________________________________________________________________________________________________\n",
            "conv2_block1_3_bn (BatchNormali (None, 56, 56, 256)  1024        conv2_block1_3_conv[0][0]        \n",
            "__________________________________________________________________________________________________\n",
            "conv2_block1_add (Add)          (None, 56, 56, 256)  0           conv2_block1_0_bn[0][0]          \n",
            "                                                                 conv2_block1_3_bn[0][0]          \n",
            "__________________________________________________________________________________________________\n",
            "conv2_block1_out (Activation)   (None, 56, 56, 256)  0           conv2_block1_add[0][0]           \n",
            "__________________________________________________________________________________________________\n",
            "conv2_block2_1_conv (Conv2D)    (None, 56, 56, 64)   16448       conv2_block1_out[0][0]           \n",
            "__________________________________________________________________________________________________\n",
            "conv2_block2_1_bn (BatchNormali (None, 56, 56, 64)   256         conv2_block2_1_conv[0][0]        \n",
            "__________________________________________________________________________________________________\n",
            "conv2_block2_1_relu (Activation (None, 56, 56, 64)   0           conv2_block2_1_bn[0][0]          \n",
            "__________________________________________________________________________________________________\n",
            "conv2_block2_2_conv (Conv2D)    (None, 56, 56, 64)   36928       conv2_block2_1_relu[0][0]        \n",
            "__________________________________________________________________________________________________\n",
            "conv2_block2_2_bn (BatchNormali (None, 56, 56, 64)   256         conv2_block2_2_conv[0][0]        \n",
            "__________________________________________________________________________________________________\n",
            "conv2_block2_2_relu (Activation (None, 56, 56, 64)   0           conv2_block2_2_bn[0][0]          \n",
            "__________________________________________________________________________________________________\n",
            "conv2_block2_3_conv (Conv2D)    (None, 56, 56, 256)  16640       conv2_block2_2_relu[0][0]        \n",
            "__________________________________________________________________________________________________\n",
            "conv2_block2_3_bn (BatchNormali (None, 56, 56, 256)  1024        conv2_block2_3_conv[0][0]        \n",
            "__________________________________________________________________________________________________\n",
            "conv2_block2_add (Add)          (None, 56, 56, 256)  0           conv2_block1_out[0][0]           \n",
            "                                                                 conv2_block2_3_bn[0][0]          \n",
            "__________________________________________________________________________________________________\n",
            "conv2_block2_out (Activation)   (None, 56, 56, 256)  0           conv2_block2_add[0][0]           \n",
            "__________________________________________________________________________________________________\n",
            "conv2_block3_1_conv (Conv2D)    (None, 56, 56, 64)   16448       conv2_block2_out[0][0]           \n",
            "__________________________________________________________________________________________________\n",
            "conv2_block3_1_bn (BatchNormali (None, 56, 56, 64)   256         conv2_block3_1_conv[0][0]        \n",
            "__________________________________________________________________________________________________\n",
            "conv2_block3_1_relu (Activation (None, 56, 56, 64)   0           conv2_block3_1_bn[0][0]          \n",
            "__________________________________________________________________________________________________\n",
            "conv2_block3_2_conv (Conv2D)    (None, 56, 56, 64)   36928       conv2_block3_1_relu[0][0]        \n",
            "__________________________________________________________________________________________________\n",
            "conv2_block3_2_bn (BatchNormali (None, 56, 56, 64)   256         conv2_block3_2_conv[0][0]        \n",
            "__________________________________________________________________________________________________\n",
            "conv2_block3_2_relu (Activation (None, 56, 56, 64)   0           conv2_block3_2_bn[0][0]          \n",
            "__________________________________________________________________________________________________\n",
            "conv2_block3_3_conv (Conv2D)    (None, 56, 56, 256)  16640       conv2_block3_2_relu[0][0]        \n",
            "__________________________________________________________________________________________________\n",
            "conv2_block3_3_bn (BatchNormali (None, 56, 56, 256)  1024        conv2_block3_3_conv[0][0]        \n",
            "__________________________________________________________________________________________________\n",
            "conv2_block3_add (Add)          (None, 56, 56, 256)  0           conv2_block2_out[0][0]           \n",
            "                                                                 conv2_block3_3_bn[0][0]          \n",
            "__________________________________________________________________________________________________\n",
            "conv2_block3_out (Activation)   (None, 56, 56, 256)  0           conv2_block3_add[0][0]           \n",
            "__________________________________________________________________________________________________\n",
            "conv3_block1_1_conv (Conv2D)    (None, 28, 28, 128)  32896       conv2_block3_out[0][0]           \n",
            "__________________________________________________________________________________________________\n",
            "conv3_block1_1_bn (BatchNormali (None, 28, 28, 128)  512         conv3_block1_1_conv[0][0]        \n",
            "__________________________________________________________________________________________________\n",
            "conv3_block1_1_relu (Activation (None, 28, 28, 128)  0           conv3_block1_1_bn[0][0]          \n",
            "__________________________________________________________________________________________________\n",
            "conv3_block1_2_conv (Conv2D)    (None, 28, 28, 128)  147584      conv3_block1_1_relu[0][0]        \n",
            "__________________________________________________________________________________________________\n",
            "conv3_block1_2_bn (BatchNormali (None, 28, 28, 128)  512         conv3_block1_2_conv[0][0]        \n",
            "__________________________________________________________________________________________________\n",
            "conv3_block1_2_relu (Activation (None, 28, 28, 128)  0           conv3_block1_2_bn[0][0]          \n",
            "__________________________________________________________________________________________________\n",
            "conv3_block1_0_conv (Conv2D)    (None, 28, 28, 512)  131584      conv2_block3_out[0][0]           \n",
            "__________________________________________________________________________________________________\n",
            "conv3_block1_3_conv (Conv2D)    (None, 28, 28, 512)  66048       conv3_block1_2_relu[0][0]        \n",
            "__________________________________________________________________________________________________\n",
            "conv3_block1_0_bn (BatchNormali (None, 28, 28, 512)  2048        conv3_block1_0_conv[0][0]        \n",
            "__________________________________________________________________________________________________\n",
            "conv3_block1_3_bn (BatchNormali (None, 28, 28, 512)  2048        conv3_block1_3_conv[0][0]        \n",
            "__________________________________________________________________________________________________\n",
            "conv3_block1_add (Add)          (None, 28, 28, 512)  0           conv3_block1_0_bn[0][0]          \n",
            "                                                                 conv3_block1_3_bn[0][0]          \n",
            "__________________________________________________________________________________________________\n",
            "conv3_block1_out (Activation)   (None, 28, 28, 512)  0           conv3_block1_add[0][0]           \n",
            "__________________________________________________________________________________________________\n",
            "conv3_block2_1_conv (Conv2D)    (None, 28, 28, 128)  65664       conv3_block1_out[0][0]           \n",
            "__________________________________________________________________________________________________\n",
            "conv3_block2_1_bn (BatchNormali (None, 28, 28, 128)  512         conv3_block2_1_conv[0][0]        \n",
            "__________________________________________________________________________________________________\n",
            "conv3_block2_1_relu (Activation (None, 28, 28, 128)  0           conv3_block2_1_bn[0][0]          \n",
            "__________________________________________________________________________________________________\n",
            "conv3_block2_2_conv (Conv2D)    (None, 28, 28, 128)  147584      conv3_block2_1_relu[0][0]        \n",
            "__________________________________________________________________________________________________\n",
            "conv3_block2_2_bn (BatchNormali (None, 28, 28, 128)  512         conv3_block2_2_conv[0][0]        \n",
            "__________________________________________________________________________________________________\n",
            "conv3_block2_2_relu (Activation (None, 28, 28, 128)  0           conv3_block2_2_bn[0][0]          \n",
            "__________________________________________________________________________________________________\n",
            "conv3_block2_3_conv (Conv2D)    (None, 28, 28, 512)  66048       conv3_block2_2_relu[0][0]        \n",
            "__________________________________________________________________________________________________\n",
            "conv3_block2_3_bn (BatchNormali (None, 28, 28, 512)  2048        conv3_block2_3_conv[0][0]        \n",
            "__________________________________________________________________________________________________\n",
            "conv3_block2_add (Add)          (None, 28, 28, 512)  0           conv3_block1_out[0][0]           \n",
            "                                                                 conv3_block2_3_bn[0][0]          \n",
            "__________________________________________________________________________________________________\n",
            "conv3_block2_out (Activation)   (None, 28, 28, 512)  0           conv3_block2_add[0][0]           \n",
            "__________________________________________________________________________________________________\n",
            "conv3_block3_1_conv (Conv2D)    (None, 28, 28, 128)  65664       conv3_block2_out[0][0]           \n",
            "__________________________________________________________________________________________________\n",
            "conv3_block3_1_bn (BatchNormali (None, 28, 28, 128)  512         conv3_block3_1_conv[0][0]        \n",
            "__________________________________________________________________________________________________\n",
            "conv3_block3_1_relu (Activation (None, 28, 28, 128)  0           conv3_block3_1_bn[0][0]          \n",
            "__________________________________________________________________________________________________\n",
            "conv3_block3_2_conv (Conv2D)    (None, 28, 28, 128)  147584      conv3_block3_1_relu[0][0]        \n",
            "__________________________________________________________________________________________________\n",
            "conv3_block3_2_bn (BatchNormali (None, 28, 28, 128)  512         conv3_block3_2_conv[0][0]        \n",
            "__________________________________________________________________________________________________\n",
            "conv3_block3_2_relu (Activation (None, 28, 28, 128)  0           conv3_block3_2_bn[0][0]          \n",
            "__________________________________________________________________________________________________\n",
            "conv3_block3_3_conv (Conv2D)    (None, 28, 28, 512)  66048       conv3_block3_2_relu[0][0]        \n",
            "__________________________________________________________________________________________________\n",
            "conv3_block3_3_bn (BatchNormali (None, 28, 28, 512)  2048        conv3_block3_3_conv[0][0]        \n",
            "__________________________________________________________________________________________________\n",
            "conv3_block3_add (Add)          (None, 28, 28, 512)  0           conv3_block2_out[0][0]           \n",
            "                                                                 conv3_block3_3_bn[0][0]          \n",
            "__________________________________________________________________________________________________\n",
            "conv3_block3_out (Activation)   (None, 28, 28, 512)  0           conv3_block3_add[0][0]           \n",
            "__________________________________________________________________________________________________\n",
            "conv3_block4_1_conv (Conv2D)    (None, 28, 28, 128)  65664       conv3_block3_out[0][0]           \n",
            "__________________________________________________________________________________________________\n",
            "conv3_block4_1_bn (BatchNormali (None, 28, 28, 128)  512         conv3_block4_1_conv[0][0]        \n",
            "__________________________________________________________________________________________________\n",
            "conv3_block4_1_relu (Activation (None, 28, 28, 128)  0           conv3_block4_1_bn[0][0]          \n",
            "__________________________________________________________________________________________________\n",
            "conv3_block4_2_conv (Conv2D)    (None, 28, 28, 128)  147584      conv3_block4_1_relu[0][0]        \n",
            "__________________________________________________________________________________________________\n",
            "conv3_block4_2_bn (BatchNormali (None, 28, 28, 128)  512         conv3_block4_2_conv[0][0]        \n",
            "__________________________________________________________________________________________________\n",
            "conv3_block4_2_relu (Activation (None, 28, 28, 128)  0           conv3_block4_2_bn[0][0]          \n",
            "__________________________________________________________________________________________________\n",
            "conv3_block4_3_conv (Conv2D)    (None, 28, 28, 512)  66048       conv3_block4_2_relu[0][0]        \n",
            "__________________________________________________________________________________________________\n",
            "conv3_block4_3_bn (BatchNormali (None, 28, 28, 512)  2048        conv3_block4_3_conv[0][0]        \n",
            "__________________________________________________________________________________________________\n",
            "conv3_block4_add (Add)          (None, 28, 28, 512)  0           conv3_block3_out[0][0]           \n",
            "                                                                 conv3_block4_3_bn[0][0]          \n",
            "__________________________________________________________________________________________________\n",
            "conv3_block4_out (Activation)   (None, 28, 28, 512)  0           conv3_block4_add[0][0]           \n",
            "__________________________________________________________________________________________________\n",
            "conv4_block1_1_conv (Conv2D)    (None, 14, 14, 256)  131328      conv3_block4_out[0][0]           \n",
            "__________________________________________________________________________________________________\n",
            "conv4_block1_1_bn (BatchNormali (None, 14, 14, 256)  1024        conv4_block1_1_conv[0][0]        \n",
            "__________________________________________________________________________________________________\n",
            "conv4_block1_1_relu (Activation (None, 14, 14, 256)  0           conv4_block1_1_bn[0][0]          \n",
            "__________________________________________________________________________________________________\n",
            "conv4_block1_2_conv (Conv2D)    (None, 14, 14, 256)  590080      conv4_block1_1_relu[0][0]        \n",
            "__________________________________________________________________________________________________\n",
            "conv4_block1_2_bn (BatchNormali (None, 14, 14, 256)  1024        conv4_block1_2_conv[0][0]        \n",
            "__________________________________________________________________________________________________\n",
            "conv4_block1_2_relu (Activation (None, 14, 14, 256)  0           conv4_block1_2_bn[0][0]          \n",
            "__________________________________________________________________________________________________\n",
            "conv4_block1_0_conv (Conv2D)    (None, 14, 14, 1024) 525312      conv3_block4_out[0][0]           \n",
            "__________________________________________________________________________________________________\n",
            "conv4_block1_3_conv (Conv2D)    (None, 14, 14, 1024) 263168      conv4_block1_2_relu[0][0]        \n",
            "__________________________________________________________________________________________________\n",
            "conv4_block1_0_bn (BatchNormali (None, 14, 14, 1024) 4096        conv4_block1_0_conv[0][0]        \n",
            "__________________________________________________________________________________________________\n",
            "conv4_block1_3_bn (BatchNormali (None, 14, 14, 1024) 4096        conv4_block1_3_conv[0][0]        \n",
            "__________________________________________________________________________________________________\n",
            "conv4_block1_add (Add)          (None, 14, 14, 1024) 0           conv4_block1_0_bn[0][0]          \n",
            "                                                                 conv4_block1_3_bn[0][0]          \n",
            "__________________________________________________________________________________________________\n",
            "conv4_block1_out (Activation)   (None, 14, 14, 1024) 0           conv4_block1_add[0][0]           \n",
            "__________________________________________________________________________________________________\n",
            "conv4_block2_1_conv (Conv2D)    (None, 14, 14, 256)  262400      conv4_block1_out[0][0]           \n",
            "__________________________________________________________________________________________________\n",
            "conv4_block2_1_bn (BatchNormali (None, 14, 14, 256)  1024        conv4_block2_1_conv[0][0]        \n",
            "__________________________________________________________________________________________________\n",
            "conv4_block2_1_relu (Activation (None, 14, 14, 256)  0           conv4_block2_1_bn[0][0]          \n",
            "__________________________________________________________________________________________________\n",
            "conv4_block2_2_conv (Conv2D)    (None, 14, 14, 256)  590080      conv4_block2_1_relu[0][0]        \n",
            "__________________________________________________________________________________________________\n",
            "conv4_block2_2_bn (BatchNormali (None, 14, 14, 256)  1024        conv4_block2_2_conv[0][0]        \n",
            "__________________________________________________________________________________________________\n",
            "conv4_block2_2_relu (Activation (None, 14, 14, 256)  0           conv4_block2_2_bn[0][0]          \n",
            "__________________________________________________________________________________________________\n",
            "conv4_block2_3_conv (Conv2D)    (None, 14, 14, 1024) 263168      conv4_block2_2_relu[0][0]        \n",
            "__________________________________________________________________________________________________\n",
            "conv4_block2_3_bn (BatchNormali (None, 14, 14, 1024) 4096        conv4_block2_3_conv[0][0]        \n",
            "__________________________________________________________________________________________________\n",
            "conv4_block2_add (Add)          (None, 14, 14, 1024) 0           conv4_block1_out[0][0]           \n",
            "                                                                 conv4_block2_3_bn[0][0]          \n",
            "__________________________________________________________________________________________________\n",
            "conv4_block2_out (Activation)   (None, 14, 14, 1024) 0           conv4_block2_add[0][0]           \n",
            "__________________________________________________________________________________________________\n",
            "conv4_block3_1_conv (Conv2D)    (None, 14, 14, 256)  262400      conv4_block2_out[0][0]           \n",
            "__________________________________________________________________________________________________\n",
            "conv4_block3_1_bn (BatchNormali (None, 14, 14, 256)  1024        conv4_block3_1_conv[0][0]        \n",
            "__________________________________________________________________________________________________\n",
            "conv4_block3_1_relu (Activation (None, 14, 14, 256)  0           conv4_block3_1_bn[0][0]          \n",
            "__________________________________________________________________________________________________\n",
            "conv4_block3_2_conv (Conv2D)    (None, 14, 14, 256)  590080      conv4_block3_1_relu[0][0]        \n",
            "__________________________________________________________________________________________________\n",
            "conv4_block3_2_bn (BatchNormali (None, 14, 14, 256)  1024        conv4_block3_2_conv[0][0]        \n",
            "__________________________________________________________________________________________________\n",
            "conv4_block3_2_relu (Activation (None, 14, 14, 256)  0           conv4_block3_2_bn[0][0]          \n",
            "__________________________________________________________________________________________________\n",
            "conv4_block3_3_conv (Conv2D)    (None, 14, 14, 1024) 263168      conv4_block3_2_relu[0][0]        \n",
            "__________________________________________________________________________________________________\n",
            "conv4_block3_3_bn (BatchNormali (None, 14, 14, 1024) 4096        conv4_block3_3_conv[0][0]        \n",
            "__________________________________________________________________________________________________\n",
            "conv4_block3_add (Add)          (None, 14, 14, 1024) 0           conv4_block2_out[0][0]           \n",
            "                                                                 conv4_block3_3_bn[0][0]          \n",
            "__________________________________________________________________________________________________\n",
            "conv4_block3_out (Activation)   (None, 14, 14, 1024) 0           conv4_block3_add[0][0]           \n",
            "__________________________________________________________________________________________________\n",
            "conv4_block4_1_conv (Conv2D)    (None, 14, 14, 256)  262400      conv4_block3_out[0][0]           \n",
            "__________________________________________________________________________________________________\n",
            "conv4_block4_1_bn (BatchNormali (None, 14, 14, 256)  1024        conv4_block4_1_conv[0][0]        \n",
            "__________________________________________________________________________________________________\n",
            "conv4_block4_1_relu (Activation (None, 14, 14, 256)  0           conv4_block4_1_bn[0][0]          \n",
            "__________________________________________________________________________________________________\n",
            "conv4_block4_2_conv (Conv2D)    (None, 14, 14, 256)  590080      conv4_block4_1_relu[0][0]        \n",
            "__________________________________________________________________________________________________\n",
            "conv4_block4_2_bn (BatchNormali (None, 14, 14, 256)  1024        conv4_block4_2_conv[0][0]        \n",
            "__________________________________________________________________________________________________\n",
            "conv4_block4_2_relu (Activation (None, 14, 14, 256)  0           conv4_block4_2_bn[0][0]          \n",
            "__________________________________________________________________________________________________\n",
            "conv4_block4_3_conv (Conv2D)    (None, 14, 14, 1024) 263168      conv4_block4_2_relu[0][0]        \n",
            "__________________________________________________________________________________________________\n",
            "conv4_block4_3_bn (BatchNormali (None, 14, 14, 1024) 4096        conv4_block4_3_conv[0][0]        \n",
            "__________________________________________________________________________________________________\n",
            "conv4_block4_add (Add)          (None, 14, 14, 1024) 0           conv4_block3_out[0][0]           \n",
            "                                                                 conv4_block4_3_bn[0][0]          \n",
            "__________________________________________________________________________________________________\n",
            "conv4_block4_out (Activation)   (None, 14, 14, 1024) 0           conv4_block4_add[0][0]           \n",
            "__________________________________________________________________________________________________\n",
            "conv4_block5_1_conv (Conv2D)    (None, 14, 14, 256)  262400      conv4_block4_out[0][0]           \n",
            "__________________________________________________________________________________________________\n",
            "conv4_block5_1_bn (BatchNormali (None, 14, 14, 256)  1024        conv4_block5_1_conv[0][0]        \n",
            "__________________________________________________________________________________________________\n",
            "conv4_block5_1_relu (Activation (None, 14, 14, 256)  0           conv4_block5_1_bn[0][0]          \n",
            "__________________________________________________________________________________________________\n",
            "conv4_block5_2_conv (Conv2D)    (None, 14, 14, 256)  590080      conv4_block5_1_relu[0][0]        \n",
            "__________________________________________________________________________________________________\n",
            "conv4_block5_2_bn (BatchNormali (None, 14, 14, 256)  1024        conv4_block5_2_conv[0][0]        \n",
            "__________________________________________________________________________________________________\n",
            "conv4_block5_2_relu (Activation (None, 14, 14, 256)  0           conv4_block5_2_bn[0][0]          \n",
            "__________________________________________________________________________________________________\n",
            "conv4_block5_3_conv (Conv2D)    (None, 14, 14, 1024) 263168      conv4_block5_2_relu[0][0]        \n",
            "__________________________________________________________________________________________________\n",
            "conv4_block5_3_bn (BatchNormali (None, 14, 14, 1024) 4096        conv4_block5_3_conv[0][0]        \n",
            "__________________________________________________________________________________________________\n",
            "conv4_block5_add (Add)          (None, 14, 14, 1024) 0           conv4_block4_out[0][0]           \n",
            "                                                                 conv4_block5_3_bn[0][0]          \n",
            "__________________________________________________________________________________________________\n",
            "conv4_block5_out (Activation)   (None, 14, 14, 1024) 0           conv4_block5_add[0][0]           \n",
            "__________________________________________________________________________________________________\n",
            "conv4_block6_1_conv (Conv2D)    (None, 14, 14, 256)  262400      conv4_block5_out[0][0]           \n",
            "__________________________________________________________________________________________________\n",
            "conv4_block6_1_bn (BatchNormali (None, 14, 14, 256)  1024        conv4_block6_1_conv[0][0]        \n",
            "__________________________________________________________________________________________________\n",
            "conv4_block6_1_relu (Activation (None, 14, 14, 256)  0           conv4_block6_1_bn[0][0]          \n",
            "__________________________________________________________________________________________________\n",
            "conv4_block6_2_conv (Conv2D)    (None, 14, 14, 256)  590080      conv4_block6_1_relu[0][0]        \n",
            "__________________________________________________________________________________________________\n",
            "conv4_block6_2_bn (BatchNormali (None, 14, 14, 256)  1024        conv4_block6_2_conv[0][0]        \n",
            "__________________________________________________________________________________________________\n",
            "conv4_block6_2_relu (Activation (None, 14, 14, 256)  0           conv4_block6_2_bn[0][0]          \n",
            "__________________________________________________________________________________________________\n",
            "conv4_block6_3_conv (Conv2D)    (None, 14, 14, 1024) 263168      conv4_block6_2_relu[0][0]        \n",
            "__________________________________________________________________________________________________\n",
            "conv4_block6_3_bn (BatchNormali (None, 14, 14, 1024) 4096        conv4_block6_3_conv[0][0]        \n",
            "__________________________________________________________________________________________________\n",
            "conv4_block6_add (Add)          (None, 14, 14, 1024) 0           conv4_block5_out[0][0]           \n",
            "                                                                 conv4_block6_3_bn[0][0]          \n",
            "__________________________________________________________________________________________________\n",
            "conv4_block6_out (Activation)   (None, 14, 14, 1024) 0           conv4_block6_add[0][0]           \n",
            "__________________________________________________________________________________________________\n",
            "conv5_block1_1_conv (Conv2D)    (None, 7, 7, 512)    524800      conv4_block6_out[0][0]           \n",
            "__________________________________________________________________________________________________\n",
            "conv5_block1_1_bn (BatchNormali (None, 7, 7, 512)    2048        conv5_block1_1_conv[0][0]        \n",
            "__________________________________________________________________________________________________\n",
            "conv5_block1_1_relu (Activation (None, 7, 7, 512)    0           conv5_block1_1_bn[0][0]          \n",
            "__________________________________________________________________________________________________\n",
            "conv5_block1_2_conv (Conv2D)    (None, 7, 7, 512)    2359808     conv5_block1_1_relu[0][0]        \n",
            "__________________________________________________________________________________________________\n",
            "conv5_block1_2_bn (BatchNormali (None, 7, 7, 512)    2048        conv5_block1_2_conv[0][0]        \n",
            "__________________________________________________________________________________________________\n",
            "conv5_block1_2_relu (Activation (None, 7, 7, 512)    0           conv5_block1_2_bn[0][0]          \n",
            "__________________________________________________________________________________________________\n",
            "conv5_block1_0_conv (Conv2D)    (None, 7, 7, 2048)   2099200     conv4_block6_out[0][0]           \n",
            "__________________________________________________________________________________________________\n",
            "conv5_block1_3_conv (Conv2D)    (None, 7, 7, 2048)   1050624     conv5_block1_2_relu[0][0]        \n",
            "__________________________________________________________________________________________________\n",
            "conv5_block1_0_bn (BatchNormali (None, 7, 7, 2048)   8192        conv5_block1_0_conv[0][0]        \n",
            "__________________________________________________________________________________________________\n",
            "conv5_block1_3_bn (BatchNormali (None, 7, 7, 2048)   8192        conv5_block1_3_conv[0][0]        \n",
            "__________________________________________________________________________________________________\n",
            "conv5_block1_add (Add)          (None, 7, 7, 2048)   0           conv5_block1_0_bn[0][0]          \n",
            "                                                                 conv5_block1_3_bn[0][0]          \n",
            "__________________________________________________________________________________________________\n",
            "conv5_block1_out (Activation)   (None, 7, 7, 2048)   0           conv5_block1_add[0][0]           \n",
            "__________________________________________________________________________________________________\n",
            "conv5_block2_1_conv (Conv2D)    (None, 7, 7, 512)    1049088     conv5_block1_out[0][0]           \n",
            "__________________________________________________________________________________________________\n",
            "conv5_block2_1_bn (BatchNormali (None, 7, 7, 512)    2048        conv5_block2_1_conv[0][0]        \n",
            "__________________________________________________________________________________________________\n",
            "conv5_block2_1_relu (Activation (None, 7, 7, 512)    0           conv5_block2_1_bn[0][0]          \n",
            "__________________________________________________________________________________________________\n",
            "conv5_block2_2_conv (Conv2D)    (None, 7, 7, 512)    2359808     conv5_block2_1_relu[0][0]        \n",
            "__________________________________________________________________________________________________\n",
            "conv5_block2_2_bn (BatchNormali (None, 7, 7, 512)    2048        conv5_block2_2_conv[0][0]        \n",
            "__________________________________________________________________________________________________\n",
            "conv5_block2_2_relu (Activation (None, 7, 7, 512)    0           conv5_block2_2_bn[0][0]          \n",
            "__________________________________________________________________________________________________\n",
            "conv5_block2_3_conv (Conv2D)    (None, 7, 7, 2048)   1050624     conv5_block2_2_relu[0][0]        \n",
            "__________________________________________________________________________________________________\n",
            "conv5_block2_3_bn (BatchNormali (None, 7, 7, 2048)   8192        conv5_block2_3_conv[0][0]        \n",
            "__________________________________________________________________________________________________\n",
            "conv5_block2_add (Add)          (None, 7, 7, 2048)   0           conv5_block1_out[0][0]           \n",
            "                                                                 conv5_block2_3_bn[0][0]          \n",
            "__________________________________________________________________________________________________\n",
            "conv5_block2_out (Activation)   (None, 7, 7, 2048)   0           conv5_block2_add[0][0]           \n",
            "__________________________________________________________________________________________________\n",
            "conv5_block3_1_conv (Conv2D)    (None, 7, 7, 512)    1049088     conv5_block2_out[0][0]           \n",
            "__________________________________________________________________________________________________\n",
            "conv5_block3_1_bn (BatchNormali (None, 7, 7, 512)    2048        conv5_block3_1_conv[0][0]        \n",
            "__________________________________________________________________________________________________\n",
            "conv5_block3_1_relu (Activation (None, 7, 7, 512)    0           conv5_block3_1_bn[0][0]          \n",
            "__________________________________________________________________________________________________\n",
            "conv5_block3_2_conv (Conv2D)    (None, 7, 7, 512)    2359808     conv5_block3_1_relu[0][0]        \n",
            "__________________________________________________________________________________________________\n",
            "conv5_block3_2_bn (BatchNormali (None, 7, 7, 512)    2048        conv5_block3_2_conv[0][0]        \n",
            "__________________________________________________________________________________________________\n",
            "conv5_block3_2_relu (Activation (None, 7, 7, 512)    0           conv5_block3_2_bn[0][0]          \n",
            "__________________________________________________________________________________________________\n",
            "conv5_block3_3_conv (Conv2D)    (None, 7, 7, 2048)   1050624     conv5_block3_2_relu[0][0]        \n",
            "__________________________________________________________________________________________________\n",
            "conv5_block3_3_bn (BatchNormali (None, 7, 7, 2048)   8192        conv5_block3_3_conv[0][0]        \n",
            "__________________________________________________________________________________________________\n",
            "conv5_block3_add (Add)          (None, 7, 7, 2048)   0           conv5_block2_out[0][0]           \n",
            "                                                                 conv5_block3_3_bn[0][0]          \n",
            "__________________________________________________________________________________________________\n",
            "conv5_block3_out (Activation)   (None, 7, 7, 2048)   0           conv5_block3_add[0][0]           \n",
            "__________________________________________________________________________________________________\n",
            "global_average_pooling2d_1 (Glo (None, 2048)         0           conv5_block3_out[0][0]           \n",
            "__________________________________________________________________________________________________\n",
            "dense_4 (Dense)                 (None, 256)          524544      global_average_pooling2d_1[0][0] \n",
            "__________________________________________________________________________________________________\n",
            "dense_5 (Dense)                 (None, 128)          32896       dense_4[0][0]                    \n",
            "__________________________________________________________________________________________________\n",
            "dense_6 (Dense)                 (None, 64)           8256        dense_5[0][0]                    \n",
            "__________________________________________________________________________________________________\n",
            "dense_7 (Dense)                 (None, 32)           2080        dense_6[0][0]                    \n",
            "__________________________________________________________________________________________________\n",
            "batch_normalization_1 (BatchNor (None, 32)           128         dense_7[0][0]                    \n",
            "__________________________________________________________________________________________________\n",
            "dropout_1 (Dropout)             (None, 32)           0           batch_normalization_1[0][0]      \n",
            "__________________________________________________________________________________________________\n",
            "prediction (Dense)              (None, 7)            231         dropout_1[0][0]                  \n",
            "==================================================================================================\n",
            "Total params: 24,155,847\n",
            "Trainable params: 621,191\n",
            "Non-trainable params: 23,534,656\n",
            "__________________________________________________________________________________________________\n"
          ],
          "name": "stdout"
        }
      ]
    },
    {
      "cell_type": "markdown",
      "metadata": {
        "id": "KUkpZH2iO2HT",
        "colab_type": "text"
      },
      "source": [
        "### **Callbacks**"
      ]
    },
    {
      "cell_type": "code",
      "metadata": {
        "id": "W01_QL-DQujb",
        "colab_type": "code",
        "colab": {}
      },
      "source": [
        "model_path = '/content/Nadam_ResNet50_model.h5'"
      ],
      "execution_count": 0,
      "outputs": []
    },
    {
      "cell_type": "code",
      "metadata": {
        "id": "a-TRuxDhSBVR",
        "colab_type": "code",
        "colab": {}
      },
      "source": [
        "checkpoint = ModelCheckpoint(model_path, monitor='val_loss', verbose=1,\n",
        "                             save_best_only=True, mode='max')"
      ],
      "execution_count": 0,
      "outputs": []
    },
    {
      "cell_type": "code",
      "metadata": {
        "id": "fPtUnf9tSCYP",
        "colab_type": "code",
        "colab": {}
      },
      "source": [
        "early_stop = EarlyStopping(monitor='val_loss', mode='min', verbose=1, patience=10)"
      ],
      "execution_count": 0,
      "outputs": []
    },
    {
      "cell_type": "code",
      "metadata": {
        "id": "lnTxHeV9ym7w",
        "colab_type": "code",
        "colab": {}
      },
      "source": [
        "reduce_plateau = ReduceLROnPlateau(monitor='val_acc', patience=3, verbose=1, factor=.5, min_lr=0.00001)"
      ],
      "execution_count": 0,
      "outputs": []
    },
    {
      "cell_type": "code",
      "metadata": {
        "id": "yGLVL4QTSDOf",
        "colab_type": "code",
        "colab": {}
      },
      "source": [
        "cb_list = [checkpoint, early_stop, reduce_plateau]"
      ],
      "execution_count": 0,
      "outputs": []
    },
    {
      "cell_type": "markdown",
      "metadata": {
        "id": "_tWxLCM5VFYz",
        "colab_type": "text"
      },
      "source": [
        "### **Training**"
      ]
    },
    {
      "cell_type": "code",
      "metadata": {
        "id": "B-tzC-r3SEBp",
        "colab_type": "code",
        "colab": {
          "base_uri": "https://localhost:8080/",
          "height": 1000
        },
        "outputId": "484ab584-1f92-455b-83c5-775ea87531ab"
      },
      "source": [
        "history = model.fit_generator(generator=train_data,\n",
        "                            steps_per_epoch=train_data.samples//train_data.batch_size,\n",
        "                            validation_data=val_data,\n",
        "                            verbose=1,\n",
        "                            validation_steps=val_data.samples//val_data.batch_size,\n",
        "                            epochs=EPOCHS,\n",
        "                            callbacks=cb_list)"
      ],
      "execution_count": 30,
      "outputs": [
        {
          "output_type": "stream",
          "text": [
            "Epoch 1/100\n",
            "196/197 [============================>.] - ETA: 0s - loss: 0.1529 - acc: 0.1761Epoch 1/100\n",
            " 84/197 [===========>..................] - ETA: 33s - loss: 0.1955 - acc: 0.1112\n",
            "Epoch 00001: val_loss improved from -inf to 0.19555, saving model to /content/Nadam_ResNet50_model.h5\n",
            "197/197 [==============================] - 185s 940ms/step - loss: 0.1528 - acc: 0.1767 - val_loss: 0.1955 - val_acc: 0.1112\n",
            "Epoch 2/100\n",
            "196/197 [============================>.] - ETA: 0s - loss: 0.1323 - acc: 0.3103Epoch 1/100\n",
            " 84/197 [===========>..................] - ETA: 34s - loss: 0.3747 - acc: 0.1116\n",
            "Epoch 00002: val_loss improved from 0.19555 to 0.37473, saving model to /content/Nadam_ResNet50_model.h5\n",
            "197/197 [==============================] - 141s 718ms/step - loss: 0.1323 - acc: 0.3110 - val_loss: 0.3747 - val_acc: 0.1116\n",
            "Epoch 3/100\n",
            "196/197 [============================>.] - ETA: 0s - loss: 0.1247 - acc: 0.4152Epoch 1/100\n",
            " 84/197 [===========>..................] - ETA: 34s - loss: 0.3475 - acc: 0.1209\n",
            "Epoch 00003: val_loss did not improve from 0.37473\n",
            "197/197 [==============================] - 141s 713ms/step - loss: 0.1247 - acc: 0.4153 - val_loss: 0.3475 - val_acc: 0.1209\n",
            "Epoch 4/100\n",
            "196/197 [============================>.] - ETA: 0s - loss: 0.1202 - acc: 0.4746Epoch 1/100\n",
            " 84/197 [===========>..................] - ETA: 34s - loss: 0.1858 - acc: 0.1756\n",
            "Epoch 00004: val_loss did not improve from 0.37473\n",
            "197/197 [==============================] - 140s 713ms/step - loss: 0.1202 - acc: 0.4752 - val_loss: 0.1858 - val_acc: 0.1756\n",
            "Epoch 5/100\n",
            "196/197 [============================>.] - ETA: 0s - loss: 0.1166 - acc: 0.5267Epoch 1/100\n",
            " 84/197 [===========>..................] - ETA: 33s - loss: 0.1146 - acc: 0.5647\n",
            "Epoch 00005: val_loss did not improve from 0.37473\n",
            "197/197 [==============================] - 140s 709ms/step - loss: 0.1165 - acc: 0.5267 - val_loss: 0.1146 - val_acc: 0.5647\n",
            "Epoch 6/100\n",
            "196/197 [============================>.] - ETA: 0s - loss: 0.1134 - acc: 0.5612Epoch 1/100\n",
            " 84/197 [===========>..................] - ETA: 34s - loss: 0.1058 - acc: 0.6536\n",
            "Epoch 00006: val_loss did not improve from 0.37473\n",
            "197/197 [==============================] - 139s 707ms/step - loss: 0.1134 - acc: 0.5619 - val_loss: 0.1058 - val_acc: 0.6536\n",
            "Epoch 7/100\n",
            "196/197 [============================>.] - ETA: 0s - loss: 0.1108 - acc: 0.5880Epoch 1/100\n",
            " 84/197 [===========>..................] - ETA: 34s - loss: 0.1012 - acc: 0.6871\n",
            "Epoch 00007: val_loss did not improve from 0.37473\n",
            "197/197 [==============================] - 139s 704ms/step - loss: 0.1108 - acc: 0.5880 - val_loss: 0.1012 - val_acc: 0.6871\n",
            "Epoch 8/100\n",
            "196/197 [============================>.] - ETA: 0s - loss: 0.1085 - acc: 0.6183Epoch 1/100\n",
            " 84/197 [===========>..................] - ETA: 34s - loss: 0.0996 - acc: 0.7046\n",
            "Epoch 00008: val_loss did not improve from 0.37473\n",
            "197/197 [==============================] - 139s 705ms/step - loss: 0.1084 - acc: 0.6183 - val_loss: 0.0996 - val_acc: 0.7046\n",
            "Epoch 9/100\n",
            "196/197 [============================>.] - ETA: 0s - loss: 0.1067 - acc: 0.6285Epoch 1/100\n",
            " 84/197 [===========>..................] - ETA: 33s - loss: 0.0986 - acc: 0.7080\n",
            "Epoch 00009: val_loss did not improve from 0.37473\n",
            "197/197 [==============================] - 137s 695ms/step - loss: 0.1067 - acc: 0.6286 - val_loss: 0.0986 - val_acc: 0.7080\n",
            "Epoch 10/100\n",
            "196/197 [============================>.] - ETA: 0s - loss: 0.1051 - acc: 0.6394Epoch 1/100\n",
            " 84/197 [===========>..................] - ETA: 33s - loss: 0.0971 - acc: 0.7225\n",
            "Epoch 00010: val_loss did not improve from 0.37473\n",
            "197/197 [==============================] - 136s 688ms/step - loss: 0.1051 - acc: 0.6395 - val_loss: 0.0971 - val_acc: 0.7225\n",
            "Epoch 11/100\n",
            "196/197 [============================>.] - ETA: 0s - loss: 0.1027 - acc: 0.6557Epoch 1/100\n",
            " 84/197 [===========>..................] - ETA: 33s - loss: 0.0965 - acc: 0.7217\n",
            "Epoch 00011: val_loss did not improve from 0.37473\n",
            "197/197 [==============================] - 135s 685ms/step - loss: 0.1028 - acc: 0.6556 - val_loss: 0.0965 - val_acc: 0.7217\n",
            "Epoch 12/100\n",
            "196/197 [============================>.] - ETA: 0s - loss: 0.1011 - acc: 0.6660Epoch 1/100\n",
            " 84/197 [===========>..................] - ETA: 34s - loss: 0.0961 - acc: 0.7240\n",
            "Epoch 00012: val_loss did not improve from 0.37473\n",
            "197/197 [==============================] - 136s 692ms/step - loss: 0.1011 - acc: 0.6662 - val_loss: 0.0961 - val_acc: 0.7240\n",
            "Epoch 13/100\n",
            "196/197 [============================>.] - ETA: 0s - loss: 0.0994 - acc: 0.6759Epoch 1/100\n",
            " 84/197 [===========>..................] - ETA: 34s - loss: 0.0951 - acc: 0.7106\n",
            "Epoch 00013: val_loss did not improve from 0.37473\n",
            "197/197 [==============================] - 137s 697ms/step - loss: 0.0994 - acc: 0.6758 - val_loss: 0.0951 - val_acc: 0.7106\n",
            "Epoch 14/100\n",
            "196/197 [============================>.] - ETA: 0s - loss: 0.0980 - acc: 0.6833Epoch 1/100\n",
            " 84/197 [===========>..................] - ETA: 34s - loss: 0.0911 - acc: 0.7418\n",
            "Epoch 00014: val_loss did not improve from 0.37473\n",
            "197/197 [==============================] - 138s 700ms/step - loss: 0.0980 - acc: 0.6836 - val_loss: 0.0911 - val_acc: 0.7418\n",
            "Epoch 15/100\n",
            "196/197 [============================>.] - ETA: 0s - loss: 0.0962 - acc: 0.6926Epoch 1/100\n",
            " 84/197 [===========>..................] - ETA: 34s - loss: 0.0899 - acc: 0.7411\n",
            "Epoch 00015: val_loss did not improve from 0.37473\n",
            "197/197 [==============================] - 137s 698ms/step - loss: 0.0962 - acc: 0.6927 - val_loss: 0.0899 - val_acc: 0.7411\n",
            "Epoch 16/100\n",
            "196/197 [============================>.] - ETA: 0s - loss: 0.0947 - acc: 0.7004Epoch 1/100\n",
            " 84/197 [===========>..................] - ETA: 34s - loss: 0.0885 - acc: 0.7459\n",
            "Epoch 00016: val_loss did not improve from 0.37473\n",
            "197/197 [==============================] - 137s 695ms/step - loss: 0.0947 - acc: 0.7005 - val_loss: 0.0885 - val_acc: 0.7459\n",
            "Epoch 17/100\n",
            "196/197 [============================>.] - ETA: 0s - loss: 0.0936 - acc: 0.6974Epoch 1/100\n",
            " 84/197 [===========>..................] - ETA: 34s - loss: 0.0878 - acc: 0.7522\n",
            "Epoch 00017: val_loss did not improve from 0.37473\n",
            "197/197 [==============================] - 136s 690ms/step - loss: 0.0936 - acc: 0.6971 - val_loss: 0.0878 - val_acc: 0.7522\n",
            "Epoch 18/100\n",
            "196/197 [============================>.] - ETA: 0s - loss: 0.0923 - acc: 0.7023Epoch 1/100\n",
            " 84/197 [===========>..................] - ETA: 33s - loss: 0.0870 - acc: 0.7541\n",
            "Epoch 00018: val_loss did not improve from 0.37473\n",
            "197/197 [==============================] - 135s 686ms/step - loss: 0.0923 - acc: 0.7027 - val_loss: 0.0870 - val_acc: 0.7541\n",
            "Epoch 19/100\n",
            "196/197 [============================>.] - ETA: 0s - loss: 0.0898 - acc: 0.7120Epoch 1/100\n",
            " 84/197 [===========>..................] - ETA: 34s - loss: 0.0876 - acc: 0.7474\n",
            "Epoch 00019: val_loss did not improve from 0.37473\n",
            "197/197 [==============================] - 135s 684ms/step - loss: 0.0898 - acc: 0.7117 - val_loss: 0.0876 - val_acc: 0.7474\n",
            "Epoch 20/100\n",
            "196/197 [============================>.] - ETA: 0s - loss: 0.0888 - acc: 0.7198Epoch 1/100\n",
            " 84/197 [===========>..................] - ETA: 34s - loss: 0.0838 - acc: 0.7556\n",
            "Epoch 00020: val_loss did not improve from 0.37473\n",
            "197/197 [==============================] - 136s 691ms/step - loss: 0.0888 - acc: 0.7193 - val_loss: 0.0838 - val_acc: 0.7556\n",
            "Epoch 21/100\n",
            "196/197 [============================>.] - ETA: 0s - loss: 0.0875 - acc: 0.7226Epoch 1/100\n",
            " 84/197 [===========>..................] - ETA: 34s - loss: 0.0841 - acc: 0.7600\n",
            "Epoch 00021: val_loss did not improve from 0.37473\n",
            "197/197 [==============================] - 136s 691ms/step - loss: 0.0874 - acc: 0.7230 - val_loss: 0.0841 - val_acc: 0.7600\n",
            "Epoch 22/100\n",
            "196/197 [============================>.] - ETA: 0s - loss: 0.0863 - acc: 0.7260Epoch 1/100\n",
            " 84/197 [===========>..................] - ETA: 34s - loss: 0.0835 - acc: 0.7582\n",
            "Epoch 00022: val_loss did not improve from 0.37473\n",
            "197/197 [==============================] - 136s 688ms/step - loss: 0.0863 - acc: 0.7259 - val_loss: 0.0835 - val_acc: 0.7582\n",
            "Epoch 23/100\n",
            "196/197 [============================>.] - ETA: 0s - loss: 0.0848 - acc: 0.7356Epoch 1/100\n",
            " 84/197 [===========>..................] - ETA: 34s - loss: 0.0827 - acc: 0.7578\n",
            "Epoch 00023: val_loss did not improve from 0.37473\n",
            "197/197 [==============================] - 136s 688ms/step - loss: 0.0848 - acc: 0.7360 - val_loss: 0.0827 - val_acc: 0.7578\n",
            "Epoch 24/100\n",
            "196/197 [============================>.] - ETA: 0s - loss: 0.0829 - acc: 0.7416Epoch 1/100\n",
            " 84/197 [===========>..................] - ETA: 33s - loss: 0.0801 - acc: 0.7656\n",
            "Epoch 00024: val_loss did not improve from 0.37473\n",
            "197/197 [==============================] - 136s 689ms/step - loss: 0.0829 - acc: 0.7414 - val_loss: 0.0801 - val_acc: 0.7656\n",
            "Epoch 25/100\n",
            "196/197 [============================>.] - ETA: 0s - loss: 0.0818 - acc: 0.7443Epoch 1/100\n",
            " 84/197 [===========>..................] - ETA: 33s - loss: 0.0790 - acc: 0.7634\n",
            "Epoch 00025: val_loss did not improve from 0.37473\n",
            "197/197 [==============================] - 132s 672ms/step - loss: 0.0818 - acc: 0.7441 - val_loss: 0.0790 - val_acc: 0.7634\n",
            "Epoch 26/100\n",
            "196/197 [============================>.] - ETA: 0s - loss: 0.0809 - acc: 0.7430Epoch 1/100\n",
            " 84/197 [===========>..................] - ETA: 32s - loss: 0.0800 - acc: 0.7600\n",
            "Epoch 00026: val_loss did not improve from 0.37473\n",
            "197/197 [==============================] - 130s 661ms/step - loss: 0.0809 - acc: 0.7429 - val_loss: 0.0800 - val_acc: 0.7600\n",
            "Epoch 27/100\n",
            "196/197 [============================>.] - ETA: 0s - loss: 0.0800 - acc: 0.7432Epoch 1/100\n",
            " 84/197 [===========>..................] - ETA: 32s - loss: 0.0772 - acc: 0.7634\n",
            "Epoch 00027: val_loss did not improve from 0.37473\n",
            "\n",
            "Epoch 00027: ReduceLROnPlateau reducing learning rate to 1.4999999621068127e-05.\n",
            "197/197 [==============================] - 130s 659ms/step - loss: 0.0800 - acc: 0.7437 - val_loss: 0.0772 - val_acc: 0.7634\n",
            "Epoch 28/100\n",
            "196/197 [============================>.] - ETA: 0s - loss: 0.0785 - acc: 0.7513Epoch 1/100\n",
            " 84/197 [===========>..................] - ETA: 33s - loss: 0.0772 - acc: 0.7604\n",
            "Epoch 00028: val_loss did not improve from 0.37473\n",
            "197/197 [==============================] - 130s 660ms/step - loss: 0.0785 - acc: 0.7508 - val_loss: 0.0772 - val_acc: 0.7604\n",
            "Epoch 29/100\n",
            "196/197 [============================>.] - ETA: 0s - loss: 0.0782 - acc: 0.7481Epoch 1/100\n",
            " 84/197 [===========>..................] - ETA: 32s - loss: 0.0764 - acc: 0.7649\n",
            "Epoch 00029: val_loss did not improve from 0.37473\n",
            "197/197 [==============================] - 131s 665ms/step - loss: 0.0781 - acc: 0.7483 - val_loss: 0.0764 - val_acc: 0.7649\n",
            "Epoch 30/100\n",
            "196/197 [============================>.] - ETA: 0s - loss: 0.0774 - acc: 0.7521Epoch 1/100\n",
            " 84/197 [===========>..................] - ETA: 32s - loss: 0.0753 - acc: 0.7686\n",
            "Epoch 00030: val_loss did not improve from 0.37473\n",
            "197/197 [==============================] - 130s 657ms/step - loss: 0.0774 - acc: 0.7524 - val_loss: 0.0753 - val_acc: 0.7686\n",
            "Epoch 31/100\n",
            "196/197 [============================>.] - ETA: 0s - loss: 0.0771 - acc: 0.7556Epoch 1/100\n",
            " 84/197 [===========>..................] - ETA: 32s - loss: 0.0750 - acc: 0.7645\n",
            "Epoch 00031: val_loss did not improve from 0.37473\n",
            "197/197 [==============================] - 129s 656ms/step - loss: 0.0771 - acc: 0.7555 - val_loss: 0.0750 - val_acc: 0.7645\n",
            "Epoch 32/100\n",
            "196/197 [============================>.] - ETA: 0s - loss: 0.0763 - acc: 0.7560Epoch 1/100\n",
            " 84/197 [===========>..................] - ETA: 33s - loss: 0.0745 - acc: 0.7701\n",
            "Epoch 00032: val_loss did not improve from 0.37473\n",
            "197/197 [==============================] - 130s 659ms/step - loss: 0.0763 - acc: 0.7558 - val_loss: 0.0745 - val_acc: 0.7701\n",
            "Epoch 33/100\n",
            "196/197 [============================>.] - ETA: 0s - loss: 0.0752 - acc: 0.7664Epoch 1/100\n",
            " 84/197 [===========>..................] - ETA: 33s - loss: 0.0740 - acc: 0.7638\n",
            "Epoch 00033: val_loss did not improve from 0.37473\n",
            "197/197 [==============================] - 129s 655ms/step - loss: 0.0752 - acc: 0.7660 - val_loss: 0.0740 - val_acc: 0.7638\n",
            "Epoch 34/100\n",
            "196/197 [============================>.] - ETA: 0s - loss: 0.0749 - acc: 0.7592Epoch 1/100\n",
            " 84/197 [===========>..................] - ETA: 32s - loss: 0.0732 - acc: 0.7749\n",
            "Epoch 00034: val_loss did not improve from 0.37473\n",
            "197/197 [==============================] - 129s 652ms/step - loss: 0.0748 - acc: 0.7596 - val_loss: 0.0732 - val_acc: 0.7749\n",
            "Epoch 35/100\n",
            "196/197 [============================>.] - ETA: 0s - loss: 0.0744 - acc: 0.7669Epoch 1/100\n",
            " 84/197 [===========>..................] - ETA: 32s - loss: 0.0723 - acc: 0.7775\n",
            "Epoch 00035: val_loss did not improve from 0.37473\n",
            "197/197 [==============================] - 130s 658ms/step - loss: 0.0744 - acc: 0.7664 - val_loss: 0.0723 - val_acc: 0.7775\n",
            "Epoch 36/100\n",
            "196/197 [============================>.] - ETA: 0s - loss: 0.0737 - acc: 0.7649Epoch 1/100\n",
            " 84/197 [===========>..................] - ETA: 32s - loss: 0.0723 - acc: 0.7760\n",
            "Epoch 00036: val_loss did not improve from 0.37473\n",
            "197/197 [==============================] - 128s 652ms/step - loss: 0.0737 - acc: 0.7653 - val_loss: 0.0723 - val_acc: 0.7760\n",
            "Epoch 37/100\n",
            "196/197 [============================>.] - ETA: 0s - loss: 0.0728 - acc: 0.7681Epoch 1/100\n",
            " 84/197 [===========>..................] - ETA: 32s - loss: 0.0714 - acc: 0.7742\n",
            "Epoch 00037: val_loss did not improve from 0.37473\n",
            "197/197 [==============================] - 128s 648ms/step - loss: 0.0728 - acc: 0.7684 - val_loss: 0.0714 - val_acc: 0.7742\n",
            "Epoch 38/100\n",
            "196/197 [============================>.] - ETA: 0s - loss: 0.0723 - acc: 0.7755Epoch 1/100\n",
            " 84/197 [===========>..................] - ETA: 32s - loss: 0.0712 - acc: 0.7790\n",
            "Epoch 00038: val_loss did not improve from 0.37473\n",
            "197/197 [==============================] - 128s 650ms/step - loss: 0.0723 - acc: 0.7752 - val_loss: 0.0712 - val_acc: 0.7790\n",
            "Epoch 39/100\n",
            "196/197 [============================>.] - ETA: 0s - loss: 0.0721 - acc: 0.7640Epoch 1/100\n",
            " 84/197 [===========>..................] - ETA: 32s - loss: 0.0717 - acc: 0.7656\n",
            "Epoch 00039: val_loss did not improve from 0.37473\n",
            "197/197 [==============================] - 128s 648ms/step - loss: 0.0721 - acc: 0.7641 - val_loss: 0.0717 - val_acc: 0.7656\n",
            "Epoch 40/100\n",
            "196/197 [============================>.] - ETA: 0s - loss: 0.0717 - acc: 0.7645Epoch 1/100\n",
            " 84/197 [===========>..................] - ETA: 32s - loss: 0.0708 - acc: 0.7701\n",
            "Epoch 00040: val_loss did not improve from 0.37473\n",
            "197/197 [==============================] - 130s 659ms/step - loss: 0.0716 - acc: 0.7649 - val_loss: 0.0708 - val_acc: 0.7701\n",
            "Epoch 41/100\n",
            "196/197 [============================>.] - ETA: 0s - loss: 0.0712 - acc: 0.7666Epoch 1/100\n",
            " 84/197 [===========>..................] - ETA: 32s - loss: 0.0690 - acc: 0.7839\n",
            "Epoch 00041: val_loss did not improve from 0.37473\n",
            "197/197 [==============================] - 129s 653ms/step - loss: 0.0712 - acc: 0.7674 - val_loss: 0.0690 - val_acc: 0.7839\n",
            "Epoch 42/100\n",
            "196/197 [============================>.] - ETA: 0s - loss: 0.0710 - acc: 0.7653Epoch 1/100\n",
            " 84/197 [===========>..................] - ETA: 32s - loss: 0.0706 - acc: 0.7708\n",
            "Epoch 00042: val_loss did not improve from 0.37473\n",
            "197/197 [==============================] - 128s 651ms/step - loss: 0.0710 - acc: 0.7652 - val_loss: 0.0706 - val_acc: 0.7708\n",
            "Epoch 43/100\n",
            "196/197 [============================>.] - ETA: 0s - loss: 0.0696 - acc: 0.7845Epoch 1/100\n",
            " 84/197 [===========>..................] - ETA: 32s - loss: 0.0696 - acc: 0.7786\n",
            "Epoch 00043: val_loss did not improve from 0.37473\n",
            "197/197 [==============================] - 129s 653ms/step - loss: 0.0696 - acc: 0.7849 - val_loss: 0.0696 - val_acc: 0.7786\n",
            "Epoch 44/100\n",
            "196/197 [============================>.] - ETA: 0s - loss: 0.0689 - acc: 0.7828Epoch 1/100\n",
            " 84/197 [===========>..................] - ETA: 32s - loss: 0.0685 - acc: 0.7772\n",
            "Epoch 00044: val_loss did not improve from 0.37473\n",
            "\n",
            "Epoch 00044: ReduceLROnPlateau reducing learning rate to 1e-05.\n",
            "197/197 [==============================] - 129s 655ms/step - loss: 0.0688 - acc: 0.7832 - val_loss: 0.0685 - val_acc: 0.7772\n",
            "Epoch 45/100\n",
            "196/197 [============================>.] - ETA: 0s - loss: 0.0686 - acc: 0.7810Epoch 1/100\n",
            " 84/197 [===========>..................] - ETA: 32s - loss: 0.0683 - acc: 0.7775\n",
            "Epoch 00045: val_loss did not improve from 0.37473\n",
            "197/197 [==============================] - 128s 648ms/step - loss: 0.0686 - acc: 0.7814 - val_loss: 0.0683 - val_acc: 0.7775\n",
            "Epoch 46/100\n",
            "196/197 [============================>.] - ETA: 0s - loss: 0.0687 - acc: 0.7745Epoch 1/100\n",
            " 84/197 [===========>..................] - ETA: 31s - loss: 0.0677 - acc: 0.7783\n",
            "Epoch 00046: val_loss did not improve from 0.37473\n",
            "197/197 [==============================] - 127s 646ms/step - loss: 0.0686 - acc: 0.7752 - val_loss: 0.0677 - val_acc: 0.7783\n",
            "Epoch 47/100\n",
            "196/197 [============================>.] - ETA: 0s - loss: 0.0675 - acc: 0.7859Epoch 1/100\n",
            " 84/197 [===========>..................] - ETA: 31s - loss: 0.0673 - acc: 0.7794\n",
            "Epoch 00047: val_loss did not improve from 0.37473\n",
            "197/197 [==============================] - 126s 638ms/step - loss: 0.0674 - acc: 0.7862 - val_loss: 0.0673 - val_acc: 0.7794\n",
            "Epoch 48/100\n",
            "196/197 [============================>.] - ETA: 0s - loss: 0.0679 - acc: 0.7766Epoch 1/100\n",
            " 84/197 [===========>..................] - ETA: 32s - loss: 0.0670 - acc: 0.7816\n",
            "Epoch 00048: val_loss did not improve from 0.37473\n",
            "197/197 [==============================] - 126s 637ms/step - loss: 0.0679 - acc: 0.7763 - val_loss: 0.0670 - val_acc: 0.7816\n",
            "Epoch 49/100\n",
            "196/197 [============================>.] - ETA: 0s - loss: 0.0673 - acc: 0.7795Epoch 1/100\n",
            " 84/197 [===========>..................] - ETA: 31s - loss: 0.0673 - acc: 0.7768\n",
            "Epoch 00049: val_loss did not improve from 0.37473\n",
            "197/197 [==============================] - 125s 635ms/step - loss: 0.0673 - acc: 0.7803 - val_loss: 0.0673 - val_acc: 0.7768\n",
            "Epoch 50/100\n",
            "196/197 [============================>.] - ETA: 0s - loss: 0.0671 - acc: 0.7827Epoch 1/100\n",
            " 84/197 [===========>..................] - ETA: 32s - loss: 0.0664 - acc: 0.7865\n",
            "Epoch 00050: val_loss did not improve from 0.37473\n",
            "197/197 [==============================] - 126s 639ms/step - loss: 0.0671 - acc: 0.7824 - val_loss: 0.0664 - val_acc: 0.7865\n",
            "Epoch 51/100\n",
            "196/197 [============================>.] - ETA: 0s - loss: 0.0675 - acc: 0.7760Epoch 1/100\n",
            " 84/197 [===========>..................] - ETA: 31s - loss: 0.0662 - acc: 0.7812\n",
            "Epoch 00051: val_loss did not improve from 0.37473\n",
            "197/197 [==============================] - 125s 635ms/step - loss: 0.0674 - acc: 0.7763 - val_loss: 0.0662 - val_acc: 0.7812\n",
            "Epoch 52/100\n",
            "196/197 [============================>.] - ETA: 0s - loss: 0.0666 - acc: 0.7829Epoch 1/100\n",
            " 84/197 [===========>..................] - ETA: 31s - loss: 0.0667 - acc: 0.7749\n",
            "Epoch 00052: val_loss did not improve from 0.37473\n",
            "197/197 [==============================] - 125s 634ms/step - loss: 0.0666 - acc: 0.7830 - val_loss: 0.0667 - val_acc: 0.7749\n",
            "Epoch 53/100\n",
            "196/197 [============================>.] - ETA: 0s - loss: 0.0656 - acc: 0.7914Epoch 1/100\n",
            " 84/197 [===========>..................] - ETA: 31s - loss: 0.0658 - acc: 0.7805\n",
            "Epoch 00053: val_loss did not improve from 0.37473\n",
            "197/197 [==============================] - 127s 647ms/step - loss: 0.0656 - acc: 0.7916 - val_loss: 0.0658 - val_acc: 0.7805\n",
            "Epoch 54/100\n",
            "196/197 [============================>.] - ETA: 0s - loss: 0.0662 - acc: 0.7808Epoch 1/100\n",
            " 84/197 [===========>..................] - ETA: 31s - loss: 0.0657 - acc: 0.7786\n",
            "Epoch 00054: val_loss did not improve from 0.37473\n",
            "197/197 [==============================] - 125s 637ms/step - loss: 0.0661 - acc: 0.7813 - val_loss: 0.0657 - val_acc: 0.7786\n",
            "Epoch 55/100\n",
            "196/197 [============================>.] - ETA: 0s - loss: 0.0655 - acc: 0.7887Epoch 1/100\n",
            " 84/197 [===========>..................] - ETA: 31s - loss: 0.0651 - acc: 0.7872\n",
            "Epoch 00055: val_loss did not improve from 0.37473\n",
            "197/197 [==============================] - 125s 634ms/step - loss: 0.0655 - acc: 0.7890 - val_loss: 0.0651 - val_acc: 0.7872\n",
            "Epoch 56/100\n",
            "196/197 [============================>.] - ETA: 0s - loss: 0.0647 - acc: 0.7904Epoch 1/100\n",
            " 84/197 [===========>..................] - ETA: 31s - loss: 0.0655 - acc: 0.7846\n",
            "Epoch 00056: val_loss did not improve from 0.37473\n",
            "197/197 [==============================] - 124s 630ms/step - loss: 0.0647 - acc: 0.7907 - val_loss: 0.0655 - val_acc: 0.7846\n",
            "Epoch 57/100\n",
            "196/197 [============================>.] - ETA: 0s - loss: 0.0651 - acc: 0.7841Epoch 1/100\n",
            " 84/197 [===========>..................] - ETA: 31s - loss: 0.0646 - acc: 0.7883\n",
            "Epoch 00057: val_loss did not improve from 0.37473\n",
            "197/197 [==============================] - 125s 635ms/step - loss: 0.0651 - acc: 0.7841 - val_loss: 0.0646 - val_acc: 0.7883\n",
            "Epoch 58/100\n",
            "196/197 [============================>.] - ETA: 0s - loss: 0.0646 - acc: 0.7870Epoch 1/100\n",
            " 84/197 [===========>..................] - ETA: 31s - loss: 0.0648 - acc: 0.7812\n",
            "Epoch 00058: val_loss did not improve from 0.37473\n",
            "197/197 [==============================] - 125s 635ms/step - loss: 0.0646 - acc: 0.7873 - val_loss: 0.0648 - val_acc: 0.7812\n",
            "Epoch 59/100\n",
            "196/197 [============================>.] - ETA: 0s - loss: 0.0640 - acc: 0.7955Epoch 1/100\n",
            " 84/197 [===========>..................] - ETA: 31s - loss: 0.0643 - acc: 0.7839\n",
            "Epoch 00059: val_loss did not improve from 0.37473\n",
            "197/197 [==============================] - 125s 633ms/step - loss: 0.0640 - acc: 0.7958 - val_loss: 0.0643 - val_acc: 0.7839\n",
            "Epoch 60/100\n",
            "196/197 [============================>.] - ETA: 0s - loss: 0.0640 - acc: 0.7910Epoch 1/100\n",
            " 84/197 [===========>..................] - ETA: 31s - loss: 0.0647 - acc: 0.7805\n",
            "Epoch 00060: val_loss did not improve from 0.37473\n",
            "197/197 [==============================] - 124s 631ms/step - loss: 0.0640 - acc: 0.7910 - val_loss: 0.0647 - val_acc: 0.7805\n",
            "Epoch 61/100\n",
            "196/197 [============================>.] - ETA: 0s - loss: 0.0636 - acc: 0.7938Epoch 1/100\n",
            " 84/197 [===========>..................] - ETA: 31s - loss: 0.0642 - acc: 0.7842\n",
            "Epoch 00061: val_loss did not improve from 0.37473\n",
            "197/197 [==============================] - 124s 632ms/step - loss: 0.0637 - acc: 0.7939 - val_loss: 0.0642 - val_acc: 0.7842\n",
            "Epoch 62/100\n",
            "196/197 [============================>.] - ETA: 0s - loss: 0.0635 - acc: 0.7951Epoch 1/100\n",
            " 84/197 [===========>..................] - ETA: 31s - loss: 0.0632 - acc: 0.7879\n",
            "Epoch 00062: val_loss did not improve from 0.37473\n",
            "197/197 [==============================] - 123s 626ms/step - loss: 0.0634 - acc: 0.7952 - val_loss: 0.0632 - val_acc: 0.7879\n",
            "Epoch 63/100\n",
            "196/197 [============================>.] - ETA: 0s - loss: 0.0633 - acc: 0.7908Epoch 1/100\n",
            " 84/197 [===========>..................] - ETA: 31s - loss: 0.0643 - acc: 0.7846\n",
            "Epoch 00063: val_loss did not improve from 0.37473\n",
            "197/197 [==============================] - 124s 631ms/step - loss: 0.0633 - acc: 0.7909 - val_loss: 0.0643 - val_acc: 0.7846\n",
            "Epoch 64/100\n",
            "196/197 [============================>.] - ETA: 0s - loss: 0.0626 - acc: 0.7991Epoch 1/100\n",
            " 84/197 [===========>..................] - ETA: 31s - loss: 0.0633 - acc: 0.7846\n",
            "Epoch 00064: val_loss did not improve from 0.37473\n",
            "197/197 [==============================] - 123s 624ms/step - loss: 0.0627 - acc: 0.7987 - val_loss: 0.0633 - val_acc: 0.7846\n",
            "Epoch 65/100\n",
            "196/197 [============================>.] - ETA: 0s - loss: 0.0625 - acc: 0.7961Epoch 1/100\n",
            " 84/197 [===========>..................] - ETA: 31s - loss: 0.0630 - acc: 0.7842\n",
            "Epoch 00065: val_loss did not improve from 0.37473\n",
            "197/197 [==============================] - 124s 632ms/step - loss: 0.0625 - acc: 0.7962 - val_loss: 0.0630 - val_acc: 0.7842\n",
            "Epoch 66/100\n",
            "196/197 [============================>.] - ETA: 0s - loss: 0.0624 - acc: 0.7946Epoch 1/100\n",
            " 84/197 [===========>..................] - ETA: 31s - loss: 0.0630 - acc: 0.7883\n",
            "Epoch 00066: val_loss did not improve from 0.37473\n",
            "197/197 [==============================] - 124s 628ms/step - loss: 0.0625 - acc: 0.7937 - val_loss: 0.0630 - val_acc: 0.7883\n",
            "Epoch 67/100\n",
            "196/197 [============================>.] - ETA: 0s - loss: 0.0621 - acc: 0.7991Epoch 1/100\n",
            " 84/197 [===========>..................] - ETA: 31s - loss: 0.0625 - acc: 0.7879\n",
            "Epoch 00067: val_loss did not improve from 0.37473\n",
            "197/197 [==============================] - 124s 628ms/step - loss: 0.0621 - acc: 0.7986 - val_loss: 0.0625 - val_acc: 0.7879\n",
            "Epoch 68/100\n",
            "196/197 [============================>.] - ETA: 0s - loss: 0.0619 - acc: 0.7941Epoch 1/100\n",
            " 84/197 [===========>..................] - ETA: 31s - loss: 0.0622 - acc: 0.7872\n",
            "Epoch 00068: val_loss did not improve from 0.37473\n",
            "197/197 [==============================] - 125s 636ms/step - loss: 0.0619 - acc: 0.7939 - val_loss: 0.0622 - val_acc: 0.7872\n",
            "Epoch 69/100\n",
            "196/197 [============================>.] - ETA: 0s - loss: 0.0620 - acc: 0.7914Epoch 1/100\n",
            " 84/197 [===========>..................] - ETA: 31s - loss: 0.0629 - acc: 0.7809\n",
            "Epoch 00069: val_loss did not improve from 0.37473\n",
            "197/197 [==============================] - 125s 634ms/step - loss: 0.0620 - acc: 0.7916 - val_loss: 0.0629 - val_acc: 0.7809\n",
            "Epoch 70/100\n",
            "196/197 [============================>.] - ETA: 0s - loss: 0.0611 - acc: 0.8043Epoch 1/100\n",
            " 84/197 [===========>..................] - ETA: 32s - loss: 0.0623 - acc: 0.7842\n",
            "Epoch 00070: val_loss did not improve from 0.37473\n",
            "197/197 [==============================] - 125s 635ms/step - loss: 0.0611 - acc: 0.8037 - val_loss: 0.0623 - val_acc: 0.7842\n",
            "Epoch 71/100\n",
            "196/197 [============================>.] - ETA: 0s - loss: 0.0613 - acc: 0.7899Epoch 1/100\n",
            " 84/197 [===========>..................] - ETA: 31s - loss: 0.0618 - acc: 0.7868\n",
            "Epoch 00071: val_loss did not improve from 0.37473\n",
            "197/197 [==============================] - 124s 631ms/step - loss: 0.0613 - acc: 0.7903 - val_loss: 0.0618 - val_acc: 0.7868\n",
            "Epoch 72/100\n",
            "196/197 [============================>.] - ETA: 0s - loss: 0.0609 - acc: 0.8013Epoch 1/100\n",
            " 84/197 [===========>..................] - ETA: 31s - loss: 0.0625 - acc: 0.7812\n",
            "Epoch 00072: val_loss did not improve from 0.37473\n",
            "197/197 [==============================] - 124s 630ms/step - loss: 0.0609 - acc: 0.8010 - val_loss: 0.0625 - val_acc: 0.7812\n",
            "Epoch 73/100\n",
            "196/197 [============================>.] - ETA: 0s - loss: 0.0607 - acc: 0.8003Epoch 1/100\n",
            " 84/197 [===========>..................] - ETA: 31s - loss: 0.0616 - acc: 0.7853\n",
            "Epoch 00073: val_loss did not improve from 0.37473\n",
            "197/197 [==============================] - 124s 631ms/step - loss: 0.0607 - acc: 0.8007 - val_loss: 0.0616 - val_acc: 0.7853\n",
            "Epoch 74/100\n",
            "196/197 [============================>.] - ETA: 0s - loss: 0.0608 - acc: 0.7936Epoch 1/100\n",
            " 84/197 [===========>..................] - ETA: 31s - loss: 0.0609 - acc: 0.7868\n",
            "Epoch 00074: val_loss did not improve from 0.37473\n",
            "197/197 [==============================] - 124s 631ms/step - loss: 0.0608 - acc: 0.7935 - val_loss: 0.0609 - val_acc: 0.7868\n",
            "Epoch 75/100\n",
            "196/197 [============================>.] - ETA: 0s - loss: 0.0602 - acc: 0.8028Epoch 1/100\n",
            " 84/197 [===========>..................] - ETA: 31s - loss: 0.0615 - acc: 0.7868\n",
            "Epoch 00075: val_loss did not improve from 0.37473\n",
            "197/197 [==============================] - 126s 637ms/step - loss: 0.0602 - acc: 0.8028 - val_loss: 0.0615 - val_acc: 0.7868\n",
            "Epoch 76/100\n",
            "196/197 [============================>.] - ETA: 0s - loss: 0.0602 - acc: 0.7995Epoch 1/100\n",
            " 84/197 [===========>..................] - ETA: 31s - loss: 0.0609 - acc: 0.7876\n",
            "Epoch 00076: val_loss did not improve from 0.37473\n",
            "197/197 [==============================] - 123s 626ms/step - loss: 0.0602 - acc: 0.8000 - val_loss: 0.0609 - val_acc: 0.7876\n",
            "Epoch 77/100\n",
            "196/197 [============================>.] - ETA: 0s - loss: 0.0601 - acc: 0.7991Epoch 1/100\n",
            " 84/197 [===========>..................] - ETA: 31s - loss: 0.0607 - acc: 0.7883\n",
            "Epoch 00077: val_loss did not improve from 0.37473\n",
            "197/197 [==============================] - 124s 631ms/step - loss: 0.0600 - acc: 0.7992 - val_loss: 0.0607 - val_acc: 0.7883\n",
            "Epoch 78/100\n",
            "196/197 [============================>.] - ETA: 0s - loss: 0.0597 - acc: 0.8017Epoch 1/100\n",
            " 84/197 [===========>..................] - ETA: 31s - loss: 0.0602 - acc: 0.7876\n",
            "Epoch 00078: val_loss did not improve from 0.37473\n",
            "197/197 [==============================] - 124s 630ms/step - loss: 0.0596 - acc: 0.8024 - val_loss: 0.0602 - val_acc: 0.7876\n",
            "Epoch 79/100\n",
            "196/197 [============================>.] - ETA: 0s - loss: 0.0598 - acc: 0.8019Epoch 1/100\n",
            " 84/197 [===========>..................] - ETA: 31s - loss: 0.0598 - acc: 0.7853\n",
            "Epoch 00079: val_loss did not improve from 0.37473\n",
            "197/197 [==============================] - 124s 629ms/step - loss: 0.0598 - acc: 0.8018 - val_loss: 0.0598 - val_acc: 0.7853\n",
            "Epoch 80/100\n",
            "196/197 [============================>.] - ETA: 0s - loss: 0.0596 - acc: 0.8005Epoch 1/100\n",
            " 84/197 [===========>..................] - ETA: 31s - loss: 0.0596 - acc: 0.7883\n",
            "Epoch 00080: val_loss did not improve from 0.37473\n",
            "197/197 [==============================] - 125s 633ms/step - loss: 0.0595 - acc: 0.8004 - val_loss: 0.0596 - val_acc: 0.7883\n",
            "Epoch 81/100\n",
            "196/197 [============================>.] - ETA: 0s - loss: 0.0591 - acc: 0.8032Epoch 1/100\n",
            " 84/197 [===========>..................] - ETA: 31s - loss: 0.0599 - acc: 0.7846\n",
            "Epoch 00081: val_loss did not improve from 0.37473\n",
            "197/197 [==============================] - 124s 627ms/step - loss: 0.0592 - acc: 0.8032 - val_loss: 0.0599 - val_acc: 0.7846\n",
            "Epoch 82/100\n",
            "196/197 [============================>.] - ETA: 0s - loss: 0.0585 - acc: 0.8029Epoch 1/100\n",
            " 84/197 [===========>..................] - ETA: 31s - loss: 0.0594 - acc: 0.7876\n",
            "Epoch 00082: val_loss did not improve from 0.37473\n",
            "197/197 [==============================] - 124s 630ms/step - loss: 0.0586 - acc: 0.8028 - val_loss: 0.0594 - val_acc: 0.7876\n",
            "Epoch 83/100\n",
            "196/197 [============================>.] - ETA: 0s - loss: 0.0589 - acc: 0.8077Epoch 1/100\n",
            " 84/197 [===========>..................] - ETA: 31s - loss: 0.0596 - acc: 0.7853\n",
            "Epoch 00083: val_loss did not improve from 0.37473\n",
            "197/197 [==============================] - 124s 630ms/step - loss: 0.0588 - acc: 0.8083 - val_loss: 0.0596 - val_acc: 0.7853\n",
            "Epoch 84/100\n",
            "196/197 [============================>.] - ETA: 0s - loss: 0.0586 - acc: 0.8051Epoch 1/100\n",
            " 84/197 [===========>..................] - ETA: 31s - loss: 0.0587 - acc: 0.7961\n",
            "Epoch 00084: val_loss did not improve from 0.37473\n",
            "197/197 [==============================] - 123s 626ms/step - loss: 0.0585 - acc: 0.8056 - val_loss: 0.0587 - val_acc: 0.7961\n",
            "Epoch 85/100\n",
            "196/197 [============================>.] - ETA: 0s - loss: 0.0581 - acc: 0.8075Epoch 1/100\n",
            " 84/197 [===========>..................] - ETA: 31s - loss: 0.0589 - acc: 0.7913\n",
            "Epoch 00085: val_loss did not improve from 0.37473\n",
            "197/197 [==============================] - 124s 630ms/step - loss: 0.0581 - acc: 0.8077 - val_loss: 0.0589 - val_acc: 0.7913\n",
            "Epoch 86/100\n",
            "196/197 [============================>.] - ETA: 0s - loss: 0.0580 - acc: 0.8078Epoch 1/100\n",
            " 84/197 [===========>..................] - ETA: 31s - loss: 0.0595 - acc: 0.7842\n",
            "Epoch 00086: val_loss did not improve from 0.37473\n",
            "197/197 [==============================] - 123s 627ms/step - loss: 0.0580 - acc: 0.8077 - val_loss: 0.0595 - val_acc: 0.7842\n",
            "Epoch 87/100\n",
            "196/197 [============================>.] - ETA: 0s - loss: 0.0576 - acc: 0.8059Epoch 1/100\n",
            " 84/197 [===========>..................] - ETA: 31s - loss: 0.0587 - acc: 0.7891\n",
            "Epoch 00087: val_loss did not improve from 0.37473\n",
            "197/197 [==============================] - 124s 627ms/step - loss: 0.0576 - acc: 0.8058 - val_loss: 0.0587 - val_acc: 0.7891\n",
            "Epoch 88/100\n",
            "196/197 [============================>.] - ETA: 0s - loss: 0.0577 - acc: 0.8014Epoch 1/100\n",
            " 84/197 [===========>..................] - ETA: 31s - loss: 0.0587 - acc: 0.7906\n",
            "Epoch 00088: val_loss did not improve from 0.37473\n",
            "197/197 [==============================] - 124s 630ms/step - loss: 0.0578 - acc: 0.8009 - val_loss: 0.0587 - val_acc: 0.7906\n",
            "Epoch 89/100\n",
            "196/197 [============================>.] - ETA: 0s - loss: 0.0573 - acc: 0.8104Epoch 1/100\n",
            " 84/197 [===========>..................] - ETA: 31s - loss: 0.0586 - acc: 0.7913\n",
            "Epoch 00089: val_loss did not improve from 0.37473\n",
            "197/197 [==============================] - 124s 628ms/step - loss: 0.0573 - acc: 0.8106 - val_loss: 0.0586 - val_acc: 0.7913\n",
            "Epoch 90/100\n",
            "196/197 [============================>.] - ETA: 0s - loss: 0.0572 - acc: 0.8138Epoch 1/100\n",
            " 84/197 [===========>..................] - ETA: 31s - loss: 0.0583 - acc: 0.7932\n",
            "Epoch 00090: val_loss did not improve from 0.37473\n",
            "197/197 [==============================] - 125s 633ms/step - loss: 0.0572 - acc: 0.8142 - val_loss: 0.0583 - val_acc: 0.7932\n",
            "Epoch 91/100\n",
            "196/197 [============================>.] - ETA: 0s - loss: 0.0563 - acc: 0.8151Epoch 1/100\n",
            " 84/197 [===========>..................] - ETA: 31s - loss: 0.0591 - acc: 0.7857\n",
            "Epoch 00091: val_loss did not improve from 0.37473\n",
            "197/197 [==============================] - 124s 628ms/step - loss: 0.0563 - acc: 0.8152 - val_loss: 0.0591 - val_acc: 0.7857\n",
            "Epoch 92/100\n",
            "196/197 [============================>.] - ETA: 0s - loss: 0.0569 - acc: 0.8064Epoch 1/100\n",
            " 84/197 [===========>..................] - ETA: 32s - loss: 0.0581 - acc: 0.7902\n",
            "Epoch 00092: val_loss did not improve from 0.37473\n",
            "197/197 [==============================] - 127s 646ms/step - loss: 0.0569 - acc: 0.8069 - val_loss: 0.0581 - val_acc: 0.7902\n",
            "Epoch 93/100\n",
            "196/197 [============================>.] - ETA: 0s - loss: 0.0565 - acc: 0.8197Epoch 1/100\n",
            " 84/197 [===========>..................] - ETA: 32s - loss: 0.0581 - acc: 0.7913\n",
            "Epoch 00093: val_loss did not improve from 0.37473\n",
            "197/197 [==============================] - 128s 648ms/step - loss: 0.0565 - acc: 0.8200 - val_loss: 0.0581 - val_acc: 0.7913\n",
            "Epoch 94/100\n",
            "196/197 [============================>.] - ETA: 0s - loss: 0.0560 - acc: 0.8170Epoch 1/100\n",
            " 84/197 [===========>..................] - ETA: 31s - loss: 0.0578 - acc: 0.7894\n",
            "Epoch 00094: val_loss did not improve from 0.37473\n",
            "197/197 [==============================] - 126s 642ms/step - loss: 0.0560 - acc: 0.8168 - val_loss: 0.0578 - val_acc: 0.7894\n",
            "Epoch 95/100\n",
            "196/197 [============================>.] - ETA: 0s - loss: 0.0560 - acc: 0.8152Epoch 1/100\n",
            " 84/197 [===========>..................] - ETA: 32s - loss: 0.0578 - acc: 0.7928\n",
            "Epoch 00095: val_loss did not improve from 0.37473\n",
            "197/197 [==============================] - 125s 637ms/step - loss: 0.0560 - acc: 0.8155 - val_loss: 0.0578 - val_acc: 0.7928\n",
            "Epoch 96/100\n",
            "196/197 [============================>.] - ETA: 0s - loss: 0.0557 - acc: 0.8199Epoch 1/100\n",
            " 84/197 [===========>..................] - ETA: 31s - loss: 0.0577 - acc: 0.7924\n",
            "Epoch 00096: val_loss did not improve from 0.37473\n",
            "197/197 [==============================] - 125s 635ms/step - loss: 0.0557 - acc: 0.8200 - val_loss: 0.0577 - val_acc: 0.7924\n",
            "Epoch 97/100\n",
            "196/197 [============================>.] - ETA: 0s - loss: 0.0558 - acc: 0.8109Epoch 1/100\n",
            " 84/197 [===========>..................] - ETA: 32s - loss: 0.0572 - acc: 0.7980\n",
            "Epoch 00097: val_loss did not improve from 0.37473\n",
            "197/197 [==============================] - 127s 643ms/step - loss: 0.0558 - acc: 0.8106 - val_loss: 0.0572 - val_acc: 0.7980\n",
            "Epoch 98/100\n",
            "196/197 [============================>.] - ETA: 0s - loss: 0.0556 - acc: 0.8163Epoch 1/100\n",
            " 84/197 [===========>..................] - ETA: 32s - loss: 0.0572 - acc: 0.7954\n",
            "Epoch 00098: val_loss did not improve from 0.37473\n",
            "197/197 [==============================] - 126s 641ms/step - loss: 0.0556 - acc: 0.8163 - val_loss: 0.0572 - val_acc: 0.7954\n",
            "Epoch 99/100\n",
            "196/197 [============================>.] - ETA: 0s - loss: 0.0561 - acc: 0.8087Epoch 1/100\n",
            " 84/197 [===========>..................] - ETA: 32s - loss: 0.0571 - acc: 0.7924\n",
            "Epoch 00099: val_loss did not improve from 0.37473\n",
            "197/197 [==============================] - 127s 645ms/step - loss: 0.0561 - acc: 0.8085 - val_loss: 0.0571 - val_acc: 0.7924\n",
            "Epoch 100/100\n",
            "196/197 [============================>.] - ETA: 0s - loss: 0.0555 - acc: 0.8155Epoch 1/100\n",
            " 84/197 [===========>..................] - ETA: 31s - loss: 0.0571 - acc: 0.7928\n",
            "Epoch 00100: val_loss did not improve from 0.37473\n",
            "197/197 [==============================] - 127s 642ms/step - loss: 0.0555 - acc: 0.8152 - val_loss: 0.0571 - val_acc: 0.7928\n"
          ],
          "name": "stdout"
        }
      ]
    },
    {
      "cell_type": "markdown",
      "metadata": {
        "id": "383eb86x9FvQ",
        "colab_type": "text"
      },
      "source": [
        "# **Accuracy and Loss Graph**"
      ]
    },
    {
      "cell_type": "markdown",
      "metadata": {
        "id": "iKv_2jc7O4Se",
        "colab_type": "text"
      },
      "source": [
        "### **Accuracy**"
      ]
    },
    {
      "cell_type": "code",
      "metadata": {
        "id": "gtDoga8c10Ly",
        "colab_type": "code",
        "colab": {
          "base_uri": "https://localhost:8080/",
          "height": 295
        },
        "outputId": "06fda853-ae93-47a0-ba47-578e317843ee"
      },
      "source": [
        "plt.plot(history.history['acc'])\n",
        "plt.plot(history.history['val_acc'])\n",
        "plt.ylabel('accuracy')\n",
        "plt.xlabel('epoch')\n",
        "plt.legend(['train', 'val'], loc='upper left')\n",
        "plt.title('accuracy')\n",
        "plt.show()"
      ],
      "execution_count": 31,
      "outputs": [
        {
          "output_type": "display_data",
          "data": {
            "image/png": "[encoded data removed]",
            "text/plain": [
              "<Figure size 432x288 with 1 Axes>"
            ]
          },
          "metadata": {
            "tags": [],
            "needs_background": "light"
          }
        }
      ]
    },
    {
      "cell_type": "markdown",
      "metadata": {
        "id": "Q6pg2k6xO5p8",
        "colab_type": "text"
      },
      "source": [
        "### **Loss**"
      ]
    },
    {
      "cell_type": "code",
      "metadata": {
        "id": "KT1Pr5RmWJkU",
        "colab_type": "code",
        "colab": {
          "base_uri": "https://localhost:8080/",
          "height": 295
        },
        "outputId": "dae9d253-8076-486c-c8a9-ae873e40663a"
      },
      "source": [
        "plt.plot(history.history['loss'])\n",
        "plt.plot(history.history['val_loss'])\n",
        "plt.ylabel('loss')\n",
        "plt.xlabel('epoch')\n",
        "plt.legend(['train', 'val'], loc='upper left')\n",
        "plt.title('loss')\n",
        "plt.show()"
      ],
      "execution_count": 32,
      "outputs": [
        {
          "output_type": "display_data",
          "data": {
            "image/png": "[encoded data removed]",
            "text/plain": [
              "<Figure size 432x288 with 1 Axes>"
            ]
          },
          "metadata": {
            "tags": [],
            "needs_background": "light"
          }
        }
      ]
    },
    {
      "cell_type": "markdown",
      "metadata": {
        "id": "a1cWi7orKdUr",
        "colab_type": "text"
      },
      "source": [
        "# **Evaluate**"
      ]
    },
    {
      "cell_type": "code",
      "metadata": {
        "id": "2Ea-ST316j3r",
        "colab_type": "code",
        "colab": {
          "base_uri": "https://localhost:8080/",
          "height": 34
        },
        "outputId": "067da2b5-9f20-4fc8-8056-9585dd25c5b0"
      },
      "source": [
        "test_data.reset()\n",
        "predictions = model.predict_generator(test_data, steps=test_data.samples/test_data.batch_size,verbose=1)\n",
        "y_pred= np.argmax(predictions, axis=1)"
      ],
      "execution_count": 33,
      "outputs": [
        {
          "output_type": "stream",
          "text": [
            "1002/1002 [==============================] - 15s 15ms/step\n"
          ],
          "name": "stdout"
        }
      ]
    },
    {
      "cell_type": "markdown",
      "metadata": {
        "id": "yJfzBH2gcQ5M",
        "colab_type": "text"
      },
      "source": [
        "### **Classification Report**"
      ]
    },
    {
      "cell_type": "code",
      "metadata": {
        "id": "PDJVF1dbWQlu",
        "colab_type": "code",
        "colab": {
          "base_uri": "https://localhost:8080/",
          "height": 408
        },
        "outputId": "d1a3dfb5-e700-4cc0-bdc3-6634008c51c8"
      },
      "source": [
        "Y_pred = predictions\n",
        "y_pred = np.argmax(Y_pred, axis=1)\n",
        "print('Confusion Matrix')\n",
        "print(confusion_matrix(name_as_indexes_test, y_pred))\n",
        "print('Classification Report')\n",
        "classes_names = ['akiec', 'bcc', 'bkl', 'df', 'mel', 'nv', 'vasc']\n",
        "print(classification_report(name_as_indexes_test, y_pred, target_names=classes_names))"
      ],
      "execution_count": 34,
      "outputs": [
        {
          "output_type": "stream",
          "text": [
            "Confusion Matrix\n",
            "[[  9   4  10   0   8   9   1]\n",
            " [  0  25   7   1   5   9   0]\n",
            " [  1   3  80   0  20  21   0]\n",
            " [  0   0   5   4   2   4   0]\n",
            " [  0   0  14   0  64  31   1]\n",
            " [  0   1  24   1  22 600   1]\n",
            " [  0   0   1   0   0   1  13]]\n",
            "Classification Report\n",
            "              precision    recall  f1-score   support\n",
            "\n",
            "       akiec       0.90      0.22      0.35        41\n",
            "         bcc       0.76      0.53      0.62        47\n",
            "         bkl       0.57      0.64      0.60       125\n",
            "          df       0.67      0.27      0.38        15\n",
            "         mel       0.53      0.58      0.55       110\n",
            "          nv       0.89      0.92      0.91       649\n",
            "        vasc       0.81      0.87      0.84        15\n",
            "\n",
            "    accuracy                           0.79      1002\n",
            "   macro avg       0.73      0.58      0.61      1002\n",
            "weighted avg       0.80      0.79      0.78      1002\n",
            "\n"
          ],
          "name": "stdout"
        }
      ]
    },
    {
      "cell_type": "markdown",
      "metadata": {
        "id": "xMxOe1qPcUSr",
        "colab_type": "text"
      },
      "source": [
        "### **Confusion Matrix**"
      ]
    },
    {
      "cell_type": "code",
      "metadata": {
        "id": "MWSBDzE5WXgr",
        "colab_type": "code",
        "colab": {
          "base_uri": "https://localhost:8080/",
          "height": 433
        },
        "outputId": "78bdaeb2-0af3-444e-adab-10a73abeec5e"
      },
      "source": [
        "cm = (confusion_matrix(name_as_indexes_test, y_pred))\n",
        "\n",
        "plot_confusion_matrix(cm, classes_names)"
      ],
      "execution_count": 35,
      "outputs": [
        {
          "output_type": "stream",
          "text": [
            "Confusion matrix, without normalization\n",
            "[[  9   4  10   0   8   9   1]\n",
            " [  0  25   7   1   5   9   0]\n",
            " [  1   3  80   0  20  21   0]\n",
            " [  0   0   5   4   2   4   0]\n",
            " [  0   0  14   0  64  31   1]\n",
            " [  0   1  24   1  22 600   1]\n",
            " [  0   0   1   0   0   1  13]]\n"
          ],
          "name": "stdout"
        },
        {
          "output_type": "display_data",
          "data": {
            "image/png": "[encoded data removed]",
            "text/plain": [
              "<Figure size 432x288 with 2 Axes>"
            ]
          },
          "metadata": {
            "tags": [],
            "needs_background": "light"
          }
        }
      ]
    },
    {
      "cell_type": "markdown",
      "metadata": {
        "id": "xbXcAwdJ-1tX",
        "colab_type": "text"
      },
      "source": [
        "### **Sensitivity & Specificity**"
      ]
    },
    {
      "cell_type": "code",
      "metadata": {
        "id": "nH-wStPm6T7k",
        "colab_type": "code",
        "colab": {}
      },
      "source": [
        "\n",
        "total = sum(sum(cm))\n",
        "sensitivity = cm[0, 0] / (cm[0, 0] + cm[0, 1])\n",
        "specificity = cm[1, 1] / (cm[1, 0] + cm[1, 1])"
      ],
      "execution_count": 0,
      "outputs": []
    },
    {
      "cell_type": "code",
      "metadata": {
        "id": "fc7FeOe56a9-",
        "colab_type": "code",
        "colab": {
          "base_uri": "https://localhost:8080/",
          "height": 51
        },
        "outputId": "2e926f5e-c4d5-487f-b4d3-0064bd008553"
      },
      "source": [
        "print(\"sensitivity: {:.4f}\".format(sensitivity))\n",
        "print(\"specificity: {:.4f}\".format(specificity))"
      ],
      "execution_count": 37,
      "outputs": [
        {
          "output_type": "stream",
          "text": [
            "sensitivity: 0.6923\n",
            "specificity: 1.0000\n"
          ],
          "name": "stdout"
        }
      ]
    },
    {
      "cell_type": "markdown",
      "metadata": {
        "id": "fkrPLbkZdva9",
        "colab_type": "text"
      },
      "source": [
        "# **Grad-CAM**"
      ]
    },
    {
      "cell_type": "code",
      "metadata": {
        "id": "i_OVC2F8xfR1",
        "colab_type": "code",
        "colab": {}
      },
      "source": [
        "last_conv2d = 'conv5_block3_3_conv'"
      ],
      "execution_count": 0,
      "outputs": []
    },
    {
      "cell_type": "markdown",
      "metadata": {
        "id": "qyWQAabav_ST",
        "colab_type": "text"
      },
      "source": [
        "### **AKIEC**"
      ]
    },
    {
      "cell_type": "code",
      "metadata": {
        "id": "B5JjxhIrqN5z",
        "colab_type": "code",
        "colab": {}
      },
      "source": [
        "akiec_img = '/content/ham10000-with-one-image-folder/HAM1000_images/ISIC_0026492.jpg'"
      ],
      "execution_count": 0,
      "outputs": []
    },
    {
      "cell_type": "code",
      "metadata": {
        "id": "sGMmNOxxiHxq",
        "colab_type": "code",
        "colab": {}
      },
      "source": [
        "gradcam, gb, guided_gradcam = compute_saliency(model, model, akiec_img, layer_name=last_conv2d)"
      ],
      "execution_count": 0,
      "outputs": []
    },
    {
      "cell_type": "markdown",
      "metadata": {
        "id": "D53Hg3-mwNj-",
        "colab_type": "text"
      },
      "source": [
        "### **BCC**"
      ]
    },
    {
      "cell_type": "code",
      "metadata": {
        "id": "0-APRYghPa4G",
        "colab_type": "code",
        "colab": {}
      },
      "source": [
        "bcc_img = '/content/ham10000-with-one-image-folder/HAM1000_images/ISIC_0024332.jpg'"
      ],
      "execution_count": 0,
      "outputs": []
    },
    {
      "cell_type": "code",
      "metadata": {
        "id": "IavEoR0qwWO3",
        "colab_type": "code",
        "colab": {}
      },
      "source": [
        "gradcam, gb, guided_gradcam = compute_saliency(model, model, bcc_img, layer_name=last_conv2d)"
      ],
      "execution_count": 0,
      "outputs": []
    },
    {
      "cell_type": "markdown",
      "metadata": {
        "id": "pnzfOod3xC7p",
        "colab_type": "text"
      },
      "source": [
        "### **BKL**"
      ]
    },
    {
      "cell_type": "code",
      "metadata": {
        "colab_type": "code",
        "id": "Za1Ztu0kxVpc",
        "colab": {}
      },
      "source": [
        "bkl_img = '/content/ham10000-with-one-image-folder/HAM1000_images/ISIC_0025548.jpg'"
      ],
      "execution_count": 0,
      "outputs": []
    },
    {
      "cell_type": "code",
      "metadata": {
        "colab_type": "code",
        "id": "xc_tDIcsxVpg",
        "colab": {}
      },
      "source": [
        "gradcam, gb, guided_gradcam = compute_saliency(model, model, bkl_img, layer_name=last_conv2d)"
      ],
      "execution_count": 0,
      "outputs": []
    },
    {
      "cell_type": "markdown",
      "metadata": {
        "id": "Z2qr1BF9xEnD",
        "colab_type": "text"
      },
      "source": [
        "### **DF**"
      ]
    },
    {
      "cell_type": "code",
      "metadata": {
        "colab_type": "code",
        "id": "w3400LGvxWEF",
        "colab": {}
      },
      "source": [
        "df_img = '/content/ham10000-with-one-image-folder/HAM1000_images/ISIC_0033626.jpg'"
      ],
      "execution_count": 0,
      "outputs": []
    },
    {
      "cell_type": "code",
      "metadata": {
        "colab_type": "code",
        "id": "S92MquPFxWEI",
        "colab": {}
      },
      "source": [
        "gradcam, gb, guided_gradcam = compute_saliency(model, model, df_img, layer_name=last_conv2d)"
      ],
      "execution_count": 0,
      "outputs": []
    },
    {
      "cell_type": "markdown",
      "metadata": {
        "id": "3Y6JOyRWxJy7",
        "colab_type": "text"
      },
      "source": [
        "### **MEL**"
      ]
    },
    {
      "cell_type": "code",
      "metadata": {
        "colab_type": "code",
        "id": "9mRW-epcxWdq",
        "colab": {}
      },
      "source": [
        "mel_img = '/content/ham10000-with-one-image-folder/HAM1000_images/ISIC_0024516.jpg'"
      ],
      "execution_count": 0,
      "outputs": []
    },
    {
      "cell_type": "code",
      "metadata": {
        "colab_type": "code",
        "id": "g4j2KO_pxWdv",
        "colab": {}
      },
      "source": [
        "gradcam, gb, guided_gradcam = compute_saliency(model, model, mel_img, layer_name=last_conv2d)"
      ],
      "execution_count": 0,
      "outputs": []
    },
    {
      "cell_type": "markdown",
      "metadata": {
        "id": "UKEm-_WKxHRq",
        "colab_type": "text"
      },
      "source": [
        "### **NV**"
      ]
    },
    {
      "cell_type": "code",
      "metadata": {
        "colab_type": "code",
        "id": "opRTYW5SxXgR",
        "colab": {}
      },
      "source": [
        "nv_img = '/content/ham10000-with-one-image-folder/HAM1000_images/ISIC_0024349.jpg'"
      ],
      "execution_count": 0,
      "outputs": []
    },
    {
      "cell_type": "code",
      "metadata": {
        "colab_type": "code",
        "id": "iVbqIHvGxXgV",
        "colab": {}
      },
      "source": [
        "gradcam, gb, guided_gradcam = compute_saliency(model, model, nv_img, layer_name=last_conv2d)"
      ],
      "execution_count": 0,
      "outputs": []
    },
    {
      "cell_type": "markdown",
      "metadata": {
        "id": "yVFPRGL0xHtK",
        "colab_type": "text"
      },
      "source": [
        "### **VASC**"
      ]
    },
    {
      "cell_type": "code",
      "metadata": {
        "colab_type": "code",
        "id": "YuzSPvQ9xXJg",
        "colab": {}
      },
      "source": [
        "vasc_img = '/content/ham10000-with-one-image-folder/HAM1000_images/ISIC_0025452.jpg'"
      ],
      "execution_count": 0,
      "outputs": []
    },
    {
      "cell_type": "code",
      "metadata": {
        "colab_type": "code",
        "id": "Ol1Ik8qDxXJj",
        "colab": {}
      },
      "source": [
        "gradcam, gb, guided_gradcam = compute_saliency(model, model, vasc_img, layer_name=last_conv2d)"
      ],
      "execution_count": 0,
      "outputs": []
    },
    {
      "cell_type": "markdown",
      "metadata": {
        "id": "SYJYt3yOB47l",
        "colab_type": "text"
      },
      "source": [
        "# **Download Model**"
      ]
    },
    {
      "cell_type": "code",
      "metadata": {
        "id": "KFv5jXItB-fj",
        "colab_type": "code",
        "colab": {}
      },
      "source": [
        "from google.colab import files"
      ],
      "execution_count": 0,
      "outputs": []
    },
    {
      "cell_type": "code",
      "metadata": {
        "id": "TuVkAwOn3A9z",
        "colab_type": "code",
        "colab": {}
      },
      "source": [
        "files.download('/content/Focal-Loss_ResNet50_model.h5')\n",
        "files.download('/content/Focal-Loss_ResNet50_weights.h5')"
      ],
      "execution_count": 0,
      "outputs": []
    }
  ]
}